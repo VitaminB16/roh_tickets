{
 "cells": [
  {
   "cell_type": "code",
   "execution_count": 19,
   "metadata": {},
   "outputs": [],
   "source": [
    "import requests\n",
    "import pandas as pd\n",
    "\n",
    "from set_secrets import *\n",
    "from python_roh.src.config import *\n",
    "\n",
    "pd.set_option('display.max_columns', 100)\n",
    "pd.set_option('display.max_rows', 50)"
   ]
  },
  {
   "cell_type": "code",
   "execution_count": 20,
   "metadata": {},
   "outputs": [],
   "source": [
    "ALL_EVENTS_URL = \"https://www.roh.org.uk/api/events\"\n",
    "r = requests.get(ALL_EVENTS_URL)\n",
    "data = r.json()"
   ]
  },
  {
   "cell_type": "code",
   "execution_count": 21,
   "metadata": {},
   "outputs": [],
   "source": [
    "events_df = pd.DataFrame(data[\"data\"])\n",
    "included_df = pd.DataFrame(data[\"included\"])\n",
    "\n",
    "\n",
    "def pre_process_events_df(events_df, included_df):\n",
    "    events_attrs = events_df.attributes.apply(pd.Series)\n",
    "    events_attrs.drop(\n",
    "        columns=[\n",
    "            \"description\",\n",
    "            \"dateFieldOverride\",\n",
    "            \"imageResult\",\n",
    "            \"imageTray\",\n",
    "            \"productionPageUrl\",\n",
    "            \"helpInformation\",\n",
    "        ],\n",
    "        inplace=True,\n",
    "    )\n",
    "    events_rels = events_df.relationships.apply(pd.Series)\n",
    "    events_df = pd.concat([events_df, events_attrs, events_rels], axis=1)\n",
    "    events_df.query(\"isCancelled != True\", inplace=True)\n",
    "    events_df.drop(\n",
    "        columns=[\n",
    "            \"attributes\",\n",
    "            \"relationships\",\n",
    "            \"isCancelled\",\n",
    "            \"ctaBehaviour\",\n",
    "            \"cinemaBroadcastLink\",\n",
    "        ],\n",
    "        inplace=True,\n",
    "    )\n",
    "    # remove events with no listed performances\n",
    "    events_df.query(\"performances not in [[]]\", inplace=True)\n",
    "    events_df.reset_index(drop=True, inplace=True)\n",
    "    events_df = events_df.explode(\"performances\", ignore_index=True)\n",
    "    events_df.locations = events_df.locations.apply(lambda x: x[\"data\"])\n",
    "    events_df = events_df.explode(\"locations\", ignore_index=True)\n",
    "    events_df.locations = events_df.locations.apply(lambda x: x[\"id\"])\n",
    "    events_df.rename(columns={\"locations\": \"locationId\"}, inplace=True)\n",
    "    return events_df\n",
    "\n",
    "\n",
    "def get_locations_df(included_df):\n",
    "    locations_df = included_df.query(\"type == 'locations'\").drop(\n",
    "        columns=[\"type\", \"relationships\"]\n",
    "    )\n",
    "    locations_attrs = locations_df.attributes.apply(pd.Series)\n",
    "    locations_df = pd.concat([locations_df, locations_attrs], axis=1)\n",
    "    locations_df.drop(columns=[\"attributes\"], inplace=True)\n",
    "    locations_df.reset_index(drop=True, inplace=True)\n",
    "    locations_df.rename(columns={\"id\": \"locationId\", \"title\": \"location\"}, inplace=True)\n",
    "    return locations_df\n",
    "\n",
    "\n",
    "def get_performances_df(events_df):\n",
    "    performances_df = events_df.performances.apply(pd.Series)\n",
    "    performances_df = performances_df.assign(\n",
    "        timestamp=pd.to_datetime(performances_df.date, utc=True)\n",
    "    )\n",
    "    # Adjust the timestamp to account for UK timezone\n",
    "    performances_df.timestamp = performances_df.timestamp.dt.tz_convert(\"Europe/London\")\n",
    "    return performances_df\n",
    "\n",
    "\n",
    "def enrich_events_df(events_df):\n",
    "    events_df.sort_values(by=[\"timestamp\"], inplace=True)\n",
    "    events_df[\"date\"] = events_df.timestamp.dt.date\n",
    "    events_df[\"time\"] = events_df.timestamp.dt.time\n",
    "    events_df[\"day\"] = events_df.timestamp.dt.day_name()\n",
    "    events_df.drop_duplicates(\n",
    "        subset=[\"type\", \"id\", \"location\", \"timestamp\"], inplace=True, ignore_index=True\n",
    "    )\n",
    "    events_df[\"url\"] = events_df.slug.apply(\n",
    "        lambda x: f\"{TICKETS_AND_EVENTS_URL}/{x}-details\"\n",
    "    )\n",
    "    return events_df\n",
    "\n",
    "\n",
    "def get_next_weeks_events(events_df, today):\n",
    "    tomorrow = today + pd.Timedelta(days=1)\n",
    "    next_week = today + pd.Timedelta(days=7)\n",
    "    events_df = events_df.query(\"timestamp > @today\").reset_index(drop=True)\n",
    "    today_tomorrow_events_df = events_df.query(\"date <= @tomorrow.date()\").reset_index(\n",
    "        drop=True\n",
    "    )\n",
    "    next_week_events_df = events_df.query(\"date <= @next_week.date()\").reset_index(\n",
    "        drop=True\n",
    "    )\n",
    "    return today_tomorrow_events_df, next_week_events_df\n",
    "\n",
    "\n"
   ]
  },
  {
   "cell_type": "code",
   "execution_count": 22,
   "metadata": {},
   "outputs": [],
   "source": []
  },
  {
   "cell_type": "code",
   "execution_count": 23,
   "metadata": {},
   "outputs": [],
   "source": []
  },
  {
   "cell_type": "code",
   "execution_count": 24,
   "metadata": {},
   "outputs": [],
   "source": [
    "events_df = pre_process_events_df(events_df, included_df)\n",
    "\n",
    "locations_df = get_locations_df(included_df)\n",
    "events_df = events_df.merge(locations_df, on=\"locationId\", how=\"left\")\n",
    "\n",
    "performances_df = get_performances_df(events_df)\n",
    "events_df = pd.concat([events_df, performances_df], axis=1)\n",
    "events_df.drop(columns=[\"performances\", \"date\"], inplace=True)\n",
    "events_df = enrich_events_df(events_df)\n",
    "\n",
    "today = pd.Timestamp.today(tz=\"Europe/London\") - pd.Timedelta(hours=1)\n",
    "today_tomorrow_events_df, next_week_events_df = get_next_weeks_events(events_df, today)"
   ]
  },
  {
   "cell_type": "code",
   "execution_count": 25,
   "metadata": {},
   "outputs": [
    {
     "data": {
      "application/vnd.plotly.v1+json": {
       "config": {
        "plotlyServerURL": "https://plot.ly"
       },
       "data": [
        {
         "customdata": [
          [
           "Friends Rehearsals",
           "https://www.roh.org.uk/tickets-and-events/friends-rehearsals-details"
          ],
          [
           "Friends Rehearsals",
           "https://www.roh.org.uk/tickets-and-events/friends-rehearsals-details"
          ],
          [
           "Friends Rehearsals",
           "https://www.roh.org.uk/tickets-and-events/friends-rehearsals-details"
          ],
          [
           "Friends Rehearsals",
           "https://www.roh.org.uk/tickets-and-events/friends-rehearsals-details"
          ],
          [
           "Friends Rehearsals",
           "https://www.roh.org.uk/tickets-and-events/friends-rehearsals-details"
          ],
          [
           "Friends Rehearsals",
           "https://www.roh.org.uk/tickets-and-events/friends-rehearsals-details"
          ],
          [
           "Friends Rehearsals",
           "https://www.roh.org.uk/tickets-and-events/friends-rehearsals-details"
          ],
          [
           "Friends Rehearsals",
           "https://www.roh.org.uk/tickets-and-events/friends-rehearsals-details"
          ],
          [
           "Friends Rehearsals",
           "https://www.roh.org.uk/tickets-and-events/friends-rehearsals-details"
          ],
          [
           "Friends Rehearsals",
           "https://www.roh.org.uk/tickets-and-events/friends-rehearsals-details"
          ],
          [
           "Friends Rehearsals",
           "https://www.roh.org.uk/tickets-and-events/friends-rehearsals-details"
          ],
          [
           "Friends Rehearsals",
           "https://www.roh.org.uk/tickets-and-events/friends-rehearsals-details"
          ],
          [
           "Friends Rehearsals",
           "https://www.roh.org.uk/tickets-and-events/friends-rehearsals-details"
          ],
          [
           "Friends Rehearsals",
           "https://www.roh.org.uk/tickets-and-events/friends-rehearsals-details"
          ]
         ],
         "hovertemplate": "%{customdata[0]}<br>%{x}<br>%{y}<extra></extra>",
         "hovertext": [
          "https://www.roh.org.uk/tickets-and-events/friends-rehearsals-details",
          "https://www.roh.org.uk/tickets-and-events/friends-rehearsals-details",
          "https://www.roh.org.uk/tickets-and-events/friends-rehearsals-details",
          "https://www.roh.org.uk/tickets-and-events/friends-rehearsals-details",
          "https://www.roh.org.uk/tickets-and-events/friends-rehearsals-details",
          "https://www.roh.org.uk/tickets-and-events/friends-rehearsals-details",
          "https://www.roh.org.uk/tickets-and-events/friends-rehearsals-details",
          "https://www.roh.org.uk/tickets-and-events/friends-rehearsals-details",
          "https://www.roh.org.uk/tickets-and-events/friends-rehearsals-details",
          "https://www.roh.org.uk/tickets-and-events/friends-rehearsals-details",
          "https://www.roh.org.uk/tickets-and-events/friends-rehearsals-details",
          "https://www.roh.org.uk/tickets-and-events/friends-rehearsals-details",
          "https://www.roh.org.uk/tickets-and-events/friends-rehearsals-details",
          "https://www.roh.org.uk/tickets-and-events/friends-rehearsals-details"
         ],
         "legendgroup": "Friends Rehearsals",
         "marker": {
          "color": "#1F77B4",
          "line": {
           "color": "DarkSlateGrey",
           "width": 1
          },
          "size": [
           1,
           1,
           1,
           1,
           1,
           1,
           1,
           1,
           1,
           1,
           1,
           1,
           1,
           1
          ],
          "sizemode": "area",
          "sizeref": 0.02040816326530612,
          "symbol": "circle"
         },
         "mode": "markers",
         "name": "Friends Rehearsals",
         "orientation": "v",
         "showlegend": true,
         "type": "scatter",
         "x": [
          "2024-02-02",
          "2024-02-14",
          "2024-02-27",
          "2024-03-05",
          "2024-03-11",
          "2024-03-20",
          "2024-04-02",
          "2024-04-17",
          "2024-05-03",
          "2024-05-28",
          "2024-06-06",
          "2024-06-07",
          "2024-06-24",
          "2024-06-28"
         ],
         "xaxis": "x",
         "y": [
          "11:30:00",
          "11:30:00",
          "11:30:00",
          "11:30:00",
          "11:30:00",
          "11:30:00",
          "19:00:00",
          "11:30:00",
          "12:30:00",
          "11:30:00",
          "12:30:00",
          "12:30:00",
          "19:00:00",
          "11:30:00"
         ],
         "yaxis": "y"
        },
        {
         "customdata": [
          [
           "La bohème",
           "https://www.roh.org.uk/tickets-and-events/la-boheme-by-richard-jones-details"
          ],
          [
           "La bohème",
           "https://www.roh.org.uk/tickets-and-events/la-boheme-by-richard-jones-details"
          ],
          [
           "La bohème",
           "https://www.roh.org.uk/tickets-and-events/la-boheme-by-richard-jones-details"
          ],
          [
           "La bohème",
           "https://www.roh.org.uk/tickets-and-events/la-boheme-by-richard-jones-details"
          ],
          [
           "La bohème",
           "https://www.roh.org.uk/tickets-and-events/la-boheme-by-richard-jones-details"
          ],
          [
           "La bohème",
           "https://www.roh.org.uk/tickets-and-events/la-boheme-by-richard-jones-details"
          ],
          [
           "La bohème",
           "https://www.roh.org.uk/tickets-and-events/la-boheme-by-richard-jones-details"
          ]
         ],
         "hovertemplate": "%{customdata[0]}<br>%{x}<br>%{y}<extra></extra>",
         "hovertext": [
          "https://www.roh.org.uk/tickets-and-events/la-boheme-by-richard-jones-details",
          "https://www.roh.org.uk/tickets-and-events/la-boheme-by-richard-jones-details",
          "https://www.roh.org.uk/tickets-and-events/la-boheme-by-richard-jones-details",
          "https://www.roh.org.uk/tickets-and-events/la-boheme-by-richard-jones-details",
          "https://www.roh.org.uk/tickets-and-events/la-boheme-by-richard-jones-details",
          "https://www.roh.org.uk/tickets-and-events/la-boheme-by-richard-jones-details",
          "https://www.roh.org.uk/tickets-and-events/la-boheme-by-richard-jones-details"
         ],
         "legendgroup": "La bohème",
         "marker": {
          "color": "#FF7F0E",
          "line": {
           "color": "DarkSlateGrey",
           "width": 1
          },
          "size": [
           1,
           1,
           1,
           1,
           1,
           1,
           1
          ],
          "sizemode": "area",
          "sizeref": 0.02040816326530612,
          "symbol": "circle"
         },
         "mode": "markers",
         "name": "La bohème",
         "orientation": "v",
         "showlegend": true,
         "type": "scatter",
         "x": [
          "2024-02-02",
          "2024-02-08",
          "2024-02-10",
          "2024-02-11",
          "2024-02-11",
          "2024-02-13",
          "2024-02-16"
         ],
         "xaxis": "x",
         "y": [
          "19:30:00",
          "11:30:00",
          "19:30:00",
          "13:00:00",
          "18:30:00",
          "19:30:00",
          "12:00:00"
         ],
         "yaxis": "y"
        },
        {
         "customdata": [
          [
           "Manon",
           "https://www.roh.org.uk/tickets-and-events/manon-by-kenneth-macmillan-details"
          ],
          [
           "Manon",
           "https://www.roh.org.uk/tickets-and-events/manon-by-kenneth-macmillan-details"
          ],
          [
           "Manon",
           "https://www.roh.org.uk/tickets-and-events/manon-by-kenneth-macmillan-details"
          ],
          [
           "Manon",
           "https://www.roh.org.uk/tickets-and-events/manon-by-kenneth-macmillan-details"
          ],
          [
           "Manon",
           "https://www.roh.org.uk/tickets-and-events/manon-by-kenneth-macmillan-details"
          ],
          [
           "Manon",
           "https://www.roh.org.uk/tickets-and-events/manon-by-kenneth-macmillan-details"
          ],
          [
           "Manon",
           "https://www.roh.org.uk/tickets-and-events/manon-by-kenneth-macmillan-details"
          ],
          [
           "Manon",
           "https://www.roh.org.uk/tickets-and-events/manon-by-kenneth-macmillan-details"
          ],
          [
           "Manon",
           "https://www.roh.org.uk/tickets-and-events/manon-by-kenneth-macmillan-details"
          ],
          [
           "Manon",
           "https://www.roh.org.uk/tickets-and-events/manon-by-kenneth-macmillan-details"
          ],
          [
           "Manon",
           "https://www.roh.org.uk/tickets-and-events/manon-by-kenneth-macmillan-details"
          ],
          [
           "Manon",
           "https://www.roh.org.uk/tickets-and-events/manon-by-kenneth-macmillan-details"
          ],
          [
           "Manon",
           "https://www.roh.org.uk/tickets-and-events/manon-by-kenneth-macmillan-details"
          ],
          [
           "Manon",
           "https://www.roh.org.uk/tickets-and-events/manon-by-kenneth-macmillan-details"
          ]
         ],
         "hovertemplate": "%{customdata[0]}<br>%{x}<br>%{y}<extra></extra>",
         "hovertext": [
          "https://www.roh.org.uk/tickets-and-events/manon-by-kenneth-macmillan-details",
          "https://www.roh.org.uk/tickets-and-events/manon-by-kenneth-macmillan-details",
          "https://www.roh.org.uk/tickets-and-events/manon-by-kenneth-macmillan-details",
          "https://www.roh.org.uk/tickets-and-events/manon-by-kenneth-macmillan-details",
          "https://www.roh.org.uk/tickets-and-events/manon-by-kenneth-macmillan-details",
          "https://www.roh.org.uk/tickets-and-events/manon-by-kenneth-macmillan-details",
          "https://www.roh.org.uk/tickets-and-events/manon-by-kenneth-macmillan-details",
          "https://www.roh.org.uk/tickets-and-events/manon-by-kenneth-macmillan-details",
          "https://www.roh.org.uk/tickets-and-events/manon-by-kenneth-macmillan-details",
          "https://www.roh.org.uk/tickets-and-events/manon-by-kenneth-macmillan-details",
          "https://www.roh.org.uk/tickets-and-events/manon-by-kenneth-macmillan-details",
          "https://www.roh.org.uk/tickets-and-events/manon-by-kenneth-macmillan-details",
          "https://www.roh.org.uk/tickets-and-events/manon-by-kenneth-macmillan-details",
          "https://www.roh.org.uk/tickets-and-events/manon-by-kenneth-macmillan-details"
         ],
         "legendgroup": "Manon",
         "marker": {
          "color": "#2CA02C",
          "line": {
           "color": "DarkSlateGrey",
           "width": 1
          },
          "size": [
           1,
           1,
           1,
           1,
           1,
           1,
           1,
           1,
           1,
           1,
           1,
           1,
           1,
           1
          ],
          "sizemode": "area",
          "sizeref": 0.02040816326530612,
          "symbol": "circle"
         },
         "mode": "markers",
         "name": "Manon",
         "orientation": "v",
         "showlegend": true,
         "type": "scatter",
         "x": [
          "2024-02-03",
          "2024-02-03",
          "2024-02-07",
          "2024-02-09",
          "2024-02-14",
          "2024-02-17",
          "2024-02-17",
          "2024-02-23",
          "2024-02-26",
          "2024-02-27",
          "2024-03-02",
          "2024-03-02",
          "2024-03-05",
          "2024-03-08"
         ],
         "xaxis": "x",
         "y": [
          "13:00:00",
          "19:00:00",
          "19:30:00",
          "19:30:00",
          "19:30:00",
          "13:00:00",
          "19:00:00",
          "19:30:00",
          "19:30:00",
          "19:30:00",
          "13:00:00",
          "19:00:00",
          "19:30:00",
          "19:30:00"
         ],
         "yaxis": "y"
        },
        {
         "customdata": [
          [
           "Tosca",
           "https://www.roh.org.uk/tickets-and-events/tosca-by-jonathan-kent-details"
          ],
          [
           "Tosca",
           "https://www.roh.org.uk/tickets-and-events/tosca-by-jonathan-kent-details"
          ],
          [
           "Tosca",
           "https://www.roh.org.uk/tickets-and-events/tosca-by-jonathan-kent-details"
          ],
          [
           "Tosca",
           "https://www.roh.org.uk/tickets-and-events/tosca-by-jonathan-kent-details"
          ],
          [
           "Tosca",
           "https://www.roh.org.uk/tickets-and-events/tosca-by-jonathan-kent-details"
          ],
          [
           "Tosca",
           "https://www.roh.org.uk/tickets-and-events/tosca-by-jonathan-kent-details"
          ],
          [
           "Tosca",
           "https://www.roh.org.uk/tickets-and-events/tosca-by-jonathan-kent-details"
          ],
          [
           "Tosca",
           "https://www.roh.org.uk/tickets-and-events/tosca-by-jonathan-kent-details"
          ],
          [
           "Tosca",
           "https://www.roh.org.uk/tickets-and-events/tosca-by-jonathan-kent-details"
          ],
          [
           "Tosca",
           "https://www.roh.org.uk/tickets-and-events/tosca-by-jonathan-kent-details"
          ],
          [
           "Tosca",
           "https://www.roh.org.uk/tickets-and-events/tosca-by-jonathan-kent-details"
          ],
          [
           "Tosca",
           "https://www.roh.org.uk/tickets-and-events/tosca-by-jonathan-kent-details"
          ],
          [
           "Tosca",
           "https://www.roh.org.uk/tickets-and-events/tosca-by-jonathan-kent-details"
          ],
          [
           "Tosca",
           "https://www.roh.org.uk/tickets-and-events/tosca-by-jonathan-kent-details"
          ],
          [
           "Tosca",
           "https://www.roh.org.uk/tickets-and-events/tosca-by-jonathan-kent-details"
          ],
          [
           "Tosca",
           "https://www.roh.org.uk/tickets-and-events/tosca-by-jonathan-kent-details"
          ]
         ],
         "hovertemplate": "%{customdata[0]}<br>%{x}<br>%{y}<extra></extra>",
         "hovertext": [
          "https://www.roh.org.uk/tickets-and-events/tosca-by-jonathan-kent-details",
          "https://www.roh.org.uk/tickets-and-events/tosca-by-jonathan-kent-details",
          "https://www.roh.org.uk/tickets-and-events/tosca-by-jonathan-kent-details",
          "https://www.roh.org.uk/tickets-and-events/tosca-by-jonathan-kent-details",
          "https://www.roh.org.uk/tickets-and-events/tosca-by-jonathan-kent-details",
          "https://www.roh.org.uk/tickets-and-events/tosca-by-jonathan-kent-details",
          "https://www.roh.org.uk/tickets-and-events/tosca-by-jonathan-kent-details",
          "https://www.roh.org.uk/tickets-and-events/tosca-by-jonathan-kent-details",
          "https://www.roh.org.uk/tickets-and-events/tosca-by-jonathan-kent-details",
          "https://www.roh.org.uk/tickets-and-events/tosca-by-jonathan-kent-details",
          "https://www.roh.org.uk/tickets-and-events/tosca-by-jonathan-kent-details",
          "https://www.roh.org.uk/tickets-and-events/tosca-by-jonathan-kent-details",
          "https://www.roh.org.uk/tickets-and-events/tosca-by-jonathan-kent-details",
          "https://www.roh.org.uk/tickets-and-events/tosca-by-jonathan-kent-details",
          "https://www.roh.org.uk/tickets-and-events/tosca-by-jonathan-kent-details",
          "https://www.roh.org.uk/tickets-and-events/tosca-by-jonathan-kent-details"
         ],
         "legendgroup": "Tosca",
         "marker": {
          "color": "#D62728",
          "line": {
           "color": "DarkSlateGrey",
           "width": 1
          },
          "size": [
           1,
           1,
           1,
           1,
           1,
           1,
           1,
           1,
           1,
           1,
           1,
           1,
           1,
           1,
           1,
           1
          ],
          "sizemode": "area",
          "sizeref": 0.02040816326530612,
          "symbol": "circle"
         },
         "mode": "markers",
         "name": "Tosca",
         "orientation": "v",
         "showlegend": true,
         "type": "scatter",
         "x": [
          "2024-02-05",
          "2024-02-08",
          "2024-02-12",
          "2024-02-19",
          "2024-02-24",
          "2024-07-01",
          "2024-07-03",
          "2024-07-05",
          "2024-07-08",
          "2024-07-11",
          "2024-07-13",
          "2024-07-14",
          "2024-07-16",
          "2024-07-17",
          "2024-07-19",
          "2024-07-21"
         ],
         "xaxis": "x",
         "y": [
          "19:00:00",
          "19:30:00",
          "19:30:00",
          "19:30:00",
          "19:30:00",
          "19:00:00",
          "19:30:00",
          "19:30:00",
          "19:30:00",
          "19:30:00",
          "19:30:00",
          "14:00:00",
          "19:30:00",
          "19:30:00",
          "19:30:00",
          "12:00:00"
         ],
         "yaxis": "y"
        },
        {
         "customdata": [
          [
           "New Works",
           "https://www.roh.org.uk/tickets-and-events/new-works-festival-of-new-choreography-details"
          ],
          [
           "New Works",
           "https://www.roh.org.uk/tickets-and-events/new-works-festival-of-new-choreography-details"
          ],
          [
           "New Works",
           "https://www.roh.org.uk/tickets-and-events/new-works-festival-of-new-choreography-details"
          ],
          [
           "New Works",
           "https://www.roh.org.uk/tickets-and-events/new-works-festival-of-new-choreography-details"
          ]
         ],
         "hovertemplate": "%{customdata[0]}<br>%{x}<br>%{y}<extra></extra>",
         "hovertext": [
          "https://www.roh.org.uk/tickets-and-events/new-works-festival-of-new-choreography-details",
          "https://www.roh.org.uk/tickets-and-events/new-works-festival-of-new-choreography-details",
          "https://www.roh.org.uk/tickets-and-events/new-works-festival-of-new-choreography-details",
          "https://www.roh.org.uk/tickets-and-events/new-works-festival-of-new-choreography-details"
         ],
         "legendgroup": "New Works",
         "marker": {
          "color": "#9467BD",
          "line": {
           "color": "DarkSlateGrey",
           "width": 1
          },
          "size": [
           1,
           1,
           1,
           1
          ],
          "sizemode": "area",
          "sizeref": 0.02040816326530612,
          "symbol": "circle"
         },
         "mode": "markers",
         "name": "New Works",
         "orientation": "v",
         "showlegend": true,
         "type": "scatter",
         "x": [
          "2024-02-15",
          "2024-02-16",
          "2024-02-20",
          "2024-02-21"
         ],
         "xaxis": "x",
         "y": [
          "19:00:00",
          "19:30:00",
          "19:30:00",
          "19:30:00"
         ],
         "yaxis": "y"
        },
        {
         "customdata": [
          [
           "The Flying Dutchman",
           "https://www.roh.org.uk/tickets-and-events/the-flying-dutchman-by-tim-albery-details"
          ],
          [
           "The Flying Dutchman",
           "https://www.roh.org.uk/tickets-and-events/the-flying-dutchman-by-tim-albery-details"
          ],
          [
           "The Flying Dutchman",
           "https://www.roh.org.uk/tickets-and-events/the-flying-dutchman-by-tim-albery-details"
          ],
          [
           "The Flying Dutchman",
           "https://www.roh.org.uk/tickets-and-events/the-flying-dutchman-by-tim-albery-details"
          ],
          [
           "The Flying Dutchman",
           "https://www.roh.org.uk/tickets-and-events/the-flying-dutchman-by-tim-albery-details"
          ],
          [
           "The Flying Dutchman",
           "https://www.roh.org.uk/tickets-and-events/the-flying-dutchman-by-tim-albery-details"
          ]
         ],
         "hovertemplate": "%{customdata[0]}<br>%{x}<br>%{y}<extra></extra>",
         "hovertext": [
          "https://www.roh.org.uk/tickets-and-events/the-flying-dutchman-by-tim-albery-details",
          "https://www.roh.org.uk/tickets-and-events/the-flying-dutchman-by-tim-albery-details",
          "https://www.roh.org.uk/tickets-and-events/the-flying-dutchman-by-tim-albery-details",
          "https://www.roh.org.uk/tickets-and-events/the-flying-dutchman-by-tim-albery-details",
          "https://www.roh.org.uk/tickets-and-events/the-flying-dutchman-by-tim-albery-details",
          "https://www.roh.org.uk/tickets-and-events/the-flying-dutchman-by-tim-albery-details"
         ],
         "legendgroup": "The Flying Dutchman",
         "marker": {
          "color": "#8C564B",
          "line": {
           "color": "DarkSlateGrey",
           "width": 1
          },
          "size": [
           1,
           1,
           1,
           1,
           1,
           1
          ],
          "sizemode": "area",
          "sizeref": 0.02040816326530612,
          "symbol": "circle"
         },
         "mode": "markers",
         "name": "The Flying Dutchman",
         "orientation": "v",
         "showlegend": true,
         "type": "scatter",
         "x": [
          "2024-02-29",
          "2024-03-04",
          "2024-03-09",
          "2024-03-11",
          "2024-03-13",
          "2024-03-16"
         ],
         "xaxis": "x",
         "y": [
          "20:00:00",
          "20:00:00",
          "20:00:00",
          "20:00:00",
          "20:00:00",
          "20:00:00"
         ],
         "yaxis": "y"
        },
        {
         "customdata": [
          [
           "Swan Lake",
           "https://www.roh.org.uk/tickets-and-events/swan-lake-by-liam-scarlett-details"
          ],
          [
           "Swan Lake",
           "https://www.roh.org.uk/tickets-and-events/swan-lake-by-liam-scarlett-details"
          ],
          [
           "Swan Lake",
           "https://www.roh.org.uk/tickets-and-events/swan-lake-by-liam-scarlett-details"
          ],
          [
           "Swan Lake",
           "https://www.roh.org.uk/tickets-and-events/swan-lake-by-liam-scarlett-details"
          ],
          [
           "Swan Lake",
           "https://www.roh.org.uk/tickets-and-events/swan-lake-by-liam-scarlett-details"
          ],
          [
           "Swan Lake",
           "https://www.roh.org.uk/tickets-and-events/swan-lake-by-liam-scarlett-details"
          ],
          [
           "Swan Lake",
           "https://www.roh.org.uk/tickets-and-events/swan-lake-by-liam-scarlett-details"
          ],
          [
           "Swan Lake",
           "https://www.roh.org.uk/tickets-and-events/swan-lake-by-liam-scarlett-details"
          ],
          [
           "Swan Lake",
           "https://www.roh.org.uk/tickets-and-events/swan-lake-by-liam-scarlett-details"
          ],
          [
           "Swan Lake",
           "https://www.roh.org.uk/tickets-and-events/swan-lake-by-liam-scarlett-details"
          ],
          [
           "Swan Lake",
           "https://www.roh.org.uk/tickets-and-events/swan-lake-by-liam-scarlett-details"
          ],
          [
           "Swan Lake",
           "https://www.roh.org.uk/tickets-and-events/swan-lake-by-liam-scarlett-details"
          ],
          [
           "Swan Lake",
           "https://www.roh.org.uk/tickets-and-events/swan-lake-by-liam-scarlett-details"
          ],
          [
           "Swan Lake",
           "https://www.roh.org.uk/tickets-and-events/swan-lake-by-liam-scarlett-details"
          ],
          [
           "Swan Lake",
           "https://www.roh.org.uk/tickets-and-events/swan-lake-by-liam-scarlett-details"
          ],
          [
           "Swan Lake",
           "https://www.roh.org.uk/tickets-and-events/swan-lake-by-liam-scarlett-details"
          ],
          [
           "Swan Lake",
           "https://www.roh.org.uk/tickets-and-events/swan-lake-by-liam-scarlett-details"
          ],
          [
           "Swan Lake",
           "https://www.roh.org.uk/tickets-and-events/swan-lake-by-liam-scarlett-details"
          ],
          [
           "Swan Lake",
           "https://www.roh.org.uk/tickets-and-events/swan-lake-by-liam-scarlett-details"
          ],
          [
           "Swan Lake",
           "https://www.roh.org.uk/tickets-and-events/swan-lake-by-liam-scarlett-details"
          ],
          [
           "Swan Lake",
           "https://www.roh.org.uk/tickets-and-events/swan-lake-by-liam-scarlett-details"
          ],
          [
           "Swan Lake",
           "https://www.roh.org.uk/tickets-and-events/swan-lake-by-liam-scarlett-details"
          ],
          [
           "Swan Lake",
           "https://www.roh.org.uk/tickets-and-events/swan-lake-by-liam-scarlett-details"
          ],
          [
           "Swan Lake",
           "https://www.roh.org.uk/tickets-and-events/swan-lake-by-liam-scarlett-details"
          ],
          [
           "Swan Lake",
           "https://www.roh.org.uk/tickets-and-events/swan-lake-by-liam-scarlett-details"
          ],
          [
           "Swan Lake",
           "https://www.roh.org.uk/tickets-and-events/swan-lake-by-liam-scarlett-details"
          ],
          [
           "Swan Lake",
           "https://www.roh.org.uk/tickets-and-events/swan-lake-by-liam-scarlett-details"
          ],
          [
           "Swan Lake",
           "https://www.roh.org.uk/tickets-and-events/swan-lake-by-liam-scarlett-details"
          ],
          [
           "Swan Lake",
           "https://www.roh.org.uk/tickets-and-events/swan-lake-by-liam-scarlett-details"
          ],
          [
           "Swan Lake",
           "https://www.roh.org.uk/tickets-and-events/swan-lake-by-liam-scarlett-details"
          ]
         ],
         "hovertemplate": "%{customdata[0]}<br>%{x}<br>%{y}<extra></extra>",
         "hovertext": [
          "https://www.roh.org.uk/tickets-and-events/swan-lake-by-liam-scarlett-details",
          "https://www.roh.org.uk/tickets-and-events/swan-lake-by-liam-scarlett-details",
          "https://www.roh.org.uk/tickets-and-events/swan-lake-by-liam-scarlett-details",
          "https://www.roh.org.uk/tickets-and-events/swan-lake-by-liam-scarlett-details",
          "https://www.roh.org.uk/tickets-and-events/swan-lake-by-liam-scarlett-details",
          "https://www.roh.org.uk/tickets-and-events/swan-lake-by-liam-scarlett-details",
          "https://www.roh.org.uk/tickets-and-events/swan-lake-by-liam-scarlett-details",
          "https://www.roh.org.uk/tickets-and-events/swan-lake-by-liam-scarlett-details",
          "https://www.roh.org.uk/tickets-and-events/swan-lake-by-liam-scarlett-details",
          "https://www.roh.org.uk/tickets-and-events/swan-lake-by-liam-scarlett-details",
          "https://www.roh.org.uk/tickets-and-events/swan-lake-by-liam-scarlett-details",
          "https://www.roh.org.uk/tickets-and-events/swan-lake-by-liam-scarlett-details",
          "https://www.roh.org.uk/tickets-and-events/swan-lake-by-liam-scarlett-details",
          "https://www.roh.org.uk/tickets-and-events/swan-lake-by-liam-scarlett-details",
          "https://www.roh.org.uk/tickets-and-events/swan-lake-by-liam-scarlett-details",
          "https://www.roh.org.uk/tickets-and-events/swan-lake-by-liam-scarlett-details",
          "https://www.roh.org.uk/tickets-and-events/swan-lake-by-liam-scarlett-details",
          "https://www.roh.org.uk/tickets-and-events/swan-lake-by-liam-scarlett-details",
          "https://www.roh.org.uk/tickets-and-events/swan-lake-by-liam-scarlett-details",
          "https://www.roh.org.uk/tickets-and-events/swan-lake-by-liam-scarlett-details",
          "https://www.roh.org.uk/tickets-and-events/swan-lake-by-liam-scarlett-details",
          "https://www.roh.org.uk/tickets-and-events/swan-lake-by-liam-scarlett-details",
          "https://www.roh.org.uk/tickets-and-events/swan-lake-by-liam-scarlett-details",
          "https://www.roh.org.uk/tickets-and-events/swan-lake-by-liam-scarlett-details",
          "https://www.roh.org.uk/tickets-and-events/swan-lake-by-liam-scarlett-details",
          "https://www.roh.org.uk/tickets-and-events/swan-lake-by-liam-scarlett-details",
          "https://www.roh.org.uk/tickets-and-events/swan-lake-by-liam-scarlett-details",
          "https://www.roh.org.uk/tickets-and-events/swan-lake-by-liam-scarlett-details",
          "https://www.roh.org.uk/tickets-and-events/swan-lake-by-liam-scarlett-details",
          "https://www.roh.org.uk/tickets-and-events/swan-lake-by-liam-scarlett-details"
         ],
         "legendgroup": "Swan Lake",
         "marker": {
          "color": "#E377C2",
          "line": {
           "color": "DarkSlateGrey",
           "width": 1
          },
          "size": [
           1,
           1,
           1,
           1,
           1,
           1,
           1,
           1,
           1,
           1,
           1,
           1,
           1,
           1,
           1,
           1,
           1,
           1,
           1,
           1,
           1,
           1,
           1,
           1,
           1,
           1,
           1,
           1,
           1,
           1
          ],
          "sizemode": "area",
          "sizeref": 0.02040816326530612,
          "symbol": "circle"
         },
         "mode": "markers",
         "name": "Swan Lake",
         "orientation": "v",
         "showlegend": true,
         "type": "scatter",
         "x": [
          "2024-03-06",
          "2024-03-07",
          "2024-03-15",
          "2024-03-21",
          "2024-03-28",
          "2024-04-01",
          "2024-04-01",
          "2024-04-06",
          "2024-04-12",
          "2024-04-17",
          "2024-04-18",
          "2024-04-18",
          "2024-04-20",
          "2024-04-20",
          "2024-04-24",
          "2024-04-27",
          "2024-04-27",
          "2024-04-29",
          "2024-05-04",
          "2024-05-04",
          "2024-05-09",
          "2024-05-11",
          "2024-05-11",
          "2024-06-12",
          "2024-06-14",
          "2024-06-17",
          "2024-06-20",
          "2024-06-25",
          "2024-06-27",
          "2024-06-28"
         ],
         "xaxis": "x",
         "y": [
          "19:30:00",
          "19:30:00",
          "19:30:00",
          "19:30:00",
          "19:30:00",
          "13:00:00",
          "19:00:00",
          "19:30:00",
          "19:30:00",
          "19:30:00",
          "12:30:00",
          "19:30:00",
          "13:00:00",
          "19:00:00",
          "19:30:00",
          "13:00:00",
          "19:00:00",
          "19:30:00",
          "13:00:00",
          "19:00:00",
          "19:30:00",
          "13:00:00",
          "19:00:00",
          "19:30:00",
          "19:30:00",
          "19:30:00",
          "19:30:00",
          "19:30:00",
          "19:30:00",
          "19:30:00"
         ],
         "yaxis": "y"
        },
        {
         "customdata": [
          [
           "Madama Butterfly",
           "https://www.roh.org.uk/tickets-and-events/madama-butterfly-by-moshe-leiser-and-patrice-caurier-details"
          ],
          [
           "Madama Butterfly",
           "https://www.roh.org.uk/tickets-and-events/madama-butterfly-by-moshe-leiser-and-patrice-caurier-details"
          ],
          [
           "Madama Butterfly",
           "https://www.roh.org.uk/tickets-and-events/madama-butterfly-by-moshe-leiser-and-patrice-caurier-details"
          ],
          [
           "Madama Butterfly",
           "https://www.roh.org.uk/tickets-and-events/madama-butterfly-by-moshe-leiser-and-patrice-caurier-details"
          ],
          [
           "Madama Butterfly",
           "https://www.roh.org.uk/tickets-and-events/madama-butterfly-by-moshe-leiser-and-patrice-caurier-details"
          ],
          [
           "Madama Butterfly",
           "https://www.roh.org.uk/tickets-and-events/madama-butterfly-by-moshe-leiser-and-patrice-caurier-details"
          ],
          [
           "Madama Butterfly",
           "https://www.roh.org.uk/tickets-and-events/madama-butterfly-by-moshe-leiser-and-patrice-caurier-details"
          ],
          [
           "Madama Butterfly",
           "https://www.roh.org.uk/tickets-and-events/madama-butterfly-by-moshe-leiser-and-patrice-caurier-details"
          ],
          [
           "Madama Butterfly",
           "https://www.roh.org.uk/tickets-and-events/madama-butterfly-by-moshe-leiser-and-patrice-caurier-details"
          ],
          [
           "Madama Butterfly",
           "https://www.roh.org.uk/tickets-and-events/madama-butterfly-by-moshe-leiser-and-patrice-caurier-details"
          ],
          [
           "Madama Butterfly",
           "https://www.roh.org.uk/tickets-and-events/madama-butterfly-by-moshe-leiser-and-patrice-caurier-details"
          ],
          [
           "Madama Butterfly",
           "https://www.roh.org.uk/tickets-and-events/madama-butterfly-by-moshe-leiser-and-patrice-caurier-details"
          ],
          [
           "Madama Butterfly",
           "https://www.roh.org.uk/tickets-and-events/madama-butterfly-by-moshe-leiser-and-patrice-caurier-details"
          ]
         ],
         "hovertemplate": "%{customdata[0]}<br>%{x}<br>%{y}<extra></extra>",
         "hovertext": [
          "https://www.roh.org.uk/tickets-and-events/madama-butterfly-by-moshe-leiser-and-patrice-caurier-details",
          "https://www.roh.org.uk/tickets-and-events/madama-butterfly-by-moshe-leiser-and-patrice-caurier-details",
          "https://www.roh.org.uk/tickets-and-events/madama-butterfly-by-moshe-leiser-and-patrice-caurier-details",
          "https://www.roh.org.uk/tickets-and-events/madama-butterfly-by-moshe-leiser-and-patrice-caurier-details",
          "https://www.roh.org.uk/tickets-and-events/madama-butterfly-by-moshe-leiser-and-patrice-caurier-details",
          "https://www.roh.org.uk/tickets-and-events/madama-butterfly-by-moshe-leiser-and-patrice-caurier-details",
          "https://www.roh.org.uk/tickets-and-events/madama-butterfly-by-moshe-leiser-and-patrice-caurier-details",
          "https://www.roh.org.uk/tickets-and-events/madama-butterfly-by-moshe-leiser-and-patrice-caurier-details",
          "https://www.roh.org.uk/tickets-and-events/madama-butterfly-by-moshe-leiser-and-patrice-caurier-details",
          "https://www.roh.org.uk/tickets-and-events/madama-butterfly-by-moshe-leiser-and-patrice-caurier-details",
          "https://www.roh.org.uk/tickets-and-events/madama-butterfly-by-moshe-leiser-and-patrice-caurier-details",
          "https://www.roh.org.uk/tickets-and-events/madama-butterfly-by-moshe-leiser-and-patrice-caurier-details",
          "https://www.roh.org.uk/tickets-and-events/madama-butterfly-by-moshe-leiser-and-patrice-caurier-details"
         ],
         "legendgroup": "Madama Butterfly",
         "marker": {
          "color": "#7F7F7F",
          "line": {
           "color": "DarkSlateGrey",
           "width": 1
          },
          "size": [
           1,
           1,
           1,
           1,
           1,
           1,
           1,
           1,
           1,
           1,
           1,
           1,
           1
          ],
          "sizemode": "area",
          "sizeref": 0.02040816326530612,
          "symbol": "circle"
         },
         "mode": "markers",
         "name": "Madama Butterfly",
         "orientation": "v",
         "showlegend": true,
         "type": "scatter",
         "x": [
          "2024-03-14",
          "2024-03-19",
          "2024-03-23",
          "2024-03-26",
          "2024-03-30",
          "2024-04-03",
          "2024-04-06",
          "2024-04-10",
          "2024-04-13",
          "2024-04-15",
          "2024-07-12",
          "2024-07-15",
          "2024-07-18"
         ],
         "xaxis": "x",
         "y": [
          "19:00:00",
          "19:30:00",
          "19:30:00",
          "19:30:00",
          "19:30:00",
          "19:30:00",
          "12:00:00",
          "19:30:00",
          "12:00:00",
          "19:30:00",
          "19:30:00",
          "19:30:00",
          "19:30:00"
         ],
         "yaxis": "y"
        },
        {
         "customdata": [
          [
           "Danses Concertantes / Different Drummer / Requiem ",
           "https://www.roh.org.uk/tickets-and-events/danses-concertantes-different-drummer-requiem-by-kenneth-macmillan-details"
          ],
          [
           "Danses Concertantes / Different Drummer / Requiem ",
           "https://www.roh.org.uk/tickets-and-events/danses-concertantes-different-drummer-requiem-by-kenneth-macmillan-details"
          ],
          [
           "Danses Concertantes / Different Drummer / Requiem ",
           "https://www.roh.org.uk/tickets-and-events/danses-concertantes-different-drummer-requiem-by-kenneth-macmillan-details"
          ],
          [
           "Danses Concertantes / Different Drummer / Requiem ",
           "https://www.roh.org.uk/tickets-and-events/danses-concertantes-different-drummer-requiem-by-kenneth-macmillan-details"
          ],
          [
           "Danses Concertantes / Different Drummer / Requiem ",
           "https://www.roh.org.uk/tickets-and-events/danses-concertantes-different-drummer-requiem-by-kenneth-macmillan-details"
          ],
          [
           "Danses Concertantes / Different Drummer / Requiem ",
           "https://www.roh.org.uk/tickets-and-events/danses-concertantes-different-drummer-requiem-by-kenneth-macmillan-details"
          ]
         ],
         "hovertemplate": "%{customdata[0]}<br>%{x}<br>%{y}<extra></extra>",
         "hovertext": [
          "https://www.roh.org.uk/tickets-and-events/danses-concertantes-different-drummer-requiem-by-kenneth-macmillan-details",
          "https://www.roh.org.uk/tickets-and-events/danses-concertantes-different-drummer-requiem-by-kenneth-macmillan-details",
          "https://www.roh.org.uk/tickets-and-events/danses-concertantes-different-drummer-requiem-by-kenneth-macmillan-details",
          "https://www.roh.org.uk/tickets-and-events/danses-concertantes-different-drummer-requiem-by-kenneth-macmillan-details",
          "https://www.roh.org.uk/tickets-and-events/danses-concertantes-different-drummer-requiem-by-kenneth-macmillan-details",
          "https://www.roh.org.uk/tickets-and-events/danses-concertantes-different-drummer-requiem-by-kenneth-macmillan-details"
         ],
         "legendgroup": "Danses Concertantes / Different Drummer / Requiem ",
         "marker": {
          "color": "#BCBD22",
          "line": {
           "color": "DarkSlateGrey",
           "width": 1
          },
          "size": [
           1,
           1,
           1,
           1,
           1,
           1
          ],
          "sizemode": "area",
          "sizeref": 0.02040816326530612,
          "symbol": "circle"
         },
         "mode": "markers",
         "name": "Danses Concertantes / Different Drummer / Requiem ",
         "orientation": "v",
         "showlegend": true,
         "type": "scatter",
         "x": [
          "2024-03-20",
          "2024-03-22",
          "2024-03-27",
          "2024-04-04",
          "2024-04-09",
          "2024-04-13"
         ],
         "xaxis": "x",
         "y": [
          "19:30:00",
          "19:30:00",
          "19:30:00",
          "19:30:00",
          "19:30:00",
          "19:30:00"
         ],
         "yaxis": "y"
        },
        {
         "customdata": [
          [
           "Carmen",
           "https://www.roh.org.uk/tickets-and-events/carmen-by-damiano-michieletto-details"
          ],
          [
           "Carmen",
           "https://www.roh.org.uk/tickets-and-events/carmen-by-damiano-michieletto-details"
          ],
          [
           "Carmen",
           "https://www.roh.org.uk/tickets-and-events/carmen-by-damiano-michieletto-details"
          ],
          [
           "Carmen",
           "https://www.roh.org.uk/tickets-and-events/carmen-by-damiano-michieletto-details"
          ],
          [
           "Carmen",
           "https://www.roh.org.uk/tickets-and-events/carmen-by-damiano-michieletto-details"
          ],
          [
           "Carmen",
           "https://www.roh.org.uk/tickets-and-events/carmen-by-damiano-michieletto-details"
          ],
          [
           "Carmen",
           "https://www.roh.org.uk/tickets-and-events/carmen-by-damiano-michieletto-details"
          ],
          [
           "Carmen",
           "https://www.roh.org.uk/tickets-and-events/carmen-by-damiano-michieletto-details"
          ],
          [
           "Carmen",
           "https://www.roh.org.uk/tickets-and-events/carmen-by-damiano-michieletto-details"
          ],
          [
           "Carmen",
           "https://www.roh.org.uk/tickets-and-events/carmen-by-damiano-michieletto-details"
          ],
          [
           "Carmen",
           "https://www.roh.org.uk/tickets-and-events/carmen-by-damiano-michieletto-details"
          ],
          [
           "Carmen",
           "https://www.roh.org.uk/tickets-and-events/carmen-by-damiano-michieletto-details"
          ],
          [
           "Carmen",
           "https://www.roh.org.uk/tickets-and-events/carmen-by-damiano-michieletto-details"
          ],
          [
           "Carmen",
           "https://www.roh.org.uk/tickets-and-events/carmen-by-damiano-michieletto-details"
          ],
          [
           "Carmen",
           "https://www.roh.org.uk/tickets-and-events/carmen-by-damiano-michieletto-details"
          ],
          [
           "Carmen",
           "https://www.roh.org.uk/tickets-and-events/carmen-by-damiano-michieletto-details"
          ]
         ],
         "hovertemplate": "%{customdata[0]}<br>%{x}<br>%{y}<extra></extra>",
         "hovertext": [
          "https://www.roh.org.uk/tickets-and-events/carmen-by-damiano-michieletto-details",
          "https://www.roh.org.uk/tickets-and-events/carmen-by-damiano-michieletto-details",
          "https://www.roh.org.uk/tickets-and-events/carmen-by-damiano-michieletto-details",
          "https://www.roh.org.uk/tickets-and-events/carmen-by-damiano-michieletto-details",
          "https://www.roh.org.uk/tickets-and-events/carmen-by-damiano-michieletto-details",
          "https://www.roh.org.uk/tickets-and-events/carmen-by-damiano-michieletto-details",
          "https://www.roh.org.uk/tickets-and-events/carmen-by-damiano-michieletto-details",
          "https://www.roh.org.uk/tickets-and-events/carmen-by-damiano-michieletto-details",
          "https://www.roh.org.uk/tickets-and-events/carmen-by-damiano-michieletto-details",
          "https://www.roh.org.uk/tickets-and-events/carmen-by-damiano-michieletto-details",
          "https://www.roh.org.uk/tickets-and-events/carmen-by-damiano-michieletto-details",
          "https://www.roh.org.uk/tickets-and-events/carmen-by-damiano-michieletto-details",
          "https://www.roh.org.uk/tickets-and-events/carmen-by-damiano-michieletto-details",
          "https://www.roh.org.uk/tickets-and-events/carmen-by-damiano-michieletto-details",
          "https://www.roh.org.uk/tickets-and-events/carmen-by-damiano-michieletto-details",
          "https://www.roh.org.uk/tickets-and-events/carmen-by-damiano-michieletto-details"
         ],
         "legendgroup": "Carmen",
         "marker": {
          "color": "#17BECF",
          "line": {
           "color": "DarkSlateGrey",
           "width": 1
          },
          "size": [
           1,
           1,
           1,
           1,
           1,
           1,
           1,
           1,
           1,
           1,
           1,
           1,
           1,
           1,
           1,
           1
          ],
          "sizemode": "area",
          "sizeref": 0.02040816326530612,
          "symbol": "circle"
         },
         "mode": "markers",
         "name": "Carmen",
         "orientation": "v",
         "showlegend": true,
         "type": "scatter",
         "x": [
          "2024-04-05",
          "2024-04-08",
          "2024-04-11",
          "2024-04-14",
          "2024-04-16",
          "2024-04-23",
          "2024-04-26",
          "2024-05-01",
          "2024-05-05",
          "2024-05-12",
          "2024-05-17",
          "2024-05-20",
          "2024-05-23",
          "2024-05-25",
          "2024-05-29",
          "2024-05-31"
         ],
         "xaxis": "x",
         "y": [
          "18:30:00",
          "19:00:00",
          "19:00:00",
          "17:00:00",
          "19:00:00",
          "19:00:00",
          "19:00:00",
          "19:00:00",
          "15:00:00",
          "17:00:00",
          "19:00:00",
          "19:00:00",
          "19:00:00",
          "19:00:00",
          "19:00:00",
          "19:00:00"
         ],
         "yaxis": "y"
        },
        {
         "customdata": [
          [
           "Lucia di Lammermoor",
           "https://www.roh.org.uk/tickets-and-events/lucia-di-lammermoor-by-katie-mitchell-details"
          ],
          [
           "Lucia di Lammermoor",
           "https://www.roh.org.uk/tickets-and-events/lucia-di-lammermoor-by-katie-mitchell-details"
          ],
          [
           "Lucia di Lammermoor",
           "https://www.roh.org.uk/tickets-and-events/lucia-di-lammermoor-by-katie-mitchell-details"
          ],
          [
           "Lucia di Lammermoor",
           "https://www.roh.org.uk/tickets-and-events/lucia-di-lammermoor-by-katie-mitchell-details"
          ],
          [
           "Lucia di Lammermoor",
           "https://www.roh.org.uk/tickets-and-events/lucia-di-lammermoor-by-katie-mitchell-details"
          ],
          [
           "Lucia di Lammermoor",
           "https://www.roh.org.uk/tickets-and-events/lucia-di-lammermoor-by-katie-mitchell-details"
          ],
          [
           "Lucia di Lammermoor",
           "https://www.roh.org.uk/tickets-and-events/lucia-di-lammermoor-by-katie-mitchell-details"
          ],
          [
           "Lucia di Lammermoor",
           "https://www.roh.org.uk/tickets-and-events/lucia-di-lammermoor-by-katie-mitchell-details"
          ],
          [
           "Lucia di Lammermoor",
           "https://www.roh.org.uk/tickets-and-events/lucia-di-lammermoor-by-katie-mitchell-details"
          ]
         ],
         "hovertemplate": "%{customdata[0]}<br>%{x}<br>%{y}<extra></extra>",
         "hovertext": [
          "https://www.roh.org.uk/tickets-and-events/lucia-di-lammermoor-by-katie-mitchell-details",
          "https://www.roh.org.uk/tickets-and-events/lucia-di-lammermoor-by-katie-mitchell-details",
          "https://www.roh.org.uk/tickets-and-events/lucia-di-lammermoor-by-katie-mitchell-details",
          "https://www.roh.org.uk/tickets-and-events/lucia-di-lammermoor-by-katie-mitchell-details",
          "https://www.roh.org.uk/tickets-and-events/lucia-di-lammermoor-by-katie-mitchell-details",
          "https://www.roh.org.uk/tickets-and-events/lucia-di-lammermoor-by-katie-mitchell-details",
          "https://www.roh.org.uk/tickets-and-events/lucia-di-lammermoor-by-katie-mitchell-details",
          "https://www.roh.org.uk/tickets-and-events/lucia-di-lammermoor-by-katie-mitchell-details",
          "https://www.roh.org.uk/tickets-and-events/lucia-di-lammermoor-by-katie-mitchell-details"
         ],
         "legendgroup": "Lucia di Lammermoor",
         "marker": {
          "color": "#1F77B4",
          "line": {
           "color": "DarkSlateGrey",
           "width": 1
          },
          "size": [
           1,
           1,
           1,
           1,
           1,
           1,
           1,
           1,
           1
          ],
          "sizemode": "area",
          "sizeref": 0.02040816326530612,
          "symbol": "circle"
         },
         "mode": "markers",
         "name": "Lucia di Lammermoor",
         "orientation": "v",
         "showlegend": true,
         "type": "scatter",
         "x": [
          "2024-04-19",
          "2024-04-22",
          "2024-04-25",
          "2024-04-30",
          "2024-05-02",
          "2024-05-08",
          "2024-05-10",
          "2024-05-14",
          "2024-05-18"
         ],
         "xaxis": "x",
         "y": [
          "19:00:00",
          "19:30:00",
          "19:30:00",
          "19:30:00",
          "19:30:00",
          "19:30:00",
          "19:30:00",
          "19:30:00",
          "12:00:00"
         ],
         "yaxis": "y"
        },
        {
         "customdata": [
          [
           "The Winter's Tale",
           "https://www.roh.org.uk/tickets-and-events/the-winters-tale-by-christopher-wheeldon-details"
          ],
          [
           "The Winter's Tale",
           "https://www.roh.org.uk/tickets-and-events/the-winters-tale-by-christopher-wheeldon-details"
          ],
          [
           "The Winter's Tale",
           "https://www.roh.org.uk/tickets-and-events/the-winters-tale-by-christopher-wheeldon-details"
          ],
          [
           "The Winter's Tale",
           "https://www.roh.org.uk/tickets-and-events/the-winters-tale-by-christopher-wheeldon-details"
          ],
          [
           "The Winter's Tale",
           "https://www.roh.org.uk/tickets-and-events/the-winters-tale-by-christopher-wheeldon-details"
          ],
          [
           "The Winter's Tale",
           "https://www.roh.org.uk/tickets-and-events/the-winters-tale-by-christopher-wheeldon-details"
          ],
          [
           "The Winter's Tale",
           "https://www.roh.org.uk/tickets-and-events/the-winters-tale-by-christopher-wheeldon-details"
          ],
          [
           "The Winter's Tale",
           "https://www.roh.org.uk/tickets-and-events/the-winters-tale-by-christopher-wheeldon-details"
          ],
          [
           "The Winter's Tale",
           "https://www.roh.org.uk/tickets-and-events/the-winters-tale-by-christopher-wheeldon-details"
          ],
          [
           "The Winter's Tale",
           "https://www.roh.org.uk/tickets-and-events/the-winters-tale-by-christopher-wheeldon-details"
          ],
          [
           "The Winter's Tale",
           "https://www.roh.org.uk/tickets-and-events/the-winters-tale-by-christopher-wheeldon-details"
          ]
         ],
         "hovertemplate": "%{customdata[0]}<br>%{x}<br>%{y}<extra></extra>",
         "hovertext": [
          "https://www.roh.org.uk/tickets-and-events/the-winters-tale-by-christopher-wheeldon-details",
          "https://www.roh.org.uk/tickets-and-events/the-winters-tale-by-christopher-wheeldon-details",
          "https://www.roh.org.uk/tickets-and-events/the-winters-tale-by-christopher-wheeldon-details",
          "https://www.roh.org.uk/tickets-and-events/the-winters-tale-by-christopher-wheeldon-details",
          "https://www.roh.org.uk/tickets-and-events/the-winters-tale-by-christopher-wheeldon-details",
          "https://www.roh.org.uk/tickets-and-events/the-winters-tale-by-christopher-wheeldon-details",
          "https://www.roh.org.uk/tickets-and-events/the-winters-tale-by-christopher-wheeldon-details",
          "https://www.roh.org.uk/tickets-and-events/the-winters-tale-by-christopher-wheeldon-details",
          "https://www.roh.org.uk/tickets-and-events/the-winters-tale-by-christopher-wheeldon-details",
          "https://www.roh.org.uk/tickets-and-events/the-winters-tale-by-christopher-wheeldon-details",
          "https://www.roh.org.uk/tickets-and-events/the-winters-tale-by-christopher-wheeldon-details"
         ],
         "legendgroup": "The Winter's Tale",
         "marker": {
          "color": "#FF7F0E",
          "line": {
           "color": "DarkSlateGrey",
           "width": 1
          },
          "size": [
           1,
           1,
           1,
           1,
           1,
           1,
           1,
           1,
           1,
           1,
           1
          ],
          "sizemode": "area",
          "sizeref": 0.02040816326530612,
          "symbol": "circle"
         },
         "mode": "markers",
         "name": "The Winter's Tale",
         "orientation": "v",
         "showlegend": true,
         "type": "scatter",
         "x": [
          "2024-05-03",
          "2024-05-07",
          "2024-05-13",
          "2024-05-15",
          "2024-05-21",
          "2024-05-22",
          "2024-05-24",
          "2024-05-27",
          "2024-05-27",
          "2024-05-28",
          "2024-06-01"
         ],
         "xaxis": "x",
         "y": [
          "19:30:00",
          "19:30:00",
          "19:30:00",
          "19:30:00",
          "19:30:00",
          "19:30:00",
          "19:30:00",
          "13:00:00",
          "19:00:00",
          "19:30:00",
          "19:30:00"
         ],
         "yaxis": "y"
        },
        {
         "customdata": [
          [
           "Andrea Chénier",
           "https://www.roh.org.uk/tickets-and-events/andrea-chenier-by-david-mcvicar-details"
          ],
          [
           "Andrea Chénier",
           "https://www.roh.org.uk/tickets-and-events/andrea-chenier-by-david-mcvicar-details"
          ],
          [
           "Andrea Chénier",
           "https://www.roh.org.uk/tickets-and-events/andrea-chenier-by-david-mcvicar-details"
          ],
          [
           "Andrea Chénier",
           "https://www.roh.org.uk/tickets-and-events/andrea-chenier-by-david-mcvicar-details"
          ],
          [
           "Andrea Chénier",
           "https://www.roh.org.uk/tickets-and-events/andrea-chenier-by-david-mcvicar-details"
          ]
         ],
         "hovertemplate": "%{customdata[0]}<br>%{x}<br>%{y}<extra></extra>",
         "hovertext": [
          "https://www.roh.org.uk/tickets-and-events/andrea-chenier-by-david-mcvicar-details",
          "https://www.roh.org.uk/tickets-and-events/andrea-chenier-by-david-mcvicar-details",
          "https://www.roh.org.uk/tickets-and-events/andrea-chenier-by-david-mcvicar-details",
          "https://www.roh.org.uk/tickets-and-events/andrea-chenier-by-david-mcvicar-details",
          "https://www.roh.org.uk/tickets-and-events/andrea-chenier-by-david-mcvicar-details"
         ],
         "legendgroup": "Andrea Chénier",
         "marker": {
          "color": "#2CA02C",
          "line": {
           "color": "DarkSlateGrey",
           "width": 1
          },
          "size": [
           1,
           1,
           1,
           1,
           1
          ],
          "sizemode": "area",
          "sizeref": 0.02040816326530612,
          "symbol": "circle"
         },
         "mode": "markers",
         "name": "Andrea Chénier",
         "orientation": "v",
         "showlegend": true,
         "type": "scatter",
         "x": [
          "2024-05-30",
          "2024-06-02",
          "2024-06-05",
          "2024-06-08",
          "2024-06-11"
         ],
         "xaxis": "x",
         "y": [
          "19:30:00",
          "18:00:00",
          "19:30:00",
          "19:30:00",
          "19:30:00"
         ],
         "yaxis": "y"
        },
        {
         "customdata": [
          [
           "Les Rendezvous / The Dream / Rhapsody",
           "https://www.roh.org.uk/tickets-and-events/les-rendezvous-the-dream-rhapsody-by-frederick-ashton-details"
          ],
          [
           "Les Rendezvous / The Dream / Rhapsody",
           "https://www.roh.org.uk/tickets-and-events/les-rendezvous-the-dream-rhapsody-by-frederick-ashton-details"
          ],
          [
           "Les Rendezvous / The Dream / Rhapsody",
           "https://www.roh.org.uk/tickets-and-events/les-rendezvous-the-dream-rhapsody-by-frederick-ashton-details"
          ],
          [
           "Les Rendezvous / The Dream / Rhapsody",
           "https://www.roh.org.uk/tickets-and-events/les-rendezvous-the-dream-rhapsody-by-frederick-ashton-details"
          ],
          [
           "Les Rendezvous / The Dream / Rhapsody",
           "https://www.roh.org.uk/tickets-and-events/les-rendezvous-the-dream-rhapsody-by-frederick-ashton-details"
          ]
         ],
         "hovertemplate": "%{customdata[0]}<br>%{x}<br>%{y}<extra></extra>",
         "hovertext": [
          "https://www.roh.org.uk/tickets-and-events/les-rendezvous-the-dream-rhapsody-by-frederick-ashton-details",
          "https://www.roh.org.uk/tickets-and-events/les-rendezvous-the-dream-rhapsody-by-frederick-ashton-details",
          "https://www.roh.org.uk/tickets-and-events/les-rendezvous-the-dream-rhapsody-by-frederick-ashton-details",
          "https://www.roh.org.uk/tickets-and-events/les-rendezvous-the-dream-rhapsody-by-frederick-ashton-details",
          "https://www.roh.org.uk/tickets-and-events/les-rendezvous-the-dream-rhapsody-by-frederick-ashton-details"
         ],
         "legendgroup": "Les Rendezvous / The Dream / Rhapsody",
         "marker": {
          "color": "#D62728",
          "line": {
           "color": "DarkSlateGrey",
           "width": 1
          },
          "size": [
           1,
           1,
           1,
           1,
           1
          ],
          "sizemode": "area",
          "sizeref": 0.02040816326530612,
          "symbol": "circle"
         },
         "mode": "markers",
         "name": "Les Rendezvous / The Dream / Rhapsody",
         "orientation": "v",
         "showlegend": true,
         "type": "scatter",
         "x": [
          "2024-06-06",
          "2024-06-10",
          "2024-06-15",
          "2024-06-15",
          "2024-06-19"
         ],
         "xaxis": "x",
         "y": [
          "19:30:00",
          "19:30:00",
          "13:00:00",
          "19:00:00",
          "19:30:00"
         ],
         "yaxis": "y"
        },
        {
         "customdata": [
          [
           "The Dream / Short Works / Rhapsody  ",
           "https://www.roh.org.uk/tickets-and-events/the-dream-short-works-rhapsody-by-frederick-ashton-details"
          ],
          [
           "The Dream / Short Works / Rhapsody  ",
           "https://www.roh.org.uk/tickets-and-events/the-dream-short-works-rhapsody-by-frederick-ashton-details"
          ],
          [
           "The Dream / Short Works / Rhapsody  ",
           "https://www.roh.org.uk/tickets-and-events/the-dream-short-works-rhapsody-by-frederick-ashton-details"
          ],
          [
           "The Dream / Short Works / Rhapsody  ",
           "https://www.roh.org.uk/tickets-and-events/the-dream-short-works-rhapsody-by-frederick-ashton-details"
          ],
          [
           "The Dream / Short Works / Rhapsody  ",
           "https://www.roh.org.uk/tickets-and-events/the-dream-short-works-rhapsody-by-frederick-ashton-details"
          ]
         ],
         "hovertemplate": "%{customdata[0]}<br>%{x}<br>%{y}<extra></extra>",
         "hovertext": [
          "https://www.roh.org.uk/tickets-and-events/the-dream-short-works-rhapsody-by-frederick-ashton-details",
          "https://www.roh.org.uk/tickets-and-events/the-dream-short-works-rhapsody-by-frederick-ashton-details",
          "https://www.roh.org.uk/tickets-and-events/the-dream-short-works-rhapsody-by-frederick-ashton-details",
          "https://www.roh.org.uk/tickets-and-events/the-dream-short-works-rhapsody-by-frederick-ashton-details",
          "https://www.roh.org.uk/tickets-and-events/the-dream-short-works-rhapsody-by-frederick-ashton-details"
         ],
         "legendgroup": "The Dream / Short Works / Rhapsody  ",
         "marker": {
          "color": "#9467BD",
          "line": {
           "color": "DarkSlateGrey",
           "width": 1
          },
          "size": [
           1,
           1,
           1,
           1,
           1
          ],
          "sizemode": "area",
          "sizeref": 0.02040816326530612,
          "symbol": "circle"
         },
         "mode": "markers",
         "name": "The Dream / Short Works / Rhapsody  ",
         "orientation": "v",
         "showlegend": true,
         "type": "scatter",
         "x": [
          "2024-06-07",
          "2024-06-18",
          "2024-06-21",
          "2024-06-22",
          "2024-06-22"
         ],
         "xaxis": "x",
         "y": [
          "19:30:00",
          "19:30:00",
          "19:30:00",
          "13:00:00",
          "19:00:00"
         ],
         "yaxis": "y"
        },
        {
         "customdata": [
          [
           "Così fan tutte",
           "https://www.roh.org.uk/tickets-and-events/cosi-fan-tutte-by-jan-philipp-gloger-details"
          ],
          [
           "Così fan tutte",
           "https://www.roh.org.uk/tickets-and-events/cosi-fan-tutte-by-jan-philipp-gloger-details"
          ],
          [
           "Così fan tutte",
           "https://www.roh.org.uk/tickets-and-events/cosi-fan-tutte-by-jan-philipp-gloger-details"
          ],
          [
           "Così fan tutte",
           "https://www.roh.org.uk/tickets-and-events/cosi-fan-tutte-by-jan-philipp-gloger-details"
          ],
          [
           "Così fan tutte",
           "https://www.roh.org.uk/tickets-and-events/cosi-fan-tutte-by-jan-philipp-gloger-details"
          ],
          [
           "Così fan tutte",
           "https://www.roh.org.uk/tickets-and-events/cosi-fan-tutte-by-jan-philipp-gloger-details"
          ]
         ],
         "hovertemplate": "%{customdata[0]}<br>%{x}<br>%{y}<extra></extra>",
         "hovertext": [
          "https://www.roh.org.uk/tickets-and-events/cosi-fan-tutte-by-jan-philipp-gloger-details",
          "https://www.roh.org.uk/tickets-and-events/cosi-fan-tutte-by-jan-philipp-gloger-details",
          "https://www.roh.org.uk/tickets-and-events/cosi-fan-tutte-by-jan-philipp-gloger-details",
          "https://www.roh.org.uk/tickets-and-events/cosi-fan-tutte-by-jan-philipp-gloger-details",
          "https://www.roh.org.uk/tickets-and-events/cosi-fan-tutte-by-jan-philipp-gloger-details",
          "https://www.roh.org.uk/tickets-and-events/cosi-fan-tutte-by-jan-philipp-gloger-details"
         ],
         "legendgroup": "Così fan tutte",
         "marker": {
          "color": "#8C564B",
          "line": {
           "color": "DarkSlateGrey",
           "width": 1
          },
          "size": [
           1,
           1,
           1,
           1,
           1,
           1
          ],
          "sizemode": "area",
          "sizeref": 0.02040816326530612,
          "symbol": "circle"
         },
         "mode": "markers",
         "name": "Così fan tutte",
         "orientation": "v",
         "showlegend": true,
         "type": "scatter",
         "x": [
          "2024-06-26",
          "2024-06-29",
          "2024-07-02",
          "2024-07-04",
          "2024-07-06",
          "2024-07-10"
         ],
         "xaxis": "x",
         "y": [
          "19:00:00",
          "19:00:00",
          "19:00:00",
          "19:00:00",
          "19:00:00",
          "19:00:00"
         ],
         "yaxis": "y"
        },
        {
         "customdata": [
          [
           "The Royal Ballet School Summer Performance",
           "https://www.roh.org.uk/tickets-and-events/the-royal-ballet-school-summer-performance-details"
          ]
         ],
         "hovertemplate": "%{customdata[0]}<br>%{x}<br>%{y}<extra></extra>",
         "hovertext": [
          "https://www.roh.org.uk/tickets-and-events/the-royal-ballet-school-summer-performance-details"
         ],
         "legendgroup": "The Royal Ballet School Summer Performance",
         "marker": {
          "color": "#E377C2",
          "line": {
           "color": "DarkSlateGrey",
           "width": 1
          },
          "size": [
           1
          ],
          "sizemode": "area",
          "sizeref": 0.02040816326530612,
          "symbol": "circle"
         },
         "mode": "markers",
         "name": "The Royal Ballet School Summer Performance",
         "orientation": "v",
         "showlegend": true,
         "type": "scatter",
         "x": [
          "2024-07-06"
         ],
         "xaxis": "x",
         "y": [
          "11:30:00"
         ],
         "yaxis": "y"
        },
        {
         "customdata": [
          [
           "Jette Parker Artists Summer Performance",
           "https://www.roh.org.uk/tickets-and-events/jette-parker-artists-performance-details"
          ]
         ],
         "hovertemplate": "%{customdata[0]}<br>%{x}<br>%{y}<extra></extra>",
         "hovertext": [
          "https://www.roh.org.uk/tickets-and-events/jette-parker-artists-performance-details"
         ],
         "legendgroup": "Jette Parker Artists Summer Performance",
         "marker": {
          "color": "#7F7F7F",
          "line": {
           "color": "DarkSlateGrey",
           "width": 1
          },
          "size": [
           1
          ],
          "sizemode": "area",
          "sizeref": 0.02040816326530612,
          "symbol": "circle"
         },
         "mode": "markers",
         "name": "Jette Parker Artists Summer Performance",
         "orientation": "v",
         "showlegend": true,
         "type": "scatter",
         "x": [
          "2024-07-20"
         ],
         "xaxis": "x",
         "y": [
          "19:00:00"
         ],
         "yaxis": "y"
        },
        {
         "customdata": [
          [
           "Pet Shop Boys Dreamworld: The Greatest Hits Live",
           "https://www.roh.org.uk/tickets-and-events/pet-shop-boys-dreamworld-the-greatest-hits-live-details"
          ],
          [
           "Pet Shop Boys Dreamworld: The Greatest Hits Live",
           "https://www.roh.org.uk/tickets-and-events/pet-shop-boys-dreamworld-the-greatest-hits-live-details"
          ],
          [
           "Pet Shop Boys Dreamworld: The Greatest Hits Live",
           "https://www.roh.org.uk/tickets-and-events/pet-shop-boys-dreamworld-the-greatest-hits-live-details"
          ],
          [
           "Pet Shop Boys Dreamworld: The Greatest Hits Live",
           "https://www.roh.org.uk/tickets-and-events/pet-shop-boys-dreamworld-the-greatest-hits-live-details"
          ],
          [
           "Pet Shop Boys Dreamworld: The Greatest Hits Live",
           "https://www.roh.org.uk/tickets-and-events/pet-shop-boys-dreamworld-the-greatest-hits-live-details"
          ]
         ],
         "hovertemplate": "%{customdata[0]}<br>%{x}<br>%{y}<extra></extra>",
         "hovertext": [
          "https://www.roh.org.uk/tickets-and-events/pet-shop-boys-dreamworld-the-greatest-hits-live-details",
          "https://www.roh.org.uk/tickets-and-events/pet-shop-boys-dreamworld-the-greatest-hits-live-details",
          "https://www.roh.org.uk/tickets-and-events/pet-shop-boys-dreamworld-the-greatest-hits-live-details",
          "https://www.roh.org.uk/tickets-and-events/pet-shop-boys-dreamworld-the-greatest-hits-live-details",
          "https://www.roh.org.uk/tickets-and-events/pet-shop-boys-dreamworld-the-greatest-hits-live-details"
         ],
         "legendgroup": "Pet Shop Boys Dreamworld: The Greatest Hits Live",
         "marker": {
          "color": "#BCBD22",
          "line": {
           "color": "DarkSlateGrey",
           "width": 1
          },
          "size": [
           1,
           1,
           1,
           1,
           1
          ],
          "sizemode": "area",
          "sizeref": 0.02040816326530612,
          "symbol": "circle"
         },
         "mode": "markers",
         "name": "Pet Shop Boys Dreamworld: The Greatest Hits Live",
         "orientation": "v",
         "showlegend": true,
         "type": "scatter",
         "x": [
          "2024-07-23",
          "2024-07-24",
          "2024-07-25",
          "2024-07-26",
          "2024-07-27"
         ],
         "xaxis": "x",
         "y": [
          "20:00:00",
          "20:00:00",
          "20:00:00",
          "20:00:00",
          "20:00:00"
         ],
         "yaxis": "y"
        }
       ],
       "layout": {
        "font": {
         "family": "Gotham"
        },
        "height": 500,
        "hoverlabel": {
         "bgcolor": "#C7102E",
         "font": {
          "color": "White",
          "family": "Gotham",
          "size": 16
         }
        },
        "legend": {
         "font": {
          "family": "Gotham",
          "size": 13
         },
         "itemsizing": "constant",
         "title": {
          "font": {
           "family": "Gotham",
           "size": 15
          },
          "text": "Title"
         },
         "tracegroupgap": 0
        },
        "margin": {
         "b": 0,
         "l": 0,
         "pad": 0,
         "r": 0,
         "t": 40
        },
        "template": {
         "data": {
          "bar": [
           {
            "error_x": {
             "color": "rgb(36,36,36)"
            },
            "error_y": {
             "color": "rgb(36,36,36)"
            },
            "marker": {
             "line": {
              "color": "white",
              "width": 0.5
             },
             "pattern": {
              "fillmode": "overlay",
              "size": 10,
              "solidity": 0.2
             }
            },
            "type": "bar"
           }
          ],
          "barpolar": [
           {
            "marker": {
             "line": {
              "color": "white",
              "width": 0.5
             },
             "pattern": {
              "fillmode": "overlay",
              "size": 10,
              "solidity": 0.2
             }
            },
            "type": "barpolar"
           }
          ],
          "carpet": [
           {
            "aaxis": {
             "endlinecolor": "rgb(36,36,36)",
             "gridcolor": "white",
             "linecolor": "white",
             "minorgridcolor": "white",
             "startlinecolor": "rgb(36,36,36)"
            },
            "baxis": {
             "endlinecolor": "rgb(36,36,36)",
             "gridcolor": "white",
             "linecolor": "white",
             "minorgridcolor": "white",
             "startlinecolor": "rgb(36,36,36)"
            },
            "type": "carpet"
           }
          ],
          "choropleth": [
           {
            "colorbar": {
             "outlinewidth": 1,
             "tickcolor": "rgb(36,36,36)",
             "ticks": "outside"
            },
            "type": "choropleth"
           }
          ],
          "contour": [
           {
            "colorbar": {
             "outlinewidth": 1,
             "tickcolor": "rgb(36,36,36)",
             "ticks": "outside"
            },
            "colorscale": [
             [
              0,
              "#440154"
             ],
             [
              0.1111111111111111,
              "#482878"
             ],
             [
              0.2222222222222222,
              "#3e4989"
             ],
             [
              0.3333333333333333,
              "#31688e"
             ],
             [
              0.4444444444444444,
              "#26828e"
             ],
             [
              0.5555555555555556,
              "#1f9e89"
             ],
             [
              0.6666666666666666,
              "#35b779"
             ],
             [
              0.7777777777777778,
              "#6ece58"
             ],
             [
              0.8888888888888888,
              "#b5de2b"
             ],
             [
              1,
              "#fde725"
             ]
            ],
            "type": "contour"
           }
          ],
          "contourcarpet": [
           {
            "colorbar": {
             "outlinewidth": 1,
             "tickcolor": "rgb(36,36,36)",
             "ticks": "outside"
            },
            "type": "contourcarpet"
           }
          ],
          "heatmap": [
           {
            "colorbar": {
             "outlinewidth": 1,
             "tickcolor": "rgb(36,36,36)",
             "ticks": "outside"
            },
            "colorscale": [
             [
              0,
              "#440154"
             ],
             [
              0.1111111111111111,
              "#482878"
             ],
             [
              0.2222222222222222,
              "#3e4989"
             ],
             [
              0.3333333333333333,
              "#31688e"
             ],
             [
              0.4444444444444444,
              "#26828e"
             ],
             [
              0.5555555555555556,
              "#1f9e89"
             ],
             [
              0.6666666666666666,
              "#35b779"
             ],
             [
              0.7777777777777778,
              "#6ece58"
             ],
             [
              0.8888888888888888,
              "#b5de2b"
             ],
             [
              1,
              "#fde725"
             ]
            ],
            "type": "heatmap"
           }
          ],
          "heatmapgl": [
           {
            "colorbar": {
             "outlinewidth": 1,
             "tickcolor": "rgb(36,36,36)",
             "ticks": "outside"
            },
            "colorscale": [
             [
              0,
              "#440154"
             ],
             [
              0.1111111111111111,
              "#482878"
             ],
             [
              0.2222222222222222,
              "#3e4989"
             ],
             [
              0.3333333333333333,
              "#31688e"
             ],
             [
              0.4444444444444444,
              "#26828e"
             ],
             [
              0.5555555555555556,
              "#1f9e89"
             ],
             [
              0.6666666666666666,
              "#35b779"
             ],
             [
              0.7777777777777778,
              "#6ece58"
             ],
             [
              0.8888888888888888,
              "#b5de2b"
             ],
             [
              1,
              "#fde725"
             ]
            ],
            "type": "heatmapgl"
           }
          ],
          "histogram": [
           {
            "marker": {
             "line": {
              "color": "white",
              "width": 0.6
             }
            },
            "type": "histogram"
           }
          ],
          "histogram2d": [
           {
            "colorbar": {
             "outlinewidth": 1,
             "tickcolor": "rgb(36,36,36)",
             "ticks": "outside"
            },
            "colorscale": [
             [
              0,
              "#440154"
             ],
             [
              0.1111111111111111,
              "#482878"
             ],
             [
              0.2222222222222222,
              "#3e4989"
             ],
             [
              0.3333333333333333,
              "#31688e"
             ],
             [
              0.4444444444444444,
              "#26828e"
             ],
             [
              0.5555555555555556,
              "#1f9e89"
             ],
             [
              0.6666666666666666,
              "#35b779"
             ],
             [
              0.7777777777777778,
              "#6ece58"
             ],
             [
              0.8888888888888888,
              "#b5de2b"
             ],
             [
              1,
              "#fde725"
             ]
            ],
            "type": "histogram2d"
           }
          ],
          "histogram2dcontour": [
           {
            "colorbar": {
             "outlinewidth": 1,
             "tickcolor": "rgb(36,36,36)",
             "ticks": "outside"
            },
            "colorscale": [
             [
              0,
              "#440154"
             ],
             [
              0.1111111111111111,
              "#482878"
             ],
             [
              0.2222222222222222,
              "#3e4989"
             ],
             [
              0.3333333333333333,
              "#31688e"
             ],
             [
              0.4444444444444444,
              "#26828e"
             ],
             [
              0.5555555555555556,
              "#1f9e89"
             ],
             [
              0.6666666666666666,
              "#35b779"
             ],
             [
              0.7777777777777778,
              "#6ece58"
             ],
             [
              0.8888888888888888,
              "#b5de2b"
             ],
             [
              1,
              "#fde725"
             ]
            ],
            "type": "histogram2dcontour"
           }
          ],
          "mesh3d": [
           {
            "colorbar": {
             "outlinewidth": 1,
             "tickcolor": "rgb(36,36,36)",
             "ticks": "outside"
            },
            "type": "mesh3d"
           }
          ],
          "parcoords": [
           {
            "line": {
             "colorbar": {
              "outlinewidth": 1,
              "tickcolor": "rgb(36,36,36)",
              "ticks": "outside"
             }
            },
            "type": "parcoords"
           }
          ],
          "pie": [
           {
            "automargin": true,
            "type": "pie"
           }
          ],
          "scatter": [
           {
            "fillpattern": {
             "fillmode": "overlay",
             "size": 10,
             "solidity": 0.2
            },
            "type": "scatter"
           }
          ],
          "scatter3d": [
           {
            "line": {
             "colorbar": {
              "outlinewidth": 1,
              "tickcolor": "rgb(36,36,36)",
              "ticks": "outside"
             }
            },
            "marker": {
             "colorbar": {
              "outlinewidth": 1,
              "tickcolor": "rgb(36,36,36)",
              "ticks": "outside"
             }
            },
            "type": "scatter3d"
           }
          ],
          "scattercarpet": [
           {
            "marker": {
             "colorbar": {
              "outlinewidth": 1,
              "tickcolor": "rgb(36,36,36)",
              "ticks": "outside"
             }
            },
            "type": "scattercarpet"
           }
          ],
          "scattergeo": [
           {
            "marker": {
             "colorbar": {
              "outlinewidth": 1,
              "tickcolor": "rgb(36,36,36)",
              "ticks": "outside"
             }
            },
            "type": "scattergeo"
           }
          ],
          "scattergl": [
           {
            "marker": {
             "colorbar": {
              "outlinewidth": 1,
              "tickcolor": "rgb(36,36,36)",
              "ticks": "outside"
             }
            },
            "type": "scattergl"
           }
          ],
          "scattermapbox": [
           {
            "marker": {
             "colorbar": {
              "outlinewidth": 1,
              "tickcolor": "rgb(36,36,36)",
              "ticks": "outside"
             }
            },
            "type": "scattermapbox"
           }
          ],
          "scatterpolar": [
           {
            "marker": {
             "colorbar": {
              "outlinewidth": 1,
              "tickcolor": "rgb(36,36,36)",
              "ticks": "outside"
             }
            },
            "type": "scatterpolar"
           }
          ],
          "scatterpolargl": [
           {
            "marker": {
             "colorbar": {
              "outlinewidth": 1,
              "tickcolor": "rgb(36,36,36)",
              "ticks": "outside"
             }
            },
            "type": "scatterpolargl"
           }
          ],
          "scatterternary": [
           {
            "marker": {
             "colorbar": {
              "outlinewidth": 1,
              "tickcolor": "rgb(36,36,36)",
              "ticks": "outside"
             }
            },
            "type": "scatterternary"
           }
          ],
          "surface": [
           {
            "colorbar": {
             "outlinewidth": 1,
             "tickcolor": "rgb(36,36,36)",
             "ticks": "outside"
            },
            "colorscale": [
             [
              0,
              "#440154"
             ],
             [
              0.1111111111111111,
              "#482878"
             ],
             [
              0.2222222222222222,
              "#3e4989"
             ],
             [
              0.3333333333333333,
              "#31688e"
             ],
             [
              0.4444444444444444,
              "#26828e"
             ],
             [
              0.5555555555555556,
              "#1f9e89"
             ],
             [
              0.6666666666666666,
              "#35b779"
             ],
             [
              0.7777777777777778,
              "#6ece58"
             ],
             [
              0.8888888888888888,
              "#b5de2b"
             ],
             [
              1,
              "#fde725"
             ]
            ],
            "type": "surface"
           }
          ],
          "table": [
           {
            "cells": {
             "fill": {
              "color": "rgb(237,237,237)"
             },
             "line": {
              "color": "white"
             }
            },
            "header": {
             "fill": {
              "color": "rgb(217,217,217)"
             },
             "line": {
              "color": "white"
             }
            },
            "type": "table"
           }
          ]
         },
         "layout": {
          "annotationdefaults": {
           "arrowhead": 0,
           "arrowwidth": 1
          },
          "autotypenumbers": "strict",
          "coloraxis": {
           "colorbar": {
            "outlinewidth": 1,
            "tickcolor": "rgb(36,36,36)",
            "ticks": "outside"
           }
          },
          "colorscale": {
           "diverging": [
            [
             0,
             "rgb(103,0,31)"
            ],
            [
             0.1,
             "rgb(178,24,43)"
            ],
            [
             0.2,
             "rgb(214,96,77)"
            ],
            [
             0.3,
             "rgb(244,165,130)"
            ],
            [
             0.4,
             "rgb(253,219,199)"
            ],
            [
             0.5,
             "rgb(247,247,247)"
            ],
            [
             0.6,
             "rgb(209,229,240)"
            ],
            [
             0.7,
             "rgb(146,197,222)"
            ],
            [
             0.8,
             "rgb(67,147,195)"
            ],
            [
             0.9,
             "rgb(33,102,172)"
            ],
            [
             1,
             "rgb(5,48,97)"
            ]
           ],
           "sequential": [
            [
             0,
             "#440154"
            ],
            [
             0.1111111111111111,
             "#482878"
            ],
            [
             0.2222222222222222,
             "#3e4989"
            ],
            [
             0.3333333333333333,
             "#31688e"
            ],
            [
             0.4444444444444444,
             "#26828e"
            ],
            [
             0.5555555555555556,
             "#1f9e89"
            ],
            [
             0.6666666666666666,
             "#35b779"
            ],
            [
             0.7777777777777778,
             "#6ece58"
            ],
            [
             0.8888888888888888,
             "#b5de2b"
            ],
            [
             1,
             "#fde725"
            ]
           ],
           "sequentialminus": [
            [
             0,
             "#440154"
            ],
            [
             0.1111111111111111,
             "#482878"
            ],
            [
             0.2222222222222222,
             "#3e4989"
            ],
            [
             0.3333333333333333,
             "#31688e"
            ],
            [
             0.4444444444444444,
             "#26828e"
            ],
            [
             0.5555555555555556,
             "#1f9e89"
            ],
            [
             0.6666666666666666,
             "#35b779"
            ],
            [
             0.7777777777777778,
             "#6ece58"
            ],
            [
             0.8888888888888888,
             "#b5de2b"
            ],
            [
             1,
             "#fde725"
            ]
           ]
          },
          "colorway": [
           "#1F77B4",
           "#FF7F0E",
           "#2CA02C",
           "#D62728",
           "#9467BD",
           "#8C564B",
           "#E377C2",
           "#7F7F7F",
           "#BCBD22",
           "#17BECF"
          ],
          "font": {
           "color": "rgb(36,36,36)"
          },
          "geo": {
           "bgcolor": "white",
           "lakecolor": "white",
           "landcolor": "white",
           "showlakes": true,
           "showland": true,
           "subunitcolor": "white"
          },
          "hoverlabel": {
           "align": "left"
          },
          "hovermode": "closest",
          "mapbox": {
           "style": "light"
          },
          "paper_bgcolor": "white",
          "plot_bgcolor": "white",
          "polar": {
           "angularaxis": {
            "gridcolor": "rgb(232,232,232)",
            "linecolor": "rgb(36,36,36)",
            "showgrid": false,
            "showline": true,
            "ticks": "outside"
           },
           "bgcolor": "white",
           "radialaxis": {
            "gridcolor": "rgb(232,232,232)",
            "linecolor": "rgb(36,36,36)",
            "showgrid": false,
            "showline": true,
            "ticks": "outside"
           }
          },
          "scene": {
           "xaxis": {
            "backgroundcolor": "white",
            "gridcolor": "rgb(232,232,232)",
            "gridwidth": 2,
            "linecolor": "rgb(36,36,36)",
            "showbackground": true,
            "showgrid": false,
            "showline": true,
            "ticks": "outside",
            "zeroline": false,
            "zerolinecolor": "rgb(36,36,36)"
           },
           "yaxis": {
            "backgroundcolor": "white",
            "gridcolor": "rgb(232,232,232)",
            "gridwidth": 2,
            "linecolor": "rgb(36,36,36)",
            "showbackground": true,
            "showgrid": false,
            "showline": true,
            "ticks": "outside",
            "zeroline": false,
            "zerolinecolor": "rgb(36,36,36)"
           },
           "zaxis": {
            "backgroundcolor": "white",
            "gridcolor": "rgb(232,232,232)",
            "gridwidth": 2,
            "linecolor": "rgb(36,36,36)",
            "showbackground": true,
            "showgrid": false,
            "showline": true,
            "ticks": "outside",
            "zeroline": false,
            "zerolinecolor": "rgb(36,36,36)"
           }
          },
          "shapedefaults": {
           "fillcolor": "black",
           "line": {
            "width": 0
           },
           "opacity": 0.3
          },
          "ternary": {
           "aaxis": {
            "gridcolor": "rgb(232,232,232)",
            "linecolor": "rgb(36,36,36)",
            "showgrid": false,
            "showline": true,
            "ticks": "outside"
           },
           "baxis": {
            "gridcolor": "rgb(232,232,232)",
            "linecolor": "rgb(36,36,36)",
            "showgrid": false,
            "showline": true,
            "ticks": "outside"
           },
           "bgcolor": "white",
           "caxis": {
            "gridcolor": "rgb(232,232,232)",
            "linecolor": "rgb(36,36,36)",
            "showgrid": false,
            "showline": true,
            "ticks": "outside"
           }
          },
          "title": {
           "x": 0.05
          },
          "xaxis": {
           "automargin": true,
           "gridcolor": "rgb(232,232,232)",
           "linecolor": "rgb(36,36,36)",
           "showgrid": false,
           "showline": true,
           "ticks": "outside",
           "title": {
            "standoff": 15
           },
           "zeroline": false,
           "zerolinecolor": "rgb(36,36,36)"
          },
          "yaxis": {
           "automargin": true,
           "gridcolor": "rgb(232,232,232)",
           "linecolor": "rgb(36,36,36)",
           "showgrid": false,
           "showline": true,
           "ticks": "outside",
           "title": {
            "standoff": 15
           },
           "zeroline": false,
           "zerolinecolor": "rgb(36,36,36)"
          }
         }
        },
        "title": {},
        "width": 1700,
        "xaxis": {
         "anchor": "y",
         "domain": [
          0,
          1
         ],
         "gridcolor": "LightGray",
         "gridwidth": 1,
         "showgrid": true,
         "title": {
          "text": ""
         }
        },
        "yaxis": {
         "anchor": "x",
         "categoryorder": "category ascending",
         "domain": [
          0,
          1
         ],
         "showgrid": true,
         "ticktext": [
          "11:30",
          "19:30",
          "13:00",
          "19:00",
          "18:30",
          "12:00",
          "20:00",
          "17:00",
          "12:30",
          "15:00",
          "18:00",
          "14:00"
         ],
         "tickvals": [
          "11:30:00",
          "19:30:00",
          "13:00:00",
          "19:00:00",
          "18:30:00",
          "12:00:00",
          "20:00:00",
          "17:00:00",
          "12:30:00",
          "15:00:00",
          "18:00:00",
          "14:00:00"
         ],
         "title": {
          "text": ""
         }
        }
       }
      }
     },
     "metadata": {},
     "output_type": "display_data"
    }
   ],
   "source": [
    "import plotly.express as px\n",
    "\n",
    "\n",
    "def plot_events(events_df, today):\n",
    "    \"\"\"\n",
    "    Plot the timeline of the upcoming events on the Main Stage\n",
    "    \"\"\"\n",
    "    events_df_sub = events_df.query(\n",
    "        \"location == 'Main Stage' & date >= @today.date()\"\n",
    "    ).reset_index(drop=True)\n",
    "    events_df_sub[\"Size\"] = 1  # set the size of the dots\n",
    "    fig = px.scatter(\n",
    "        events_df_sub,\n",
    "        custom_data=[\"title\", \"url\"],\n",
    "        x=\"date\",\n",
    "        y=\"time\",\n",
    "        color=\"title\",\n",
    "        size=\"Size\",\n",
    "        size_max=7,\n",
    "        title=\"Royal Opera House Events\",\n",
    "        template=\"simple_white\",\n",
    "        hover_name=\"url\",\n",
    "    )\n",
    "    # Keep first 5 characters of the y axis marks\n",
    "    fig.update_yaxes(\n",
    "        categoryorder=\"category ascending\",\n",
    "        showgrid=True,\n",
    "        tickvals=events_df_sub.time.unique(),\n",
    "        ticktext=[str(x)[:5] for x in events_df_sub.time.unique()],\n",
    "        title=\"\",\n",
    "    )\n",
    "    fig.update_xaxes(\n",
    "        title=\"\",\n",
    "        showgrid=True,\n",
    "        gridwidth=1,\n",
    "        gridcolor=\"LightGray\",\n",
    "    )\n",
    "    fig.update_layout(\n",
    "        width=1700,\n",
    "        height=500,\n",
    "        margin=dict(l=0, r=0, b=0, t=40, pad=0),\n",
    "    )\n",
    "    fig.update_traces(\n",
    "        marker=dict(line=dict(width=1, color=\"DarkSlateGrey\")),\n",
    "        selector=dict(mode=\"markers\"),\n",
    "    )\n",
    "    fig.update_layout(\n",
    "        hoverlabel=dict(\n",
    "            font_size=16,\n",
    "            font_family=\"Gotham\",\n",
    "            font_color=\"White\",\n",
    "            bgcolor=\"#C7102E\",\n",
    "        ),\n",
    "        legend=dict(\n",
    "            title=\"Title\",\n",
    "            title_font=dict(size=15, family=\"Gotham\"),\n",
    "            font=dict(size=13, family=\"Gotham\"),\n",
    "        ),\n",
    "        title=None,\n",
    "    )\n",
    "    fig.layout.font.family = \"Gotham\"\n",
    "    # Remove Size from the hover data\n",
    "    fig.update_traces(\n",
    "        hovertemplate=\"<br>\".join(\n",
    "            [\n",
    "                \"%{customdata[0]}\",\n",
    "                \"%{x}\",\n",
    "                \"%{y}\",\n",
    "            ],\n",
    "        )\n",
    "        + \"<extra></extra>\",\n",
    "    )\n",
    "    fig.show()\n",
    "\n",
    "plot_events(events_df, today)"
   ]
  },
  {
   "cell_type": "code",
   "execution_count": 15,
   "metadata": {},
   "outputs": [],
   "source": [
    "fig.write_image(\"output/ROH_events.png\", scale=3)"
   ]
  }
 ],
 "metadata": {
  "kernelspec": {
   "display_name": "python-roh-fd6R9wvn-py3.10",
   "language": "python",
   "name": "python3"
  },
  "language_info": {
   "codemirror_mode": {
    "name": "ipython",
    "version": 3
   },
   "file_extension": ".py",
   "mimetype": "text/x-python",
   "name": "python",
   "nbconvert_exporter": "python",
   "pygments_lexer": "ipython3",
   "version": "3.10.13"
  }
 },
 "nbformat": 4,
 "nbformat_minor": 2
}
