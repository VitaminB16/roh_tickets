{
 "cells": [
  {
   "cell_type": "code",
   "execution_count": 1,
   "metadata": {},
   "outputs": [],
   "source": [
    "import requests\n",
    "import pandas as pd\n",
    "\n",
    "from set_secrets import *\n",
    "from python_roh.src.config import *\n",
    "\n",
    "pd.set_option('display.max_columns', 100)\n",
    "pd.set_option('display.max_rows', 50)"
   ]
  },
  {
   "cell_type": "code",
   "execution_count": 2,
   "metadata": {},
   "outputs": [],
   "source": [
    "ALL_EVENTS_URL = \"https://www.roh.org.uk/api/events\"\n",
    "r = requests.get(ALL_EVENTS_URL)\n",
    "data = r.json()"
   ]
  },
  {
   "cell_type": "code",
   "execution_count": 3,
   "metadata": {},
   "outputs": [],
   "source": [
    "events_df = pd.DataFrame(data[\"data\"])\n",
    "included_df = pd.DataFrame(data[\"included\"])\n",
    "\n",
    "\n",
    "def pre_process_events_df(events_df, included_df):\n",
    "    events_attrs = events_df.attributes.apply(pd.Series)\n",
    "    events_attrs.drop(\n",
    "        columns=[\n",
    "            \"description\",\n",
    "            \"dateFieldOverride\",\n",
    "            \"imageResult\",\n",
    "            \"imageTray\",\n",
    "            \"productionPageUrl\",\n",
    "            \"helpInformation\",\n",
    "        ],\n",
    "        inplace=True,\n",
    "    )\n",
    "    events_rels = events_df.relationships.apply(pd.Series)\n",
    "    events_df = pd.concat([events_df, events_attrs, events_rels], axis=1)\n",
    "    events_df.query(\"isCancelled != True\", inplace=True)\n",
    "    events_df.drop(\n",
    "        columns=[\n",
    "            \"attributes\",\n",
    "            \"relationships\",\n",
    "            \"isCancelled\",\n",
    "            \"ctaBehaviour\",\n",
    "            \"cinemaBroadcastLink\",\n",
    "        ],\n",
    "        inplace=True,\n",
    "    )\n",
    "    # remove events with no listed performances\n",
    "    events_df.query(\"performances not in [[]]\", inplace=True)\n",
    "    events_df.reset_index(drop=True, inplace=True)\n",
    "    events_df = events_df.explode(\"performances\", ignore_index=True)\n",
    "    events_df.locations = events_df.locations.apply(lambda x: x[\"data\"])\n",
    "    events_df = events_df.explode(\"locations\", ignore_index=True)\n",
    "    events_df.locations = events_df.locations.apply(lambda x: x[\"id\"])\n",
    "    events_df.rename(columns={\"locations\": \"locationId\"}, inplace=True)\n",
    "    return events_df\n",
    "\n",
    "\n",
    "def get_locations_df(included_df):\n",
    "    locations_df = included_df.query(\"type == 'locations'\").drop(\n",
    "        columns=[\"type\", \"relationships\"]\n",
    "    )\n",
    "    locations_attrs = locations_df.attributes.apply(pd.Series)\n",
    "    locations_df = pd.concat([locations_df, locations_attrs], axis=1)\n",
    "    locations_df.drop(columns=[\"attributes\"], inplace=True)\n",
    "    locations_df.reset_index(drop=True, inplace=True)\n",
    "    locations_df.rename(columns={\"id\": \"locationId\", \"title\": \"location\"}, inplace=True)\n",
    "    return locations_df\n",
    "\n",
    "\n",
    "def get_performances_df(events_df):\n",
    "    performances_df = events_df.performances.apply(pd.Series)\n",
    "    performances_df = performances_df.assign(\n",
    "        timestamp=pd.to_datetime(performances_df.date, utc=True)\n",
    "    )\n",
    "    # Adjust the timestamp to account for UK timezone\n",
    "    performances_df.timestamp = performances_df.timestamp.dt.tz_convert(\"Europe/London\")\n",
    "    return performances_df\n",
    "\n",
    "\n",
    "def enrich_events_df(events_df):\n",
    "    events_df.sort_values(by=[\"timestamp\"], inplace=True)\n",
    "    events_df[\"date\"] = events_df.timestamp.dt.date\n",
    "    events_df[\"time\"] = events_df.timestamp.dt.time\n",
    "    events_df[\"day\"] = events_df.timestamp.dt.day_name()\n",
    "    events_df.drop_duplicates(\n",
    "        subset=[\"type\", \"id\", \"location\", \"timestamp\"], inplace=True, ignore_index=True\n",
    "    )\n",
    "    events_df[\"url\"] = events_df.slug.apply(\n",
    "        lambda x: f\"{TICKETS_AND_EVENTS_URL}/{x}-details\"\n",
    "    )\n",
    "    return events_df\n",
    "\n",
    "\n",
    "def get_next_weeks_events(events_df, today):\n",
    "    tomorrow = today + pd.Timedelta(days=1)\n",
    "    next_week = today + pd.Timedelta(days=7)\n",
    "    events_df = events_df.query(\"timestamp > @today\").reset_index(drop=True)\n",
    "    today_tomorrow_events_df = events_df.query(\"date <= @tomorrow.date()\").reset_index(\n",
    "        drop=True\n",
    "    )\n",
    "    next_week_events_df = events_df.query(\"date <= @next_week.date()\").reset_index(\n",
    "        drop=True\n",
    "    )\n",
    "    return today_tomorrow_events_df, next_week_events_df\n",
    "\n",
    "\n"
   ]
  },
  {
   "cell_type": "code",
   "execution_count": 4,
   "metadata": {},
   "outputs": [],
   "source": [
    "events_df = pre_process_events_df(events_df, included_df)\n",
    "\n",
    "locations_df = get_locations_df(included_df)\n",
    "events_df = events_df.merge(locations_df, on=\"locationId\", how=\"left\")\n",
    "\n",
    "performances_df = get_performances_df(events_df)\n",
    "events_df = pd.concat([events_df, performances_df], axis=1)\n",
    "events_df.drop(columns=[\"performances\", \"date\"], inplace=True)\n",
    "events_df = enrich_events_df(events_df)\n",
    "\n",
    "today = pd.Timestamp.today(tz=\"Europe/London\") - pd.Timedelta(hours=1)\n",
    "today_tomorrow_events_df, next_week_events_df = get_next_weeks_events(events_df, today)"
   ]
  },
  {
   "cell_type": "code",
   "execution_count": 24,
   "metadata": {},
   "outputs": [
    {
     "data": {
      "application/vnd.plotly.v1+json": {
       "config": {
        "plotlyServerURL": "https://plot.ly"
       },
       "data": [
        {
         "alignmentgroup": "True",
         "base": [
          "2024-02-02T01:00:00+00:00",
          "2024-02-14T01:00:00+00:00",
          "2024-02-27T01:00:00+00:00",
          "2024-03-05T01:00:00+00:00",
          "2024-03-11T01:00:00+00:00",
          "2024-03-20T01:00:00+00:00",
          "2024-04-02T01:00:00+01:00",
          "2024-04-17T01:00:00+01:00",
          "2024-05-03T01:00:00+01:00",
          "2024-05-28T01:00:00+01:00",
          "2024-06-06T01:00:00+01:00",
          "2024-06-07T01:00:00+01:00",
          "2024-06-24T01:00:00+01:00",
          "2024-06-28T01:00:00+01:00"
         ],
         "customdata": [
          [
           "Friends Rehearsals",
           "https://www.roh.org.uk/tickets-and-events/friends-rehearsals-details",
           "Feb 2, 2024"
          ],
          [
           "Friends Rehearsals",
           "https://www.roh.org.uk/tickets-and-events/friends-rehearsals-details",
           "Feb 14, 2024"
          ],
          [
           "Friends Rehearsals",
           "https://www.roh.org.uk/tickets-and-events/friends-rehearsals-details",
           "Feb 27, 2024"
          ],
          [
           "Friends Rehearsals",
           "https://www.roh.org.uk/tickets-and-events/friends-rehearsals-details",
           "Mar 5, 2024"
          ],
          [
           "Friends Rehearsals",
           "https://www.roh.org.uk/tickets-and-events/friends-rehearsals-details",
           "Mar 11, 2024"
          ],
          [
           "Friends Rehearsals",
           "https://www.roh.org.uk/tickets-and-events/friends-rehearsals-details",
           "Mar 20, 2024"
          ],
          [
           "Friends Rehearsals",
           "https://www.roh.org.uk/tickets-and-events/friends-rehearsals-details",
           "Apr 2, 2024"
          ],
          [
           "Friends Rehearsals",
           "https://www.roh.org.uk/tickets-and-events/friends-rehearsals-details",
           "Apr 17, 2024"
          ],
          [
           "Friends Rehearsals",
           "https://www.roh.org.uk/tickets-and-events/friends-rehearsals-details",
           "May 3, 2024"
          ],
          [
           "Friends Rehearsals",
           "https://www.roh.org.uk/tickets-and-events/friends-rehearsals-details",
           "May 28, 2024"
          ],
          [
           "Friends Rehearsals",
           "https://www.roh.org.uk/tickets-and-events/friends-rehearsals-details",
           "Jun 6, 2024"
          ],
          [
           "Friends Rehearsals",
           "https://www.roh.org.uk/tickets-and-events/friends-rehearsals-details",
           "Jun 7, 2024"
          ],
          [
           "Friends Rehearsals",
           "https://www.roh.org.uk/tickets-and-events/friends-rehearsals-details",
           "Jun 24, 2024"
          ],
          [
           "Friends Rehearsals",
           "https://www.roh.org.uk/tickets-and-events/friends-rehearsals-details",
           "Jun 28, 2024"
          ]
         ],
         "hovertemplate": "%{customdata[0]}<br>%{customdata[2]}<br>%{y}<extra></extra>",
         "hovertext": [
          "https://www.roh.org.uk/tickets-and-events/friends-rehearsals-details",
          "https://www.roh.org.uk/tickets-and-events/friends-rehearsals-details",
          "https://www.roh.org.uk/tickets-and-events/friends-rehearsals-details",
          "https://www.roh.org.uk/tickets-and-events/friends-rehearsals-details",
          "https://www.roh.org.uk/tickets-and-events/friends-rehearsals-details",
          "https://www.roh.org.uk/tickets-and-events/friends-rehearsals-details",
          "https://www.roh.org.uk/tickets-and-events/friends-rehearsals-details",
          "https://www.roh.org.uk/tickets-and-events/friends-rehearsals-details",
          "https://www.roh.org.uk/tickets-and-events/friends-rehearsals-details",
          "https://www.roh.org.uk/tickets-and-events/friends-rehearsals-details",
          "https://www.roh.org.uk/tickets-and-events/friends-rehearsals-details",
          "https://www.roh.org.uk/tickets-and-events/friends-rehearsals-details",
          "https://www.roh.org.uk/tickets-and-events/friends-rehearsals-details",
          "https://www.roh.org.uk/tickets-and-events/friends-rehearsals-details"
         ],
         "legendgroup": "Friends Rehearsals",
         "marker": {
          "color": "#4C78A8",
          "line": {
           "color": "Black",
           "width": 0.5
          },
          "opacity": 1,
          "pattern": {
           "shape": ""
          }
         },
         "name": "Friends Rehearsals",
         "offsetgroup": "Friends Rehearsals",
         "orientation": "h",
         "showlegend": true,
         "textposition": "auto",
         "type": "bar",
         "x": [
          79200000,
          79200000,
          79200000,
          79200000,
          79200000,
          79200000,
          79200000,
          79200000,
          79200000,
          79200000,
          79200000,
          79200000,
          79200000,
          79200000
         ],
         "xaxis": "x",
         "y": [
          "11:30:00",
          "11:30:00",
          "11:30:00",
          "11:30:00",
          "11:30:00",
          "11:30:00",
          "19:00:00",
          "11:30:00",
          "12:30:00",
          "11:30:00",
          "12:30:00",
          "12:30:00",
          "19:00:00",
          "11:30:00"
         ],
         "yaxis": "y"
        },
        {
         "alignmentgroup": "True",
         "base": [
          "2024-02-02T01:00:00+00:00",
          "2024-02-08T01:00:00+00:00",
          "2024-02-10T01:00:00+00:00",
          "2024-02-11T01:00:00+00:00",
          "2024-02-11T01:00:00+00:00",
          "2024-02-13T01:00:00+00:00",
          "2024-02-16T01:00:00+00:00"
         ],
         "customdata": [
          [
           "La bohème",
           "https://www.roh.org.uk/tickets-and-events/la-boheme-by-richard-jones-details",
           "Feb 2, 2024"
          ],
          [
           "La bohème",
           "https://www.roh.org.uk/tickets-and-events/la-boheme-by-richard-jones-details",
           "Feb 8, 2024"
          ],
          [
           "La bohème",
           "https://www.roh.org.uk/tickets-and-events/la-boheme-by-richard-jones-details",
           "Feb 10, 2024"
          ],
          [
           "La bohème",
           "https://www.roh.org.uk/tickets-and-events/la-boheme-by-richard-jones-details",
           "Feb 11, 2024"
          ],
          [
           "La bohème",
           "https://www.roh.org.uk/tickets-and-events/la-boheme-by-richard-jones-details",
           "Feb 11, 2024"
          ],
          [
           "La bohème",
           "https://www.roh.org.uk/tickets-and-events/la-boheme-by-richard-jones-details",
           "Feb 13, 2024"
          ],
          [
           "La bohème",
           "https://www.roh.org.uk/tickets-and-events/la-boheme-by-richard-jones-details",
           "Feb 16, 2024"
          ]
         ],
         "hovertemplate": "%{customdata[0]}<br>%{customdata[2]}<br>%{y}<extra></extra>",
         "hovertext": [
          "https://www.roh.org.uk/tickets-and-events/la-boheme-by-richard-jones-details",
          "https://www.roh.org.uk/tickets-and-events/la-boheme-by-richard-jones-details",
          "https://www.roh.org.uk/tickets-and-events/la-boheme-by-richard-jones-details",
          "https://www.roh.org.uk/tickets-and-events/la-boheme-by-richard-jones-details",
          "https://www.roh.org.uk/tickets-and-events/la-boheme-by-richard-jones-details",
          "https://www.roh.org.uk/tickets-and-events/la-boheme-by-richard-jones-details",
          "https://www.roh.org.uk/tickets-and-events/la-boheme-by-richard-jones-details"
         ],
         "legendgroup": "La bohème",
         "marker": {
          "color": "#F58518",
          "line": {
           "color": "Black",
           "width": 0.5
          },
          "opacity": 1,
          "pattern": {
           "shape": ""
          }
         },
         "name": "La bohème",
         "offsetgroup": "La bohème",
         "orientation": "h",
         "showlegend": true,
         "textposition": "auto",
         "type": "bar",
         "x": [
          79200000,
          79200000,
          79200000,
          79200000,
          79200000,
          79200000,
          79200000
         ],
         "xaxis": "x",
         "y": [
          "19:30:00",
          "11:30:00",
          "19:30:00",
          "13:00:00",
          "18:30:00",
          "19:30:00",
          "12:00:00"
         ],
         "yaxis": "y"
        },
        {
         "alignmentgroup": "True",
         "base": [
          "2024-02-03T01:00:00+00:00",
          "2024-02-03T01:00:00+00:00",
          "2024-02-07T01:00:00+00:00",
          "2024-02-09T01:00:00+00:00",
          "2024-02-14T01:00:00+00:00",
          "2024-02-17T01:00:00+00:00",
          "2024-02-17T01:00:00+00:00",
          "2024-02-23T01:00:00+00:00",
          "2024-02-26T01:00:00+00:00",
          "2024-02-27T01:00:00+00:00",
          "2024-03-02T01:00:00+00:00",
          "2024-03-02T01:00:00+00:00",
          "2024-03-05T01:00:00+00:00",
          "2024-03-08T01:00:00+00:00"
         ],
         "customdata": [
          [
           "Manon",
           "https://www.roh.org.uk/tickets-and-events/manon-by-kenneth-macmillan-details",
           "Feb 3, 2024"
          ],
          [
           "Manon",
           "https://www.roh.org.uk/tickets-and-events/manon-by-kenneth-macmillan-details",
           "Feb 3, 2024"
          ],
          [
           "Manon",
           "https://www.roh.org.uk/tickets-and-events/manon-by-kenneth-macmillan-details",
           "Feb 7, 2024"
          ],
          [
           "Manon",
           "https://www.roh.org.uk/tickets-and-events/manon-by-kenneth-macmillan-details",
           "Feb 9, 2024"
          ],
          [
           "Manon",
           "https://www.roh.org.uk/tickets-and-events/manon-by-kenneth-macmillan-details",
           "Feb 14, 2024"
          ],
          [
           "Manon",
           "https://www.roh.org.uk/tickets-and-events/manon-by-kenneth-macmillan-details",
           "Feb 17, 2024"
          ],
          [
           "Manon",
           "https://www.roh.org.uk/tickets-and-events/manon-by-kenneth-macmillan-details",
           "Feb 17, 2024"
          ],
          [
           "Manon",
           "https://www.roh.org.uk/tickets-and-events/manon-by-kenneth-macmillan-details",
           "Feb 23, 2024"
          ],
          [
           "Manon",
           "https://www.roh.org.uk/tickets-and-events/manon-by-kenneth-macmillan-details",
           "Feb 26, 2024"
          ],
          [
           "Manon",
           "https://www.roh.org.uk/tickets-and-events/manon-by-kenneth-macmillan-details",
           "Feb 27, 2024"
          ],
          [
           "Manon",
           "https://www.roh.org.uk/tickets-and-events/manon-by-kenneth-macmillan-details",
           "Mar 2, 2024"
          ],
          [
           "Manon",
           "https://www.roh.org.uk/tickets-and-events/manon-by-kenneth-macmillan-details",
           "Mar 2, 2024"
          ],
          [
           "Manon",
           "https://www.roh.org.uk/tickets-and-events/manon-by-kenneth-macmillan-details",
           "Mar 5, 2024"
          ],
          [
           "Manon",
           "https://www.roh.org.uk/tickets-and-events/manon-by-kenneth-macmillan-details",
           "Mar 8, 2024"
          ]
         ],
         "hovertemplate": "%{customdata[0]}<br>%{customdata[2]}<br>%{y}<extra></extra>",
         "hovertext": [
          "https://www.roh.org.uk/tickets-and-events/manon-by-kenneth-macmillan-details",
          "https://www.roh.org.uk/tickets-and-events/manon-by-kenneth-macmillan-details",
          "https://www.roh.org.uk/tickets-and-events/manon-by-kenneth-macmillan-details",
          "https://www.roh.org.uk/tickets-and-events/manon-by-kenneth-macmillan-details",
          "https://www.roh.org.uk/tickets-and-events/manon-by-kenneth-macmillan-details",
          "https://www.roh.org.uk/tickets-and-events/manon-by-kenneth-macmillan-details",
          "https://www.roh.org.uk/tickets-and-events/manon-by-kenneth-macmillan-details",
          "https://www.roh.org.uk/tickets-and-events/manon-by-kenneth-macmillan-details",
          "https://www.roh.org.uk/tickets-and-events/manon-by-kenneth-macmillan-details",
          "https://www.roh.org.uk/tickets-and-events/manon-by-kenneth-macmillan-details",
          "https://www.roh.org.uk/tickets-and-events/manon-by-kenneth-macmillan-details",
          "https://www.roh.org.uk/tickets-and-events/manon-by-kenneth-macmillan-details",
          "https://www.roh.org.uk/tickets-and-events/manon-by-kenneth-macmillan-details",
          "https://www.roh.org.uk/tickets-and-events/manon-by-kenneth-macmillan-details"
         ],
         "legendgroup": "Manon",
         "marker": {
          "color": "#E45756",
          "line": {
           "color": "Black",
           "width": 0.5
          },
          "opacity": 1,
          "pattern": {
           "shape": ""
          }
         },
         "name": "Manon",
         "offsetgroup": "Manon",
         "orientation": "h",
         "showlegend": true,
         "textposition": "auto",
         "type": "bar",
         "x": [
          79200000,
          79200000,
          79200000,
          79200000,
          79200000,
          79200000,
          79200000,
          79200000,
          79200000,
          79200000,
          79200000,
          79200000,
          79200000,
          79200000
         ],
         "xaxis": "x",
         "y": [
          "13:00:00",
          "19:00:00",
          "19:30:00",
          "19:30:00",
          "19:30:00",
          "13:00:00",
          "19:00:00",
          "19:30:00",
          "19:30:00",
          "19:30:00",
          "13:00:00",
          "19:00:00",
          "19:30:00",
          "19:30:00"
         ],
         "yaxis": "y"
        },
        {
         "alignmentgroup": "True",
         "base": [
          "2024-02-05T01:00:00+00:00",
          "2024-02-08T01:00:00+00:00",
          "2024-02-12T01:00:00+00:00",
          "2024-02-19T01:00:00+00:00",
          "2024-02-24T01:00:00+00:00",
          "2024-07-01T01:00:00+01:00",
          "2024-07-03T01:00:00+01:00",
          "2024-07-05T01:00:00+01:00",
          "2024-07-08T01:00:00+01:00",
          "2024-07-11T01:00:00+01:00",
          "2024-07-13T01:00:00+01:00",
          "2024-07-14T01:00:00+01:00",
          "2024-07-16T01:00:00+01:00",
          "2024-07-17T01:00:00+01:00",
          "2024-07-19T01:00:00+01:00",
          "2024-07-21T01:00:00+01:00"
         ],
         "customdata": [
          [
           "Tosca",
           "https://www.roh.org.uk/tickets-and-events/tosca-by-jonathan-kent-details",
           "Feb 5, 2024"
          ],
          [
           "Tosca",
           "https://www.roh.org.uk/tickets-and-events/tosca-by-jonathan-kent-details",
           "Feb 8, 2024"
          ],
          [
           "Tosca",
           "https://www.roh.org.uk/tickets-and-events/tosca-by-jonathan-kent-details",
           "Feb 12, 2024"
          ],
          [
           "Tosca",
           "https://www.roh.org.uk/tickets-and-events/tosca-by-jonathan-kent-details",
           "Feb 19, 2024"
          ],
          [
           "Tosca",
           "https://www.roh.org.uk/tickets-and-events/tosca-by-jonathan-kent-details",
           "Feb 24, 2024"
          ],
          [
           "Tosca",
           "https://www.roh.org.uk/tickets-and-events/tosca-by-jonathan-kent-details",
           "Jul 1, 2024"
          ],
          [
           "Tosca",
           "https://www.roh.org.uk/tickets-and-events/tosca-by-jonathan-kent-details",
           "Jul 3, 2024"
          ],
          [
           "Tosca",
           "https://www.roh.org.uk/tickets-and-events/tosca-by-jonathan-kent-details",
           "Jul 5, 2024"
          ],
          [
           "Tosca",
           "https://www.roh.org.uk/tickets-and-events/tosca-by-jonathan-kent-details",
           "Jul 8, 2024"
          ],
          [
           "Tosca",
           "https://www.roh.org.uk/tickets-and-events/tosca-by-jonathan-kent-details",
           "Jul 11, 2024"
          ],
          [
           "Tosca",
           "https://www.roh.org.uk/tickets-and-events/tosca-by-jonathan-kent-details",
           "Jul 13, 2024"
          ],
          [
           "Tosca",
           "https://www.roh.org.uk/tickets-and-events/tosca-by-jonathan-kent-details",
           "Jul 14, 2024"
          ],
          [
           "Tosca",
           "https://www.roh.org.uk/tickets-and-events/tosca-by-jonathan-kent-details",
           "Jul 16, 2024"
          ],
          [
           "Tosca",
           "https://www.roh.org.uk/tickets-and-events/tosca-by-jonathan-kent-details",
           "Jul 17, 2024"
          ],
          [
           "Tosca",
           "https://www.roh.org.uk/tickets-and-events/tosca-by-jonathan-kent-details",
           "Jul 19, 2024"
          ],
          [
           "Tosca",
           "https://www.roh.org.uk/tickets-and-events/tosca-by-jonathan-kent-details",
           "Jul 21, 2024"
          ]
         ],
         "hovertemplate": "%{customdata[0]}<br>%{customdata[2]}<br>%{y}<extra></extra>",
         "hovertext": [
          "https://www.roh.org.uk/tickets-and-events/tosca-by-jonathan-kent-details",
          "https://www.roh.org.uk/tickets-and-events/tosca-by-jonathan-kent-details",
          "https://www.roh.org.uk/tickets-and-events/tosca-by-jonathan-kent-details",
          "https://www.roh.org.uk/tickets-and-events/tosca-by-jonathan-kent-details",
          "https://www.roh.org.uk/tickets-and-events/tosca-by-jonathan-kent-details",
          "https://www.roh.org.uk/tickets-and-events/tosca-by-jonathan-kent-details",
          "https://www.roh.org.uk/tickets-and-events/tosca-by-jonathan-kent-details",
          "https://www.roh.org.uk/tickets-and-events/tosca-by-jonathan-kent-details",
          "https://www.roh.org.uk/tickets-and-events/tosca-by-jonathan-kent-details",
          "https://www.roh.org.uk/tickets-and-events/tosca-by-jonathan-kent-details",
          "https://www.roh.org.uk/tickets-and-events/tosca-by-jonathan-kent-details",
          "https://www.roh.org.uk/tickets-and-events/tosca-by-jonathan-kent-details",
          "https://www.roh.org.uk/tickets-and-events/tosca-by-jonathan-kent-details",
          "https://www.roh.org.uk/tickets-and-events/tosca-by-jonathan-kent-details",
          "https://www.roh.org.uk/tickets-and-events/tosca-by-jonathan-kent-details",
          "https://www.roh.org.uk/tickets-and-events/tosca-by-jonathan-kent-details"
         ],
         "legendgroup": "Tosca",
         "marker": {
          "color": "#72B7B2",
          "line": {
           "color": "Black",
           "width": 0.5
          },
          "opacity": 1,
          "pattern": {
           "shape": ""
          }
         },
         "name": "Tosca",
         "offsetgroup": "Tosca",
         "orientation": "h",
         "showlegend": true,
         "textposition": "auto",
         "type": "bar",
         "x": [
          79200000,
          79200000,
          79200000,
          79200000,
          79200000,
          79200000,
          79200000,
          79200000,
          79200000,
          79200000,
          79200000,
          79200000,
          79200000,
          79200000,
          79200000,
          79200000
         ],
         "xaxis": "x",
         "y": [
          "19:00:00",
          "19:30:00",
          "19:30:00",
          "19:30:00",
          "19:30:00",
          "19:00:00",
          "19:30:00",
          "19:30:00",
          "19:30:00",
          "19:30:00",
          "19:30:00",
          "14:00:00",
          "19:30:00",
          "19:30:00",
          "19:30:00",
          "12:00:00"
         ],
         "yaxis": "y"
        },
        {
         "alignmentgroup": "True",
         "base": [
          "2024-02-15T01:00:00+00:00",
          "2024-02-16T01:00:00+00:00",
          "2024-02-20T01:00:00+00:00",
          "2024-02-21T01:00:00+00:00"
         ],
         "customdata": [
          [
           "New Works",
           "https://www.roh.org.uk/tickets-and-events/new-works-festival-of-new-choreography-details",
           "Feb 15, 2024"
          ],
          [
           "New Works",
           "https://www.roh.org.uk/tickets-and-events/new-works-festival-of-new-choreography-details",
           "Feb 16, 2024"
          ],
          [
           "New Works",
           "https://www.roh.org.uk/tickets-and-events/new-works-festival-of-new-choreography-details",
           "Feb 20, 2024"
          ],
          [
           "New Works",
           "https://www.roh.org.uk/tickets-and-events/new-works-festival-of-new-choreography-details",
           "Feb 21, 2024"
          ]
         ],
         "hovertemplate": "%{customdata[0]}<br>%{customdata[2]}<br>%{y}<extra></extra>",
         "hovertext": [
          "https://www.roh.org.uk/tickets-and-events/new-works-festival-of-new-choreography-details",
          "https://www.roh.org.uk/tickets-and-events/new-works-festival-of-new-choreography-details",
          "https://www.roh.org.uk/tickets-and-events/new-works-festival-of-new-choreography-details",
          "https://www.roh.org.uk/tickets-and-events/new-works-festival-of-new-choreography-details"
         ],
         "legendgroup": "New Works",
         "marker": {
          "color": "#54A24B",
          "line": {
           "color": "Black",
           "width": 0.5
          },
          "opacity": 1,
          "pattern": {
           "shape": ""
          }
         },
         "name": "New Works",
         "offsetgroup": "New Works",
         "orientation": "h",
         "showlegend": true,
         "textposition": "auto",
         "type": "bar",
         "x": [
          79200000,
          79200000,
          79200000,
          79200000
         ],
         "xaxis": "x",
         "y": [
          "19:00:00",
          "19:30:00",
          "19:30:00",
          "19:30:00"
         ],
         "yaxis": "y"
        },
        {
         "alignmentgroup": "True",
         "base": [
          "2024-02-29T01:00:00+00:00",
          "2024-03-04T01:00:00+00:00",
          "2024-03-09T01:00:00+00:00",
          "2024-03-11T01:00:00+00:00",
          "2024-03-13T01:00:00+00:00",
          "2024-03-16T01:00:00+00:00"
         ],
         "customdata": [
          [
           "The Flying Dutchman",
           "https://www.roh.org.uk/tickets-and-events/the-flying-dutchman-by-tim-albery-details",
           "Feb 29, 2024"
          ],
          [
           "The Flying Dutchman",
           "https://www.roh.org.uk/tickets-and-events/the-flying-dutchman-by-tim-albery-details",
           "Mar 4, 2024"
          ],
          [
           "The Flying Dutchman",
           "https://www.roh.org.uk/tickets-and-events/the-flying-dutchman-by-tim-albery-details",
           "Mar 9, 2024"
          ],
          [
           "The Flying Dutchman",
           "https://www.roh.org.uk/tickets-and-events/the-flying-dutchman-by-tim-albery-details",
           "Mar 11, 2024"
          ],
          [
           "The Flying Dutchman",
           "https://www.roh.org.uk/tickets-and-events/the-flying-dutchman-by-tim-albery-details",
           "Mar 13, 2024"
          ],
          [
           "The Flying Dutchman",
           "https://www.roh.org.uk/tickets-and-events/the-flying-dutchman-by-tim-albery-details",
           "Mar 16, 2024"
          ]
         ],
         "hovertemplate": "%{customdata[0]}<br>%{customdata[2]}<br>%{y}<extra></extra>",
         "hovertext": [
          "https://www.roh.org.uk/tickets-and-events/the-flying-dutchman-by-tim-albery-details",
          "https://www.roh.org.uk/tickets-and-events/the-flying-dutchman-by-tim-albery-details",
          "https://www.roh.org.uk/tickets-and-events/the-flying-dutchman-by-tim-albery-details",
          "https://www.roh.org.uk/tickets-and-events/the-flying-dutchman-by-tim-albery-details",
          "https://www.roh.org.uk/tickets-and-events/the-flying-dutchman-by-tim-albery-details",
          "https://www.roh.org.uk/tickets-and-events/the-flying-dutchman-by-tim-albery-details"
         ],
         "legendgroup": "The Flying Dutchman",
         "marker": {
          "color": "#EECA3B",
          "line": {
           "color": "Black",
           "width": 0.5
          },
          "opacity": 1,
          "pattern": {
           "shape": ""
          }
         },
         "name": "The Flying Dutchman",
         "offsetgroup": "The Flying Dutchman",
         "orientation": "h",
         "showlegend": true,
         "textposition": "auto",
         "type": "bar",
         "x": [
          79200000,
          79200000,
          79200000,
          79200000,
          79200000,
          79200000
         ],
         "xaxis": "x",
         "y": [
          "20:00:00",
          "20:00:00",
          "20:00:00",
          "20:00:00",
          "20:00:00",
          "20:00:00"
         ],
         "yaxis": "y"
        },
        {
         "alignmentgroup": "True",
         "base": [
          "2024-03-06T01:00:00+00:00",
          "2024-03-07T01:00:00+00:00",
          "2024-03-15T01:00:00+00:00",
          "2024-03-21T01:00:00+00:00",
          "2024-03-28T01:00:00+00:00",
          "2024-04-01T01:00:00+01:00",
          "2024-04-01T01:00:00+01:00",
          "2024-04-06T01:00:00+01:00",
          "2024-04-12T01:00:00+01:00",
          "2024-04-17T01:00:00+01:00",
          "2024-04-18T01:00:00+01:00",
          "2024-04-18T01:00:00+01:00",
          "2024-04-20T01:00:00+01:00",
          "2024-04-20T01:00:00+01:00",
          "2024-04-24T01:00:00+01:00",
          "2024-04-27T01:00:00+01:00",
          "2024-04-27T01:00:00+01:00",
          "2024-04-29T01:00:00+01:00",
          "2024-05-04T01:00:00+01:00",
          "2024-05-04T01:00:00+01:00",
          "2024-05-09T01:00:00+01:00",
          "2024-05-11T01:00:00+01:00",
          "2024-05-11T01:00:00+01:00",
          "2024-06-12T01:00:00+01:00",
          "2024-06-14T01:00:00+01:00",
          "2024-06-17T01:00:00+01:00",
          "2024-06-20T01:00:00+01:00",
          "2024-06-25T01:00:00+01:00",
          "2024-06-27T01:00:00+01:00",
          "2024-06-28T01:00:00+01:00"
         ],
         "customdata": [
          [
           "Swan Lake",
           "https://www.roh.org.uk/tickets-and-events/swan-lake-by-liam-scarlett-details",
           "Mar 6, 2024"
          ],
          [
           "Swan Lake",
           "https://www.roh.org.uk/tickets-and-events/swan-lake-by-liam-scarlett-details",
           "Mar 7, 2024"
          ],
          [
           "Swan Lake",
           "https://www.roh.org.uk/tickets-and-events/swan-lake-by-liam-scarlett-details",
           "Mar 15, 2024"
          ],
          [
           "Swan Lake",
           "https://www.roh.org.uk/tickets-and-events/swan-lake-by-liam-scarlett-details",
           "Mar 21, 2024"
          ],
          [
           "Swan Lake",
           "https://www.roh.org.uk/tickets-and-events/swan-lake-by-liam-scarlett-details",
           "Mar 28, 2024"
          ],
          [
           "Swan Lake",
           "https://www.roh.org.uk/tickets-and-events/swan-lake-by-liam-scarlett-details",
           "Apr 1, 2024"
          ],
          [
           "Swan Lake",
           "https://www.roh.org.uk/tickets-and-events/swan-lake-by-liam-scarlett-details",
           "Apr 1, 2024"
          ],
          [
           "Swan Lake",
           "https://www.roh.org.uk/tickets-and-events/swan-lake-by-liam-scarlett-details",
           "Apr 6, 2024"
          ],
          [
           "Swan Lake",
           "https://www.roh.org.uk/tickets-and-events/swan-lake-by-liam-scarlett-details",
           "Apr 12, 2024"
          ],
          [
           "Swan Lake",
           "https://www.roh.org.uk/tickets-and-events/swan-lake-by-liam-scarlett-details",
           "Apr 17, 2024"
          ],
          [
           "Swan Lake",
           "https://www.roh.org.uk/tickets-and-events/swan-lake-by-liam-scarlett-details",
           "Apr 18, 2024"
          ],
          [
           "Swan Lake",
           "https://www.roh.org.uk/tickets-and-events/swan-lake-by-liam-scarlett-details",
           "Apr 18, 2024"
          ],
          [
           "Swan Lake",
           "https://www.roh.org.uk/tickets-and-events/swan-lake-by-liam-scarlett-details",
           "Apr 20, 2024"
          ],
          [
           "Swan Lake",
           "https://www.roh.org.uk/tickets-and-events/swan-lake-by-liam-scarlett-details",
           "Apr 20, 2024"
          ],
          [
           "Swan Lake",
           "https://www.roh.org.uk/tickets-and-events/swan-lake-by-liam-scarlett-details",
           "Apr 24, 2024"
          ],
          [
           "Swan Lake",
           "https://www.roh.org.uk/tickets-and-events/swan-lake-by-liam-scarlett-details",
           "Apr 27, 2024"
          ],
          [
           "Swan Lake",
           "https://www.roh.org.uk/tickets-and-events/swan-lake-by-liam-scarlett-details",
           "Apr 27, 2024"
          ],
          [
           "Swan Lake",
           "https://www.roh.org.uk/tickets-and-events/swan-lake-by-liam-scarlett-details",
           "Apr 29, 2024"
          ],
          [
           "Swan Lake",
           "https://www.roh.org.uk/tickets-and-events/swan-lake-by-liam-scarlett-details",
           "May 4, 2024"
          ],
          [
           "Swan Lake",
           "https://www.roh.org.uk/tickets-and-events/swan-lake-by-liam-scarlett-details",
           "May 4, 2024"
          ],
          [
           "Swan Lake",
           "https://www.roh.org.uk/tickets-and-events/swan-lake-by-liam-scarlett-details",
           "May 9, 2024"
          ],
          [
           "Swan Lake",
           "https://www.roh.org.uk/tickets-and-events/swan-lake-by-liam-scarlett-details",
           "May 11, 2024"
          ],
          [
           "Swan Lake",
           "https://www.roh.org.uk/tickets-and-events/swan-lake-by-liam-scarlett-details",
           "May 11, 2024"
          ],
          [
           "Swan Lake",
           "https://www.roh.org.uk/tickets-and-events/swan-lake-by-liam-scarlett-details",
           "Jun 12, 2024"
          ],
          [
           "Swan Lake",
           "https://www.roh.org.uk/tickets-and-events/swan-lake-by-liam-scarlett-details",
           "Jun 14, 2024"
          ],
          [
           "Swan Lake",
           "https://www.roh.org.uk/tickets-and-events/swan-lake-by-liam-scarlett-details",
           "Jun 17, 2024"
          ],
          [
           "Swan Lake",
           "https://www.roh.org.uk/tickets-and-events/swan-lake-by-liam-scarlett-details",
           "Jun 20, 2024"
          ],
          [
           "Swan Lake",
           "https://www.roh.org.uk/tickets-and-events/swan-lake-by-liam-scarlett-details",
           "Jun 25, 2024"
          ],
          [
           "Swan Lake",
           "https://www.roh.org.uk/tickets-and-events/swan-lake-by-liam-scarlett-details",
           "Jun 27, 2024"
          ],
          [
           "Swan Lake",
           "https://www.roh.org.uk/tickets-and-events/swan-lake-by-liam-scarlett-details",
           "Jun 28, 2024"
          ]
         ],
         "hovertemplate": "%{customdata[0]}<br>%{customdata[2]}<br>%{y}<extra></extra>",
         "hovertext": [
          "https://www.roh.org.uk/tickets-and-events/swan-lake-by-liam-scarlett-details",
          "https://www.roh.org.uk/tickets-and-events/swan-lake-by-liam-scarlett-details",
          "https://www.roh.org.uk/tickets-and-events/swan-lake-by-liam-scarlett-details",
          "https://www.roh.org.uk/tickets-and-events/swan-lake-by-liam-scarlett-details",
          "https://www.roh.org.uk/tickets-and-events/swan-lake-by-liam-scarlett-details",
          "https://www.roh.org.uk/tickets-and-events/swan-lake-by-liam-scarlett-details",
          "https://www.roh.org.uk/tickets-and-events/swan-lake-by-liam-scarlett-details",
          "https://www.roh.org.uk/tickets-and-events/swan-lake-by-liam-scarlett-details",
          "https://www.roh.org.uk/tickets-and-events/swan-lake-by-liam-scarlett-details",
          "https://www.roh.org.uk/tickets-and-events/swan-lake-by-liam-scarlett-details",
          "https://www.roh.org.uk/tickets-and-events/swan-lake-by-liam-scarlett-details",
          "https://www.roh.org.uk/tickets-and-events/swan-lake-by-liam-scarlett-details",
          "https://www.roh.org.uk/tickets-and-events/swan-lake-by-liam-scarlett-details",
          "https://www.roh.org.uk/tickets-and-events/swan-lake-by-liam-scarlett-details",
          "https://www.roh.org.uk/tickets-and-events/swan-lake-by-liam-scarlett-details",
          "https://www.roh.org.uk/tickets-and-events/swan-lake-by-liam-scarlett-details",
          "https://www.roh.org.uk/tickets-and-events/swan-lake-by-liam-scarlett-details",
          "https://www.roh.org.uk/tickets-and-events/swan-lake-by-liam-scarlett-details",
          "https://www.roh.org.uk/tickets-and-events/swan-lake-by-liam-scarlett-details",
          "https://www.roh.org.uk/tickets-and-events/swan-lake-by-liam-scarlett-details",
          "https://www.roh.org.uk/tickets-and-events/swan-lake-by-liam-scarlett-details",
          "https://www.roh.org.uk/tickets-and-events/swan-lake-by-liam-scarlett-details",
          "https://www.roh.org.uk/tickets-and-events/swan-lake-by-liam-scarlett-details",
          "https://www.roh.org.uk/tickets-and-events/swan-lake-by-liam-scarlett-details",
          "https://www.roh.org.uk/tickets-and-events/swan-lake-by-liam-scarlett-details",
          "https://www.roh.org.uk/tickets-and-events/swan-lake-by-liam-scarlett-details",
          "https://www.roh.org.uk/tickets-and-events/swan-lake-by-liam-scarlett-details",
          "https://www.roh.org.uk/tickets-and-events/swan-lake-by-liam-scarlett-details",
          "https://www.roh.org.uk/tickets-and-events/swan-lake-by-liam-scarlett-details",
          "https://www.roh.org.uk/tickets-and-events/swan-lake-by-liam-scarlett-details"
         ],
         "legendgroup": "Swan Lake",
         "marker": {
          "color": "#B279A2",
          "line": {
           "color": "Black",
           "width": 0.5
          },
          "opacity": 1,
          "pattern": {
           "shape": ""
          }
         },
         "name": "Swan Lake",
         "offsetgroup": "Swan Lake",
         "orientation": "h",
         "showlegend": true,
         "textposition": "auto",
         "type": "bar",
         "x": [
          79200000,
          79200000,
          79200000,
          79200000,
          79200000,
          79200000,
          79200000,
          79200000,
          79200000,
          79200000,
          79200000,
          79200000,
          79200000,
          79200000,
          79200000,
          79200000,
          79200000,
          79200000,
          79200000,
          79200000,
          79200000,
          79200000,
          79200000,
          79200000,
          79200000,
          79200000,
          79200000,
          79200000,
          79200000,
          79200000
         ],
         "xaxis": "x",
         "y": [
          "19:30:00",
          "19:30:00",
          "19:30:00",
          "19:30:00",
          "19:30:00",
          "13:00:00",
          "19:00:00",
          "19:30:00",
          "19:30:00",
          "19:30:00",
          "12:30:00",
          "19:30:00",
          "13:00:00",
          "19:00:00",
          "19:30:00",
          "13:00:00",
          "19:00:00",
          "19:30:00",
          "13:00:00",
          "19:00:00",
          "19:30:00",
          "13:00:00",
          "19:00:00",
          "19:30:00",
          "19:30:00",
          "19:30:00",
          "19:30:00",
          "19:30:00",
          "19:30:00",
          "19:30:00"
         ],
         "yaxis": "y"
        },
        {
         "alignmentgroup": "True",
         "base": [
          "2024-03-14T01:00:00+00:00",
          "2024-03-19T01:00:00+00:00",
          "2024-03-23T01:00:00+00:00",
          "2024-03-26T01:00:00+00:00",
          "2024-03-30T01:00:00+00:00",
          "2024-04-03T01:00:00+01:00",
          "2024-04-06T01:00:00+01:00",
          "2024-04-10T01:00:00+01:00",
          "2024-04-13T01:00:00+01:00",
          "2024-04-15T01:00:00+01:00",
          "2024-07-12T01:00:00+01:00",
          "2024-07-15T01:00:00+01:00",
          "2024-07-18T01:00:00+01:00"
         ],
         "customdata": [
          [
           "Madama Butterfly",
           "https://www.roh.org.uk/tickets-and-events/madama-butterfly-by-moshe-leiser-and-patrice-caurier-details",
           "Mar 14, 2024"
          ],
          [
           "Madama Butterfly",
           "https://www.roh.org.uk/tickets-and-events/madama-butterfly-by-moshe-leiser-and-patrice-caurier-details",
           "Mar 19, 2024"
          ],
          [
           "Madama Butterfly",
           "https://www.roh.org.uk/tickets-and-events/madama-butterfly-by-moshe-leiser-and-patrice-caurier-details",
           "Mar 23, 2024"
          ],
          [
           "Madama Butterfly",
           "https://www.roh.org.uk/tickets-and-events/madama-butterfly-by-moshe-leiser-and-patrice-caurier-details",
           "Mar 26, 2024"
          ],
          [
           "Madama Butterfly",
           "https://www.roh.org.uk/tickets-and-events/madama-butterfly-by-moshe-leiser-and-patrice-caurier-details",
           "Mar 30, 2024"
          ],
          [
           "Madama Butterfly",
           "https://www.roh.org.uk/tickets-and-events/madama-butterfly-by-moshe-leiser-and-patrice-caurier-details",
           "Apr 3, 2024"
          ],
          [
           "Madama Butterfly",
           "https://www.roh.org.uk/tickets-and-events/madama-butterfly-by-moshe-leiser-and-patrice-caurier-details",
           "Apr 6, 2024"
          ],
          [
           "Madama Butterfly",
           "https://www.roh.org.uk/tickets-and-events/madama-butterfly-by-moshe-leiser-and-patrice-caurier-details",
           "Apr 10, 2024"
          ],
          [
           "Madama Butterfly",
           "https://www.roh.org.uk/tickets-and-events/madama-butterfly-by-moshe-leiser-and-patrice-caurier-details",
           "Apr 13, 2024"
          ],
          [
           "Madama Butterfly",
           "https://www.roh.org.uk/tickets-and-events/madama-butterfly-by-moshe-leiser-and-patrice-caurier-details",
           "Apr 15, 2024"
          ],
          [
           "Madama Butterfly",
           "https://www.roh.org.uk/tickets-and-events/madama-butterfly-by-moshe-leiser-and-patrice-caurier-details",
           "Jul 12, 2024"
          ],
          [
           "Madama Butterfly",
           "https://www.roh.org.uk/tickets-and-events/madama-butterfly-by-moshe-leiser-and-patrice-caurier-details",
           "Jul 15, 2024"
          ],
          [
           "Madama Butterfly",
           "https://www.roh.org.uk/tickets-and-events/madama-butterfly-by-moshe-leiser-and-patrice-caurier-details",
           "Jul 18, 2024"
          ]
         ],
         "hovertemplate": "%{customdata[0]}<br>%{customdata[2]}<br>%{y}<extra></extra>",
         "hovertext": [
          "https://www.roh.org.uk/tickets-and-events/madama-butterfly-by-moshe-leiser-and-patrice-caurier-details",
          "https://www.roh.org.uk/tickets-and-events/madama-butterfly-by-moshe-leiser-and-patrice-caurier-details",
          "https://www.roh.org.uk/tickets-and-events/madama-butterfly-by-moshe-leiser-and-patrice-caurier-details",
          "https://www.roh.org.uk/tickets-and-events/madama-butterfly-by-moshe-leiser-and-patrice-caurier-details",
          "https://www.roh.org.uk/tickets-and-events/madama-butterfly-by-moshe-leiser-and-patrice-caurier-details",
          "https://www.roh.org.uk/tickets-and-events/madama-butterfly-by-moshe-leiser-and-patrice-caurier-details",
          "https://www.roh.org.uk/tickets-and-events/madama-butterfly-by-moshe-leiser-and-patrice-caurier-details",
          "https://www.roh.org.uk/tickets-and-events/madama-butterfly-by-moshe-leiser-and-patrice-caurier-details",
          "https://www.roh.org.uk/tickets-and-events/madama-butterfly-by-moshe-leiser-and-patrice-caurier-details",
          "https://www.roh.org.uk/tickets-and-events/madama-butterfly-by-moshe-leiser-and-patrice-caurier-details",
          "https://www.roh.org.uk/tickets-and-events/madama-butterfly-by-moshe-leiser-and-patrice-caurier-details",
          "https://www.roh.org.uk/tickets-and-events/madama-butterfly-by-moshe-leiser-and-patrice-caurier-details",
          "https://www.roh.org.uk/tickets-and-events/madama-butterfly-by-moshe-leiser-and-patrice-caurier-details"
         ],
         "legendgroup": "Madama Butterfly",
         "marker": {
          "color": "#FF9DA6",
          "line": {
           "color": "Black",
           "width": 0.5
          },
          "opacity": 1,
          "pattern": {
           "shape": ""
          }
         },
         "name": "Madama Butterfly",
         "offsetgroup": "Madama Butterfly",
         "orientation": "h",
         "showlegend": true,
         "textposition": "auto",
         "type": "bar",
         "x": [
          79200000,
          79200000,
          79200000,
          79200000,
          79200000,
          79200000,
          79200000,
          79200000,
          79200000,
          79200000,
          79200000,
          79200000,
          79200000
         ],
         "xaxis": "x",
         "y": [
          "19:00:00",
          "19:30:00",
          "19:30:00",
          "19:30:00",
          "19:30:00",
          "19:30:00",
          "12:00:00",
          "19:30:00",
          "12:00:00",
          "19:30:00",
          "19:30:00",
          "19:30:00",
          "19:30:00"
         ],
         "yaxis": "y"
        },
        {
         "alignmentgroup": "True",
         "base": [
          "2024-03-20T01:00:00+00:00",
          "2024-03-22T01:00:00+00:00",
          "2024-03-27T01:00:00+00:00",
          "2024-04-04T01:00:00+01:00",
          "2024-04-09T01:00:00+01:00",
          "2024-04-13T01:00:00+01:00"
         ],
         "customdata": [
          [
           "Danses Concertantes / Different Drummer / Requiem ",
           "https://www.roh.org.uk/tickets-and-events/danses-concertantes-different-drummer-requiem-by-kenneth-macmillan-details",
           "Mar 20, 2024"
          ],
          [
           "Danses Concertantes / Different Drummer / Requiem ",
           "https://www.roh.org.uk/tickets-and-events/danses-concertantes-different-drummer-requiem-by-kenneth-macmillan-details",
           "Mar 22, 2024"
          ],
          [
           "Danses Concertantes / Different Drummer / Requiem ",
           "https://www.roh.org.uk/tickets-and-events/danses-concertantes-different-drummer-requiem-by-kenneth-macmillan-details",
           "Mar 27, 2024"
          ],
          [
           "Danses Concertantes / Different Drummer / Requiem ",
           "https://www.roh.org.uk/tickets-and-events/danses-concertantes-different-drummer-requiem-by-kenneth-macmillan-details",
           "Apr 4, 2024"
          ],
          [
           "Danses Concertantes / Different Drummer / Requiem ",
           "https://www.roh.org.uk/tickets-and-events/danses-concertantes-different-drummer-requiem-by-kenneth-macmillan-details",
           "Apr 9, 2024"
          ],
          [
           "Danses Concertantes / Different Drummer / Requiem ",
           "https://www.roh.org.uk/tickets-and-events/danses-concertantes-different-drummer-requiem-by-kenneth-macmillan-details",
           "Apr 13, 2024"
          ]
         ],
         "hovertemplate": "%{customdata[0]}<br>%{customdata[2]}<br>%{y}<extra></extra>",
         "hovertext": [
          "https://www.roh.org.uk/tickets-and-events/danses-concertantes-different-drummer-requiem-by-kenneth-macmillan-details",
          "https://www.roh.org.uk/tickets-and-events/danses-concertantes-different-drummer-requiem-by-kenneth-macmillan-details",
          "https://www.roh.org.uk/tickets-and-events/danses-concertantes-different-drummer-requiem-by-kenneth-macmillan-details",
          "https://www.roh.org.uk/tickets-and-events/danses-concertantes-different-drummer-requiem-by-kenneth-macmillan-details",
          "https://www.roh.org.uk/tickets-and-events/danses-concertantes-different-drummer-requiem-by-kenneth-macmillan-details",
          "https://www.roh.org.uk/tickets-and-events/danses-concertantes-different-drummer-requiem-by-kenneth-macmillan-details"
         ],
         "legendgroup": "Danses Concertantes / Different Drummer / Requiem ",
         "marker": {
          "color": "#9D755D",
          "line": {
           "color": "Black",
           "width": 0.5
          },
          "opacity": 1,
          "pattern": {
           "shape": ""
          }
         },
         "name": "Danses Concertantes / Different Drummer / Requiem ",
         "offsetgroup": "Danses Concertantes / Different Drummer / Requiem ",
         "orientation": "h",
         "showlegend": true,
         "textposition": "auto",
         "type": "bar",
         "x": [
          79200000,
          79200000,
          79200000,
          79200000,
          79200000,
          79200000
         ],
         "xaxis": "x",
         "y": [
          "19:30:00",
          "19:30:00",
          "19:30:00",
          "19:30:00",
          "19:30:00",
          "19:30:00"
         ],
         "yaxis": "y"
        },
        {
         "alignmentgroup": "True",
         "base": [
          "2024-04-05T01:00:00+01:00",
          "2024-04-08T01:00:00+01:00",
          "2024-04-11T01:00:00+01:00",
          "2024-04-14T01:00:00+01:00",
          "2024-04-16T01:00:00+01:00",
          "2024-04-23T01:00:00+01:00",
          "2024-04-26T01:00:00+01:00",
          "2024-05-01T01:00:00+01:00",
          "2024-05-05T01:00:00+01:00",
          "2024-05-12T01:00:00+01:00",
          "2024-05-17T01:00:00+01:00",
          "2024-05-20T01:00:00+01:00",
          "2024-05-23T01:00:00+01:00",
          "2024-05-25T01:00:00+01:00",
          "2024-05-29T01:00:00+01:00",
          "2024-05-31T01:00:00+01:00"
         ],
         "customdata": [
          [
           "Carmen",
           "https://www.roh.org.uk/tickets-and-events/carmen-by-damiano-michieletto-details",
           "Apr 5, 2024"
          ],
          [
           "Carmen",
           "https://www.roh.org.uk/tickets-and-events/carmen-by-damiano-michieletto-details",
           "Apr 8, 2024"
          ],
          [
           "Carmen",
           "https://www.roh.org.uk/tickets-and-events/carmen-by-damiano-michieletto-details",
           "Apr 11, 2024"
          ],
          [
           "Carmen",
           "https://www.roh.org.uk/tickets-and-events/carmen-by-damiano-michieletto-details",
           "Apr 14, 2024"
          ],
          [
           "Carmen",
           "https://www.roh.org.uk/tickets-and-events/carmen-by-damiano-michieletto-details",
           "Apr 16, 2024"
          ],
          [
           "Carmen",
           "https://www.roh.org.uk/tickets-and-events/carmen-by-damiano-michieletto-details",
           "Apr 23, 2024"
          ],
          [
           "Carmen",
           "https://www.roh.org.uk/tickets-and-events/carmen-by-damiano-michieletto-details",
           "Apr 26, 2024"
          ],
          [
           "Carmen",
           "https://www.roh.org.uk/tickets-and-events/carmen-by-damiano-michieletto-details",
           "May 1, 2024"
          ],
          [
           "Carmen",
           "https://www.roh.org.uk/tickets-and-events/carmen-by-damiano-michieletto-details",
           "May 5, 2024"
          ],
          [
           "Carmen",
           "https://www.roh.org.uk/tickets-and-events/carmen-by-damiano-michieletto-details",
           "May 12, 2024"
          ],
          [
           "Carmen",
           "https://www.roh.org.uk/tickets-and-events/carmen-by-damiano-michieletto-details",
           "May 17, 2024"
          ],
          [
           "Carmen",
           "https://www.roh.org.uk/tickets-and-events/carmen-by-damiano-michieletto-details",
           "May 20, 2024"
          ],
          [
           "Carmen",
           "https://www.roh.org.uk/tickets-and-events/carmen-by-damiano-michieletto-details",
           "May 23, 2024"
          ],
          [
           "Carmen",
           "https://www.roh.org.uk/tickets-and-events/carmen-by-damiano-michieletto-details",
           "May 25, 2024"
          ],
          [
           "Carmen",
           "https://www.roh.org.uk/tickets-and-events/carmen-by-damiano-michieletto-details",
           "May 29, 2024"
          ],
          [
           "Carmen",
           "https://www.roh.org.uk/tickets-and-events/carmen-by-damiano-michieletto-details",
           "May 31, 2024"
          ]
         ],
         "hovertemplate": "%{customdata[0]}<br>%{customdata[2]}<br>%{y}<extra></extra>",
         "hovertext": [
          "https://www.roh.org.uk/tickets-and-events/carmen-by-damiano-michieletto-details",
          "https://www.roh.org.uk/tickets-and-events/carmen-by-damiano-michieletto-details",
          "https://www.roh.org.uk/tickets-and-events/carmen-by-damiano-michieletto-details",
          "https://www.roh.org.uk/tickets-and-events/carmen-by-damiano-michieletto-details",
          "https://www.roh.org.uk/tickets-and-events/carmen-by-damiano-michieletto-details",
          "https://www.roh.org.uk/tickets-and-events/carmen-by-damiano-michieletto-details",
          "https://www.roh.org.uk/tickets-and-events/carmen-by-damiano-michieletto-details",
          "https://www.roh.org.uk/tickets-and-events/carmen-by-damiano-michieletto-details",
          "https://www.roh.org.uk/tickets-and-events/carmen-by-damiano-michieletto-details",
          "https://www.roh.org.uk/tickets-and-events/carmen-by-damiano-michieletto-details",
          "https://www.roh.org.uk/tickets-and-events/carmen-by-damiano-michieletto-details",
          "https://www.roh.org.uk/tickets-and-events/carmen-by-damiano-michieletto-details",
          "https://www.roh.org.uk/tickets-and-events/carmen-by-damiano-michieletto-details",
          "https://www.roh.org.uk/tickets-and-events/carmen-by-damiano-michieletto-details",
          "https://www.roh.org.uk/tickets-and-events/carmen-by-damiano-michieletto-details",
          "https://www.roh.org.uk/tickets-and-events/carmen-by-damiano-michieletto-details"
         ],
         "legendgroup": "Carmen",
         "marker": {
          "color": "#BAB0AC",
          "line": {
           "color": "Black",
           "width": 0.5
          },
          "opacity": 1,
          "pattern": {
           "shape": ""
          }
         },
         "name": "Carmen",
         "offsetgroup": "Carmen",
         "orientation": "h",
         "showlegend": true,
         "textposition": "auto",
         "type": "bar",
         "x": [
          79200000,
          79200000,
          79200000,
          79200000,
          79200000,
          79200000,
          79200000,
          79200000,
          79200000,
          79200000,
          79200000,
          79200000,
          79200000,
          79200000,
          79200000,
          79200000
         ],
         "xaxis": "x",
         "y": [
          "18:30:00",
          "19:00:00",
          "19:00:00",
          "17:00:00",
          "19:00:00",
          "19:00:00",
          "19:00:00",
          "19:00:00",
          "15:00:00",
          "17:00:00",
          "19:00:00",
          "19:00:00",
          "19:00:00",
          "19:00:00",
          "19:00:00",
          "19:00:00"
         ],
         "yaxis": "y"
        },
        {
         "alignmentgroup": "True",
         "base": [
          "2024-04-19T01:00:00+01:00",
          "2024-04-22T01:00:00+01:00",
          "2024-04-25T01:00:00+01:00",
          "2024-04-30T01:00:00+01:00",
          "2024-05-02T01:00:00+01:00",
          "2024-05-08T01:00:00+01:00",
          "2024-05-10T01:00:00+01:00",
          "2024-05-14T01:00:00+01:00",
          "2024-05-18T01:00:00+01:00"
         ],
         "customdata": [
          [
           "Lucia di Lammermoor",
           "https://www.roh.org.uk/tickets-and-events/lucia-di-lammermoor-by-katie-mitchell-details",
           "Apr 19, 2024"
          ],
          [
           "Lucia di Lammermoor",
           "https://www.roh.org.uk/tickets-and-events/lucia-di-lammermoor-by-katie-mitchell-details",
           "Apr 22, 2024"
          ],
          [
           "Lucia di Lammermoor",
           "https://www.roh.org.uk/tickets-and-events/lucia-di-lammermoor-by-katie-mitchell-details",
           "Apr 25, 2024"
          ],
          [
           "Lucia di Lammermoor",
           "https://www.roh.org.uk/tickets-and-events/lucia-di-lammermoor-by-katie-mitchell-details",
           "Apr 30, 2024"
          ],
          [
           "Lucia di Lammermoor",
           "https://www.roh.org.uk/tickets-and-events/lucia-di-lammermoor-by-katie-mitchell-details",
           "May 2, 2024"
          ],
          [
           "Lucia di Lammermoor",
           "https://www.roh.org.uk/tickets-and-events/lucia-di-lammermoor-by-katie-mitchell-details",
           "May 8, 2024"
          ],
          [
           "Lucia di Lammermoor",
           "https://www.roh.org.uk/tickets-and-events/lucia-di-lammermoor-by-katie-mitchell-details",
           "May 10, 2024"
          ],
          [
           "Lucia di Lammermoor",
           "https://www.roh.org.uk/tickets-and-events/lucia-di-lammermoor-by-katie-mitchell-details",
           "May 14, 2024"
          ],
          [
           "Lucia di Lammermoor",
           "https://www.roh.org.uk/tickets-and-events/lucia-di-lammermoor-by-katie-mitchell-details",
           "May 18, 2024"
          ]
         ],
         "hovertemplate": "%{customdata[0]}<br>%{customdata[2]}<br>%{y}<extra></extra>",
         "hovertext": [
          "https://www.roh.org.uk/tickets-and-events/lucia-di-lammermoor-by-katie-mitchell-details",
          "https://www.roh.org.uk/tickets-and-events/lucia-di-lammermoor-by-katie-mitchell-details",
          "https://www.roh.org.uk/tickets-and-events/lucia-di-lammermoor-by-katie-mitchell-details",
          "https://www.roh.org.uk/tickets-and-events/lucia-di-lammermoor-by-katie-mitchell-details",
          "https://www.roh.org.uk/tickets-and-events/lucia-di-lammermoor-by-katie-mitchell-details",
          "https://www.roh.org.uk/tickets-and-events/lucia-di-lammermoor-by-katie-mitchell-details",
          "https://www.roh.org.uk/tickets-and-events/lucia-di-lammermoor-by-katie-mitchell-details",
          "https://www.roh.org.uk/tickets-and-events/lucia-di-lammermoor-by-katie-mitchell-details",
          "https://www.roh.org.uk/tickets-and-events/lucia-di-lammermoor-by-katie-mitchell-details"
         ],
         "legendgroup": "Lucia di Lammermoor",
         "marker": {
          "color": "#2E91E5",
          "line": {
           "color": "Black",
           "width": 0.5
          },
          "opacity": 1,
          "pattern": {
           "shape": ""
          }
         },
         "name": "Lucia di Lammermoor",
         "offsetgroup": "Lucia di Lammermoor",
         "orientation": "h",
         "showlegend": true,
         "textposition": "auto",
         "type": "bar",
         "x": [
          79200000,
          79200000,
          79200000,
          79200000,
          79200000,
          79200000,
          79200000,
          79200000,
          79200000
         ],
         "xaxis": "x",
         "y": [
          "19:00:00",
          "19:30:00",
          "19:30:00",
          "19:30:00",
          "19:30:00",
          "19:30:00",
          "19:30:00",
          "19:30:00",
          "12:00:00"
         ],
         "yaxis": "y"
        },
        {
         "alignmentgroup": "True",
         "base": [
          "2024-05-03T01:00:00+01:00",
          "2024-05-07T01:00:00+01:00",
          "2024-05-13T01:00:00+01:00",
          "2024-05-15T01:00:00+01:00",
          "2024-05-21T01:00:00+01:00",
          "2024-05-22T01:00:00+01:00",
          "2024-05-24T01:00:00+01:00",
          "2024-05-27T01:00:00+01:00",
          "2024-05-27T01:00:00+01:00",
          "2024-05-28T01:00:00+01:00",
          "2024-06-01T01:00:00+01:00"
         ],
         "customdata": [
          [
           "The Winter's Tale",
           "https://www.roh.org.uk/tickets-and-events/the-winters-tale-by-christopher-wheeldon-details",
           "May 3, 2024"
          ],
          [
           "The Winter's Tale",
           "https://www.roh.org.uk/tickets-and-events/the-winters-tale-by-christopher-wheeldon-details",
           "May 7, 2024"
          ],
          [
           "The Winter's Tale",
           "https://www.roh.org.uk/tickets-and-events/the-winters-tale-by-christopher-wheeldon-details",
           "May 13, 2024"
          ],
          [
           "The Winter's Tale",
           "https://www.roh.org.uk/tickets-and-events/the-winters-tale-by-christopher-wheeldon-details",
           "May 15, 2024"
          ],
          [
           "The Winter's Tale",
           "https://www.roh.org.uk/tickets-and-events/the-winters-tale-by-christopher-wheeldon-details",
           "May 21, 2024"
          ],
          [
           "The Winter's Tale",
           "https://www.roh.org.uk/tickets-and-events/the-winters-tale-by-christopher-wheeldon-details",
           "May 22, 2024"
          ],
          [
           "The Winter's Tale",
           "https://www.roh.org.uk/tickets-and-events/the-winters-tale-by-christopher-wheeldon-details",
           "May 24, 2024"
          ],
          [
           "The Winter's Tale",
           "https://www.roh.org.uk/tickets-and-events/the-winters-tale-by-christopher-wheeldon-details",
           "May 27, 2024"
          ],
          [
           "The Winter's Tale",
           "https://www.roh.org.uk/tickets-and-events/the-winters-tale-by-christopher-wheeldon-details",
           "May 27, 2024"
          ],
          [
           "The Winter's Tale",
           "https://www.roh.org.uk/tickets-and-events/the-winters-tale-by-christopher-wheeldon-details",
           "May 28, 2024"
          ],
          [
           "The Winter's Tale",
           "https://www.roh.org.uk/tickets-and-events/the-winters-tale-by-christopher-wheeldon-details",
           "Jun 1, 2024"
          ]
         ],
         "hovertemplate": "%{customdata[0]}<br>%{customdata[2]}<br>%{y}<extra></extra>",
         "hovertext": [
          "https://www.roh.org.uk/tickets-and-events/the-winters-tale-by-christopher-wheeldon-details",
          "https://www.roh.org.uk/tickets-and-events/the-winters-tale-by-christopher-wheeldon-details",
          "https://www.roh.org.uk/tickets-and-events/the-winters-tale-by-christopher-wheeldon-details",
          "https://www.roh.org.uk/tickets-and-events/the-winters-tale-by-christopher-wheeldon-details",
          "https://www.roh.org.uk/tickets-and-events/the-winters-tale-by-christopher-wheeldon-details",
          "https://www.roh.org.uk/tickets-and-events/the-winters-tale-by-christopher-wheeldon-details",
          "https://www.roh.org.uk/tickets-and-events/the-winters-tale-by-christopher-wheeldon-details",
          "https://www.roh.org.uk/tickets-and-events/the-winters-tale-by-christopher-wheeldon-details",
          "https://www.roh.org.uk/tickets-and-events/the-winters-tale-by-christopher-wheeldon-details",
          "https://www.roh.org.uk/tickets-and-events/the-winters-tale-by-christopher-wheeldon-details",
          "https://www.roh.org.uk/tickets-and-events/the-winters-tale-by-christopher-wheeldon-details"
         ],
         "legendgroup": "The Winter's Tale",
         "marker": {
          "color": "#E15F99",
          "line": {
           "color": "Black",
           "width": 0.5
          },
          "opacity": 1,
          "pattern": {
           "shape": ""
          }
         },
         "name": "The Winter's Tale",
         "offsetgroup": "The Winter's Tale",
         "orientation": "h",
         "showlegend": true,
         "textposition": "auto",
         "type": "bar",
         "x": [
          79200000,
          79200000,
          79200000,
          79200000,
          79200000,
          79200000,
          79200000,
          79200000,
          79200000,
          79200000,
          79200000
         ],
         "xaxis": "x",
         "y": [
          "19:30:00",
          "19:30:00",
          "19:30:00",
          "19:30:00",
          "19:30:00",
          "19:30:00",
          "19:30:00",
          "13:00:00",
          "19:00:00",
          "19:30:00",
          "19:30:00"
         ],
         "yaxis": "y"
        },
        {
         "alignmentgroup": "True",
         "base": [
          "2024-05-30T01:00:00+01:00",
          "2024-06-02T01:00:00+01:00",
          "2024-06-05T01:00:00+01:00",
          "2024-06-08T01:00:00+01:00",
          "2024-06-11T01:00:00+01:00"
         ],
         "customdata": [
          [
           "Andrea Chénier",
           "https://www.roh.org.uk/tickets-and-events/andrea-chenier-by-david-mcvicar-details",
           "May 30, 2024"
          ],
          [
           "Andrea Chénier",
           "https://www.roh.org.uk/tickets-and-events/andrea-chenier-by-david-mcvicar-details",
           "Jun 2, 2024"
          ],
          [
           "Andrea Chénier",
           "https://www.roh.org.uk/tickets-and-events/andrea-chenier-by-david-mcvicar-details",
           "Jun 5, 2024"
          ],
          [
           "Andrea Chénier",
           "https://www.roh.org.uk/tickets-and-events/andrea-chenier-by-david-mcvicar-details",
           "Jun 8, 2024"
          ],
          [
           "Andrea Chénier",
           "https://www.roh.org.uk/tickets-and-events/andrea-chenier-by-david-mcvicar-details",
           "Jun 11, 2024"
          ]
         ],
         "hovertemplate": "%{customdata[0]}<br>%{customdata[2]}<br>%{y}<extra></extra>",
         "hovertext": [
          "https://www.roh.org.uk/tickets-and-events/andrea-chenier-by-david-mcvicar-details",
          "https://www.roh.org.uk/tickets-and-events/andrea-chenier-by-david-mcvicar-details",
          "https://www.roh.org.uk/tickets-and-events/andrea-chenier-by-david-mcvicar-details",
          "https://www.roh.org.uk/tickets-and-events/andrea-chenier-by-david-mcvicar-details",
          "https://www.roh.org.uk/tickets-and-events/andrea-chenier-by-david-mcvicar-details"
         ],
         "legendgroup": "Andrea Chénier",
         "marker": {
          "color": "#1CA71C",
          "line": {
           "color": "Black",
           "width": 0.5
          },
          "opacity": 1,
          "pattern": {
           "shape": ""
          }
         },
         "name": "Andrea Chénier",
         "offsetgroup": "Andrea Chénier",
         "orientation": "h",
         "showlegend": true,
         "textposition": "auto",
         "type": "bar",
         "x": [
          79200000,
          79200000,
          79200000,
          79200000,
          79200000
         ],
         "xaxis": "x",
         "y": [
          "19:30:00",
          "18:00:00",
          "19:30:00",
          "19:30:00",
          "19:30:00"
         ],
         "yaxis": "y"
        },
        {
         "alignmentgroup": "True",
         "base": [
          "2024-06-06T01:00:00+01:00",
          "2024-06-10T01:00:00+01:00",
          "2024-06-15T01:00:00+01:00",
          "2024-06-15T01:00:00+01:00",
          "2024-06-19T01:00:00+01:00"
         ],
         "customdata": [
          [
           "Les Rendezvous / The Dream / Rhapsody",
           "https://www.roh.org.uk/tickets-and-events/les-rendezvous-the-dream-rhapsody-by-frederick-ashton-details",
           "Jun 6, 2024"
          ],
          [
           "Les Rendezvous / The Dream / Rhapsody",
           "https://www.roh.org.uk/tickets-and-events/les-rendezvous-the-dream-rhapsody-by-frederick-ashton-details",
           "Jun 10, 2024"
          ],
          [
           "Les Rendezvous / The Dream / Rhapsody",
           "https://www.roh.org.uk/tickets-and-events/les-rendezvous-the-dream-rhapsody-by-frederick-ashton-details",
           "Jun 15, 2024"
          ],
          [
           "Les Rendezvous / The Dream / Rhapsody",
           "https://www.roh.org.uk/tickets-and-events/les-rendezvous-the-dream-rhapsody-by-frederick-ashton-details",
           "Jun 15, 2024"
          ],
          [
           "Les Rendezvous / The Dream / Rhapsody",
           "https://www.roh.org.uk/tickets-and-events/les-rendezvous-the-dream-rhapsody-by-frederick-ashton-details",
           "Jun 19, 2024"
          ]
         ],
         "hovertemplate": "%{customdata[0]}<br>%{customdata[2]}<br>%{y}<extra></extra>",
         "hovertext": [
          "https://www.roh.org.uk/tickets-and-events/les-rendezvous-the-dream-rhapsody-by-frederick-ashton-details",
          "https://www.roh.org.uk/tickets-and-events/les-rendezvous-the-dream-rhapsody-by-frederick-ashton-details",
          "https://www.roh.org.uk/tickets-and-events/les-rendezvous-the-dream-rhapsody-by-frederick-ashton-details",
          "https://www.roh.org.uk/tickets-and-events/les-rendezvous-the-dream-rhapsody-by-frederick-ashton-details",
          "https://www.roh.org.uk/tickets-and-events/les-rendezvous-the-dream-rhapsody-by-frederick-ashton-details"
         ],
         "legendgroup": "Les Rendezvous / The Dream / Rhapsody",
         "marker": {
          "color": "#FB0D0D",
          "line": {
           "color": "Black",
           "width": 0.5
          },
          "opacity": 1,
          "pattern": {
           "shape": ""
          }
         },
         "name": "Les Rendezvous / The Dream / Rhapsody",
         "offsetgroup": "Les Rendezvous / The Dream / Rhapsody",
         "orientation": "h",
         "showlegend": true,
         "textposition": "auto",
         "type": "bar",
         "x": [
          79200000,
          79200000,
          79200000,
          79200000,
          79200000
         ],
         "xaxis": "x",
         "y": [
          "19:30:00",
          "19:30:00",
          "13:00:00",
          "19:00:00",
          "19:30:00"
         ],
         "yaxis": "y"
        },
        {
         "alignmentgroup": "True",
         "base": [
          "2024-06-07T01:00:00+01:00",
          "2024-06-18T01:00:00+01:00",
          "2024-06-21T01:00:00+01:00",
          "2024-06-22T01:00:00+01:00",
          "2024-06-22T01:00:00+01:00"
         ],
         "customdata": [
          [
           "The Dream / Short Works / Rhapsody  ",
           "https://www.roh.org.uk/tickets-and-events/the-dream-short-works-rhapsody-by-frederick-ashton-details",
           "Jun 7, 2024"
          ],
          [
           "The Dream / Short Works / Rhapsody  ",
           "https://www.roh.org.uk/tickets-and-events/the-dream-short-works-rhapsody-by-frederick-ashton-details",
           "Jun 18, 2024"
          ],
          [
           "The Dream / Short Works / Rhapsody  ",
           "https://www.roh.org.uk/tickets-and-events/the-dream-short-works-rhapsody-by-frederick-ashton-details",
           "Jun 21, 2024"
          ],
          [
           "The Dream / Short Works / Rhapsody  ",
           "https://www.roh.org.uk/tickets-and-events/the-dream-short-works-rhapsody-by-frederick-ashton-details",
           "Jun 22, 2024"
          ],
          [
           "The Dream / Short Works / Rhapsody  ",
           "https://www.roh.org.uk/tickets-and-events/the-dream-short-works-rhapsody-by-frederick-ashton-details",
           "Jun 22, 2024"
          ]
         ],
         "hovertemplate": "%{customdata[0]}<br>%{customdata[2]}<br>%{y}<extra></extra>",
         "hovertext": [
          "https://www.roh.org.uk/tickets-and-events/the-dream-short-works-rhapsody-by-frederick-ashton-details",
          "https://www.roh.org.uk/tickets-and-events/the-dream-short-works-rhapsody-by-frederick-ashton-details",
          "https://www.roh.org.uk/tickets-and-events/the-dream-short-works-rhapsody-by-frederick-ashton-details",
          "https://www.roh.org.uk/tickets-and-events/the-dream-short-works-rhapsody-by-frederick-ashton-details",
          "https://www.roh.org.uk/tickets-and-events/the-dream-short-works-rhapsody-by-frederick-ashton-details"
         ],
         "legendgroup": "The Dream / Short Works / Rhapsody  ",
         "marker": {
          "color": "#DA16FF",
          "line": {
           "color": "Black",
           "width": 0.5
          },
          "opacity": 1,
          "pattern": {
           "shape": ""
          }
         },
         "name": "The Dream / Short Works / Rhapsody  ",
         "offsetgroup": "The Dream / Short Works / Rhapsody  ",
         "orientation": "h",
         "showlegend": true,
         "textposition": "auto",
         "type": "bar",
         "x": [
          79200000,
          79200000,
          79200000,
          79200000,
          79200000
         ],
         "xaxis": "x",
         "y": [
          "19:30:00",
          "19:30:00",
          "19:30:00",
          "13:00:00",
          "19:00:00"
         ],
         "yaxis": "y"
        },
        {
         "alignmentgroup": "True",
         "base": [
          "2024-06-26T01:00:00+01:00",
          "2024-06-29T01:00:00+01:00",
          "2024-07-02T01:00:00+01:00",
          "2024-07-04T01:00:00+01:00",
          "2024-07-06T01:00:00+01:00",
          "2024-07-10T01:00:00+01:00"
         ],
         "customdata": [
          [
           "Così fan tutte",
           "https://www.roh.org.uk/tickets-and-events/cosi-fan-tutte-by-jan-philipp-gloger-details",
           "Jun 26, 2024"
          ],
          [
           "Così fan tutte",
           "https://www.roh.org.uk/tickets-and-events/cosi-fan-tutte-by-jan-philipp-gloger-details",
           "Jun 29, 2024"
          ],
          [
           "Così fan tutte",
           "https://www.roh.org.uk/tickets-and-events/cosi-fan-tutte-by-jan-philipp-gloger-details",
           "Jul 2, 2024"
          ],
          [
           "Così fan tutte",
           "https://www.roh.org.uk/tickets-and-events/cosi-fan-tutte-by-jan-philipp-gloger-details",
           "Jul 4, 2024"
          ],
          [
           "Così fan tutte",
           "https://www.roh.org.uk/tickets-and-events/cosi-fan-tutte-by-jan-philipp-gloger-details",
           "Jul 6, 2024"
          ],
          [
           "Così fan tutte",
           "https://www.roh.org.uk/tickets-and-events/cosi-fan-tutte-by-jan-philipp-gloger-details",
           "Jul 10, 2024"
          ]
         ],
         "hovertemplate": "%{customdata[0]}<br>%{customdata[2]}<br>%{y}<extra></extra>",
         "hovertext": [
          "https://www.roh.org.uk/tickets-and-events/cosi-fan-tutte-by-jan-philipp-gloger-details",
          "https://www.roh.org.uk/tickets-and-events/cosi-fan-tutte-by-jan-philipp-gloger-details",
          "https://www.roh.org.uk/tickets-and-events/cosi-fan-tutte-by-jan-philipp-gloger-details",
          "https://www.roh.org.uk/tickets-and-events/cosi-fan-tutte-by-jan-philipp-gloger-details",
          "https://www.roh.org.uk/tickets-and-events/cosi-fan-tutte-by-jan-philipp-gloger-details",
          "https://www.roh.org.uk/tickets-and-events/cosi-fan-tutte-by-jan-philipp-gloger-details"
         ],
         "legendgroup": "Così fan tutte",
         "marker": {
          "color": "#222A2A",
          "line": {
           "color": "Black",
           "width": 0.5
          },
          "opacity": 1,
          "pattern": {
           "shape": ""
          }
         },
         "name": "Così fan tutte",
         "offsetgroup": "Così fan tutte",
         "orientation": "h",
         "showlegend": true,
         "textposition": "auto",
         "type": "bar",
         "x": [
          79200000,
          79200000,
          79200000,
          79200000,
          79200000,
          79200000
         ],
         "xaxis": "x",
         "y": [
          "19:00:00",
          "19:00:00",
          "19:00:00",
          "19:00:00",
          "19:00:00",
          "19:00:00"
         ],
         "yaxis": "y"
        },
        {
         "alignmentgroup": "True",
         "base": [
          "2024-07-06T01:00:00+01:00"
         ],
         "customdata": [
          [
           "The Royal Ballet School Summer Performance",
           "https://www.roh.org.uk/tickets-and-events/the-royal-ballet-school-summer-performance-details",
           "Jul 6, 2024"
          ]
         ],
         "hovertemplate": "%{customdata[0]}<br>%{customdata[2]}<br>%{y}<extra></extra>",
         "hovertext": [
          "https://www.roh.org.uk/tickets-and-events/the-royal-ballet-school-summer-performance-details"
         ],
         "legendgroup": "The Royal Ballet School Summer Performance",
         "marker": {
          "color": "#B68100",
          "line": {
           "color": "Black",
           "width": 0.5
          },
          "opacity": 1,
          "pattern": {
           "shape": ""
          }
         },
         "name": "The Royal Ballet School Summer Performance",
         "offsetgroup": "The Royal Ballet School Summer Performance",
         "orientation": "h",
         "showlegend": true,
         "textposition": "auto",
         "type": "bar",
         "x": [
          79200000
         ],
         "xaxis": "x",
         "y": [
          "11:30:00"
         ],
         "yaxis": "y"
        },
        {
         "alignmentgroup": "True",
         "base": [
          "2024-07-20T01:00:00+01:00"
         ],
         "customdata": [
          [
           "Jette Parker Artists Summer Performance",
           "https://www.roh.org.uk/tickets-and-events/jette-parker-artists-performance-details",
           "Jul 20, 2024"
          ]
         ],
         "hovertemplate": "%{customdata[0]}<br>%{customdata[2]}<br>%{y}<extra></extra>",
         "hovertext": [
          "https://www.roh.org.uk/tickets-and-events/jette-parker-artists-performance-details"
         ],
         "legendgroup": "Jette Parker Artists Summer Performance",
         "marker": {
          "color": "#750D86",
          "line": {
           "color": "Black",
           "width": 0.5
          },
          "opacity": 1,
          "pattern": {
           "shape": ""
          }
         },
         "name": "Jette Parker Artists Summer Performance",
         "offsetgroup": "Jette Parker Artists Summer Performance",
         "orientation": "h",
         "showlegend": true,
         "textposition": "auto",
         "type": "bar",
         "x": [
          79200000
         ],
         "xaxis": "x",
         "y": [
          "19:00:00"
         ],
         "yaxis": "y"
        },
        {
         "alignmentgroup": "True",
         "base": [
          "2024-07-23T01:00:00+01:00",
          "2024-07-24T01:00:00+01:00",
          "2024-07-25T01:00:00+01:00",
          "2024-07-26T01:00:00+01:00",
          "2024-07-27T01:00:00+01:00"
         ],
         "customdata": [
          [
           "Pet Shop Boys Dreamworld: The Greatest Hits Live",
           "https://www.roh.org.uk/tickets-and-events/pet-shop-boys-dreamworld-the-greatest-hits-live-details",
           "Jul 23, 2024"
          ],
          [
           "Pet Shop Boys Dreamworld: The Greatest Hits Live",
           "https://www.roh.org.uk/tickets-and-events/pet-shop-boys-dreamworld-the-greatest-hits-live-details",
           "Jul 24, 2024"
          ],
          [
           "Pet Shop Boys Dreamworld: The Greatest Hits Live",
           "https://www.roh.org.uk/tickets-and-events/pet-shop-boys-dreamworld-the-greatest-hits-live-details",
           "Jul 25, 2024"
          ],
          [
           "Pet Shop Boys Dreamworld: The Greatest Hits Live",
           "https://www.roh.org.uk/tickets-and-events/pet-shop-boys-dreamworld-the-greatest-hits-live-details",
           "Jul 26, 2024"
          ],
          [
           "Pet Shop Boys Dreamworld: The Greatest Hits Live",
           "https://www.roh.org.uk/tickets-and-events/pet-shop-boys-dreamworld-the-greatest-hits-live-details",
           "Jul 27, 2024"
          ]
         ],
         "hovertemplate": "%{customdata[0]}<br>%{customdata[2]}<br>%{y}<extra></extra>",
         "hovertext": [
          "https://www.roh.org.uk/tickets-and-events/pet-shop-boys-dreamworld-the-greatest-hits-live-details",
          "https://www.roh.org.uk/tickets-and-events/pet-shop-boys-dreamworld-the-greatest-hits-live-details",
          "https://www.roh.org.uk/tickets-and-events/pet-shop-boys-dreamworld-the-greatest-hits-live-details",
          "https://www.roh.org.uk/tickets-and-events/pet-shop-boys-dreamworld-the-greatest-hits-live-details",
          "https://www.roh.org.uk/tickets-and-events/pet-shop-boys-dreamworld-the-greatest-hits-live-details"
         ],
         "legendgroup": "Pet Shop Boys Dreamworld: The Greatest Hits Live",
         "marker": {
          "color": "#EB663B",
          "line": {
           "color": "Black",
           "width": 0.5
          },
          "opacity": 1,
          "pattern": {
           "shape": ""
          }
         },
         "name": "Pet Shop Boys Dreamworld: The Greatest Hits Live",
         "offsetgroup": "Pet Shop Boys Dreamworld: The Greatest Hits Live",
         "orientation": "h",
         "showlegend": true,
         "textposition": "auto",
         "type": "bar",
         "x": [
          79200000,
          79200000,
          79200000,
          79200000,
          79200000
         ],
         "xaxis": "x",
         "y": [
          "20:00:00",
          "20:00:00",
          "20:00:00",
          "20:00:00",
          "20:00:00"
         ],
         "yaxis": "y"
        }
       ],
       "layout": {
        "barmode": "overlay",
        "font": {
         "family": "Gotham"
        },
        "height": 500,
        "hoverdistance": 1000,
        "hoverlabel": {
         "bgcolor": "#C7102E",
         "font": {
          "color": "White",
          "family": "Gotham",
          "size": 16
         }
        },
        "hovermode": "closest",
        "legend": {
         "font": {
          "family": "Gotham",
          "size": 13
         },
         "orientation": "h",
         "title": {
          "font": {
           "family": "Gotham",
           "size": 15
          },
          "text": ""
         },
         "tracegroupgap": 0
        },
        "margin": {
         "b": 0,
         "l": 0,
         "pad": 0,
         "r": 0,
         "t": 40
        },
        "template": {
         "data": {
          "bar": [
           {
            "error_x": {
             "color": "rgb(36,36,36)"
            },
            "error_y": {
             "color": "rgb(36,36,36)"
            },
            "marker": {
             "line": {
              "color": "white",
              "width": 0.5
             },
             "pattern": {
              "fillmode": "overlay",
              "size": 10,
              "solidity": 0.2
             }
            },
            "type": "bar"
           }
          ],
          "barpolar": [
           {
            "marker": {
             "line": {
              "color": "white",
              "width": 0.5
             },
             "pattern": {
              "fillmode": "overlay",
              "size": 10,
              "solidity": 0.2
             }
            },
            "type": "barpolar"
           }
          ],
          "carpet": [
           {
            "aaxis": {
             "endlinecolor": "rgb(36,36,36)",
             "gridcolor": "white",
             "linecolor": "white",
             "minorgridcolor": "white",
             "startlinecolor": "rgb(36,36,36)"
            },
            "baxis": {
             "endlinecolor": "rgb(36,36,36)",
             "gridcolor": "white",
             "linecolor": "white",
             "minorgridcolor": "white",
             "startlinecolor": "rgb(36,36,36)"
            },
            "type": "carpet"
           }
          ],
          "choropleth": [
           {
            "colorbar": {
             "outlinewidth": 1,
             "tickcolor": "rgb(36,36,36)",
             "ticks": "outside"
            },
            "type": "choropleth"
           }
          ],
          "contour": [
           {
            "colorbar": {
             "outlinewidth": 1,
             "tickcolor": "rgb(36,36,36)",
             "ticks": "outside"
            },
            "colorscale": [
             [
              0,
              "#440154"
             ],
             [
              0.1111111111111111,
              "#482878"
             ],
             [
              0.2222222222222222,
              "#3e4989"
             ],
             [
              0.3333333333333333,
              "#31688e"
             ],
             [
              0.4444444444444444,
              "#26828e"
             ],
             [
              0.5555555555555556,
              "#1f9e89"
             ],
             [
              0.6666666666666666,
              "#35b779"
             ],
             [
              0.7777777777777778,
              "#6ece58"
             ],
             [
              0.8888888888888888,
              "#b5de2b"
             ],
             [
              1,
              "#fde725"
             ]
            ],
            "type": "contour"
           }
          ],
          "contourcarpet": [
           {
            "colorbar": {
             "outlinewidth": 1,
             "tickcolor": "rgb(36,36,36)",
             "ticks": "outside"
            },
            "type": "contourcarpet"
           }
          ],
          "heatmap": [
           {
            "colorbar": {
             "outlinewidth": 1,
             "tickcolor": "rgb(36,36,36)",
             "ticks": "outside"
            },
            "colorscale": [
             [
              0,
              "#440154"
             ],
             [
              0.1111111111111111,
              "#482878"
             ],
             [
              0.2222222222222222,
              "#3e4989"
             ],
             [
              0.3333333333333333,
              "#31688e"
             ],
             [
              0.4444444444444444,
              "#26828e"
             ],
             [
              0.5555555555555556,
              "#1f9e89"
             ],
             [
              0.6666666666666666,
              "#35b779"
             ],
             [
              0.7777777777777778,
              "#6ece58"
             ],
             [
              0.8888888888888888,
              "#b5de2b"
             ],
             [
              1,
              "#fde725"
             ]
            ],
            "type": "heatmap"
           }
          ],
          "heatmapgl": [
           {
            "colorbar": {
             "outlinewidth": 1,
             "tickcolor": "rgb(36,36,36)",
             "ticks": "outside"
            },
            "colorscale": [
             [
              0,
              "#440154"
             ],
             [
              0.1111111111111111,
              "#482878"
             ],
             [
              0.2222222222222222,
              "#3e4989"
             ],
             [
              0.3333333333333333,
              "#31688e"
             ],
             [
              0.4444444444444444,
              "#26828e"
             ],
             [
              0.5555555555555556,
              "#1f9e89"
             ],
             [
              0.6666666666666666,
              "#35b779"
             ],
             [
              0.7777777777777778,
              "#6ece58"
             ],
             [
              0.8888888888888888,
              "#b5de2b"
             ],
             [
              1,
              "#fde725"
             ]
            ],
            "type": "heatmapgl"
           }
          ],
          "histogram": [
           {
            "marker": {
             "line": {
              "color": "white",
              "width": 0.6
             }
            },
            "type": "histogram"
           }
          ],
          "histogram2d": [
           {
            "colorbar": {
             "outlinewidth": 1,
             "tickcolor": "rgb(36,36,36)",
             "ticks": "outside"
            },
            "colorscale": [
             [
              0,
              "#440154"
             ],
             [
              0.1111111111111111,
              "#482878"
             ],
             [
              0.2222222222222222,
              "#3e4989"
             ],
             [
              0.3333333333333333,
              "#31688e"
             ],
             [
              0.4444444444444444,
              "#26828e"
             ],
             [
              0.5555555555555556,
              "#1f9e89"
             ],
             [
              0.6666666666666666,
              "#35b779"
             ],
             [
              0.7777777777777778,
              "#6ece58"
             ],
             [
              0.8888888888888888,
              "#b5de2b"
             ],
             [
              1,
              "#fde725"
             ]
            ],
            "type": "histogram2d"
           }
          ],
          "histogram2dcontour": [
           {
            "colorbar": {
             "outlinewidth": 1,
             "tickcolor": "rgb(36,36,36)",
             "ticks": "outside"
            },
            "colorscale": [
             [
              0,
              "#440154"
             ],
             [
              0.1111111111111111,
              "#482878"
             ],
             [
              0.2222222222222222,
              "#3e4989"
             ],
             [
              0.3333333333333333,
              "#31688e"
             ],
             [
              0.4444444444444444,
              "#26828e"
             ],
             [
              0.5555555555555556,
              "#1f9e89"
             ],
             [
              0.6666666666666666,
              "#35b779"
             ],
             [
              0.7777777777777778,
              "#6ece58"
             ],
             [
              0.8888888888888888,
              "#b5de2b"
             ],
             [
              1,
              "#fde725"
             ]
            ],
            "type": "histogram2dcontour"
           }
          ],
          "mesh3d": [
           {
            "colorbar": {
             "outlinewidth": 1,
             "tickcolor": "rgb(36,36,36)",
             "ticks": "outside"
            },
            "type": "mesh3d"
           }
          ],
          "parcoords": [
           {
            "line": {
             "colorbar": {
              "outlinewidth": 1,
              "tickcolor": "rgb(36,36,36)",
              "ticks": "outside"
             }
            },
            "type": "parcoords"
           }
          ],
          "pie": [
           {
            "automargin": true,
            "type": "pie"
           }
          ],
          "scatter": [
           {
            "fillpattern": {
             "fillmode": "overlay",
             "size": 10,
             "solidity": 0.2
            },
            "type": "scatter"
           }
          ],
          "scatter3d": [
           {
            "line": {
             "colorbar": {
              "outlinewidth": 1,
              "tickcolor": "rgb(36,36,36)",
              "ticks": "outside"
             }
            },
            "marker": {
             "colorbar": {
              "outlinewidth": 1,
              "tickcolor": "rgb(36,36,36)",
              "ticks": "outside"
             }
            },
            "type": "scatter3d"
           }
          ],
          "scattercarpet": [
           {
            "marker": {
             "colorbar": {
              "outlinewidth": 1,
              "tickcolor": "rgb(36,36,36)",
              "ticks": "outside"
             }
            },
            "type": "scattercarpet"
           }
          ],
          "scattergeo": [
           {
            "marker": {
             "colorbar": {
              "outlinewidth": 1,
              "tickcolor": "rgb(36,36,36)",
              "ticks": "outside"
             }
            },
            "type": "scattergeo"
           }
          ],
          "scattergl": [
           {
            "marker": {
             "colorbar": {
              "outlinewidth": 1,
              "tickcolor": "rgb(36,36,36)",
              "ticks": "outside"
             }
            },
            "type": "scattergl"
           }
          ],
          "scattermapbox": [
           {
            "marker": {
             "colorbar": {
              "outlinewidth": 1,
              "tickcolor": "rgb(36,36,36)",
              "ticks": "outside"
             }
            },
            "type": "scattermapbox"
           }
          ],
          "scatterpolar": [
           {
            "marker": {
             "colorbar": {
              "outlinewidth": 1,
              "tickcolor": "rgb(36,36,36)",
              "ticks": "outside"
             }
            },
            "type": "scatterpolar"
           }
          ],
          "scatterpolargl": [
           {
            "marker": {
             "colorbar": {
              "outlinewidth": 1,
              "tickcolor": "rgb(36,36,36)",
              "ticks": "outside"
             }
            },
            "type": "scatterpolargl"
           }
          ],
          "scatterternary": [
           {
            "marker": {
             "colorbar": {
              "outlinewidth": 1,
              "tickcolor": "rgb(36,36,36)",
              "ticks": "outside"
             }
            },
            "type": "scatterternary"
           }
          ],
          "surface": [
           {
            "colorbar": {
             "outlinewidth": 1,
             "tickcolor": "rgb(36,36,36)",
             "ticks": "outside"
            },
            "colorscale": [
             [
              0,
              "#440154"
             ],
             [
              0.1111111111111111,
              "#482878"
             ],
             [
              0.2222222222222222,
              "#3e4989"
             ],
             [
              0.3333333333333333,
              "#31688e"
             ],
             [
              0.4444444444444444,
              "#26828e"
             ],
             [
              0.5555555555555556,
              "#1f9e89"
             ],
             [
              0.6666666666666666,
              "#35b779"
             ],
             [
              0.7777777777777778,
              "#6ece58"
             ],
             [
              0.8888888888888888,
              "#b5de2b"
             ],
             [
              1,
              "#fde725"
             ]
            ],
            "type": "surface"
           }
          ],
          "table": [
           {
            "cells": {
             "fill": {
              "color": "rgb(237,237,237)"
             },
             "line": {
              "color": "white"
             }
            },
            "header": {
             "fill": {
              "color": "rgb(217,217,217)"
             },
             "line": {
              "color": "white"
             }
            },
            "type": "table"
           }
          ]
         },
         "layout": {
          "annotationdefaults": {
           "arrowhead": 0,
           "arrowwidth": 1
          },
          "autotypenumbers": "strict",
          "coloraxis": {
           "colorbar": {
            "outlinewidth": 1,
            "tickcolor": "rgb(36,36,36)",
            "ticks": "outside"
           }
          },
          "colorscale": {
           "diverging": [
            [
             0,
             "rgb(103,0,31)"
            ],
            [
             0.1,
             "rgb(178,24,43)"
            ],
            [
             0.2,
             "rgb(214,96,77)"
            ],
            [
             0.3,
             "rgb(244,165,130)"
            ],
            [
             0.4,
             "rgb(253,219,199)"
            ],
            [
             0.5,
             "rgb(247,247,247)"
            ],
            [
             0.6,
             "rgb(209,229,240)"
            ],
            [
             0.7,
             "rgb(146,197,222)"
            ],
            [
             0.8,
             "rgb(67,147,195)"
            ],
            [
             0.9,
             "rgb(33,102,172)"
            ],
            [
             1,
             "rgb(5,48,97)"
            ]
           ],
           "sequential": [
            [
             0,
             "#440154"
            ],
            [
             0.1111111111111111,
             "#482878"
            ],
            [
             0.2222222222222222,
             "#3e4989"
            ],
            [
             0.3333333333333333,
             "#31688e"
            ],
            [
             0.4444444444444444,
             "#26828e"
            ],
            [
             0.5555555555555556,
             "#1f9e89"
            ],
            [
             0.6666666666666666,
             "#35b779"
            ],
            [
             0.7777777777777778,
             "#6ece58"
            ],
            [
             0.8888888888888888,
             "#b5de2b"
            ],
            [
             1,
             "#fde725"
            ]
           ],
           "sequentialminus": [
            [
             0,
             "#440154"
            ],
            [
             0.1111111111111111,
             "#482878"
            ],
            [
             0.2222222222222222,
             "#3e4989"
            ],
            [
             0.3333333333333333,
             "#31688e"
            ],
            [
             0.4444444444444444,
             "#26828e"
            ],
            [
             0.5555555555555556,
             "#1f9e89"
            ],
            [
             0.6666666666666666,
             "#35b779"
            ],
            [
             0.7777777777777778,
             "#6ece58"
            ],
            [
             0.8888888888888888,
             "#b5de2b"
            ],
            [
             1,
             "#fde725"
            ]
           ]
          },
          "colorway": [
           "#1F77B4",
           "#FF7F0E",
           "#2CA02C",
           "#D62728",
           "#9467BD",
           "#8C564B",
           "#E377C2",
           "#7F7F7F",
           "#BCBD22",
           "#17BECF"
          ],
          "font": {
           "color": "rgb(36,36,36)"
          },
          "geo": {
           "bgcolor": "white",
           "lakecolor": "white",
           "landcolor": "white",
           "showlakes": true,
           "showland": true,
           "subunitcolor": "white"
          },
          "hoverlabel": {
           "align": "left"
          },
          "hovermode": "closest",
          "mapbox": {
           "style": "light"
          },
          "paper_bgcolor": "white",
          "plot_bgcolor": "white",
          "polar": {
           "angularaxis": {
            "gridcolor": "rgb(232,232,232)",
            "linecolor": "rgb(36,36,36)",
            "showgrid": false,
            "showline": true,
            "ticks": "outside"
           },
           "bgcolor": "white",
           "radialaxis": {
            "gridcolor": "rgb(232,232,232)",
            "linecolor": "rgb(36,36,36)",
            "showgrid": false,
            "showline": true,
            "ticks": "outside"
           }
          },
          "scene": {
           "xaxis": {
            "backgroundcolor": "white",
            "gridcolor": "rgb(232,232,232)",
            "gridwidth": 2,
            "linecolor": "rgb(36,36,36)",
            "showbackground": true,
            "showgrid": false,
            "showline": true,
            "ticks": "outside",
            "zeroline": false,
            "zerolinecolor": "rgb(36,36,36)"
           },
           "yaxis": {
            "backgroundcolor": "white",
            "gridcolor": "rgb(232,232,232)",
            "gridwidth": 2,
            "linecolor": "rgb(36,36,36)",
            "showbackground": true,
            "showgrid": false,
            "showline": true,
            "ticks": "outside",
            "zeroline": false,
            "zerolinecolor": "rgb(36,36,36)"
           },
           "zaxis": {
            "backgroundcolor": "white",
            "gridcolor": "rgb(232,232,232)",
            "gridwidth": 2,
            "linecolor": "rgb(36,36,36)",
            "showbackground": true,
            "showgrid": false,
            "showline": true,
            "ticks": "outside",
            "zeroline": false,
            "zerolinecolor": "rgb(36,36,36)"
           }
          },
          "shapedefaults": {
           "fillcolor": "black",
           "line": {
            "width": 0
           },
           "opacity": 0.3
          },
          "ternary": {
           "aaxis": {
            "gridcolor": "rgb(232,232,232)",
            "linecolor": "rgb(36,36,36)",
            "showgrid": false,
            "showline": true,
            "ticks": "outside"
           },
           "baxis": {
            "gridcolor": "rgb(232,232,232)",
            "linecolor": "rgb(36,36,36)",
            "showgrid": false,
            "showline": true,
            "ticks": "outside"
           },
           "bgcolor": "white",
           "caxis": {
            "gridcolor": "rgb(232,232,232)",
            "linecolor": "rgb(36,36,36)",
            "showgrid": false,
            "showline": true,
            "ticks": "outside"
           }
          },
          "title": {
           "x": 0.05
          },
          "xaxis": {
           "automargin": true,
           "gridcolor": "rgb(232,232,232)",
           "linecolor": "rgb(36,36,36)",
           "showgrid": false,
           "showline": true,
           "ticks": "outside",
           "title": {
            "standoff": 15
           },
           "zeroline": false,
           "zerolinecolor": "rgb(36,36,36)"
          },
          "yaxis": {
           "automargin": true,
           "gridcolor": "rgb(232,232,232)",
           "linecolor": "rgb(36,36,36)",
           "showgrid": false,
           "showline": true,
           "ticks": "outside",
           "title": {
            "standoff": 15
           },
           "zeroline": false,
           "zerolinecolor": "rgb(36,36,36)"
          }
         }
        },
        "title": {},
        "width": 1700,
        "xaxis": {
         "anchor": "y",
         "domain": [
          0,
          1
         ],
         "gridcolor": "LightGray",
         "gridwidth": 1,
         "showgrid": true,
         "title": {
          "text": ""
         },
         "type": "date"
        },
        "yaxis": {
         "anchor": "x",
         "categoryorder": "category ascending",
         "domain": [
          0,
          1
         ],
         "showgrid": true,
         "ticktext": [
          "11:30",
          "19:30",
          "13:00",
          "19:00",
          "18:30",
          "12:00",
          "20:00",
          "17:00",
          "12:30",
          "15:00",
          "18:00",
          "14:00"
         ],
         "tickvals": [
          "11:30:00",
          "19:30:00",
          "13:00:00",
          "19:00:00",
          "18:30:00",
          "12:00:00",
          "20:00:00",
          "17:00:00",
          "12:30:00",
          "15:00:00",
          "18:00:00",
          "14:00:00"
         ],
         "title": {
          "text": ""
         }
        }
       }
      }
     },
     "metadata": {},
     "output_type": "display_data"
    }
   ],
   "source": [
    "import plotly.express as px\n",
    "\n",
    "\n",
    "def plot_events(events_df, colour1=\"T10\", colour2=\"Dark24\"):\n",
    "    \"\"\"\n",
    "    Plot the timeline of the upcoming events on the Main Stage\n",
    "    \"\"\"\n",
    "    today = pd.Timestamp.today(tz=\"Europe/London\") - pd.Timedelta(hours=1)\n",
    "    events_df_sub = events_df.query(\n",
    "        \"location == 'Main Stage' & date >= @today.date()\"\n",
    "    ).reset_index(drop=True)\n",
    "    # Start time: 1:00, End time: 23:00 of the event date\n",
    "    events_df_sub[\"timestamp_start\"] = events_df_sub.timestamp.dt.floor(\n",
    "        \"D\"\n",
    "    ) + pd.Timedelta(hours=1)\n",
    "    events_df_sub[\"timestamp_end\"] = events_df_sub.timestamp.dt.ceil(\n",
    "        \"D\"\n",
    "    ) - pd.Timedelta(hours=1)\n",
    "\n",
    "    events_df_sub[\"date_str\"] = events_df_sub.timestamp.dt.strftime(\"%b %-d, %Y\")\n",
    "\n",
    "    colour1_list = getattr(px.colors.qualitative, colour1)\n",
    "    colour2_list = getattr(px.colors.qualitative, colour2)\n",
    "    combined = colour1_list + colour2_list\n",
    "    fig = px.timeline(\n",
    "        events_df_sub,\n",
    "        x_start=\"timestamp_start\",\n",
    "        x_end=\"timestamp_end\",\n",
    "        y=\"time\",\n",
    "        custom_data=[\"title\", \"url\", \"date_str\"],\n",
    "        color=\"title\",\n",
    "        title=\"Royal Opera House Events\",\n",
    "        template=\"simple_white\",\n",
    "        hover_name=\"url\",\n",
    "        color_discrete_sequence=combined,\n",
    "    )\n",
    "    # Keep first 5 characters of the y axis marks\n",
    "    fig.update_yaxes(\n",
    "        categoryorder=\"category ascending\",\n",
    "        showgrid=True,\n",
    "        tickvals=events_df_sub.time.unique(),\n",
    "        ticktext=[str(x)[:5] for x in events_df_sub.time.unique()],\n",
    "        title=\"\",\n",
    "    )\n",
    "    fig.update_xaxes(\n",
    "        title=\"\",\n",
    "        showgrid=True,\n",
    "        gridwidth=1,\n",
    "        gridcolor=\"LightGray\",\n",
    "    )\n",
    "    fig.update_layout(\n",
    "        hovermode=\"closest\",\n",
    "        hoverdistance=1000,\n",
    "        width=1700,\n",
    "        height=500,\n",
    "        margin=dict(l=0, r=0, b=0, t=40, pad=0),\n",
    "    )\n",
    "    fig.update_layout(\n",
    "        hoverlabel=dict(\n",
    "            font_size=16,\n",
    "            font_family=\"Gotham\",\n",
    "            font_color=\"White\",\n",
    "            bgcolor=\"#C7102E\",\n",
    "        ),\n",
    "        legend=dict(\n",
    "            title=\"\",\n",
    "            title_font=dict(size=15, family=\"Gotham\"),\n",
    "            font=dict(size=13, family=\"Gotham\"),\n",
    "            orientation=\"h\",\n",
    "        ),\n",
    "        title=None,\n",
    "    )\n",
    "    fig.layout.font.family = \"Gotham\"\n",
    "    fig.update_traces(\n",
    "        hovertemplate=\"<br>\".join(\n",
    "            [\n",
    "                \"%{customdata[0]}\",\n",
    "                \"%{customdata[2]}\",\n",
    "                \"%{y}\",\n",
    "            ],\n",
    "        )\n",
    "        + \"<extra></extra>\",\n",
    "        marker=dict(opacity=1, line=dict(width=0.5, color=\"Black\")),\n",
    "    )\n",
    "    fig.show()\n",
    "    # fig.write_image(f\"output/ROH_events.png\", scale=3)\n",
    "\n",
    "\n",
    "plot_events(events_df)"
   ]
  },
  {
   "cell_type": "code",
   "execution_count": null,
   "metadata": {},
   "outputs": [],
   "source": []
  },
  {
   "cell_type": "code",
   "execution_count": 6,
   "metadata": {},
   "outputs": [],
   "source": [
    "all_colours = px.colors.qualitative.__dict__.keys()\n",
    "all_colours = [x for x in all_colours if not x.startswith(\"_\")]\n",
    "remove_colours = [\"Pastel1\", \"Pastel2\", \"Set3\", \"Pastel\"]\n",
    "all_colours = [x for x in all_colours if x not in remove_colours]\n",
    "all_colours = [x for x in all_colours if not x.endswith(\"_r\")]"
   ]
  },
  {
   "cell_type": "code",
   "execution_count": null,
   "metadata": {},
   "outputs": [],
   "source": [
    "for colour1 in all_colours:\n",
    "    for colour2 in all_colours:\n",
    "        try:\n",
    "            plot_events(events_df, colour1, colour2)\n",
    "        except:\n",
    "            pass\n",
    "        print(f\"0_{colour1}_{colour2}.png\")"
   ]
  },
  {
   "cell_type": "code",
   "execution_count": null,
   "metadata": {},
   "outputs": [],
   "source": [
    "# G10_Set2\n",
    "# T10_Alphabet\n",
    "# T10_Bold\n",
    "# T10_Dark2\n"
   ]
  }
 ],
 "metadata": {
  "kernelspec": {
   "display_name": "python-roh-fd6R9wvn-py3.10",
   "language": "python",
   "name": "python3"
  },
  "language_info": {
   "codemirror_mode": {
    "name": "ipython",
    "version": 3
   },
   "file_extension": ".py",
   "mimetype": "text/x-python",
   "name": "python",
   "nbconvert_exporter": "python",
   "pygments_lexer": "ipython3",
   "version": "3.10.13"
  }
 },
 "nbformat": 4,
 "nbformat_minor": 2
}
