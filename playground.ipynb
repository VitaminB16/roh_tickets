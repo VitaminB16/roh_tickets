{
 "cells": [
  {
   "cell_type": "code",
   "execution_count": 1,
   "metadata": {},
   "outputs": [],
   "source": [
    "import os\n",
    "import plotly.express as px\n",
    "\n",
    "from set_secrets import set_secrets\n",
    "from python_roh.src.api import get_query_dict\n",
    "from python_roh.src.src import query_all_data\n",
    "from python_roh.src.config import *\n",
    "\n",
    "if \"src_secret.py\" in os.listdir(\"python_roh/src\"):\n",
    "    from python_roh.src.src_secret import secret_function"
   ]
  },
  {
   "cell_type": "code",
   "execution_count": 2,
   "metadata": {},
   "outputs": [],
   "source": [
    "performance_id, mode_of_sale_id, constituent_id, source_id = (\n",
    "    os.environ[\"PERFORMANCE_ID\"],\n",
    "    os.environ[\"MODE_OF_SALE_ID\"],\n",
    "    os.environ[\"CONSTITUENT_ID\"],\n",
    "    os.environ[\"SOURCE_ID\"],\n",
    ")"
   ]
  },
  {
   "cell_type": "code",
   "execution_count": 3,
   "metadata": {},
   "outputs": [
    {
     "name": "stdout",
     "output_type": "stream",
     "text": [
      "Queried the following from the API: ['seats', 'prices', 'zone_ids', 'price_types', 'events']\n"
     ]
    }
   ],
   "source": [
    "query_dict = get_query_dict(\n",
    "    performance_id=performance_id,\n",
    "    constituent_id=constituent_id,\n",
    "    mode_of_sale_id=mode_of_sale_id,\n",
    "    source_id=source_id,\n",
    ")\n",
    "all_data = query_all_data(query_dict, post_process=True)"
   ]
  },
  {
   "cell_type": "code",
   "execution_count": 4,
   "metadata": {},
   "outputs": [],
   "source": [
    "# if \"secret_function\" in globals():\n",
    "#     secret_function(query_dict)"
   ]
  },
  {
   "cell_type": "code",
   "execution_count": 5,
   "metadata": {},
   "outputs": [],
   "source": [
    "seats_price_df, prices_df, zones_df, price_types_df = (\n",
    "    all_data[\"seats_price\"],\n",
    "    all_data[\"prices\"],\n",
    "    all_data[\"zones\"],\n",
    "    all_data[\"price_types\"],\n",
    ")"
   ]
  },
  {
   "cell_type": "code",
   "execution_count": 6,
   "metadata": {},
   "outputs": [
    {
     "data": {
      "application/vnd.plotly.v1+json": {
       "config": {
        "plotlyServerURL": "https://plot.ly"
       },
       "data": [
        {
         "customdata": [
          [
           "Not available",
           "Orchestra Stalls",
           "W",
           "18"
          ],
          [
           "Not available",
           "Orchestra Stalls",
           "W",
           "17"
          ],
          [
           "Not available",
           "Orchestra Stalls",
           "W",
           "16"
          ],
          [
           "Not available",
           "Orchestra Stalls",
           "W",
           "15"
          ],
          [
           "Not available",
           "Orchestra Stalls",
           "W",
           "14"
          ],
          [
           "Not available",
           "Orchestra Stalls",
           "W",
           "13"
          ],
          [
           "£172",
           "Orchestra Stalls",
           "V",
           "22"
          ],
          [
           "£172",
           "Orchestra Stalls",
           "V",
           "21"
          ],
          [
           "Not available",
           "Orchestra Stalls",
           "V",
           "20"
          ],
          [
           "Not available",
           "Orchestra Stalls",
           "V",
           "19"
          ],
          [
           "Not available",
           "Orchestra Stalls",
           "V",
           "18"
          ],
          [
           "Not available",
           "Orchestra Stalls",
           "V",
           "17"
          ],
          [
           "Not available",
           "Orchestra Stalls",
           "V",
           "16"
          ],
          [
           "Not available",
           "Orchestra Stalls",
           "V",
           "15"
          ],
          [
           "£172",
           "Orchestra Stalls",
           "V",
           "14"
          ],
          [
           "£172",
           "Orchestra Stalls",
           "V",
           "13"
          ],
          [
           "£172",
           "Orchestra Stalls",
           "V",
           "12"
          ],
          [
           "£172",
           "Orchestra Stalls",
           "V",
           "11"
          ],
          [
           "Not available",
           "Orchestra Stalls",
           "V",
           "10"
          ],
          [
           "Not available",
           "Orchestra Stalls",
           "U",
           "26"
          ],
          [
           "Not available",
           "Orchestra Stalls",
           "U",
           "25"
          ],
          [
           "Not available",
           "Orchestra Stalls",
           "U",
           "24"
          ],
          [
           "Not available",
           "Orchestra Stalls",
           "U",
           "23"
          ],
          [
           "Not available",
           "Orchestra Stalls",
           "U",
           "22"
          ],
          [
           "Not available",
           "Orchestra Stalls",
           "U",
           "21"
          ],
          [
           "Not available",
           "Orchestra Stalls",
           "U",
           "20"
          ],
          [
           "Not available",
           "Orchestra Stalls",
           "U",
           "19"
          ],
          [
           "Not available",
           "Orchestra Stalls",
           "U",
           "18"
          ],
          [
           "Not available",
           "Orchestra Stalls",
           "U",
           "17"
          ],
          [
           "Not available",
           "Orchestra Stalls",
           "U",
           "16"
          ],
          [
           "Not available",
           "Orchestra Stalls",
           "U",
           "15"
          ],
          [
           "Not available",
           "Orchestra Stalls",
           "U",
           "14"
          ],
          [
           "Not available",
           "Orchestra Stalls",
           "U",
           "13"
          ],
          [
           "£172",
           "Orchestra Stalls",
           "U",
           "12"
          ],
          [
           "£172",
           "Orchestra Stalls",
           "U",
           "11"
          ],
          [
           "£172",
           "Orchestra Stalls",
           "U",
           "10"
          ],
          [
           "£172",
           "Orchestra Stalls",
           "U",
           "9"
          ],
          [
           "Not available",
           "Orchestra Stalls",
           "U",
           "8"
          ],
          [
           "Not available",
           "Orchestra Stalls",
           "U",
           "7"
          ],
          [
           "Not available",
           "Orchestra Stalls",
           "U",
           "6"
          ],
          [
           "Not available",
           "Orchestra Stalls",
           "U",
           "5"
          ],
          [
           "Not available",
           "Orchestra Stalls",
           "T",
           "28"
          ],
          [
           "Not available",
           "Orchestra Stalls",
           "T",
           "27"
          ],
          [
           "Not available",
           "Orchestra Stalls",
           "T",
           "26"
          ],
          [
           "£221",
           "Orchestra Stalls",
           "T",
           "25"
          ],
          [
           "£221",
           "Orchestra Stalls",
           "T",
           "24"
          ],
          [
           "£221",
           "Orchestra Stalls",
           "T",
           "23"
          ],
          [
           "£221",
           "Orchestra Stalls",
           "T",
           "22"
          ],
          [
           "£221",
           "Orchestra Stalls",
           "T",
           "21"
          ],
          [
           "£221",
           "Orchestra Stalls",
           "T",
           "16"
          ],
          [
           "£221",
           "Orchestra Stalls",
           "T",
           "15"
          ],
          [
           "Not available",
           "Orchestra Stalls",
           "T",
           "14"
          ],
          [
           "Not available",
           "Orchestra Stalls",
           "T",
           "13"
          ],
          [
           "Not available",
           "Orchestra Stalls",
           "T",
           "12"
          ],
          [
           "Not available",
           "Orchestra Stalls",
           "T",
           "11"
          ],
          [
           "£221",
           "Orchestra Stalls",
           "T",
           "10"
          ],
          [
           "£221",
           "Orchestra Stalls",
           "T",
           "9"
          ],
          [
           "£221",
           "Orchestra Stalls",
           "T",
           "8"
          ],
          [
           "£221",
           "Orchestra Stalls",
           "T",
           "7"
          ],
          [
           "Not available",
           "Orchestra Stalls",
           "T",
           "6"
          ],
          [
           "£221",
           "Orchestra Stalls",
           "T",
           "5"
          ],
          [
           "£172",
           "Orchestra Stalls",
           "T",
           "4"
          ],
          [
           "£172",
           "Orchestra Stalls",
           "S",
           "28"
          ],
          [
           "£172",
           "Orchestra Stalls",
           "S",
           "27"
          ],
          [
           "Not available",
           "Orchestra Stalls",
           "S",
           "26"
          ],
          [
           "Not available",
           "Orchestra Stalls",
           "S",
           "25"
          ],
          [
           "Not available",
           "Orchestra Stalls",
           "S",
           "24"
          ],
          [
           "£221",
           "Orchestra Stalls",
           "S",
           "23"
          ],
          [
           "£221",
           "Orchestra Stalls",
           "S",
           "22"
          ],
          [
           "£221",
           "Orchestra Stalls",
           "S",
           "21"
          ],
          [
           "£221",
           "Orchestra Stalls",
           "S",
           "20"
          ],
          [
           "£221",
           "Orchestra Stalls",
           "S",
           "15"
          ],
          [
           "£221",
           "Orchestra Stalls",
           "S",
           "14"
          ],
          [
           "£221",
           "Orchestra Stalls",
           "S",
           "13"
          ],
          [
           "£221",
           "Orchestra Stalls",
           "S",
           "12"
          ],
          [
           "£221",
           "Orchestra Stalls",
           "S",
           "11"
          ],
          [
           "£221",
           "Orchestra Stalls",
           "S",
           "10"
          ],
          [
           "£221",
           "Orchestra Stalls",
           "S",
           "9"
          ],
          [
           "£221",
           "Orchestra Stalls",
           "S",
           "8"
          ],
          [
           "£221",
           "Orchestra Stalls",
           "S",
           "7"
          ],
          [
           "Not available",
           "Orchestra Stalls",
           "S",
           "6"
          ],
          [
           "Not available",
           "Orchestra Stalls",
           "S",
           "5"
          ],
          [
           "Not available",
           "Orchestra Stalls",
           "S",
           "4"
          ],
          [
           "Not available",
           "Orchestra Stalls",
           "S",
           "3"
          ],
          [
           "Not available",
           "Orchestra Stalls",
           "R",
           "30"
          ],
          [
           "Not available",
           "Orchestra Stalls",
           "R",
           "29"
          ],
          [
           "Not available",
           "Orchestra Stalls",
           "R",
           "28"
          ],
          [
           "Not available",
           "Orchestra Stalls",
           "R",
           "27"
          ],
          [
           "Not available",
           "Orchestra Stalls",
           "R",
           "26"
          ],
          [
           "Not available",
           "Orchestra Stalls",
           "R",
           "25"
          ],
          [
           "Not available",
           "Orchestra Stalls",
           "R",
           "24"
          ],
          [
           "Not available",
           "Orchestra Stalls",
           "R",
           "23"
          ],
          [
           "£221",
           "Orchestra Stalls",
           "R",
           "22"
          ],
          [
           "£221",
           "Orchestra Stalls",
           "R",
           "21"
          ],
          [
           "£221",
           "Orchestra Stalls",
           "R",
           "20"
          ],
          [
           "£221",
           "Orchestra Stalls",
           "R",
           "19"
          ],
          [
           "£221",
           "Orchestra Stalls",
           "R",
           "18"
          ],
          [
           "£221",
           "Orchestra Stalls",
           "R",
           "17"
          ],
          [
           "£221",
           "Orchestra Stalls",
           "R",
           "16"
          ],
          [
           "£221",
           "Orchestra Stalls",
           "R",
           "15"
          ],
          [
           "£221",
           "Orchestra Stalls",
           "R",
           "14"
          ],
          [
           "£221",
           "Orchestra Stalls",
           "R",
           "13"
          ],
          [
           "£221",
           "Orchestra Stalls",
           "R",
           "12"
          ],
          [
           "£221",
           "Orchestra Stalls",
           "R",
           "11"
          ],
          [
           "£221",
           "Orchestra Stalls",
           "R",
           "10"
          ],
          [
           "£221",
           "Orchestra Stalls",
           "R",
           "9"
          ],
          [
           "£221",
           "Orchestra Stalls",
           "R",
           "8"
          ],
          [
           "£221",
           "Orchestra Stalls",
           "R",
           "7"
          ],
          [
           "Not available",
           "Orchestra Stalls",
           "R",
           "6"
          ],
          [
           "Not available",
           "Orchestra Stalls",
           "R",
           "5"
          ],
          [
           "Not available",
           "Orchestra Stalls",
           "R",
           "4"
          ],
          [
           "Not available",
           "Orchestra Stalls",
           "R",
           "3"
          ],
          [
           "£172",
           "Orchestra Stalls",
           "R",
           "2"
          ],
          [
           "£172",
           "Orchestra Stalls",
           "P",
           "31"
          ],
          [
           "£172",
           "Orchestra Stalls",
           "P",
           "30"
          ],
          [
           "£172",
           "Orchestra Stalls",
           "P",
           "29"
          ],
          [
           "Not available",
           "Orchestra Stalls",
           "P",
           "28"
          ],
          [
           "Not available",
           "Orchestra Stalls",
           "P",
           "27"
          ],
          [
           "Not available",
           "Orchestra Stalls",
           "P",
           "26"
          ],
          [
           "Not available",
           "Orchestra Stalls",
           "P",
           "25"
          ],
          [
           "£221",
           "Orchestra Stalls",
           "P",
           "24"
          ],
          [
           "£221",
           "Orchestra Stalls",
           "P",
           "23"
          ],
          [
           "£221",
           "Orchestra Stalls",
           "P",
           "22"
          ],
          [
           "£221",
           "Orchestra Stalls",
           "P",
           "21"
          ],
          [
           "Not available",
           "Orchestra Stalls",
           "P",
           "20"
          ],
          [
           "Not available",
           "Orchestra Stalls",
           "P",
           "19"
          ],
          [
           "Not available",
           "Orchestra Stalls",
           "P",
           "18"
          ],
          [
           "Not available",
           "Orchestra Stalls",
           "P",
           "17"
          ],
          [
           "Not available",
           "Orchestra Stalls",
           "P",
           "16"
          ],
          [
           "£221",
           "Orchestra Stalls",
           "P",
           "15"
          ],
          [
           "£221",
           "Orchestra Stalls",
           "P",
           "14"
          ],
          [
           "£221",
           "Orchestra Stalls",
           "P",
           "13"
          ],
          [
           "£221",
           "Orchestra Stalls",
           "P",
           "12"
          ],
          [
           "£221",
           "Orchestra Stalls",
           "P",
           "11"
          ],
          [
           "£221",
           "Orchestra Stalls",
           "P",
           "10"
          ],
          [
           "£221",
           "Orchestra Stalls",
           "P",
           "9"
          ],
          [
           "Not available",
           "Orchestra Stalls",
           "P",
           "8"
          ],
          [
           "Not available",
           "Orchestra Stalls",
           "P",
           "7"
          ],
          [
           "Not available",
           "Orchestra Stalls",
           "P",
           "6"
          ],
          [
           "Not available",
           "Orchestra Stalls",
           "P",
           "5"
          ],
          [
           "Not available",
           "Orchestra Stalls",
           "P",
           "4"
          ],
          [
           "Not available",
           "Orchestra Stalls",
           "P",
           "3"
          ],
          [
           "Not available",
           "Orchestra Stalls",
           "P",
           "2"
          ],
          [
           "£221",
           "Orchestra Stalls",
           "N",
           "29"
          ],
          [
           "£221",
           "Orchestra Stalls",
           "N",
           "28"
          ],
          [
           "Not available",
           "Orchestra Stalls",
           "N",
           "27"
          ],
          [
           "Not available",
           "Orchestra Stalls",
           "N",
           "26"
          ],
          [
           "£245",
           "Orchestra Stalls",
           "N",
           "25"
          ],
          [
           "£245",
           "Orchestra Stalls",
           "N",
           "24"
          ],
          [
           "£245",
           "Orchestra Stalls",
           "N",
           "23"
          ],
          [
           "£245",
           "Orchestra Stalls",
           "N",
           "22"
          ],
          [
           "£245",
           "Orchestra Stalls",
           "N",
           "21"
          ],
          [
           "£245",
           "Orchestra Stalls",
           "N",
           "20"
          ],
          [
           "£245",
           "Orchestra Stalls",
           "N",
           "19"
          ],
          [
           "£245",
           "Orchestra Stalls",
           "N",
           "18"
          ],
          [
           "£245",
           "Orchestra Stalls",
           "N",
           "17"
          ],
          [
           "£245",
           "Orchestra Stalls",
           "N",
           "16"
          ],
          [
           "£245",
           "Orchestra Stalls",
           "N",
           "15"
          ],
          [
           "£245",
           "Orchestra Stalls",
           "N",
           "14"
          ],
          [
           "£245",
           "Orchestra Stalls",
           "N",
           "13"
          ],
          [
           "£245",
           "Orchestra Stalls",
           "N",
           "12"
          ],
          [
           "£245",
           "Orchestra Stalls",
           "N",
           "11"
          ],
          [
           "£245",
           "Orchestra Stalls",
           "N",
           "10"
          ],
          [
           "£245",
           "Orchestra Stalls",
           "N",
           "9"
          ],
          [
           "£245",
           "Orchestra Stalls",
           "N",
           "8"
          ],
          [
           "£245",
           "Orchestra Stalls",
           "N",
           "7"
          ],
          [
           "Not available",
           "Orchestra Stalls",
           "N",
           "6"
          ],
          [
           "Not available",
           "Orchestra Stalls",
           "N",
           "5"
          ],
          [
           "£221",
           "Orchestra Stalls",
           "N",
           "4"
          ],
          [
           "£221",
           "Orchestra Stalls",
           "N",
           "3"
          ],
          [
           "£221",
           "Orchestra Stalls",
           "M",
           "30"
          ],
          [
           "£221",
           "Orchestra Stalls",
           "M",
           "29"
          ],
          [
           "Not available",
           "Orchestra Stalls",
           "M",
           "28"
          ],
          [
           "Not available",
           "Orchestra Stalls",
           "M",
           "27"
          ],
          [
           "£245",
           "Orchestra Stalls",
           "M",
           "26"
          ],
          [
           "£245",
           "Orchestra Stalls",
           "M",
           "25"
          ],
          [
           "£245",
           "Orchestra Stalls",
           "M",
           "24"
          ],
          [
           "£245",
           "Orchestra Stalls",
           "M",
           "23"
          ],
          [
           "£245",
           "Orchestra Stalls",
           "M",
           "22"
          ],
          [
           "£245",
           "Orchestra Stalls",
           "M",
           "21"
          ],
          [
           "£245",
           "Orchestra Stalls",
           "M",
           "20"
          ],
          [
           "£245",
           "Orchestra Stalls",
           "M",
           "19"
          ],
          [
           "£245",
           "Orchestra Stalls",
           "M",
           "18"
          ],
          [
           "£245",
           "Orchestra Stalls",
           "M",
           "17"
          ],
          [
           "£245",
           "Orchestra Stalls",
           "M",
           "16"
          ],
          [
           "£245",
           "Orchestra Stalls",
           "M",
           "15"
          ],
          [
           "£245",
           "Orchestra Stalls",
           "M",
           "14"
          ],
          [
           "£245",
           "Orchestra Stalls",
           "M",
           "13"
          ],
          [
           "£245",
           "Orchestra Stalls",
           "M",
           "12"
          ],
          [
           "£245",
           "Orchestra Stalls",
           "M",
           "11"
          ],
          [
           "£245",
           "Orchestra Stalls",
           "M",
           "10"
          ],
          [
           "£245",
           "Orchestra Stalls",
           "M",
           "9"
          ],
          [
           "£245",
           "Orchestra Stalls",
           "M",
           "8"
          ],
          [
           "£245",
           "Orchestra Stalls",
           "M",
           "7"
          ],
          [
           "Not available",
           "Orchestra Stalls",
           "M",
           "6"
          ],
          [
           "Not available",
           "Orchestra Stalls",
           "M",
           "5"
          ],
          [
           "£221",
           "Orchestra Stalls",
           "M",
           "4"
          ],
          [
           "£221",
           "Orchestra Stalls",
           "M",
           "3"
          ],
          [
           "£221",
           "Orchestra Stalls",
           "L",
           "31"
          ],
          [
           "£221",
           "Orchestra Stalls",
           "L",
           "30"
          ],
          [
           "£221",
           "Orchestra Stalls",
           "L",
           "29"
          ],
          [
           "£221",
           "Orchestra Stalls",
           "L",
           "28"
          ],
          [
           "Not available",
           "Orchestra Stalls",
           "L",
           "27"
          ],
          [
           "Not available",
           "Orchestra Stalls",
           "L",
           "26"
          ],
          [
           "£245",
           "Orchestra Stalls",
           "L",
           "25"
          ],
          [
           "£245",
           "Orchestra Stalls",
           "L",
           "24"
          ],
          [
           "£245",
           "Orchestra Stalls",
           "L",
           "23"
          ],
          [
           "£245",
           "Orchestra Stalls",
           "L",
           "22"
          ],
          [
           "£245",
           "Orchestra Stalls",
           "L",
           "21"
          ],
          [
           "£245",
           "Orchestra Stalls",
           "L",
           "20"
          ],
          [
           "£245",
           "Orchestra Stalls",
           "L",
           "19"
          ],
          [
           "Not available",
           "Orchestra Stalls",
           "L",
           "18"
          ],
          [
           "Not available",
           "Orchestra Stalls",
           "L",
           "17"
          ],
          [
           "Not available",
           "Orchestra Stalls",
           "L",
           "16"
          ],
          [
           "Not available",
           "Orchestra Stalls",
           "L",
           "15"
          ],
          [
           "Not available",
           "Orchestra Stalls",
           "L",
           "14"
          ],
          [
           "£245",
           "Orchestra Stalls",
           "L",
           "13"
          ],
          [
           "£245",
           "Orchestra Stalls",
           "L",
           "12"
          ],
          [
           "£245",
           "Orchestra Stalls",
           "L",
           "11"
          ],
          [
           "£245",
           "Orchestra Stalls",
           "L",
           "10"
          ],
          [
           "£245",
           "Orchestra Stalls",
           "L",
           "9"
          ],
          [
           "£245",
           "Orchestra Stalls",
           "L",
           "8"
          ],
          [
           "Not available",
           "Orchestra Stalls",
           "L",
           "7"
          ],
          [
           "Not available",
           "Orchestra Stalls",
           "L",
           "6"
          ],
          [
           "Not available",
           "Orchestra Stalls",
           "L",
           "5"
          ],
          [
           "£221",
           "Orchestra Stalls",
           "L",
           "4"
          ],
          [
           "£221",
           "Orchestra Stalls",
           "L",
           "3"
          ],
          [
           "£221",
           "Orchestra Stalls",
           "L",
           "2"
          ],
          [
           "£221",
           "Orchestra Stalls",
           "L",
           "1"
          ],
          [
           "£221",
           "Orchestra Stalls",
           "K",
           "32"
          ],
          [
           "£221",
           "Orchestra Stalls",
           "K",
           "31"
          ],
          [
           "£221",
           "Orchestra Stalls",
           "K",
           "30"
          ],
          [
           "£221",
           "Orchestra Stalls",
           "K",
           "29"
          ],
          [
           "Not available",
           "Orchestra Stalls",
           "K",
           "28"
          ],
          [
           "Not available",
           "Orchestra Stalls",
           "K",
           "27"
          ],
          [
           "£245",
           "Orchestra Stalls",
           "K",
           "26"
          ],
          [
           "£245",
           "Orchestra Stalls",
           "K",
           "25"
          ],
          [
           "£245",
           "Orchestra Stalls",
           "K",
           "24"
          ],
          [
           "£245",
           "Orchestra Stalls",
           "K",
           "23"
          ],
          [
           "£245",
           "Orchestra Stalls",
           "K",
           "22"
          ],
          [
           "£245",
           "Orchestra Stalls",
           "K",
           "21"
          ],
          [
           "£245",
           "Orchestra Stalls",
           "K",
           "20"
          ],
          [
           "£245",
           "Orchestra Stalls",
           "K",
           "19"
          ],
          [
           "Not available",
           "Orchestra Stalls",
           "K",
           "18"
          ],
          [
           "Not available",
           "Orchestra Stalls",
           "K",
           "17"
          ],
          [
           "Not available",
           "Orchestra Stalls",
           "K",
           "16"
          ],
          [
           "Not available",
           "Orchestra Stalls",
           "K",
           "15"
          ],
          [
           "£245",
           "Orchestra Stalls",
           "K",
           "14"
          ],
          [
           "£245",
           "Orchestra Stalls",
           "K",
           "13"
          ],
          [
           "£245",
           "Orchestra Stalls",
           "K",
           "12"
          ],
          [
           "£245",
           "Orchestra Stalls",
           "K",
           "11"
          ],
          [
           "£245",
           "Orchestra Stalls",
           "K",
           "10"
          ],
          [
           "£245",
           "Orchestra Stalls",
           "K",
           "9"
          ],
          [
           "Not available",
           "Orchestra Stalls",
           "K",
           "8"
          ],
          [
           "Not available",
           "Orchestra Stalls",
           "K",
           "7"
          ],
          [
           "Not available",
           "Orchestra Stalls",
           "K",
           "6"
          ],
          [
           "£245",
           "Orchestra Stalls",
           "K",
           "5"
          ],
          [
           "Not available",
           "Orchestra Stalls",
           "K",
           "4"
          ],
          [
           "Not available",
           "Orchestra Stalls",
           "K",
           "3"
          ],
          [
           "£221",
           "Orchestra Stalls",
           "K",
           "2"
          ],
          [
           "£221",
           "Orchestra Stalls",
           "K",
           "1"
          ],
          [
           "£221",
           "Orchestra Stalls",
           "J",
           "31"
          ],
          [
           "£221",
           "Orchestra Stalls",
           "J",
           "30"
          ],
          [
           "£221",
           "Orchestra Stalls",
           "J",
           "29"
          ],
          [
           "£221",
           "Orchestra Stalls",
           "J",
           "28"
          ],
          [
           "£245",
           "Orchestra Stalls",
           "J",
           "27"
          ],
          [
           "£245",
           "Orchestra Stalls",
           "J",
           "26"
          ],
          [
           "Not available",
           "Orchestra Stalls",
           "J",
           "25"
          ],
          [
           "Not available",
           "Orchestra Stalls",
           "J",
           "24"
          ],
          [
           "£245",
           "Orchestra Stalls",
           "J",
           "23"
          ],
          [
           "£245",
           "Orchestra Stalls",
           "J",
           "22"
          ],
          [
           "£245",
           "Orchestra Stalls",
           "J",
           "21"
          ],
          [
           "£245",
           "Orchestra Stalls",
           "J",
           "20"
          ],
          [
           "£245",
           "Orchestra Stalls",
           "J",
           "19"
          ],
          [
           "Not available",
           "Orchestra Stalls",
           "J",
           "18"
          ],
          [
           "Not available",
           "Orchestra Stalls",
           "J",
           "17"
          ],
          [
           "Not available",
           "Orchestra Stalls",
           "J",
           "16"
          ],
          [
           "Not available",
           "Orchestra Stalls",
           "J",
           "15"
          ],
          [
           "£245",
           "Orchestra Stalls",
           "J",
           "14"
          ],
          [
           "Not available",
           "Orchestra Stalls",
           "J",
           "13"
          ],
          [
           "£245",
           "Orchestra Stalls",
           "J",
           "12"
          ],
          [
           "£245",
           "Orchestra Stalls",
           "J",
           "11"
          ],
          [
           "Not available",
           "Orchestra Stalls",
           "J",
           "10"
          ],
          [
           "Not available",
           "Orchestra Stalls",
           "J",
           "9"
          ],
          [
           "Not available",
           "Orchestra Stalls",
           "J",
           "8"
          ],
          [
           "Not available",
           "Orchestra Stalls",
           "J",
           "7"
          ],
          [
           "Not available",
           "Orchestra Stalls",
           "J",
           "6"
          ],
          [
           "£245",
           "Orchestra Stalls",
           "J",
           "5"
          ],
          [
           "£221",
           "Orchestra Stalls",
           "J",
           "4"
          ],
          [
           "£221",
           "Orchestra Stalls",
           "J",
           "3"
          ],
          [
           "£221",
           "Orchestra Stalls",
           "J",
           "2"
          ],
          [
           "£221",
           "Orchestra Stalls",
           "J",
           "1"
          ],
          [
           "£221",
           "Orchestra Stalls",
           "H",
           "32"
          ],
          [
           "£221",
           "Orchestra Stalls",
           "H",
           "31"
          ],
          [
           "£221",
           "Orchestra Stalls",
           "H",
           "30"
          ],
          [
           "Not available",
           "Orchestra Stalls",
           "H",
           "29"
          ],
          [
           "Not available",
           "Orchestra Stalls",
           "H",
           "28"
          ],
          [
           "Not available",
           "Orchestra Stalls",
           "H",
           "27"
          ],
          [
           "Not available",
           "Orchestra Stalls",
           "H",
           "26"
          ],
          [
           "Not available",
           "Orchestra Stalls",
           "H",
           "25"
          ],
          [
           "Not available",
           "Orchestra Stalls",
           "H",
           "24"
          ],
          [
           "Not available",
           "Orchestra Stalls",
           "H",
           "23"
          ],
          [
           "Not available",
           "Orchestra Stalls",
           "H",
           "22"
          ],
          [
           "Not available",
           "Orchestra Stalls",
           "H",
           "21"
          ],
          [
           "Not available",
           "Orchestra Stalls",
           "H",
           "20"
          ],
          [
           "Not available",
           "Orchestra Stalls",
           "H",
           "19"
          ],
          [
           "£245",
           "Orchestra Stalls",
           "H",
           "18"
          ],
          [
           "Not available",
           "Orchestra Stalls",
           "H",
           "17"
          ],
          [
           "Not available",
           "Orchestra Stalls",
           "H",
           "16"
          ],
          [
           "Not available",
           "Orchestra Stalls",
           "H",
           "15"
          ],
          [
           "Not available",
           "Orchestra Stalls",
           "H",
           "14"
          ],
          [
           "Not available",
           "Orchestra Stalls",
           "H",
           "13"
          ],
          [
           "Not available",
           "Orchestra Stalls",
           "H",
           "12"
          ],
          [
           "Not available",
           "Orchestra Stalls",
           "H",
           "11"
          ],
          [
           "Not available",
           "Orchestra Stalls",
           "H",
           "10"
          ],
          [
           "Not available",
           "Orchestra Stalls",
           "H",
           "9"
          ],
          [
           "Not available",
           "Orchestra Stalls",
           "H",
           "8"
          ],
          [
           "Not available",
           "Orchestra Stalls",
           "H",
           "7"
          ],
          [
           "Not available",
           "Orchestra Stalls",
           "H",
           "6"
          ],
          [
           "Not available",
           "Orchestra Stalls",
           "H",
           "5"
          ],
          [
           "£221",
           "Orchestra Stalls",
           "H",
           "4"
          ],
          [
           "£221",
           "Orchestra Stalls",
           "H",
           "3"
          ],
          [
           "£221",
           "Orchestra Stalls",
           "H",
           "2"
          ],
          [
           "£221",
           "Orchestra Stalls",
           "H",
           "1"
          ],
          [
           "Not available",
           "Orchestra Stalls",
           "G",
           "25"
          ],
          [
           "Not available",
           "Orchestra Stalls",
           "G",
           "24"
          ],
          [
           "Not available",
           "Orchestra Stalls",
           "G",
           "23"
          ],
          [
           "Not available",
           "Orchestra Stalls",
           "G",
           "22"
          ],
          [
           "Not available",
           "Orchestra Stalls",
           "G",
           "21"
          ],
          [
           "Not available",
           "Orchestra Stalls",
           "G",
           "20"
          ],
          [
           "Not available",
           "Orchestra Stalls",
           "G",
           "19"
          ],
          [
           "Not available",
           "Orchestra Stalls",
           "G",
           "18"
          ],
          [
           "Not available",
           "Orchestra Stalls",
           "G",
           "17"
          ],
          [
           "Not available",
           "Orchestra Stalls",
           "G",
           "16"
          ],
          [
           "Not available",
           "Orchestra Stalls",
           "G",
           "15"
          ],
          [
           "Not available",
           "Orchestra Stalls",
           "G",
           "14"
          ],
          [
           "Not available",
           "Orchestra Stalls",
           "G",
           "13"
          ],
          [
           "Not available",
           "Orchestra Stalls",
           "G",
           "12"
          ],
          [
           "Not available",
           "Orchestra Stalls",
           "G",
           "11"
          ],
          [
           "Not available",
           "Orchestra Stalls",
           "G",
           "10"
          ],
          [
           "Not available",
           "Orchestra Stalls",
           "G",
           "9"
          ],
          [
           "Not available",
           "Orchestra Stalls",
           "G",
           "8"
          ],
          [
           "Not available",
           "Orchestra Stalls",
           "G",
           "7"
          ],
          [
           "Not available",
           "Orchestra Stalls",
           "F",
           "26"
          ],
          [
           "Not available",
           "Orchestra Stalls",
           "F",
           "25"
          ],
          [
           "Not available",
           "Orchestra Stalls",
           "F",
           "24"
          ],
          [
           "Not available",
           "Orchestra Stalls",
           "F",
           "23"
          ],
          [
           "Not available",
           "Orchestra Stalls",
           "F",
           "22"
          ],
          [
           "Not available",
           "Orchestra Stalls",
           "F",
           "21"
          ],
          [
           "Not available",
           "Orchestra Stalls",
           "F",
           "20"
          ],
          [
           "Not available",
           "Orchestra Stalls",
           "F",
           "19"
          ],
          [
           "Not available",
           "Orchestra Stalls",
           "F",
           "18"
          ],
          [
           "Not available",
           "Orchestra Stalls",
           "F",
           "17"
          ],
          [
           "Not available",
           "Orchestra Stalls",
           "F",
           "16"
          ],
          [
           "Not available",
           "Orchestra Stalls",
           "F",
           "15"
          ],
          [
           "Not available",
           "Orchestra Stalls",
           "F",
           "14"
          ],
          [
           "Not available",
           "Orchestra Stalls",
           "F",
           "13"
          ],
          [
           "Not available",
           "Orchestra Stalls",
           "F",
           "12"
          ],
          [
           "Not available",
           "Orchestra Stalls",
           "F",
           "11"
          ],
          [
           "Not available",
           "Orchestra Stalls",
           "F",
           "10"
          ],
          [
           "Not available",
           "Orchestra Stalls",
           "F",
           "9"
          ],
          [
           "Not available",
           "Orchestra Stalls",
           "F",
           "8"
          ],
          [
           "Not available",
           "Orchestra Stalls",
           "F",
           "7"
          ],
          [
           "Not available",
           "Orchestra Stalls",
           "E",
           "31"
          ],
          [
           "Not available",
           "Orchestra Stalls",
           "E",
           "30"
          ],
          [
           "£221",
           "Orchestra Stalls",
           "E",
           "29"
          ],
          [
           "£221",
           "Orchestra Stalls",
           "E",
           "28"
          ],
          [
           "£221",
           "Orchestra Stalls",
           "E",
           "27"
          ],
          [
           "Not available",
           "Orchestra Stalls",
           "E",
           "26"
          ],
          [
           "Not available",
           "Orchestra Stalls",
           "E",
           "25"
          ],
          [
           "Not available",
           "Orchestra Stalls",
           "E",
           "24"
          ],
          [
           "Not available",
           "Orchestra Stalls",
           "E",
           "23"
          ],
          [
           "Not available",
           "Orchestra Stalls",
           "E",
           "22"
          ],
          [
           "Not available",
           "Orchestra Stalls",
           "E",
           "21"
          ],
          [
           "Not available",
           "Orchestra Stalls",
           "E",
           "20"
          ],
          [
           "£245",
           "Orchestra Stalls",
           "E",
           "19"
          ],
          [
           "Not available",
           "Orchestra Stalls",
           "E",
           "18"
          ],
          [
           "Not available",
           "Orchestra Stalls",
           "E",
           "17"
          ],
          [
           "Not available",
           "Orchestra Stalls",
           "E",
           "16"
          ],
          [
           "Not available",
           "Orchestra Stalls",
           "E",
           "15"
          ],
          [
           "Not available",
           "Orchestra Stalls",
           "E",
           "14"
          ],
          [
           "Not available",
           "Orchestra Stalls",
           "E",
           "13"
          ],
          [
           "£245",
           "Orchestra Stalls",
           "E",
           "12"
          ],
          [
           "£245",
           "Orchestra Stalls",
           "E",
           "11"
          ],
          [
           "£245",
           "Orchestra Stalls",
           "E",
           "10"
          ],
          [
           "£245",
           "Orchestra Stalls",
           "E",
           "9"
          ],
          [
           "Not available",
           "Orchestra Stalls",
           "E",
           "8"
          ],
          [
           "Not available",
           "Orchestra Stalls",
           "E",
           "7"
          ],
          [
           "£221",
           "Orchestra Stalls",
           "E",
           "6"
          ],
          [
           "£221",
           "Orchestra Stalls",
           "E",
           "5"
          ],
          [
           "£221",
           "Orchestra Stalls",
           "E",
           "4"
          ],
          [
           "£221",
           "Orchestra Stalls",
           "E",
           "3"
          ],
          [
           "Not available",
           "Orchestra Stalls",
           "E",
           "2"
          ],
          [
           "£172",
           "Orchestra Stalls",
           "E",
           "1"
          ],
          [
           "£172",
           "Orchestra Stalls",
           "D",
           "30"
          ],
          [
           "Not available",
           "Orchestra Stalls",
           "D",
           "29"
          ],
          [
           "£221",
           "Orchestra Stalls",
           "D",
           "28"
          ],
          [
           "£221",
           "Orchestra Stalls",
           "D",
           "27"
          ],
          [
           "£221",
           "Orchestra Stalls",
           "D",
           "26"
          ],
          [
           "£221",
           "Orchestra Stalls",
           "D",
           "25"
          ],
          [
           "Not available",
           "Orchestra Stalls",
           "D",
           "24"
          ],
          [
           "£221",
           "Orchestra Stalls",
           "D",
           "23"
          ],
          [
           "£221",
           "Orchestra Stalls",
           "D",
           "22"
          ],
          [
           "£221",
           "Orchestra Stalls",
           "D",
           "21"
          ],
          [
           "£221",
           "Orchestra Stalls",
           "D",
           "20"
          ],
          [
           "£221",
           "Orchestra Stalls",
           "D",
           "19"
          ],
          [
           "Not available",
           "Orchestra Stalls",
           "D",
           "18"
          ],
          [
           "Not available",
           "Orchestra Stalls",
           "D",
           "17"
          ],
          [
           "Not available",
           "Orchestra Stalls",
           "D",
           "16"
          ],
          [
           "Not available",
           "Orchestra Stalls",
           "D",
           "15"
          ],
          [
           "Not available",
           "Orchestra Stalls",
           "D",
           "14"
          ],
          [
           "£221",
           "Orchestra Stalls",
           "D",
           "13"
          ],
          [
           "£221",
           "Orchestra Stalls",
           "D",
           "12"
          ],
          [
           "£221",
           "Orchestra Stalls",
           "D",
           "11"
          ],
          [
           "£221",
           "Orchestra Stalls",
           "D",
           "10"
          ],
          [
           "£221",
           "Orchestra Stalls",
           "D",
           "9"
          ],
          [
           "£221",
           "Orchestra Stalls",
           "D",
           "8"
          ],
          [
           "£221",
           "Orchestra Stalls",
           "D",
           "7"
          ],
          [
           "£221",
           "Orchestra Stalls",
           "D",
           "6"
          ],
          [
           "£221",
           "Orchestra Stalls",
           "D",
           "5"
          ],
          [
           "£221",
           "Orchestra Stalls",
           "D",
           "4"
          ],
          [
           "£221",
           "Orchestra Stalls",
           "D",
           "3"
          ],
          [
           "£172",
           "Orchestra Stalls",
           "D",
           "2"
          ],
          [
           "£172",
           "Orchestra Stalls",
           "D",
           "1"
          ],
          [
           "Not available",
           "Orchestra Stalls",
           "C",
           "29"
          ],
          [
           "Not available",
           "Orchestra Stalls",
           "C",
           "28"
          ],
          [
           "£221",
           "Orchestra Stalls",
           "C",
           "27"
          ],
          [
           "£221",
           "Orchestra Stalls",
           "C",
           "26"
          ],
          [
           "£221",
           "Orchestra Stalls",
           "C",
           "25"
          ],
          [
           "£221",
           "Orchestra Stalls",
           "C",
           "24"
          ],
          [
           "£221",
           "Orchestra Stalls",
           "C",
           "23"
          ],
          [
           "£221",
           "Orchestra Stalls",
           "C",
           "22"
          ],
          [
           "£221",
           "Orchestra Stalls",
           "C",
           "21"
          ],
          [
           "£221",
           "Orchestra Stalls",
           "C",
           "20"
          ],
          [
           "£221",
           "Orchestra Stalls",
           "C",
           "19"
          ],
          [
           "£221",
           "Orchestra Stalls",
           "C",
           "18"
          ],
          [
           "£221",
           "Orchestra Stalls",
           "C",
           "17"
          ],
          [
           "£221",
           "Orchestra Stalls",
           "C",
           "16"
          ],
          [
           "£221",
           "Orchestra Stalls",
           "C",
           "15"
          ],
          [
           "£221",
           "Orchestra Stalls",
           "C",
           "14"
          ],
          [
           "£221",
           "Orchestra Stalls",
           "C",
           "13"
          ],
          [
           "£221",
           "Orchestra Stalls",
           "C",
           "12"
          ],
          [
           "£221",
           "Orchestra Stalls",
           "C",
           "11"
          ],
          [
           "£221",
           "Orchestra Stalls",
           "C",
           "10"
          ],
          [
           "£221",
           "Orchestra Stalls",
           "C",
           "9"
          ],
          [
           "£221",
           "Orchestra Stalls",
           "C",
           "8"
          ],
          [
           "£221",
           "Orchestra Stalls",
           "C",
           "7"
          ],
          [
           "£221",
           "Orchestra Stalls",
           "C",
           "6"
          ],
          [
           "£221",
           "Orchestra Stalls",
           "C",
           "5"
          ],
          [
           "£221",
           "Orchestra Stalls",
           "C",
           "4"
          ],
          [
           "£221",
           "Orchestra Stalls",
           "C",
           "3"
          ],
          [
           "Not available",
           "Orchestra Stalls",
           "C",
           "2"
          ],
          [
           "£172",
           "Orchestra Stalls",
           "C",
           "1"
          ],
          [
           "£172",
           "Orchestra Stalls",
           "B",
           "30"
          ],
          [
           "Not available",
           "Orchestra Stalls",
           "B",
           "29"
          ],
          [
           "£221",
           "Orchestra Stalls",
           "B",
           "28"
          ],
          [
           "£221",
           "Orchestra Stalls",
           "B",
           "27"
          ],
          [
           "£221",
           "Orchestra Stalls",
           "B",
           "26"
          ],
          [
           "£221",
           "Orchestra Stalls",
           "B",
           "25"
          ],
          [
           "£221",
           "Orchestra Stalls",
           "B",
           "24"
          ],
          [
           "£221",
           "Orchestra Stalls",
           "B",
           "23"
          ],
          [
           "£221",
           "Orchestra Stalls",
           "B",
           "22"
          ],
          [
           "£221",
           "Orchestra Stalls",
           "B",
           "21"
          ],
          [
           "£221",
           "Orchestra Stalls",
           "B",
           "20"
          ],
          [
           "£221",
           "Orchestra Stalls",
           "B",
           "19"
          ],
          [
           "Not available",
           "Orchestra Stalls",
           "B",
           "18"
          ],
          [
           "Not available",
           "Orchestra Stalls",
           "B",
           "17"
          ],
          [
           "Not available",
           "Orchestra Stalls",
           "B",
           "16"
          ],
          [
           "Not available",
           "Orchestra Stalls",
           "B",
           "15"
          ],
          [
           "£221",
           "Orchestra Stalls",
           "B",
           "14"
          ],
          [
           "£221",
           "Orchestra Stalls",
           "B",
           "13"
          ],
          [
           "£221",
           "Orchestra Stalls",
           "B",
           "12"
          ],
          [
           "£221",
           "Orchestra Stalls",
           "B",
           "11"
          ],
          [
           "£221",
           "Orchestra Stalls",
           "B",
           "10"
          ],
          [
           "£221",
           "Orchestra Stalls",
           "B",
           "9"
          ],
          [
           "£221",
           "Orchestra Stalls",
           "B",
           "8"
          ],
          [
           "£221",
           "Orchestra Stalls",
           "B",
           "7"
          ],
          [
           "£221",
           "Orchestra Stalls",
           "B",
           "6"
          ],
          [
           "£221",
           "Orchestra Stalls",
           "B",
           "5"
          ],
          [
           "£221",
           "Orchestra Stalls",
           "B",
           "4"
          ],
          [
           "£221",
           "Orchestra Stalls",
           "B",
           "3"
          ],
          [
           "Not available",
           "Orchestra Stalls",
           "B",
           "2"
          ],
          [
           "Not available",
           "Orchestra Stalls",
           "B",
           "1"
          ],
          [
           "Not available",
           "Orchestra Stalls",
           "A",
           "29"
          ],
          [
           "Not available",
           "Orchestra Stalls",
           "A",
           "28"
          ],
          [
           "£221",
           "Orchestra Stalls",
           "A",
           "27"
          ],
          [
           "£221",
           "Orchestra Stalls",
           "A",
           "26"
          ],
          [
           "£221",
           "Orchestra Stalls",
           "A",
           "25"
          ],
          [
           "Not available",
           "Orchestra Stalls",
           "A",
           "24"
          ],
          [
           "Not available",
           "Orchestra Stalls",
           "A",
           "23"
          ],
          [
           "Not available",
           "Orchestra Stalls",
           "A",
           "22"
          ],
          [
           "Not available",
           "Orchestra Stalls",
           "A",
           "21"
          ],
          [
           "Not available",
           "Orchestra Stalls",
           "A",
           "20"
          ],
          [
           "Not available",
           "Orchestra Stalls",
           "A",
           "19"
          ],
          [
           "Not available",
           "Orchestra Stalls",
           "A",
           "18"
          ],
          [
           "Not available",
           "Orchestra Stalls",
           "A",
           "17"
          ],
          [
           "Not available",
           "Orchestra Stalls",
           "A",
           "16"
          ],
          [
           "Not available",
           "Orchestra Stalls",
           "A",
           "15"
          ],
          [
           "Not available",
           "Orchestra Stalls",
           "A",
           "14"
          ],
          [
           "Not available",
           "Orchestra Stalls",
           "A",
           "13"
          ],
          [
           "Not available",
           "Orchestra Stalls",
           "A",
           "12"
          ],
          [
           "Not available",
           "Orchestra Stalls",
           "A",
           "11"
          ],
          [
           "Not available",
           "Orchestra Stalls",
           "A",
           "10"
          ],
          [
           "Not available",
           "Orchestra Stalls",
           "A",
           "9"
          ],
          [
           "Not available",
           "Orchestra Stalls",
           "A",
           "8"
          ],
          [
           "£221",
           "Orchestra Stalls",
           "A",
           "7"
          ],
          [
           "£221",
           "Orchestra Stalls",
           "A",
           "6"
          ],
          [
           "£221",
           "Orchestra Stalls",
           "A",
           "5"
          ],
          [
           "£221",
           "Orchestra Stalls",
           "A",
           "4"
          ],
          [
           "£221",
           "Orchestra Stalls",
           "A",
           "3"
          ],
          [
           "Not available",
           "Orchestra Stalls",
           "A",
           "2"
          ],
          [
           "Not available",
           "Orchestra Stalls",
           "A",
           "1"
          ],
          [
           "Not available",
           "Stalls Circle",
           "D",
           "39"
          ],
          [
           "Not available",
           "Stalls Circle",
           "D",
           "38"
          ],
          [
           "Not available",
           "Stalls Circle",
           "D",
           "37"
          ],
          [
           "Not available",
           "Stalls Circle",
           "D",
           "36"
          ],
          [
           "Not available",
           "Stalls Circle",
           "D",
           "35"
          ],
          [
           "Not available",
           "Stalls Circle",
           "D",
           "34"
          ],
          [
           "Not available",
           "Stalls Circle",
           "D",
           "33"
          ],
          [
           "Not available",
           "Stalls Circle",
           "D",
           "32"
          ],
          [
           "Not available",
           "Stalls Circle",
           "D",
           "31"
          ],
          [
           "Not available",
           "Stalls Circle",
           "D",
           "30"
          ],
          [
           "Not available",
           "Stalls Circle",
           "D",
           "29"
          ],
          [
           "Not available",
           "Stalls Circle",
           "D",
           "28"
          ],
          [
           "Not available",
           "Stalls Circle",
           "D",
           "27"
          ],
          [
           "Not available",
           "Stalls Circle",
           "D",
           "26"
          ],
          [
           "Not available",
           "Stalls Circle",
           "D",
           "25"
          ],
          [
           "Not available",
           "Stalls Circle",
           "D",
           "24"
          ],
          [
           "Not available",
           "Stalls Circle",
           "D",
           "23"
          ],
          [
           "Not available",
           "Stalls Circle",
           "D",
           "22"
          ],
          [
           "Not available",
           "Stalls Circle",
           "D",
           "21"
          ],
          [
           "Not available",
           "Stalls Circle",
           "D",
           "20"
          ],
          [
           "Not available",
           "Stalls Circle",
           "D",
           "19"
          ],
          [
           "Not available",
           "Stalls Circle",
           "D",
           "18"
          ],
          [
           "Not available",
           "Stalls Circle",
           "D",
           "17"
          ],
          [
           "Not available",
           "Stalls Circle",
           "D",
           "16"
          ],
          [
           "Not available",
           "Stalls Circle",
           "C",
           "70"
          ],
          [
           "Not available",
           "Stalls Circle",
           "C",
           "69"
          ],
          [
           "Not available",
           "Stalls Circle",
           "C",
           "68"
          ],
          [
           "Not available",
           "Stalls Circle",
           "C",
           "67"
          ],
          [
           "Not available",
           "Stalls Circle",
           "C",
           "66"
          ],
          [
           "£97",
           "Stalls Circle",
           "C",
           "65"
          ],
          [
           "Not available",
           "Stalls Circle",
           "C",
           "64"
          ],
          [
           "Not available",
           "Stalls Circle",
           "C",
           "63"
          ],
          [
           "Not available",
           "Stalls Circle",
           "C",
           "62"
          ],
          [
           "Not available",
           "Stalls Circle",
           "C",
           "61"
          ],
          [
           "Not available",
           "Stalls Circle",
           "C",
           "60"
          ],
          [
           "Not available",
           "Stalls Circle",
           "C",
           "59"
          ],
          [
           "Not available",
           "Stalls Circle",
           "C",
           "54"
          ],
          [
           "Not available",
           "Stalls Circle",
           "C",
           "53"
          ],
          [
           "Not available",
           "Stalls Circle",
           "C",
           "52"
          ],
          [
           "Not available",
           "Stalls Circle",
           "C",
           "51"
          ],
          [
           "Not available",
           "Stalls Circle",
           "C",
           "50"
          ],
          [
           "Not available",
           "Stalls Circle",
           "C",
           "49"
          ],
          [
           "£97",
           "Stalls Circle",
           "C",
           "48"
          ],
          [
           "Not available",
           "Stalls Circle",
           "C",
           "47"
          ],
          [
           "Not available",
           "Stalls Circle",
           "C",
           "46"
          ],
          [
           "Not available",
           "Stalls Circle",
           "C",
           "45"
          ],
          [
           "Not available",
           "Stalls Circle",
           "C",
           "44"
          ],
          [
           "Not available",
           "Stalls Circle",
           "C",
           "43"
          ],
          [
           "Not available",
           "Stalls Circle",
           "B",
           "70"
          ],
          [
           "Not available",
           "Stalls Circle",
           "B",
           "69"
          ],
          [
           "Not available",
           "Stalls Circle",
           "B",
           "68"
          ],
          [
           "Not available",
           "Stalls Circle",
           "B",
           "67"
          ],
          [
           "£221",
           "Stalls Circle",
           "B",
           "66"
          ],
          [
           "£221",
           "Stalls Circle",
           "B",
           "65"
          ],
          [
           "£221",
           "Stalls Circle",
           "B",
           "64"
          ],
          [
           "£221",
           "Stalls Circle",
           "B",
           "63"
          ],
          [
           "£221",
           "Stalls Circle",
           "B",
           "62"
          ],
          [
           "£221",
           "Stalls Circle",
           "B",
           "61"
          ],
          [
           "£221",
           "Stalls Circle",
           "B",
           "52"
          ],
          [
           "£221",
           "Stalls Circle",
           "B",
           "51"
          ],
          [
           "£221",
           "Stalls Circle",
           "B",
           "50"
          ],
          [
           "£221",
           "Stalls Circle",
           "B",
           "49"
          ],
          [
           "£221",
           "Stalls Circle",
           "B",
           "48"
          ],
          [
           "£221",
           "Stalls Circle",
           "B",
           "47"
          ],
          [
           "£221",
           "Stalls Circle",
           "B",
           "46"
          ],
          [
           "£221",
           "Stalls Circle",
           "B",
           "45"
          ],
          [
           "Not available",
           "Stalls Circle",
           "B",
           "44"
          ],
          [
           "Not available",
           "Stalls Circle",
           "B",
           "43"
          ],
          [
           "Not available",
           "Stalls Circle",
           "A",
           "70"
          ],
          [
           "Not available",
           "Stalls Circle",
           "A",
           "69"
          ],
          [
           "Not available",
           "Stalls Circle",
           "A",
           "68"
          ],
          [
           "Not available",
           "Stalls Circle",
           "A",
           "67"
          ],
          [
           "£245",
           "Stalls Circle",
           "A",
           "66"
          ],
          [
           "£245",
           "Stalls Circle",
           "A",
           "65"
          ],
          [
           "£245",
           "Stalls Circle",
           "A",
           "64"
          ],
          [
           "£245",
           "Stalls Circle",
           "A",
           "63"
          ],
          [
           "Not available",
           "Stalls Circle",
           "A",
           "62"
          ],
          [
           "Not available",
           "Stalls Circle",
           "A",
           "61"
          ],
          [
           "Not available",
           "Stalls Circle",
           "A",
           "60"
          ],
          [
           "Not available",
           "Stalls Circle",
           "A",
           "59"
          ],
          [
           "Not available",
           "Stalls Circle",
           "A",
           "58"
          ],
          [
           "Not available",
           "Stalls Circle",
           "A",
           "57"
          ],
          [
           "Not available",
           "Stalls Circle",
           "A",
           "56"
          ],
          [
           "Not available",
           "Stalls Circle",
           "A",
           "55"
          ],
          [
           "Not available",
           "Stalls Circle",
           "A",
           "54"
          ],
          [
           "Not available",
           "Stalls Circle",
           "A",
           "53"
          ],
          [
           "Not available",
           "Stalls Circle",
           "A",
           "52"
          ],
          [
           "Not available",
           "Stalls Circle",
           "A",
           "51"
          ],
          [
           "Not available",
           "Stalls Circle",
           "A",
           "50"
          ],
          [
           "Not available",
           "Stalls Circle",
           "A",
           "49"
          ],
          [
           "Not available",
           "Stalls Circle",
           "A",
           "48"
          ],
          [
           "£245",
           "Stalls Circle",
           "A",
           "47"
          ],
          [
           "Not available",
           "Stalls Circle",
           "A",
           "46"
          ],
          [
           "Not available",
           "Stalls Circle",
           "A",
           "45"
          ],
          [
           "£245",
           "Stalls Circle",
           "A",
           "44"
          ],
          [
           "£221",
           "Stalls Circle",
           "A",
           "43"
          ],
          [
           "Not available",
           "Stalls Circle",
           "D",
           "54"
          ],
          [
           "Not available",
           "Stalls Circle",
           "D",
           "53"
          ],
          [
           "Not available",
           "Stalls Circle",
           "D",
           "52"
          ],
          [
           "Not available",
           "Stalls Circle",
           "D",
           "51"
          ],
          [
           "Not available",
           "Stalls Circle",
           "D",
           "50"
          ],
          [
           "Not available",
           "Stalls Circle",
           "D",
           "49"
          ],
          [
           "Not available",
           "Stalls Circle",
           "D",
           "48"
          ],
          [
           "Not available",
           "Stalls Circle",
           "D",
           "47"
          ],
          [
           "Not available",
           "Stalls Circle",
           "D",
           "46"
          ],
          [
           "Not available",
           "Stalls Circle",
           "D",
           "45"
          ],
          [
           "Not available",
           "Stalls Circle",
           "D",
           "44"
          ],
          [
           "Not available",
           "Stalls Circle",
           "D",
           "43"
          ],
          [
           "Not available",
           "Stalls Circle",
           "D",
           "42"
          ],
          [
           "Not available",
           "Stalls Circle",
           "D",
           "41"
          ],
          [
           "Not available",
           "Stalls Circle",
           "D",
           "40"
          ],
          [
           "Not available",
           "Stalls Circle",
           "D",
           "15"
          ],
          [
           "Not available",
           "Stalls Circle",
           "D",
           "14"
          ],
          [
           "Not available",
           "Stalls Circle",
           "D",
           "13"
          ],
          [
           "Not available",
           "Stalls Circle",
           "D",
           "12"
          ],
          [
           "Not available",
           "Stalls Circle",
           "D",
           "11"
          ],
          [
           "Not available",
           "Stalls Circle",
           "D",
           "10"
          ],
          [
           "Not available",
           "Stalls Circle",
           "D",
           "9"
          ],
          [
           "Not available",
           "Stalls Circle",
           "D",
           "8"
          ],
          [
           "Not available",
           "Stalls Circle",
           "D",
           "7"
          ],
          [
           "Not available",
           "Stalls Circle",
           "D",
           "6"
          ],
          [
           "Not available",
           "Stalls Circle",
           "D",
           "5"
          ],
          [
           "Not available",
           "Stalls Circle",
           "D",
           "4"
          ],
          [
           "Not available",
           "Stalls Circle",
           "D",
           "3"
          ],
          [
           "Not available",
           "Stalls Circle",
           "D",
           "2"
          ],
          [
           "Not available",
           "Stalls Circle",
           "D",
           "1"
          ],
          [
           "Not available",
           "Stalls Circle",
           "C",
           "86"
          ],
          [
           "Not available",
           "Stalls Circle",
           "C",
           "85"
          ],
          [
           "Not available",
           "Stalls Circle",
           "C",
           "84"
          ],
          [
           "Not available",
           "Stalls Circle",
           "C",
           "83"
          ],
          [
           "£132",
           "Stalls Circle",
           "C",
           "82"
          ],
          [
           "£132",
           "Stalls Circle",
           "C",
           "81"
          ],
          [
           "Not available",
           "Stalls Circle",
           "C",
           "80"
          ],
          [
           "Not available",
           "Stalls Circle",
           "C",
           "79"
          ],
          [
           "Not available",
           "Stalls Circle",
           "C",
           "78"
          ],
          [
           "Not available",
           "Stalls Circle",
           "C",
           "77"
          ],
          [
           "Not available",
           "Stalls Circle",
           "C",
           "76"
          ],
          [
           "Not available",
           "Stalls Circle",
           "C",
           "75"
          ],
          [
           "Not available",
           "Stalls Circle",
           "C",
           "74"
          ],
          [
           "Not available",
           "Stalls Circle",
           "C",
           "73"
          ],
          [
           "Not available",
           "Stalls Circle",
           "C",
           "72"
          ],
          [
           "Not available",
           "Stalls Circle",
           "C",
           "71"
          ],
          [
           "Not available",
           "Stalls Circle",
           "C",
           "42"
          ],
          [
           "Not available",
           "Stalls Circle",
           "C",
           "41"
          ],
          [
           "Not available",
           "Stalls Circle",
           "C",
           "40"
          ],
          [
           "£172",
           "Stalls Circle",
           "C",
           "39"
          ],
          [
           "£172",
           "Stalls Circle",
           "C",
           "38"
          ],
          [
           "£172",
           "Stalls Circle",
           "C",
           "37"
          ],
          [
           "£97",
           "Stalls Circle",
           "C",
           "36"
          ],
          [
           "Not available",
           "Stalls Circle",
           "C",
           "35"
          ],
          [
           "Not available",
           "Stalls Circle",
           "C",
           "34"
          ],
          [
           "Not available",
           "Stalls Circle",
           "C",
           "33"
          ],
          [
           "£132",
           "Stalls Circle",
           "C",
           "32"
          ],
          [
           "£132",
           "Stalls Circle",
           "C",
           "31"
          ],
          [
           "Not available",
           "Stalls Circle",
           "C",
           "30"
          ],
          [
           "Not available",
           "Stalls Circle",
           "C",
           "29"
          ],
          [
           "Not available",
           "Stalls Circle",
           "C",
           "28"
          ],
          [
           "Not available",
           "Stalls Circle",
           "C",
           "27"
          ],
          [
           "Not available",
           "Stalls Circle",
           "B",
           "85"
          ],
          [
           "Not available",
           "Stalls Circle",
           "B",
           "84"
          ],
          [
           "Not available",
           "Stalls Circle",
           "B",
           "83"
          ],
          [
           "Not available",
           "Stalls Circle",
           "B",
           "82"
          ],
          [
           "Not available",
           "Stalls Circle",
           "B",
           "75"
          ],
          [
           "Not available",
           "Stalls Circle",
           "B",
           "74"
          ],
          [
           "Not available",
           "Stalls Circle",
           "B",
           "73"
          ],
          [
           "Not available",
           "Stalls Circle",
           "B",
           "72"
          ],
          [
           "Not available",
           "Stalls Circle",
           "B",
           "71"
          ],
          [
           "Not available",
           "Stalls Circle",
           "B",
           "42"
          ],
          [
           "Not available",
           "Stalls Circle",
           "B",
           "41"
          ],
          [
           "Not available",
           "Stalls Circle",
           "B",
           "40"
          ],
          [
           "£221",
           "Stalls Circle",
           "B",
           "39"
          ],
          [
           "£221",
           "Stalls Circle",
           "B",
           "38"
          ],
          [
           "Not available",
           "Stalls Circle",
           "B",
           "37"
          ],
          [
           "Not available",
           "Stalls Circle",
           "B",
           "36"
          ],
          [
           "Not available",
           "Stalls Circle",
           "B",
           "35"
          ],
          [
           "£172",
           "Stalls Circle",
           "B",
           "34"
          ],
          [
           "Not available",
           "Stalls Circle",
           "B",
           "33"
          ],
          [
           "Not available",
           "Stalls Circle",
           "B",
           "32"
          ],
          [
           "Not available",
           "Stalls Circle",
           "B",
           "31"
          ],
          [
           "Not available",
           "Stalls Circle",
           "B",
           "30"
          ],
          [
           "Not available",
           "Stalls Circle",
           "B",
           "29"
          ],
          [
           "Not available",
           "Stalls Circle",
           "B",
           "28"
          ],
          [
           "Not available",
           "Stalls Circle",
           "A",
           "88"
          ],
          [
           "Not available",
           "Stalls Circle",
           "A",
           "87"
          ],
          [
           "Not available",
           "Stalls Circle",
           "A",
           "86"
          ],
          [
           "Not available",
           "Stalls Circle",
           "A",
           "85"
          ],
          [
           "Not available",
           "Stalls Circle",
           "A",
           "84"
          ],
          [
           "£221",
           "Stalls Circle",
           "A",
           "83"
          ],
          [
           "£221",
           "Stalls Circle",
           "A",
           "82"
          ],
          [
           "£221",
           "Stalls Circle",
           "A",
           "81"
          ],
          [
           "£221",
           "Stalls Circle",
           "A",
           "80"
          ],
          [
           "Not available",
           "Stalls Circle",
           "A",
           "79"
          ],
          [
           "Not available",
           "Stalls Circle",
           "A",
           "78"
          ],
          [
           "£245",
           "Stalls Circle",
           "A",
           "77"
          ],
          [
           "Not available",
           "Stalls Circle",
           "A",
           "76"
          ],
          [
           "Not available",
           "Stalls Circle",
           "A",
           "75"
          ],
          [
           "Not available",
           "Stalls Circle",
           "A",
           "74"
          ],
          [
           "Not available",
           "Stalls Circle",
           "A",
           "73"
          ],
          [
           "Not available",
           "Stalls Circle",
           "A",
           "72"
          ],
          [
           "Not available",
           "Stalls Circle",
           "A",
           "71"
          ],
          [
           "Not available",
           "Stalls Circle",
           "A",
           "42"
          ],
          [
           "Not available",
           "Stalls Circle",
           "A",
           "41"
          ],
          [
           "Not available",
           "Stalls Circle",
           "A",
           "40"
          ],
          [
           "Not available",
           "Stalls Circle",
           "A",
           "39"
          ],
          [
           "Not available",
           "Stalls Circle",
           "A",
           "38"
          ],
          [
           "Not available",
           "Stalls Circle",
           "A",
           "37"
          ],
          [
           "Not available",
           "Stalls Circle",
           "A",
           "36"
          ],
          [
           "£221",
           "Stalls Circle",
           "A",
           "35"
          ],
          [
           "£221",
           "Stalls Circle",
           "A",
           "34"
          ],
          [
           "£221",
           "Stalls Circle",
           "A",
           "33"
          ],
          [
           "£221",
           "Stalls Circle",
           "A",
           "32"
          ],
          [
           "£221",
           "Stalls Circle",
           "A",
           "31"
          ],
          [
           "£221",
           "Stalls Circle",
           "A",
           "30"
          ],
          [
           "Not available",
           "Stalls Circle",
           "A",
           "29"
          ],
          [
           "Not available",
           "Stalls Circle",
           "A",
           "28"
          ],
          [
           "£172",
           "Stalls Circle",
           "A",
           "27"
          ],
          [
           "Not available",
           "Stalls Circle",
           "A",
           "26"
          ],
          [
           "Not available",
           "Stalls Circle",
           "A",
           "25"
          ],
          [
           "Not available",
           "Stalls Circle",
           "C",
           "101"
          ],
          [
           "Not available",
           "Stalls Circle",
           "C",
           "100"
          ],
          [
           "Not available",
           "Stalls Circle",
           "C",
           "99"
          ],
          [
           "Not available",
           "Stalls Circle",
           "C",
           "98"
          ],
          [
           "Not available",
           "Stalls Circle",
           "C",
           "97"
          ],
          [
           "Not available",
           "Stalls Circle",
           "C",
           "96"
          ],
          [
           "Not available",
           "Stalls Circle",
           "C",
           "95"
          ],
          [
           "Not available",
           "Stalls Circle",
           "C",
           "94"
          ],
          [
           "Not available",
           "Stalls Circle",
           "C",
           "93"
          ],
          [
           "Not available",
           "Stalls Circle",
           "C",
           "92"
          ],
          [
           "Not available",
           "Stalls Circle",
           "C",
           "21"
          ],
          [
           "Not available",
           "Stalls Circle",
           "C",
           "20"
          ],
          [
           "Not available",
           "Stalls Circle",
           "C",
           "19"
          ],
          [
           "Not available",
           "Stalls Circle",
           "C",
           "18"
          ],
          [
           "Not available",
           "Stalls Circle",
           "C",
           "17"
          ],
          [
           "Not available",
           "Stalls Circle",
           "C",
           "16"
          ],
          [
           "Not available",
           "Stalls Circle",
           "C",
           "15"
          ],
          [
           "Not available",
           "Stalls Circle",
           "C",
           "14"
          ],
          [
           "Not available",
           "Stalls Circle",
           "C",
           "13"
          ],
          [
           "Not available",
           "Stalls Circle",
           "C",
           "12"
          ],
          [
           "Not available",
           "Stalls Circle",
           "B",
           "106"
          ],
          [
           "Not available",
           "Stalls Circle",
           "B",
           "105"
          ],
          [
           "Not available",
           "Stalls Circle",
           "B",
           "104"
          ],
          [
           "Not available",
           "Stalls Circle",
           "B",
           "103"
          ],
          [
           "Not available",
           "Stalls Circle",
           "B",
           "102"
          ],
          [
           "Not available",
           "Stalls Circle",
           "B",
           "101"
          ],
          [
           "Not available",
           "Stalls Circle",
           "B",
           "100"
          ],
          [
           "Not available",
           "Stalls Circle",
           "B",
           "99"
          ],
          [
           "Not available",
           "Stalls Circle",
           "B",
           "98"
          ],
          [
           "Not available",
           "Stalls Circle",
           "B",
           "97"
          ],
          [
           "Not available",
           "Stalls Circle",
           "B",
           "96"
          ],
          [
           "Not available",
           "Stalls Circle",
           "B",
           "95"
          ],
          [
           "Not available",
           "Stalls Circle",
           "B",
           "94"
          ],
          [
           "Not available",
           "Stalls Circle",
           "B",
           "93"
          ],
          [
           "Not available",
           "Stalls Circle",
           "B",
           "92"
          ],
          [
           "Not available",
           "Stalls Circle",
           "B",
           "91"
          ],
          [
           "Not available",
           "Stalls Circle",
           "B",
           "90"
          ],
          [
           "Not available",
           "Stalls Circle",
           "B",
           "89"
          ],
          [
           "Not available",
           "Stalls Circle",
           "B",
           "88"
          ],
          [
           "Not available",
           "Stalls Circle",
           "B",
           "87"
          ],
          [
           "Not available",
           "Stalls Circle",
           "B",
           "86"
          ],
          [
           "Not available",
           "Stalls Circle",
           "B",
           "27"
          ],
          [
           "Not available",
           "Stalls Circle",
           "B",
           "26"
          ],
          [
           "Not available",
           "Stalls Circle",
           "B",
           "25"
          ],
          [
           "Not available",
           "Stalls Circle",
           "B",
           "24"
          ],
          [
           "Not available",
           "Stalls Circle",
           "B",
           "23"
          ],
          [
           "Not available",
           "Stalls Circle",
           "B",
           "22"
          ],
          [
           "Not available",
           "Stalls Circle",
           "B",
           "21"
          ],
          [
           "Not available",
           "Stalls Circle",
           "B",
           "20"
          ],
          [
           "Not available",
           "Stalls Circle",
           "B",
           "19"
          ],
          [
           "Not available",
           "Stalls Circle",
           "B",
           "18"
          ],
          [
           "Not available",
           "Stalls Circle",
           "B",
           "17"
          ],
          [
           "Not available",
           "Stalls Circle",
           "B",
           "16"
          ],
          [
           "Not available",
           "Stalls Circle",
           "B",
           "15"
          ],
          [
           "Not available",
           "Stalls Circle",
           "B",
           "14"
          ],
          [
           "Not available",
           "Stalls Circle",
           "B",
           "13"
          ],
          [
           "Not available",
           "Stalls Circle",
           "B",
           "12"
          ],
          [
           "Not available",
           "Stalls Circle",
           "B",
           "11"
          ],
          [
           "Not available",
           "Stalls Circle",
           "B",
           "10"
          ],
          [
           "Not available",
           "Stalls Circle",
           "B",
           "9"
          ],
          [
           "Not available",
           "Stalls Circle",
           "B",
           "8"
          ],
          [
           "Not available",
           "Stalls Circle",
           "B",
           "7"
          ],
          [
           "Not available",
           "Stalls Circle",
           "B",
           "6"
          ],
          [
           "Not available",
           "Stalls Circle",
           "A",
           "111"
          ],
          [
           "Not available",
           "Stalls Circle",
           "A",
           "110"
          ],
          [
           "Not available",
           "Stalls Circle",
           "A",
           "109"
          ],
          [
           "Not available",
           "Stalls Circle",
           "A",
           "108"
          ],
          [
           "Not available",
           "Stalls Circle",
           "A",
           "107"
          ],
          [
           "Not available",
           "Stalls Circle",
           "A",
           "106"
          ],
          [
           "Not available",
           "Stalls Circle",
           "A",
           "105"
          ],
          [
           "Not available",
           "Stalls Circle",
           "A",
           "104"
          ],
          [
           "Not available",
           "Stalls Circle",
           "A",
           "103"
          ],
          [
           "Not available",
           "Stalls Circle",
           "A",
           "102"
          ],
          [
           "Not available",
           "Stalls Circle",
           "A",
           "101"
          ],
          [
           "Not available",
           "Stalls Circle",
           "A",
           "100"
          ],
          [
           "Not available",
           "Stalls Circle",
           "A",
           "99"
          ],
          [
           "Not available",
           "Stalls Circle",
           "A",
           "98"
          ],
          [
           "Not available",
           "Stalls Circle",
           "A",
           "97"
          ],
          [
           "Not available",
           "Stalls Circle",
           "A",
           "96"
          ],
          [
           "Not available",
           "Stalls Circle",
           "A",
           "95"
          ],
          [
           "Not available",
           "Stalls Circle",
           "A",
           "94"
          ],
          [
           "Not available",
           "Stalls Circle",
           "A",
           "93"
          ],
          [
           "Not available",
           "Stalls Circle",
           "A",
           "92"
          ],
          [
           "£172",
           "Stalls Circle",
           "A",
           "91"
          ],
          [
           "Not available",
           "Stalls Circle",
           "A",
           "90"
          ],
          [
           "Not available",
           "Stalls Circle",
           "A",
           "89"
          ],
          [
           "Not available",
           "Stalls Circle",
           "A",
           "24"
          ],
          [
           "Not available",
           "Stalls Circle",
           "A",
           "23"
          ],
          [
           "Not available",
           "Stalls Circle",
           "A",
           "22"
          ],
          [
           "Not available",
           "Stalls Circle",
           "A",
           "21"
          ],
          [
           "Not available",
           "Stalls Circle",
           "A",
           "20"
          ],
          [
           "Not available",
           "Stalls Circle",
           "A",
           "19"
          ],
          [
           "Not available",
           "Stalls Circle",
           "A",
           "18"
          ],
          [
           "Not available",
           "Stalls Circle",
           "A",
           "17"
          ],
          [
           "Not available",
           "Stalls Circle",
           "A",
           "16"
          ],
          [
           "Not available",
           "Stalls Circle",
           "A",
           "15"
          ],
          [
           "Not available",
           "Stalls Circle",
           "A",
           "14"
          ],
          [
           "£132",
           "Stalls Circle",
           "A",
           "13"
          ],
          [
           "Not available",
           "Stalls Circle",
           "A",
           "12"
          ],
          [
           "Not available",
           "Stalls Circle",
           "A",
           "11"
          ],
          [
           "Not available",
           "Stalls Circle",
           "A",
           "10"
          ],
          [
           "Not available",
           "Stalls Circle",
           "A",
           "9"
          ],
          [
           "Not available",
           "Stalls Circle",
           "A",
           "8"
          ],
          [
           "Not available",
           "Stalls Circle",
           "A",
           "7"
          ],
          [
           "Not available",
           "Stalls Circle",
           "A",
           "6"
          ],
          [
           "Not available",
           "Stalls Circle",
           "A",
           "5"
          ],
          [
           "Not available",
           "Stalls Circle",
           "A",
           "4"
          ],
          [
           "£245",
           "Donald Gordon Grand Tier",
           "D",
           "30"
          ],
          [
           "£245",
           "Donald Gordon Grand Tier",
           "D",
           "29"
          ],
          [
           "£245",
           "Donald Gordon Grand Tier",
           "D",
           "28"
          ],
          [
           "£245",
           "Donald Gordon Grand Tier",
           "D",
           "27"
          ],
          [
           "£245",
           "Donald Gordon Grand Tier",
           "D",
           "26"
          ],
          [
           "£245",
           "Donald Gordon Grand Tier",
           "D",
           "25"
          ],
          [
           "£245",
           "Donald Gordon Grand Tier",
           "D",
           "24"
          ],
          [
           "£245",
           "Donald Gordon Grand Tier",
           "D",
           "23"
          ],
          [
           "£245",
           "Donald Gordon Grand Tier",
           "D",
           "22"
          ],
          [
           "£245",
           "Donald Gordon Grand Tier",
           "D",
           "21"
          ],
          [
           "£245",
           "Donald Gordon Grand Tier",
           "D",
           "20"
          ],
          [
           "£245",
           "Donald Gordon Grand Tier",
           "D",
           "19"
          ],
          [
           "£245",
           "Donald Gordon Grand Tier",
           "D",
           "18"
          ],
          [
           "£245",
           "Donald Gordon Grand Tier",
           "D",
           "17"
          ],
          [
           "Not available",
           "Donald Gordon Grand Tier",
           "D",
           "16"
          ],
          [
           "Not available",
           "Donald Gordon Grand Tier",
           "D",
           "15"
          ],
          [
           "Not available",
           "Donald Gordon Grand Tier",
           "D",
           "14"
          ],
          [
           "Not available",
           "Donald Gordon Grand Tier",
           "D",
           "13"
          ],
          [
           "Not available",
           "Donald Gordon Grand Tier",
           "C",
           "32"
          ],
          [
           "Not available",
           "Donald Gordon Grand Tier",
           "C",
           "31"
          ],
          [
           "Not available",
           "Donald Gordon Grand Tier",
           "C",
           "30"
          ],
          [
           "Not available",
           "Donald Gordon Grand Tier",
           "C",
           "29"
          ],
          [
           "Not available",
           "Donald Gordon Grand Tier",
           "C",
           "28"
          ],
          [
           "Not available",
           "Donald Gordon Grand Tier",
           "C",
           "27"
          ],
          [
           "Not available",
           "Donald Gordon Grand Tier",
           "C",
           "26"
          ],
          [
           "Not available",
           "Donald Gordon Grand Tier",
           "C",
           "25"
          ],
          [
           "Not available",
           "Donald Gordon Grand Tier",
           "C",
           "24"
          ],
          [
           "Not available",
           "Donald Gordon Grand Tier",
           "C",
           "23"
          ],
          [
           "Not available",
           "Donald Gordon Grand Tier",
           "C",
           "22"
          ],
          [
           "Not available",
           "Donald Gordon Grand Tier",
           "C",
           "21"
          ],
          [
           "Not available",
           "Donald Gordon Grand Tier",
           "C",
           "20"
          ],
          [
           "Not available",
           "Donald Gordon Grand Tier",
           "C",
           "19"
          ],
          [
           "Not available",
           "Donald Gordon Grand Tier",
           "C",
           "18"
          ],
          [
           "Not available",
           "Donald Gordon Grand Tier",
           "C",
           "17"
          ],
          [
           "Not available",
           "Donald Gordon Grand Tier",
           "C",
           "16"
          ],
          [
           "Not available",
           "Donald Gordon Grand Tier",
           "C",
           "15"
          ],
          [
           "Not available",
           "Donald Gordon Grand Tier",
           "C",
           "14"
          ],
          [
           "Not available",
           "Donald Gordon Grand Tier",
           "C",
           "13"
          ],
          [
           "Not available",
           "Donald Gordon Grand Tier",
           "C",
           "12"
          ],
          [
           "Not available",
           "Donald Gordon Grand Tier",
           "C",
           "41"
          ],
          [
           "Not available",
           "Donald Gordon Grand Tier",
           "C",
           "40"
          ],
          [
           "£245",
           "Donald Gordon Grand Tier",
           "C",
           "39"
          ],
          [
           "£245",
           "Donald Gordon Grand Tier",
           "C",
           "38"
          ],
          [
           "£245",
           "Donald Gordon Grand Tier",
           "C",
           "37"
          ],
          [
           "Not available",
           "Donald Gordon Grand Tier",
           "C",
           "36"
          ],
          [
           "Not available",
           "Donald Gordon Grand Tier",
           "C",
           "35"
          ],
          [
           "Not available",
           "Donald Gordon Grand Tier",
           "C",
           "34"
          ],
          [
           "Not available",
           "Donald Gordon Grand Tier",
           "C",
           "33"
          ],
          [
           "Not available",
           "Donald Gordon Grand Tier",
           "B",
           "30"
          ],
          [
           "Not available",
           "Donald Gordon Grand Tier",
           "B",
           "29"
          ],
          [
           "Not available",
           "Donald Gordon Grand Tier",
           "B",
           "28"
          ],
          [
           "Not available",
           "Donald Gordon Grand Tier",
           "B",
           "27"
          ],
          [
           "Not available",
           "Donald Gordon Grand Tier",
           "B",
           "26"
          ],
          [
           "Not available",
           "Donald Gordon Grand Tier",
           "B",
           "25"
          ],
          [
           "Not available",
           "Donald Gordon Grand Tier",
           "B",
           "24"
          ],
          [
           "Not available",
           "Donald Gordon Grand Tier",
           "B",
           "23"
          ],
          [
           "Not available",
           "Donald Gordon Grand Tier",
           "B",
           "22"
          ],
          [
           "Not available",
           "Donald Gordon Grand Tier",
           "B",
           "21"
          ],
          [
           "Not available",
           "Donald Gordon Grand Tier",
           "B",
           "20"
          ],
          [
           "Not available",
           "Donald Gordon Grand Tier",
           "B",
           "19"
          ],
          [
           "Not available",
           "Donald Gordon Grand Tier",
           "B",
           "18"
          ],
          [
           "Not available",
           "Donald Gordon Grand Tier",
           "B",
           "17"
          ],
          [
           "Not available",
           "Donald Gordon Grand Tier",
           "B",
           "16"
          ],
          [
           "Not available",
           "Donald Gordon Grand Tier",
           "B",
           "15"
          ],
          [
           "Not available",
           "Donald Gordon Grand Tier",
           "B",
           "14"
          ],
          [
           "Not available",
           "Donald Gordon Grand Tier",
           "B",
           "13"
          ],
          [
           "Not available",
           "Donald Gordon Grand Tier",
           "C",
           "11"
          ],
          [
           "Not available",
           "Donald Gordon Grand Tier",
           "C",
           "10"
          ],
          [
           "£245",
           "Donald Gordon Grand Tier",
           "C",
           "9"
          ],
          [
           "£245",
           "Donald Gordon Grand Tier",
           "C",
           "8"
          ],
          [
           "£245",
           "Donald Gordon Grand Tier",
           "C",
           "7"
          ],
          [
           "£245",
           "Donald Gordon Grand Tier",
           "C",
           "6"
          ],
          [
           "£245",
           "Donald Gordon Grand Tier",
           "C",
           "5"
          ],
          [
           "Not available",
           "Donald Gordon Grand Tier",
           "C",
           "4"
          ],
          [
           "Not available",
           "Donald Gordon Grand Tier",
           "C",
           "3"
          ],
          [
           "Not available",
           "Donald Gordon Grand Tier",
           "B",
           "40"
          ],
          [
           "Not available",
           "Donald Gordon Grand Tier",
           "B",
           "39"
          ],
          [
           "Not available",
           "Donald Gordon Grand Tier",
           "B",
           "38"
          ],
          [
           "Not available",
           "Donald Gordon Grand Tier",
           "B",
           "37"
          ],
          [
           "Not available",
           "Donald Gordon Grand Tier",
           "B",
           "36"
          ],
          [
           "Not available",
           "Donald Gordon Grand Tier",
           "B",
           "35"
          ],
          [
           "Not available",
           "Donald Gordon Grand Tier",
           "B",
           "34"
          ],
          [
           "Not available",
           "Donald Gordon Grand Tier",
           "B",
           "33"
          ],
          [
           "Not available",
           "Donald Gordon Grand Tier",
           "B",
           "32"
          ],
          [
           "Not available",
           "Donald Gordon Grand Tier",
           "B",
           "31"
          ],
          [
           "Not available",
           "Donald Gordon Grand Tier",
           "A",
           "32"
          ],
          [
           "Not available",
           "Donald Gordon Grand Tier",
           "A",
           "31"
          ],
          [
           "Not available",
           "Donald Gordon Grand Tier",
           "A",
           "30"
          ],
          [
           "Not available",
           "Donald Gordon Grand Tier",
           "A",
           "29"
          ],
          [
           "Not available",
           "Donald Gordon Grand Tier",
           "A",
           "28"
          ],
          [
           "Not available",
           "Donald Gordon Grand Tier",
           "A",
           "27"
          ],
          [
           "Not available",
           "Donald Gordon Grand Tier",
           "A",
           "26"
          ],
          [
           "Not available",
           "Donald Gordon Grand Tier",
           "A",
           "25"
          ],
          [
           "Not available",
           "Donald Gordon Grand Tier",
           "A",
           "24"
          ],
          [
           "Not available",
           "Donald Gordon Grand Tier",
           "A",
           "23"
          ],
          [
           "Not available",
           "Donald Gordon Grand Tier",
           "A",
           "22"
          ],
          [
           "Not available",
           "Donald Gordon Grand Tier",
           "A",
           "21"
          ],
          [
           "Not available",
           "Donald Gordon Grand Tier",
           "A",
           "20"
          ],
          [
           "Not available",
           "Donald Gordon Grand Tier",
           "A",
           "19"
          ],
          [
           "Not available",
           "Donald Gordon Grand Tier",
           "A",
           "18"
          ],
          [
           "Not available",
           "Donald Gordon Grand Tier",
           "A",
           "17"
          ],
          [
           "Not available",
           "Donald Gordon Grand Tier",
           "A",
           "16"
          ],
          [
           "Not available",
           "Donald Gordon Grand Tier",
           "A",
           "15"
          ],
          [
           "Not available",
           "Donald Gordon Grand Tier",
           "A",
           "14"
          ],
          [
           "Not available",
           "Donald Gordon Grand Tier",
           "A",
           "13"
          ],
          [
           "Not available",
           "Donald Gordon Grand Tier",
           "B",
           "12"
          ],
          [
           "Not available",
           "Donald Gordon Grand Tier",
           "B",
           "11"
          ],
          [
           "Not available",
           "Donald Gordon Grand Tier",
           "B",
           "10"
          ],
          [
           "Not available",
           "Donald Gordon Grand Tier",
           "B",
           "9"
          ],
          [
           "£245",
           "Donald Gordon Grand Tier",
           "B",
           "8"
          ],
          [
           "£245",
           "Donald Gordon Grand Tier",
           "B",
           "7"
          ],
          [
           "Not available",
           "Donald Gordon Grand Tier",
           "B",
           "6"
          ],
          [
           "Not available",
           "Donald Gordon Grand Tier",
           "B",
           "5"
          ],
          [
           "Not available",
           "Donald Gordon Grand Tier",
           "B",
           "4"
          ],
          [
           "Not available",
           "Donald Gordon Grand Tier",
           "B",
           "3"
          ],
          [
           "Not available",
           "Donald Gordon Grand Tier",
           "A",
           "44"
          ],
          [
           "Not available",
           "Donald Gordon Grand Tier",
           "A",
           "43"
          ],
          [
           "Not available",
           "Donald Gordon Grand Tier",
           "A",
           "42"
          ],
          [
           "Not available",
           "Donald Gordon Grand Tier",
           "A",
           "41"
          ],
          [
           "Not available",
           "Donald Gordon Grand Tier",
           "A",
           "40"
          ],
          [
           "Not available",
           "Donald Gordon Grand Tier",
           "A",
           "39"
          ],
          [
           "Not available",
           "Donald Gordon Grand Tier",
           "A",
           "38"
          ],
          [
           "Not available",
           "Donald Gordon Grand Tier",
           "A",
           "37"
          ],
          [
           "Not available",
           "Donald Gordon Grand Tier",
           "A",
           "36"
          ],
          [
           "Not available",
           "Donald Gordon Grand Tier",
           "A",
           "35"
          ],
          [
           "Not available",
           "Donald Gordon Grand Tier",
           "A",
           "34"
          ],
          [
           "Not available",
           "Donald Gordon Grand Tier",
           "A",
           "33"
          ],
          [
           "Not available",
           "Donald Gordon Grand Tier",
           "A",
           "12"
          ],
          [
           "Not available",
           "Donald Gordon Grand Tier",
           "A",
           "11"
          ],
          [
           "Not available",
           "Donald Gordon Grand Tier",
           "A",
           "10"
          ],
          [
           "Not available",
           "Donald Gordon Grand Tier",
           "A",
           "9"
          ],
          [
           "Not available",
           "Donald Gordon Grand Tier",
           "A",
           "8"
          ],
          [
           "Not available",
           "Donald Gordon Grand Tier",
           "A",
           "7"
          ],
          [
           "Not available",
           "Donald Gordon Grand Tier",
           "A",
           "6"
          ],
          [
           "Not available",
           "Donald Gordon Grand Tier",
           "A",
           "5"
          ],
          [
           "Not available",
           "Donald Gordon Grand Tier",
           "A",
           "4"
          ],
          [
           "Not available",
           "Donald Gordon Grand Tier",
           "A",
           "3"
          ],
          [
           "Not available",
           "Donald Gordon Grand Tier",
           "A",
           "2"
          ],
          [
           "Not available",
           "Donald Gordon Grand Tier",
           "A",
           "1"
          ],
          [
           "Not available",
           "Balcony",
           "D",
           "53"
          ],
          [
           "£172",
           "Balcony",
           "D",
           "52"
          ],
          [
           "£172",
           "Balcony",
           "D",
           "51"
          ],
          [
           "£172",
           "Balcony",
           "D",
           "50"
          ],
          [
           "£172",
           "Balcony",
           "D",
           "49"
          ],
          [
           "£172",
           "Balcony",
           "D",
           "48"
          ],
          [
           "£172",
           "Balcony",
           "D",
           "47"
          ],
          [
           "£172",
           "Balcony",
           "D",
           "46"
          ],
          [
           "£172",
           "Balcony",
           "D",
           "45"
          ],
          [
           "Not available",
           "Balcony",
           "D",
           "44"
          ],
          [
           "Not available",
           "Balcony",
           "D",
           "43"
          ],
          [
           "Not available",
           "Balcony",
           "D",
           "42"
          ],
          [
           "Not available",
           "Balcony",
           "D",
           "41"
          ],
          [
           "£172",
           "Balcony",
           "D",
           "40"
          ],
          [
           "£172",
           "Balcony",
           "D",
           "39"
          ],
          [
           "£172",
           "Balcony",
           "D",
           "38"
          ],
          [
           "£172",
           "Balcony",
           "D",
           "37"
          ],
          [
           "£172",
           "Balcony",
           "D",
           "36"
          ],
          [
           "£172",
           "Balcony",
           "D",
           "35"
          ],
          [
           "£132",
           "Balcony",
           "D",
           "34"
          ],
          [
           "£132",
           "Balcony",
           "C",
           "54"
          ],
          [
           "£221",
           "Balcony",
           "C",
           "53"
          ],
          [
           "£221",
           "Balcony",
           "C",
           "52"
          ],
          [
           "£221",
           "Balcony",
           "C",
           "51"
          ],
          [
           "£221",
           "Balcony",
           "C",
           "50"
          ],
          [
           "£221",
           "Balcony",
           "C",
           "49"
          ],
          [
           "£221",
           "Balcony",
           "C",
           "48"
          ],
          [
           "£221",
           "Balcony",
           "C",
           "47"
          ],
          [
           "£221",
           "Balcony",
           "C",
           "40"
          ],
          [
           "£221",
           "Balcony",
           "C",
           "39"
          ],
          [
           "£221",
           "Balcony",
           "C",
           "38"
          ],
          [
           "£221",
           "Balcony",
           "C",
           "37"
          ],
          [
           "£221",
           "Balcony",
           "C",
           "36"
          ],
          [
           "£221",
           "Balcony",
           "C",
           "35"
          ],
          [
           "£221",
           "Balcony",
           "C",
           "34"
          ],
          [
           "£221",
           "Balcony",
           "C",
           "33"
          ],
          [
           "Not available",
           "Balcony",
           "C",
           "32"
          ],
          [
           "Not available",
           "Balcony",
           "B",
           "53"
          ],
          [
           "£221",
           "Balcony",
           "B",
           "52"
          ],
          [
           "£221",
           "Balcony",
           "B",
           "51"
          ],
          [
           "£221",
           "Balcony",
           "B",
           "50"
          ],
          [
           "£221",
           "Balcony",
           "B",
           "49"
          ],
          [
           "£221",
           "Balcony",
           "B",
           "48"
          ],
          [
           "£221",
           "Balcony",
           "B",
           "47"
          ],
          [
           "£221",
           "Balcony",
           "B",
           "46"
          ],
          [
           "£221",
           "Balcony",
           "B",
           "45"
          ],
          [
           "£221",
           "Balcony",
           "B",
           "44"
          ],
          [
           "£221",
           "Balcony",
           "B",
           "43"
          ],
          [
           "£221",
           "Balcony",
           "B",
           "42"
          ],
          [
           "£221",
           "Balcony",
           "B",
           "41"
          ],
          [
           "£221",
           "Balcony",
           "B",
           "40"
          ],
          [
           "£221",
           "Balcony",
           "B",
           "39"
          ],
          [
           "£221",
           "Balcony",
           "B",
           "38"
          ],
          [
           "£221",
           "Balcony",
           "B",
           "37"
          ],
          [
           "£221",
           "Balcony",
           "B",
           "36"
          ],
          [
           "£221",
           "Balcony",
           "B",
           "35"
          ],
          [
           "Not available",
           "Balcony",
           "B",
           "34"
          ],
          [
           "Not available",
           "Balcony",
           "A",
           "53"
          ],
          [
           "Not available",
           "Balcony",
           "A",
           "52"
          ],
          [
           "Not available",
           "Balcony",
           "A",
           "51"
          ],
          [
           "Not available",
           "Balcony",
           "A",
           "50"
          ],
          [
           "Not available",
           "Balcony",
           "A",
           "49"
          ],
          [
           "Not available",
           "Balcony",
           "A",
           "48"
          ],
          [
           "Not available",
           "Balcony",
           "A",
           "47"
          ],
          [
           "Not available",
           "Balcony",
           "A",
           "46"
          ],
          [
           "Not available",
           "Balcony",
           "A",
           "45"
          ],
          [
           "Not available",
           "Balcony",
           "A",
           "44"
          ],
          [
           "Not available",
           "Balcony",
           "A",
           "43"
          ],
          [
           "Not available",
           "Balcony",
           "A",
           "42"
          ],
          [
           "Not available",
           "Balcony",
           "A",
           "41"
          ],
          [
           "£221",
           "Balcony",
           "A",
           "40"
          ],
          [
           "Not available",
           "Balcony",
           "A",
           "39"
          ],
          [
           "Not available",
           "Balcony",
           "A",
           "38"
          ],
          [
           "Not available",
           "Balcony",
           "A",
           "37"
          ],
          [
           "Not available",
           "Balcony",
           "A",
           "36"
          ],
          [
           "Not available",
           "Balcony",
           "A",
           "35"
          ],
          [
           "Not available",
           "Balcony",
           "A",
           "34"
          ],
          [
           "Not available",
           "Balcony",
           "A",
           "33"
          ],
          [
           "Not available",
           "Balcony",
           "D",
           "33"
          ],
          [
           "Not available",
           "Balcony",
           "D",
           "32"
          ],
          [
           "Not available",
           "Balcony",
           "C",
           "65"
          ],
          [
           "Not available",
           "Balcony",
           "C",
           "64"
          ],
          [
           "Not available",
           "Balcony",
           "C",
           "63"
          ],
          [
           "Not available",
           "Balcony",
           "C",
           "62"
          ],
          [
           "Not available",
           "Balcony",
           "C",
           "61"
          ],
          [
           "Not available",
           "Balcony",
           "C",
           "60"
          ],
          [
           "Not available",
           "Balcony",
           "C",
           "59"
          ],
          [
           "Not available",
           "Balcony",
           "C",
           "58"
          ],
          [
           "Not available",
           "Balcony",
           "C",
           "57"
          ],
          [
           "Not available",
           "Balcony",
           "C",
           "56"
          ],
          [
           "Not available",
           "Balcony",
           "C",
           "55"
          ],
          [
           "£132",
           "Balcony",
           "C",
           "31"
          ],
          [
           "£132",
           "Balcony",
           "C",
           "30"
          ],
          [
           "£132",
           "Balcony",
           "C",
           "29"
          ],
          [
           "Not available",
           "Balcony",
           "C",
           "28"
          ],
          [
           "Not available",
           "Balcony",
           "C",
           "27"
          ],
          [
           "Not available",
           "Balcony",
           "C",
           "26"
          ],
          [
           "Not available",
           "Balcony",
           "C",
           "25"
          ],
          [
           "Not available",
           "Balcony",
           "C",
           "24"
          ],
          [
           "Not available",
           "Balcony",
           "B",
           "62"
          ],
          [
           "Not available",
           "Balcony",
           "B",
           "61"
          ],
          [
           "Not available",
           "Balcony",
           "B",
           "60"
          ],
          [
           "Not available",
           "Balcony",
           "B",
           "59"
          ],
          [
           "Not available",
           "Balcony",
           "B",
           "58"
          ],
          [
           "Not available",
           "Balcony",
           "B",
           "57"
          ],
          [
           "Not available",
           "Balcony",
           "B",
           "56"
          ],
          [
           "Not available",
           "Balcony",
           "B",
           "55"
          ],
          [
           "Not available",
           "Balcony",
           "B",
           "54"
          ],
          [
           "£132",
           "Balcony",
           "B",
           "33"
          ],
          [
           "£132",
           "Balcony",
           "B",
           "32"
          ],
          [
           "£132",
           "Balcony",
           "B",
           "31"
          ],
          [
           "Not available",
           "Balcony",
           "B",
           "30"
          ],
          [
           "Not available",
           "Balcony",
           "B",
           "29"
          ],
          [
           "Not available",
           "Balcony",
           "B",
           "28"
          ],
          [
           "Not available",
           "Balcony",
           "B",
           "27"
          ],
          [
           "Not available",
           "Balcony",
           "B",
           "26"
          ],
          [
           "Not available",
           "Balcony",
           "B",
           "25"
          ],
          [
           "Not available",
           "Balcony",
           "B",
           "24"
          ],
          [
           "£97",
           "Balcony",
           "B",
           "23"
          ],
          [
           "£97",
           "Balcony",
           "B",
           "22"
          ],
          [
           "£172",
           "Balcony",
           "A",
           "60"
          ],
          [
           "Not available",
           "Balcony",
           "A",
           "59"
          ],
          [
           "Not available",
           "Balcony",
           "A",
           "58"
          ],
          [
           "Not available",
           "Balcony",
           "A",
           "57"
          ],
          [
           "Not available",
           "Balcony",
           "A",
           "56"
          ],
          [
           "Not available",
           "Balcony",
           "A",
           "55"
          ],
          [
           "Not available",
           "Balcony",
           "A",
           "54"
          ],
          [
           "Not available",
           "Balcony",
           "A",
           "32"
          ],
          [
           "Not available",
           "Balcony",
           "A",
           "31"
          ],
          [
           "Not available",
           "Balcony",
           "A",
           "30"
          ],
          [
           "Not available",
           "Balcony",
           "A",
           "29"
          ],
          [
           "Not available",
           "Balcony",
           "A",
           "28"
          ],
          [
           "Not available",
           "Balcony",
           "A",
           "27"
          ],
          [
           "Not available",
           "Balcony",
           "A",
           "26"
          ],
          [
           "Not available",
           "Balcony",
           "A",
           "21"
          ],
          [
           "Not available",
           "Balcony",
           "A",
           "20"
          ],
          [
           "Not available",
           "Balcony",
           "A",
           "19"
          ],
          [
           "£25",
           "Balcony",
           "B",
           "73"
          ],
          [
           "Not available",
           "Balcony",
           "B",
           "72"
          ],
          [
           "Not available",
           "Balcony",
           "B",
           "71"
          ],
          [
           "Not available",
           "Balcony",
           "B",
           "70"
          ],
          [
           "Not available",
           "Balcony",
           "B",
           "4"
          ],
          [
           "Not available",
           "Balcony",
           "B",
           "3"
          ],
          [
           "Not available",
           "Balcony",
           "B",
           "2"
          ],
          [
           "Not available",
           "Balcony",
           "B",
           "1"
          ],
          [
           "Not available",
           "Balcony",
           "A",
           "77"
          ],
          [
           "Not available",
           "Balcony",
           "A",
           "76"
          ],
          [
           "Not available",
           "Balcony",
           "A",
           "75"
          ],
          [
           "Not available",
           "Balcony",
           "A",
           "74"
          ],
          [
           "Not available",
           "Balcony",
           "A",
           "73"
          ],
          [
           "Not available",
           "Balcony",
           "A",
           "72"
          ],
          [
           "£97",
           "Balcony",
           "A",
           "14"
          ],
          [
           "£97",
           "Balcony",
           "A",
           "13"
          ],
          [
           "£97",
           "Balcony",
           "A",
           "12"
          ],
          [
           "£97",
           "Balcony",
           "A",
           "11"
          ],
          [
           "£97",
           "Balcony",
           "A",
           "10"
          ],
          [
           "£97",
           "Balcony",
           "A",
           "9"
          ],
          [
           "Not available",
           "Balcony",
           "A",
           "78"
          ],
          [
           "Not available",
           "Balcony",
           "A",
           "8"
          ],
          [
           "Not available",
           "Amphitheatre",
           "W",
           "66"
          ],
          [
           "Not available",
           "Amphitheatre",
           "W",
           "65"
          ],
          [
           "Not available",
           "Amphitheatre",
           "W",
           "64"
          ],
          [
           "Not available",
           "Amphitheatre",
           "W",
           "63"
          ],
          [
           "Not available",
           "Amphitheatre",
           "W",
           "62"
          ],
          [
           "Not available",
           "Amphitheatre",
           "W",
           "61"
          ],
          [
           "Not available",
           "Amphitheatre",
           "W",
           "60"
          ],
          [
           "Not available",
           "Amphitheatre",
           "W",
           "59"
          ],
          [
           "Not available",
           "Amphitheatre",
           "W",
           "58"
          ],
          [
           "Not available",
           "Amphitheatre",
           "W",
           "57"
          ],
          [
           "Not available",
           "Amphitheatre",
           "W",
           "56"
          ],
          [
           "Not available",
           "Amphitheatre",
           "W",
           "55"
          ],
          [
           "Not available",
           "Amphitheatre",
           "W",
           "54"
          ],
          [
           "Not available",
           "Amphitheatre",
           "V",
           "66"
          ],
          [
           "£49",
           "Amphitheatre",
           "V",
           "65"
          ],
          [
           "Not available",
           "Amphitheatre",
           "V",
           "64"
          ],
          [
           "Not available",
           "Amphitheatre",
           "V",
           "63"
          ],
          [
           "Not available",
           "Amphitheatre",
           "V",
           "62"
          ],
          [
           "Not available",
           "Amphitheatre",
           "V",
           "61"
          ],
          [
           "£49",
           "Amphitheatre",
           "V",
           "60"
          ],
          [
           "Not available",
           "Amphitheatre",
           "V",
           "59"
          ],
          [
           "Not available",
           "Amphitheatre",
           "V",
           "58"
          ],
          [
           "£49",
           "Amphitheatre",
           "V",
           "57"
          ],
          [
           "Not available",
           "Amphitheatre",
           "V",
           "56"
          ],
          [
           "£49",
           "Amphitheatre",
           "V",
           "55"
          ],
          [
           "£49",
           "Amphitheatre",
           "V",
           "54"
          ],
          [
           "£49",
           "Amphitheatre",
           "V",
           "52"
          ],
          [
           "Not available",
           "Amphitheatre",
           "V",
           "51"
          ],
          [
           "Not available",
           "Amphitheatre",
           "U",
           "67"
          ],
          [
           "Not available",
           "Amphitheatre",
           "U",
           "66"
          ],
          [
           "Not available",
           "Amphitheatre",
           "U",
           "65"
          ],
          [
           "Not available",
           "Amphitheatre",
           "U",
           "64"
          ],
          [
           "Not available",
           "Amphitheatre",
           "U",
           "63"
          ],
          [
           "Not available",
           "Amphitheatre",
           "U",
           "62"
          ],
          [
           "Not available",
           "Amphitheatre",
           "U",
           "54"
          ],
          [
           "Not available",
           "Amphitheatre",
           "U",
           "53"
          ],
          [
           "Not available",
           "Amphitheatre",
           "U",
           "52"
          ],
          [
           "Not available",
           "Amphitheatre",
           "U",
           "51"
          ],
          [
           "£49",
           "Amphitheatre",
           "U",
           "50"
          ],
          [
           "£49",
           "Amphitheatre",
           "U",
           "49"
          ],
          [
           "Not available",
           "Amphitheatre",
           "T",
           "66"
          ],
          [
           "Not available",
           "Amphitheatre",
           "T",
           "65"
          ],
          [
           "Not available",
           "Amphitheatre",
           "T",
           "64"
          ],
          [
           "Not available",
           "Amphitheatre",
           "T",
           "63"
          ],
          [
           "Not available",
           "Amphitheatre",
           "T",
           "62"
          ],
          [
           "Not available",
           "Amphitheatre",
           "T",
           "53"
          ],
          [
           "Not available",
           "Amphitheatre",
           "T",
           "52"
          ],
          [
           "Not available",
           "Amphitheatre",
           "T",
           "51"
          ],
          [
           "Not available",
           "Amphitheatre",
           "T",
           "50"
          ],
          [
           "Not available",
           "Amphitheatre",
           "T",
           "49"
          ],
          [
           "Not available",
           "Amphitheatre",
           "T",
           "48"
          ],
          [
           "£49",
           "Amphitheatre",
           "T",
           "47"
          ],
          [
           "Not available",
           "Amphitheatre",
           "T",
           "46"
          ],
          [
           "Not available",
           "Amphitheatre",
           "T",
           "45"
          ],
          [
           "Not available",
           "Amphitheatre",
           "T",
           "44"
          ],
          [
           "Not available",
           "Amphitheatre",
           "T",
           "43"
          ],
          [
           "Not available",
           "Amphitheatre",
           "T",
           "42"
          ],
          [
           "Not available",
           "Amphitheatre",
           "T",
           "41"
          ],
          [
           "£49",
           "Amphitheatre",
           "S",
           "71"
          ],
          [
           "£49",
           "Amphitheatre",
           "S",
           "70"
          ],
          [
           "Not available",
           "Amphitheatre",
           "S",
           "69"
          ],
          [
           "Not available",
           "Amphitheatre",
           "S",
           "68"
          ],
          [
           "Not available",
           "Amphitheatre",
           "S",
           "67"
          ],
          [
           "Not available",
           "Amphitheatre",
           "S",
           "66"
          ],
          [
           "Not available",
           "Amphitheatre",
           "S",
           "65"
          ],
          [
           "Not available",
           "Amphitheatre",
           "S",
           "64"
          ],
          [
           "Not available",
           "Amphitheatre",
           "S",
           "63"
          ],
          [
           "Not available",
           "Amphitheatre",
           "S",
           "62"
          ],
          [
           "Not available",
           "Amphitheatre",
           "S",
           "53"
          ],
          [
           "Not available",
           "Amphitheatre",
           "S",
           "52"
          ],
          [
           "Not available",
           "Amphitheatre",
           "S",
           "51"
          ],
          [
           "Not available",
           "Amphitheatre",
           "S",
           "50"
          ],
          [
           "Not available",
           "Amphitheatre",
           "S",
           "49"
          ],
          [
           "Not available",
           "Amphitheatre",
           "S",
           "48"
          ],
          [
           "Not available",
           "Amphitheatre",
           "S",
           "47"
          ],
          [
           "Not available",
           "Amphitheatre",
           "S",
           "46"
          ],
          [
           "Not available",
           "Amphitheatre",
           "S",
           "45"
          ],
          [
           "Not available",
           "Amphitheatre",
           "S",
           "44"
          ],
          [
           "£49",
           "Amphitheatre",
           "S",
           "43"
          ],
          [
           "£49",
           "Amphitheatre",
           "S",
           "42"
          ],
          [
           "£49",
           "Amphitheatre",
           "S",
           "41"
          ],
          [
           "£49",
           "Amphitheatre",
           "S",
           "40"
          ],
          [
           "£49",
           "Amphitheatre",
           "S",
           "39"
          ],
          [
           "£49",
           "Amphitheatre",
           "S",
           "38"
          ],
          [
           "Not available",
           "Amphitheatre",
           "R",
           "77"
          ],
          [
           "Not available",
           "Amphitheatre",
           "R",
           "76"
          ],
          [
           "£49",
           "Amphitheatre",
           "R",
           "75"
          ],
          [
           "£49",
           "Amphitheatre",
           "R",
           "74"
          ],
          [
           "£49",
           "Amphitheatre",
           "R",
           "73"
          ],
          [
           "£49",
           "Amphitheatre",
           "R",
           "72"
          ],
          [
           "Not available",
           "Amphitheatre",
           "R",
           "71"
          ],
          [
           "Not available",
           "Amphitheatre",
           "R",
           "70"
          ],
          [
           "Not available",
           "Amphitheatre",
           "R",
           "69"
          ],
          [
           "Not available",
           "Amphitheatre",
           "R",
           "68"
          ],
          [
           "Not available",
           "Amphitheatre",
           "R",
           "67"
          ],
          [
           "Not available",
           "Amphitheatre",
           "R",
           "66"
          ],
          [
           "Not available",
           "Amphitheatre",
           "R",
           "65"
          ],
          [
           "Not available",
           "Amphitheatre",
           "R",
           "64"
          ],
          [
           "Not available",
           "Amphitheatre",
           "R",
           "63"
          ],
          [
           "Not available",
           "Amphitheatre",
           "R",
           "62"
          ],
          [
           "Not available",
           "Amphitheatre",
           "R",
           "61"
          ],
          [
           "Not available",
           "Amphitheatre",
           "R",
           "60"
          ],
          [
           "Not available",
           "Amphitheatre",
           "R",
           "59"
          ],
          [
           "Not available",
           "Amphitheatre",
           "R",
           "58"
          ],
          [
           "Not available",
           "Amphitheatre",
           "R",
           "57"
          ],
          [
           "Not available",
           "Amphitheatre",
           "R",
           "56"
          ],
          [
           "Not available",
           "Amphitheatre",
           "R",
           "55"
          ],
          [
           "Not available",
           "Amphitheatre",
           "R",
           "54"
          ],
          [
           "Not available",
           "Amphitheatre",
           "R",
           "53"
          ],
          [
           "Not available",
           "Amphitheatre",
           "R",
           "52"
          ],
          [
           "Not available",
           "Amphitheatre",
           "R",
           "51"
          ],
          [
           "Not available",
           "Amphitheatre",
           "R",
           "50"
          ],
          [
           "Not available",
           "Amphitheatre",
           "R",
           "49"
          ],
          [
           "Not available",
           "Amphitheatre",
           "R",
           "48"
          ],
          [
           "Not available",
           "Amphitheatre",
           "R",
           "47"
          ],
          [
           "Not available",
           "Amphitheatre",
           "R",
           "46"
          ],
          [
           "Not available",
           "Amphitheatre",
           "R",
           "45"
          ],
          [
           "Not available",
           "Amphitheatre",
           "R",
           "44"
          ],
          [
           "Not available",
           "Amphitheatre",
           "R",
           "43"
          ],
          [
           "£49",
           "Amphitheatre",
           "R",
           "42"
          ],
          [
           "£49",
           "Amphitheatre",
           "R",
           "41"
          ],
          [
           "£49",
           "Amphitheatre",
           "R",
           "40"
          ],
          [
           "£49",
           "Amphitheatre",
           "R",
           "39"
          ],
          [
           "£49",
           "Amphitheatre",
           "R",
           "38"
          ],
          [
           "Not available",
           "Amphitheatre",
           "P",
           "77"
          ],
          [
           "Not available",
           "Amphitheatre",
           "P",
           "76"
          ],
          [
           "£49",
           "Amphitheatre",
           "P",
           "75"
          ],
          [
           "£49",
           "Amphitheatre",
           "P",
           "74"
          ],
          [
           "£49",
           "Amphitheatre",
           "P",
           "73"
          ],
          [
           "£49",
           "Amphitheatre",
           "P",
           "72"
          ],
          [
           "£49",
           "Amphitheatre",
           "P",
           "71"
          ],
          [
           "Not available",
           "Amphitheatre",
           "P",
           "70"
          ],
          [
           "Not available",
           "Amphitheatre",
           "P",
           "69"
          ],
          [
           "Not available",
           "Amphitheatre",
           "P",
           "68"
          ],
          [
           "Not available",
           "Amphitheatre",
           "P",
           "67"
          ],
          [
           "Not available",
           "Amphitheatre",
           "P",
           "66"
          ],
          [
           "Not available",
           "Amphitheatre",
           "P",
           "65"
          ],
          [
           "Not available",
           "Amphitheatre",
           "P",
           "64"
          ],
          [
           "Not available",
           "Amphitheatre",
           "P",
           "63"
          ],
          [
           "Not available",
           "Amphitheatre",
           "P",
           "62"
          ],
          [
           "Not available",
           "Amphitheatre",
           "P",
           "61"
          ],
          [
           "Not available",
           "Amphitheatre",
           "P",
           "60"
          ],
          [
           "Not available",
           "Amphitheatre",
           "P",
           "59"
          ],
          [
           "Not available",
           "Amphitheatre",
           "P",
           "58"
          ],
          [
           "Not available",
           "Amphitheatre",
           "P",
           "57"
          ],
          [
           "Not available",
           "Amphitheatre",
           "P",
           "56"
          ],
          [
           "Not available",
           "Amphitheatre",
           "P",
           "55"
          ],
          [
           "Not available",
           "Amphitheatre",
           "P",
           "54"
          ],
          [
           "Not available",
           "Amphitheatre",
           "P",
           "53"
          ],
          [
           "Not available",
           "Amphitheatre",
           "P",
           "52"
          ],
          [
           "Not available",
           "Amphitheatre",
           "P",
           "51"
          ],
          [
           "Not available",
           "Amphitheatre",
           "P",
           "50"
          ],
          [
           "Not available",
           "Amphitheatre",
           "P",
           "49"
          ],
          [
           "Not available",
           "Amphitheatre",
           "P",
           "48"
          ],
          [
           "Not available",
           "Amphitheatre",
           "P",
           "47"
          ],
          [
           "Not available",
           "Amphitheatre",
           "P",
           "46"
          ],
          [
           "Not available",
           "Amphitheatre",
           "P",
           "45"
          ],
          [
           "Not available",
           "Amphitheatre",
           "P",
           "44"
          ],
          [
           "Not available",
           "Amphitheatre",
           "P",
           "43"
          ],
          [
           "Not available",
           "Amphitheatre",
           "P",
           "42"
          ],
          [
           "Not available",
           "Amphitheatre",
           "P",
           "41"
          ],
          [
           "£49",
           "Amphitheatre",
           "P",
           "40"
          ],
          [
           "£49",
           "Amphitheatre",
           "P",
           "39"
          ],
          [
           "£49",
           "Amphitheatre",
           "P",
           "38"
          ],
          [
           "£49",
           "Amphitheatre",
           "P",
           "37"
          ],
          [
           "£49",
           "Amphitheatre",
           "N",
           "77"
          ],
          [
           "£49",
           "Amphitheatre",
           "N",
           "76"
          ],
          [
           "£49",
           "Amphitheatre",
           "N",
           "75"
          ],
          [
           "£49",
           "Amphitheatre",
           "N",
           "74"
          ],
          [
           "Not available",
           "Amphitheatre",
           "N",
           "73"
          ],
          [
           "Not available",
           "Amphitheatre",
           "N",
           "72"
          ],
          [
           "Not available",
           "Amphitheatre",
           "N",
           "71"
          ],
          [
           "Not available",
           "Amphitheatre",
           "N",
           "70"
          ],
          [
           "Not available",
           "Amphitheatre",
           "N",
           "69"
          ],
          [
           "Not available",
           "Amphitheatre",
           "N",
           "68"
          ],
          [
           "Not available",
           "Amphitheatre",
           "N",
           "67"
          ],
          [
           "Not available",
           "Amphitheatre",
           "N",
           "66"
          ],
          [
           "Not available",
           "Amphitheatre",
           "N",
           "65"
          ],
          [
           "£78",
           "Amphitheatre",
           "N",
           "64"
          ],
          [
           "£78",
           "Amphitheatre",
           "N",
           "63"
          ],
          [
           "£78",
           "Amphitheatre",
           "N",
           "62"
          ],
          [
           "£78",
           "Amphitheatre",
           "N",
           "61"
          ],
          [
           "£78",
           "Amphitheatre",
           "N",
           "60"
          ],
          [
           "Not available",
           "Amphitheatre",
           "N",
           "59"
          ],
          [
           "Not available",
           "Amphitheatre",
           "N",
           "58"
          ],
          [
           "Not available",
           "Amphitheatre",
           "N",
           "57"
          ],
          [
           "Not available",
           "Amphitheatre",
           "N",
           "56"
          ],
          [
           "Not available",
           "Amphitheatre",
           "N",
           "55"
          ],
          [
           "Not available",
           "Amphitheatre",
           "N",
           "54"
          ],
          [
           "£78",
           "Amphitheatre",
           "N",
           "53"
          ],
          [
           "£78",
           "Amphitheatre",
           "N",
           "52"
          ],
          [
           "£78",
           "Amphitheatre",
           "N",
           "51"
          ],
          [
           "Not available",
           "Amphitheatre",
           "N",
           "50"
          ],
          [
           "Not available",
           "Amphitheatre",
           "N",
           "49"
          ],
          [
           "Not available",
           "Amphitheatre",
           "N",
           "48"
          ],
          [
           "Not available",
           "Amphitheatre",
           "N",
           "47"
          ],
          [
           "Not available",
           "Amphitheatre",
           "N",
           "46"
          ],
          [
           "Not available",
           "Amphitheatre",
           "N",
           "45"
          ],
          [
           "Not available",
           "Amphitheatre",
           "N",
           "44"
          ],
          [
           "Not available",
           "Amphitheatre",
           "N",
           "43"
          ],
          [
           "Not available",
           "Amphitheatre",
           "N",
           "42"
          ],
          [
           "Not available",
           "Amphitheatre",
           "N",
           "41"
          ],
          [
           "£49",
           "Amphitheatre",
           "N",
           "40"
          ],
          [
           "£49",
           "Amphitheatre",
           "N",
           "39"
          ],
          [
           "Not available",
           "Amphitheatre",
           "N",
           "38"
          ],
          [
           "Not available",
           "Amphitheatre",
           "N",
           "37"
          ],
          [
           "Not available",
           "Amphitheatre",
           "M",
           "77"
          ],
          [
           "Not available",
           "Amphitheatre",
           "M",
           "76"
          ],
          [
           "Not available",
           "Amphitheatre",
           "M",
           "75"
          ],
          [
           "Not available",
           "Amphitheatre",
           "M",
           "74"
          ],
          [
           "Not available",
           "Amphitheatre",
           "M",
           "73"
          ],
          [
           "Not available",
           "Amphitheatre",
           "M",
           "72"
          ],
          [
           "Not available",
           "Amphitheatre",
           "M",
           "71"
          ],
          [
           "Not available",
           "Amphitheatre",
           "M",
           "70"
          ],
          [
           "Not available",
           "Amphitheatre",
           "M",
           "69"
          ],
          [
           "Not available",
           "Amphitheatre",
           "M",
           "68"
          ],
          [
           "Not available",
           "Amphitheatre",
           "M",
           "67"
          ],
          [
           "Not available",
           "Amphitheatre",
           "M",
           "66"
          ],
          [
           "Not available",
           "Amphitheatre",
           "M",
           "65"
          ],
          [
           "Not available",
           "Amphitheatre",
           "M",
           "64"
          ],
          [
           "Not available",
           "Amphitheatre",
           "M",
           "63"
          ],
          [
           "Not available",
           "Amphitheatre",
           "M",
           "62"
          ],
          [
           "Not available",
           "Amphitheatre",
           "M",
           "61"
          ],
          [
           "Not available",
           "Amphitheatre",
           "M",
           "60"
          ],
          [
           "Not available",
           "Amphitheatre",
           "M",
           "59"
          ],
          [
           "Not available",
           "Amphitheatre",
           "M",
           "58"
          ],
          [
           "Not available",
           "Amphitheatre",
           "M",
           "57"
          ],
          [
           "Not available",
           "Amphitheatre",
           "M",
           "56"
          ],
          [
           "Not available",
           "Amphitheatre",
           "M",
           "55"
          ],
          [
           "Not available",
           "Amphitheatre",
           "M",
           "54"
          ],
          [
           "Not available",
           "Amphitheatre",
           "M",
           "53"
          ],
          [
           "Not available",
           "Amphitheatre",
           "M",
           "52"
          ],
          [
           "Not available",
           "Amphitheatre",
           "M",
           "51"
          ],
          [
           "Not available",
           "Amphitheatre",
           "M",
           "50"
          ],
          [
           "Not available",
           "Amphitheatre",
           "M",
           "49"
          ],
          [
           "Not available",
           "Amphitheatre",
           "M",
           "48"
          ],
          [
           "Not available",
           "Amphitheatre",
           "M",
           "47"
          ],
          [
           "Not available",
           "Amphitheatre",
           "M",
           "46"
          ],
          [
           "Not available",
           "Amphitheatre",
           "M",
           "45"
          ],
          [
           "Not available",
           "Amphitheatre",
           "M",
           "44"
          ],
          [
           "Not available",
           "Amphitheatre",
           "M",
           "43"
          ],
          [
           "Not available",
           "Amphitheatre",
           "M",
           "42"
          ],
          [
           "Not available",
           "Amphitheatre",
           "M",
           "41"
          ],
          [
           "Not available",
           "Amphitheatre",
           "M",
           "40"
          ],
          [
           "Not available",
           "Amphitheatre",
           "M",
           "39"
          ],
          [
           "Not available",
           "Amphitheatre",
           "M",
           "38"
          ],
          [
           "Not available",
           "Amphitheatre",
           "M",
           "37"
          ],
          [
           "Not available",
           "Amphitheatre",
           "L",
           "78"
          ],
          [
           "£49",
           "Amphitheatre",
           "L",
           "77"
          ],
          [
           "Not available",
           "Amphitheatre",
           "L",
           "76"
          ],
          [
           "Not available",
           "Amphitheatre",
           "L",
           "75"
          ],
          [
           "Not available",
           "Amphitheatre",
           "L",
           "74"
          ],
          [
           "Not available",
           "Amphitheatre",
           "L",
           "73"
          ],
          [
           "Not available",
           "Amphitheatre",
           "L",
           "72"
          ],
          [
           "Not available",
           "Amphitheatre",
           "L",
           "71"
          ],
          [
           "Not available",
           "Amphitheatre",
           "L",
           "70"
          ],
          [
           "Not available",
           "Amphitheatre",
           "L",
           "69"
          ],
          [
           "Not available",
           "Amphitheatre",
           "L",
           "68"
          ],
          [
           "Not available",
           "Amphitheatre",
           "L",
           "67"
          ],
          [
           "Not available",
           "Amphitheatre",
           "L",
           "66"
          ],
          [
           "Not available",
           "Amphitheatre",
           "L",
           "65"
          ],
          [
           "Not available",
           "Amphitheatre",
           "L",
           "64"
          ],
          [
           "Not available",
           "Amphitheatre",
           "L",
           "63"
          ],
          [
           "Not available",
           "Amphitheatre",
           "L",
           "62"
          ],
          [
           "Not available",
           "Amphitheatre",
           "L",
           "61"
          ],
          [
           "Not available",
           "Amphitheatre",
           "L",
           "60"
          ],
          [
           "Not available",
           "Amphitheatre",
           "L",
           "59"
          ],
          [
           "Not available",
           "Amphitheatre",
           "L",
           "58"
          ],
          [
           "Not available",
           "Amphitheatre",
           "L",
           "57"
          ],
          [
           "Not available",
           "Amphitheatre",
           "L",
           "56"
          ],
          [
           "Not available",
           "Amphitheatre",
           "L",
           "55"
          ],
          [
           "Not available",
           "Amphitheatre",
           "L",
           "54"
          ],
          [
           "Not available",
           "Amphitheatre",
           "L",
           "53"
          ],
          [
           "Not available",
           "Amphitheatre",
           "L",
           "52"
          ],
          [
           "Not available",
           "Amphitheatre",
           "L",
           "51"
          ],
          [
           "Not available",
           "Amphitheatre",
           "L",
           "50"
          ],
          [
           "Not available",
           "Amphitheatre",
           "L",
           "49"
          ],
          [
           "Not available",
           "Amphitheatre",
           "L",
           "48"
          ],
          [
           "Not available",
           "Amphitheatre",
           "L",
           "47"
          ],
          [
           "Not available",
           "Amphitheatre",
           "L",
           "46"
          ],
          [
           "Not available",
           "Amphitheatre",
           "L",
           "45"
          ],
          [
           "Not available",
           "Amphitheatre",
           "L",
           "44"
          ],
          [
           "Not available",
           "Amphitheatre",
           "L",
           "43"
          ],
          [
           "Not available",
           "Amphitheatre",
           "L",
           "42"
          ],
          [
           "Not available",
           "Amphitheatre",
           "L",
           "41"
          ],
          [
           "Not available",
           "Amphitheatre",
           "L",
           "40"
          ],
          [
           "Not available",
           "Amphitheatre",
           "L",
           "39"
          ],
          [
           "£49",
           "Amphitheatre",
           "L",
           "38"
          ],
          [
           "Not available",
           "Amphitheatre",
           "L",
           "37"
          ],
          [
           "Not available",
           "Amphitheatre",
           "K",
           "73"
          ],
          [
           "Not available",
           "Amphitheatre",
           "K",
           "72"
          ],
          [
           "Not available",
           "Amphitheatre",
           "K",
           "71"
          ],
          [
           "Not available",
           "Amphitheatre",
           "K",
           "70"
          ],
          [
           "£78",
           "Amphitheatre",
           "K",
           "69"
          ],
          [
           "£78",
           "Amphitheatre",
           "K",
           "68"
          ],
          [
           "Not available",
           "Amphitheatre",
           "K",
           "67"
          ],
          [
           "Not available",
           "Amphitheatre",
           "K",
           "66"
          ],
          [
           "Not available",
           "Amphitheatre",
           "K",
           "65"
          ],
          [
           "Not available",
           "Amphitheatre",
           "K",
           "64"
          ],
          [
           "£97",
           "Amphitheatre",
           "K",
           "63"
          ],
          [
           "£97",
           "Amphitheatre",
           "K",
           "62"
          ],
          [
           "£97",
           "Amphitheatre",
           "K",
           "61"
          ],
          [
           "£97",
           "Amphitheatre",
           "K",
           "60"
          ],
          [
           "£97",
           "Amphitheatre",
           "K",
           "59"
          ],
          [
           "£97",
           "Amphitheatre",
           "K",
           "58"
          ],
          [
           "£97",
           "Amphitheatre",
           "K",
           "57"
          ],
          [
           "£97",
           "Amphitheatre",
           "K",
           "56"
          ],
          [
           "£97",
           "Amphitheatre",
           "K",
           "55"
          ],
          [
           "£97",
           "Amphitheatre",
           "K",
           "54"
          ],
          [
           "£97",
           "Amphitheatre",
           "K",
           "53"
          ],
          [
           "£97",
           "Amphitheatre",
           "K",
           "52"
          ],
          [
           "£97",
           "Amphitheatre",
           "K",
           "51"
          ],
          [
           "Not available",
           "Amphitheatre",
           "K",
           "50"
          ],
          [
           "Not available",
           "Amphitheatre",
           "K",
           "49"
          ],
          [
           "Not available",
           "Amphitheatre",
           "K",
           "48"
          ],
          [
           "Not available",
           "Amphitheatre",
           "K",
           "47"
          ],
          [
           "Not available",
           "Amphitheatre",
           "K",
           "46"
          ],
          [
           "£78",
           "Amphitheatre",
           "K",
           "45"
          ],
          [
           "Not available",
           "Amphitheatre",
           "K",
           "44"
          ],
          [
           "Not available",
           "Amphitheatre",
           "K",
           "43"
          ],
          [
           "Not available",
           "Amphitheatre",
           "K",
           "42"
          ],
          [
           "Not available",
           "Amphitheatre",
           "K",
           "41"
          ],
          [
           "Not available",
           "Amphitheatre",
           "J",
           "72"
          ],
          [
           "Not available",
           "Amphitheatre",
           "J",
           "71"
          ],
          [
           "Not available",
           "Amphitheatre",
           "J",
           "70"
          ],
          [
           "Not available",
           "Amphitheatre",
           "J",
           "65"
          ],
          [
           "Not available",
           "Amphitheatre",
           "J",
           "64"
          ],
          [
           "Not available",
           "Amphitheatre",
           "J",
           "63"
          ],
          [
           "Not available",
           "Amphitheatre",
           "J",
           "62"
          ],
          [
           "£97",
           "Amphitheatre",
           "J",
           "61"
          ],
          [
           "£97",
           "Amphitheatre",
           "J",
           "60"
          ],
          [
           "£97",
           "Amphitheatre",
           "J",
           "59"
          ],
          [
           "Not available",
           "Amphitheatre",
           "J",
           "58"
          ],
          [
           "Not available",
           "Amphitheatre",
           "J",
           "57"
          ],
          [
           "£97",
           "Amphitheatre",
           "J",
           "56"
          ],
          [
           "£97",
           "Amphitheatre",
           "J",
           "55"
          ],
          [
           "£97",
           "Amphitheatre",
           "J",
           "54"
          ],
          [
           "£97",
           "Amphitheatre",
           "J",
           "53"
          ],
          [
           "Not available",
           "Amphitheatre",
           "J",
           "52"
          ],
          [
           "Not available",
           "Amphitheatre",
           "J",
           "51"
          ],
          [
           "Not available",
           "Amphitheatre",
           "J",
           "50"
          ],
          [
           "Not available",
           "Amphitheatre",
           "J",
           "45"
          ],
          [
           "Not available",
           "Amphitheatre",
           "J",
           "44"
          ],
          [
           "Not available",
           "Amphitheatre",
           "J",
           "43"
          ],
          [
           "Not available",
           "Amphitheatre",
           "H",
           "72"
          ],
          [
           "£78",
           "Amphitheatre",
           "H",
           "71"
          ],
          [
           "£78",
           "Amphitheatre",
           "H",
           "70"
          ],
          [
           "£78",
           "Amphitheatre",
           "H",
           "69"
          ],
          [
           "Not available",
           "Amphitheatre",
           "H",
           "66"
          ],
          [
           "Not available",
           "Amphitheatre",
           "H",
           "65"
          ],
          [
           "£97",
           "Amphitheatre",
           "H",
           "64"
          ],
          [
           "£97",
           "Amphitheatre",
           "H",
           "63"
          ],
          [
           "Not available",
           "Amphitheatre",
           "H",
           "62"
          ],
          [
           "Not available",
           "Amphitheatre",
           "H",
           "61"
          ],
          [
           "Not available",
           "Amphitheatre",
           "H",
           "60"
          ],
          [
           "Not available",
           "Amphitheatre",
           "H",
           "59"
          ],
          [
           "Not available",
           "Amphitheatre",
           "H",
           "58"
          ],
          [
           "Not available",
           "Amphitheatre",
           "H",
           "57"
          ],
          [
           "Not available",
           "Amphitheatre",
           "H",
           "56"
          ],
          [
           "Not available",
           "Amphitheatre",
           "H",
           "55"
          ],
          [
           "Not available",
           "Amphitheatre",
           "H",
           "54"
          ],
          [
           "£97",
           "Amphitheatre",
           "H",
           "53"
          ],
          [
           "£97",
           "Amphitheatre",
           "H",
           "52"
          ],
          [
           "£97",
           "Amphitheatre",
           "H",
           "51"
          ],
          [
           "£97",
           "Amphitheatre",
           "H",
           "50"
          ],
          [
           "£97",
           "Amphitheatre",
           "H",
           "49"
          ],
          [
           "£78",
           "Amphitheatre",
           "H",
           "46"
          ],
          [
           "£78",
           "Amphitheatre",
           "H",
           "45"
          ],
          [
           "£78",
           "Amphitheatre",
           "H",
           "44"
          ],
          [
           "Not available",
           "Amphitheatre",
           "H",
           "43"
          ],
          [
           "£78",
           "Amphitheatre",
           "G",
           "71"
          ],
          [
           "£78",
           "Amphitheatre",
           "G",
           "70"
          ],
          [
           "Not available",
           "Amphitheatre",
           "G",
           "69"
          ],
          [
           "Not available",
           "Amphitheatre",
           "G",
           "68"
          ],
          [
           "Not available",
           "Amphitheatre",
           "G",
           "67"
          ],
          [
           "£97",
           "Amphitheatre",
           "G",
           "66"
          ],
          [
           "£97",
           "Amphitheatre",
           "G",
           "65"
          ],
          [
           "£97",
           "Amphitheatre",
           "G",
           "64"
          ],
          [
           "Not available",
           "Amphitheatre",
           "G",
           "63"
          ],
          [
           "Not available",
           "Amphitheatre",
           "G",
           "62"
          ],
          [
           "Not available",
           "Amphitheatre",
           "G",
           "61"
          ],
          [
           "Not available",
           "Amphitheatre",
           "G",
           "60"
          ],
          [
           "Not available",
           "Amphitheatre",
           "G",
           "59"
          ],
          [
           "Not available",
           "Amphitheatre",
           "G",
           "58"
          ],
          [
           "Not available",
           "Amphitheatre",
           "G",
           "57"
          ],
          [
           "£97",
           "Amphitheatre",
           "G",
           "56"
          ],
          [
           "Not available",
           "Amphitheatre",
           "G",
           "55"
          ],
          [
           "Not available",
           "Amphitheatre",
           "G",
           "54"
          ],
          [
           "Not available",
           "Amphitheatre",
           "G",
           "53"
          ],
          [
           "Not available",
           "Amphitheatre",
           "G",
           "52"
          ],
          [
           "Not available",
           "Amphitheatre",
           "G",
           "51"
          ],
          [
           "Not available",
           "Amphitheatre",
           "G",
           "50"
          ],
          [
           "£97",
           "Amphitheatre",
           "G",
           "49"
          ],
          [
           "£97",
           "Amphitheatre",
           "G",
           "48"
          ],
          [
           "£78",
           "Amphitheatre",
           "G",
           "45"
          ],
          [
           "Not available",
           "Amphitheatre",
           "G",
           "44"
          ],
          [
           "Not available",
           "Amphitheatre",
           "G",
           "43"
          ],
          [
           "Not available",
           "Amphitheatre",
           "F",
           "76"
          ],
          [
           "Not available",
           "Amphitheatre",
           "F",
           "75"
          ],
          [
           "Not available",
           "Amphitheatre",
           "F",
           "74"
          ],
          [
           "£97",
           "Amphitheatre",
           "F",
           "71"
          ],
          [
           "£97",
           "Amphitheatre",
           "F",
           "70"
          ],
          [
           "£97",
           "Amphitheatre",
           "F",
           "69"
          ],
          [
           "Not available",
           "Amphitheatre",
           "F",
           "68"
          ],
          [
           "Not available",
           "Amphitheatre",
           "F",
           "67"
          ],
          [
           "£97",
           "Amphitheatre",
           "F",
           "66"
          ],
          [
           "£97",
           "Amphitheatre",
           "F",
           "65"
          ],
          [
           "Not available",
           "Amphitheatre",
           "F",
           "64"
          ],
          [
           "Not available",
           "Amphitheatre",
           "F",
           "63"
          ],
          [
           "Not available",
           "Amphitheatre",
           "F",
           "62"
          ],
          [
           "Not available",
           "Amphitheatre",
           "F",
           "61"
          ],
          [
           "Not available",
           "Amphitheatre",
           "F",
           "60"
          ],
          [
           "£97",
           "Amphitheatre",
           "F",
           "59"
          ],
          [
           "Not available",
           "Amphitheatre",
           "F",
           "58"
          ],
          [
           "Not available",
           "Amphitheatre",
           "F",
           "57"
          ],
          [
           "Not available",
           "Amphitheatre",
           "F",
           "56"
          ],
          [
           "Not available",
           "Amphitheatre",
           "F",
           "55"
          ],
          [
           "£97",
           "Amphitheatre",
           "F",
           "54"
          ],
          [
           "Not available",
           "Amphitheatre",
           "F",
           "53"
          ],
          [
           "Not available",
           "Amphitheatre",
           "F",
           "52"
          ],
          [
           "Not available",
           "Amphitheatre",
           "F",
           "51"
          ],
          [
           "Not available",
           "Amphitheatre",
           "F",
           "50"
          ],
          [
           "£97",
           "Amphitheatre",
           "F",
           "49"
          ],
          [
           "£97",
           "Amphitheatre",
           "F",
           "48"
          ],
          [
           "Not available",
           "Amphitheatre",
           "F",
           "47"
          ],
          [
           "Not available",
           "Amphitheatre",
           "F",
           "46"
          ],
          [
           "£97",
           "Amphitheatre",
           "F",
           "45"
          ],
          [
           "£97",
           "Amphitheatre",
           "F",
           "44"
          ],
          [
           "£97",
           "Amphitheatre",
           "F",
           "43"
          ],
          [
           "£78",
           "Amphitheatre",
           "F",
           "40"
          ],
          [
           "£78",
           "Amphitheatre",
           "F",
           "39"
          ],
          [
           "£78",
           "Amphitheatre",
           "F",
           "38"
          ],
          [
           "Not available",
           "Amphitheatre",
           "E",
           "81"
          ],
          [
           "Not available",
           "Amphitheatre",
           "E",
           "80"
          ],
          [
           "Not available",
           "Amphitheatre",
           "E",
           "79"
          ],
          [
           "£78",
           "Amphitheatre",
           "E",
           "78"
          ],
          [
           "Not available",
           "Amphitheatre",
           "E",
           "77"
          ],
          [
           "Not available",
           "Amphitheatre",
           "E",
           "76"
          ],
          [
           "£97",
           "Amphitheatre",
           "E",
           "73"
          ],
          [
           "£97",
           "Amphitheatre",
           "E",
           "72"
          ],
          [
           "Not available",
           "Amphitheatre",
           "E",
           "71"
          ],
          [
           "Not available",
           "Amphitheatre",
           "E",
           "70"
          ],
          [
           "Not available",
           "Amphitheatre",
           "E",
           "69"
          ],
          [
           "Not available",
           "Amphitheatre",
           "E",
           "68"
          ],
          [
           "Not available",
           "Amphitheatre",
           "E",
           "67"
          ],
          [
           "Not available",
           "Amphitheatre",
           "E",
           "66"
          ],
          [
           "£97",
           "Amphitheatre",
           "E",
           "65"
          ],
          [
           "Not available",
           "Amphitheatre",
           "E",
           "60"
          ],
          [
           "Not available",
           "Amphitheatre",
           "E",
           "59"
          ],
          [
           "Not available",
           "Amphitheatre",
           "E",
           "54"
          ],
          [
           "Not available",
           "Amphitheatre",
           "E",
           "53"
          ],
          [
           "Not available",
           "Amphitheatre",
           "E",
           "52"
          ],
          [
           "Not available",
           "Amphitheatre",
           "E",
           "51"
          ],
          [
           "Not available",
           "Amphitheatre",
           "E",
           "50"
          ],
          [
           "Not available",
           "Amphitheatre",
           "E",
           "49"
          ],
          [
           "Not available",
           "Amphitheatre",
           "E",
           "48"
          ],
          [
           "Not available",
           "Amphitheatre",
           "E",
           "47"
          ],
          [
           "Not available",
           "Amphitheatre",
           "E",
           "46"
          ],
          [
           "Not available",
           "Amphitheatre",
           "E",
           "45"
          ],
          [
           "Not available",
           "Amphitheatre",
           "E",
           "44"
          ],
          [
           "Not available",
           "Amphitheatre",
           "E",
           "43"
          ],
          [
           "£97",
           "Amphitheatre",
           "E",
           "42"
          ],
          [
           "Not available",
           "Amphitheatre",
           "E",
           "39"
          ],
          [
           "Not available",
           "Amphitheatre",
           "E",
           "38"
          ],
          [
           "£78",
           "Amphitheatre",
           "E",
           "37"
          ],
          [
           "Not available",
           "Amphitheatre",
           "E",
           "36"
          ],
          [
           "Not available",
           "Amphitheatre",
           "E",
           "35"
          ],
          [
           "Not available",
           "Amphitheatre",
           "E",
           "34"
          ],
          [
           "Not available",
           "Amphitheatre",
           "D",
           "80"
          ],
          [
           "Not available",
           "Amphitheatre",
           "D",
           "79"
          ],
          [
           "£78",
           "Amphitheatre",
           "D",
           "78"
          ],
          [
           "Not available",
           "Amphitheatre",
           "D",
           "77"
          ],
          [
           "Not available",
           "Amphitheatre",
           "D",
           "76"
          ],
          [
           "£97",
           "Amphitheatre",
           "D",
           "75"
          ],
          [
           "£97",
           "Amphitheatre",
           "D",
           "74"
          ],
          [
           "£97",
           "Amphitheatre",
           "D",
           "73"
          ],
          [
           "Not available",
           "Amphitheatre",
           "D",
           "68"
          ],
          [
           "Not available",
           "Amphitheatre",
           "D",
           "67"
          ],
          [
           "Not available",
           "Amphitheatre",
           "D",
           "66"
          ],
          [
           "Not available",
           "Amphitheatre",
           "D",
           "65"
          ],
          [
           "£132",
           "Amphitheatre",
           "D",
           "64"
          ],
          [
           "£132",
           "Amphitheatre",
           "D",
           "63"
          ],
          [
           "£132",
           "Amphitheatre",
           "D",
           "62"
          ],
          [
           "Not available",
           "Amphitheatre",
           "D",
           "61"
          ],
          [
           "Not available",
           "Amphitheatre",
           "D",
           "60"
          ],
          [
           "Not available",
           "Amphitheatre",
           "D",
           "59"
          ],
          [
           "Not available",
           "Amphitheatre",
           "D",
           "58"
          ],
          [
           "Not available",
           "Amphitheatre",
           "D",
           "57"
          ],
          [
           "Not available",
           "Amphitheatre",
           "D",
           "56"
          ],
          [
           "Not available",
           "Amphitheatre",
           "D",
           "55"
          ],
          [
           "Not available",
           "Amphitheatre",
           "D",
           "54"
          ],
          [
           "Not available",
           "Amphitheatre",
           "D",
           "53"
          ],
          [
           "Not available",
           "Amphitheatre",
           "D",
           "52"
          ],
          [
           "Not available",
           "Amphitheatre",
           "D",
           "51"
          ],
          [
           "Not available",
           "Amphitheatre",
           "D",
           "50"
          ],
          [
           "Not available",
           "Amphitheatre",
           "D",
           "49"
          ],
          [
           "Not available",
           "Amphitheatre",
           "D",
           "48"
          ],
          [
           "Not available",
           "Amphitheatre",
           "D",
           "47"
          ],
          [
           "Not available",
           "Amphitheatre",
           "D",
           "46"
          ],
          [
           "Not available",
           "Amphitheatre",
           "D",
           "45"
          ],
          [
           "£97",
           "Amphitheatre",
           "D",
           "44"
          ],
          [
           "£97",
           "Amphitheatre",
           "D",
           "43"
          ],
          [
           "£97",
           "Amphitheatre",
           "D",
           "42"
          ],
          [
           "£97",
           "Amphitheatre",
           "D",
           "41"
          ],
          [
           "Not available",
           "Amphitheatre",
           "D",
           "40"
          ],
          [
           "Not available",
           "Amphitheatre",
           "D",
           "39"
          ],
          [
           "£78",
           "Amphitheatre",
           "D",
           "38"
          ],
          [
           "Not available",
           "Amphitheatre",
           "D",
           "37"
          ],
          [
           "Not available",
           "Amphitheatre",
           "D",
           "36"
          ],
          [
           "Not available",
           "Amphitheatre",
           "C",
           "80"
          ],
          [
           "Not available",
           "Amphitheatre",
           "C",
           "79"
          ],
          [
           "Not available",
           "Amphitheatre",
           "C",
           "78"
          ],
          [
           "£97",
           "Amphitheatre",
           "C",
           "75"
          ],
          [
           "Not available",
           "Amphitheatre",
           "C",
           "74"
          ],
          [
           "Not available",
           "Amphitheatre",
           "C",
           "73"
          ],
          [
           "Not available",
           "Amphitheatre",
           "C",
           "72"
          ],
          [
           "Not available",
           "Amphitheatre",
           "C",
           "71"
          ],
          [
           "Not available",
           "Amphitheatre",
           "C",
           "66"
          ],
          [
           "Not available",
           "Amphitheatre",
           "C",
           "65"
          ],
          [
           "Not available",
           "Amphitheatre",
           "C",
           "64"
          ],
          [
           "Not available",
           "Amphitheatre",
           "C",
           "63"
          ],
          [
           "Not available",
           "Amphitheatre",
           "C",
           "62"
          ],
          [
           "Not available",
           "Amphitheatre",
           "C",
           "61"
          ],
          [
           "Not available",
           "Amphitheatre",
           "C",
           "60"
          ],
          [
           "Not available",
           "Amphitheatre",
           "C",
           "59"
          ],
          [
           "Not available",
           "Amphitheatre",
           "C",
           "58"
          ],
          [
           "Not available",
           "Amphitheatre",
           "C",
           "57"
          ],
          [
           "Not available",
           "Amphitheatre",
           "C",
           "56"
          ],
          [
           "Not available",
           "Amphitheatre",
           "C",
           "55"
          ],
          [
           "Not available",
           "Amphitheatre",
           "C",
           "54"
          ],
          [
           "Not available",
           "Amphitheatre",
           "C",
           "53"
          ],
          [
           "Not available",
           "Amphitheatre",
           "C",
           "52"
          ],
          [
           "Not available",
           "Amphitheatre",
           "C",
           "51"
          ],
          [
           "Not available",
           "Amphitheatre",
           "C",
           "50"
          ],
          [
           "Not available",
           "Amphitheatre",
           "C",
           "49"
          ],
          [
           "Not available",
           "Amphitheatre",
           "C",
           "48"
          ],
          [
           "Not available",
           "Amphitheatre",
           "C",
           "47"
          ],
          [
           "£97",
           "Amphitheatre",
           "C",
           "46"
          ],
          [
           "Not available",
           "Amphitheatre",
           "C",
           "45"
          ],
          [
           "Not available",
           "Amphitheatre",
           "C",
           "44"
          ],
          [
           "Not available",
           "Amphitheatre",
           "C",
           "43"
          ],
          [
           "Not available",
           "Amphitheatre",
           "C",
           "42"
          ],
          [
           "Not available",
           "Amphitheatre",
           "C",
           "41"
          ],
          [
           "Not available",
           "Amphitheatre",
           "C",
           "40"
          ],
          [
           "£97",
           "Amphitheatre",
           "C",
           "39"
          ],
          [
           "Not available",
           "Amphitheatre",
           "C",
           "38"
          ],
          [
           "Not available",
           "Amphitheatre",
           "C",
           "37"
          ],
          [
           "Not available",
           "Amphitheatre",
           "C",
           "36"
          ],
          [
           "Not available",
           "Amphitheatre",
           "C",
           "35"
          ],
          [
           "Not available",
           "Amphitheatre",
           "C",
           "34"
          ],
          [
           "Not available",
           "Amphitheatre",
           "B",
           "82"
          ],
          [
           "Not available",
           "Amphitheatre",
           "B",
           "81"
          ],
          [
           "Not available",
           "Amphitheatre",
           "B",
           "80"
          ],
          [
           "Not available",
           "Amphitheatre",
           "B",
           "79"
          ],
          [
           "Not available",
           "Amphitheatre",
           "B",
           "78"
          ],
          [
           "Not available",
           "Amphitheatre",
           "B",
           "77"
          ],
          [
           "Not available",
           "Amphitheatre",
           "B",
           "74"
          ],
          [
           "Not available",
           "Amphitheatre",
           "B",
           "73"
          ],
          [
           "Not available",
           "Amphitheatre",
           "B",
           "72"
          ],
          [
           "Not available",
           "Amphitheatre",
           "B",
           "71"
          ],
          [
           "Not available",
           "Amphitheatre",
           "B",
           "70"
          ],
          [
           "Not available",
           "Amphitheatre",
           "B",
           "69"
          ],
          [
           "Not available",
           "Amphitheatre",
           "B",
           "68"
          ],
          [
           "£132",
           "Amphitheatre",
           "B",
           "67"
          ],
          [
           "Not available",
           "Amphitheatre",
           "B",
           "66"
          ],
          [
           "Not available",
           "Amphitheatre",
           "B",
           "65"
          ],
          [
           "Not available",
           "Amphitheatre",
           "B",
           "64"
          ],
          [
           "Not available",
           "Amphitheatre",
           "B",
           "63"
          ],
          [
           "Not available",
           "Amphitheatre",
           "B",
           "56"
          ],
          [
           "Not available",
           "Amphitheatre",
           "B",
           "55"
          ],
          [
           "Not available",
           "Amphitheatre",
           "B",
           "54"
          ],
          [
           "Not available",
           "Amphitheatre",
           "B",
           "53"
          ],
          [
           "Not available",
           "Amphitheatre",
           "B",
           "52"
          ],
          [
           "Not available",
           "Amphitheatre",
           "B",
           "51"
          ],
          [
           "Not available",
           "Amphitheatre",
           "B",
           "50"
          ],
          [
           "Not available",
           "Amphitheatre",
           "B",
           "49"
          ],
          [
           "Not available",
           "Amphitheatre",
           "B",
           "48"
          ],
          [
           "Not available",
           "Amphitheatre",
           "B",
           "47"
          ],
          [
           "Not available",
           "Amphitheatre",
           "B",
           "46"
          ],
          [
           "Not available",
           "Amphitheatre",
           "B",
           "45"
          ],
          [
           "Not available",
           "Amphitheatre",
           "B",
           "44"
          ],
          [
           "Not available",
           "Amphitheatre",
           "B",
           "43"
          ],
          [
           "Not available",
           "Amphitheatre",
           "B",
           "42"
          ],
          [
           "Not available",
           "Amphitheatre",
           "B",
           "41"
          ],
          [
           "Not available",
           "Amphitheatre",
           "B",
           "38"
          ],
          [
           "Not available",
           "Amphitheatre",
           "B",
           "37"
          ],
          [
           "Not available",
           "Amphitheatre",
           "B",
           "36"
          ],
          [
           "Not available",
           "Amphitheatre",
           "B",
           "35"
          ],
          [
           "Not available",
           "Amphitheatre",
           "B",
           "34"
          ],
          [
           "Not available",
           "Amphitheatre",
           "B",
           "33"
          ],
          [
           "Not available",
           "Amphitheatre",
           "A",
           "85"
          ],
          [
           "Not available",
           "Amphitheatre",
           "A",
           "84"
          ],
          [
           "Not available",
           "Amphitheatre",
           "A",
           "83"
          ],
          [
           "Not available",
           "Amphitheatre",
           "A",
           "82"
          ],
          [
           "Not available",
           "Amphitheatre",
           "A",
           "81"
          ],
          [
           "Not available",
           "Amphitheatre",
           "A",
           "80"
          ],
          [
           "Not available",
           "Amphitheatre",
           "A",
           "79"
          ],
          [
           "Not available",
           "Amphitheatre",
           "A",
           "78"
          ],
          [
           "Not available",
           "Amphitheatre",
           "A",
           "77"
          ],
          [
           "Not available",
           "Amphitheatre",
           "A",
           "76"
          ],
          [
           "Not available",
           "Amphitheatre",
           "A",
           "75"
          ],
          [
           "Not available",
           "Amphitheatre",
           "A",
           "74"
          ],
          [
           "Not available",
           "Amphitheatre",
           "A",
           "73"
          ],
          [
           "Not available",
           "Amphitheatre",
           "A",
           "72"
          ],
          [
           "Not available",
           "Amphitheatre",
           "A",
           "71"
          ],
          [
           "Not available",
           "Amphitheatre",
           "A",
           "70"
          ],
          [
           "Not available",
           "Amphitheatre",
           "A",
           "69"
          ],
          [
           "Not available",
           "Amphitheatre",
           "A",
           "68"
          ],
          [
           "Not available",
           "Amphitheatre",
           "A",
           "67"
          ],
          [
           "Not available",
           "Amphitheatre",
           "A",
           "66"
          ],
          [
           "Not available",
           "Amphitheatre",
           "A",
           "65"
          ],
          [
           "Not available",
           "Amphitheatre",
           "A",
           "64"
          ],
          [
           "Not available",
           "Amphitheatre",
           "A",
           "63"
          ],
          [
           "Not available",
           "Amphitheatre",
           "A",
           "62"
          ],
          [
           "Not available",
           "Amphitheatre",
           "A",
           "61"
          ],
          [
           "Not available",
           "Amphitheatre",
           "A",
           "60"
          ],
          [
           "Not available",
           "Amphitheatre",
           "A",
           "59"
          ],
          [
           "Not available",
           "Amphitheatre",
           "A",
           "58"
          ],
          [
           "Not available",
           "Amphitheatre",
           "A",
           "57"
          ],
          [
           "Not available",
           "Amphitheatre",
           "A",
           "56"
          ],
          [
           "Not available",
           "Amphitheatre",
           "A",
           "55"
          ],
          [
           "Not available",
           "Amphitheatre",
           "A",
           "54"
          ],
          [
           "Not available",
           "Amphitheatre",
           "A",
           "53"
          ],
          [
           "Not available",
           "Amphitheatre",
           "A",
           "52"
          ],
          [
           "Not available",
           "Amphitheatre",
           "A",
           "51"
          ],
          [
           "Not available",
           "Amphitheatre",
           "A",
           "50"
          ],
          [
           "Not available",
           "Amphitheatre",
           "A",
           "49"
          ],
          [
           "Not available",
           "Amphitheatre",
           "A",
           "48"
          ],
          [
           "Not available",
           "Amphitheatre",
           "A",
           "47"
          ],
          [
           "Not available",
           "Amphitheatre",
           "A",
           "46"
          ],
          [
           "Not available",
           "Amphitheatre",
           "A",
           "45"
          ],
          [
           "Not available",
           "Amphitheatre",
           "A",
           "44"
          ],
          [
           "Not available",
           "Amphitheatre",
           "A",
           "43"
          ],
          [
           "Not available",
           "Amphitheatre",
           "A",
           "42"
          ],
          [
           "Not available",
           "Amphitheatre",
           "A",
           "41"
          ],
          [
           "Not available",
           "Amphitheatre",
           "A",
           "40"
          ],
          [
           "Not available",
           "Amphitheatre",
           "A",
           "39"
          ],
          [
           "Not available",
           "Amphitheatre",
           "A",
           "38"
          ],
          [
           "Not available",
           "Amphitheatre",
           "A",
           "37"
          ],
          [
           "Not available",
           "Amphitheatre",
           "A",
           "36"
          ],
          [
           "Not available",
           "Amphitheatre",
           "A",
           "35"
          ],
          [
           "Not available",
           "Amphitheatre",
           "A",
           "34"
          ],
          [
           "Not available",
           "Amphitheatre",
           "A",
           "33"
          ],
          [
           "Not available",
           "Amphitheatre",
           "A",
           "32"
          ],
          [
           "Not available",
           "Amphitheatre",
           "A",
           "31"
          ],
          [
           "Not available",
           "Amphitheatre",
           "A",
           "30"
          ],
          [
           "Not available",
           "Amphitheatre",
           "A",
           "29"
          ],
          [
           "Not available",
           "Amphitheatre",
           "WU",
           "67"
          ],
          [
           "Not available",
           "Amphitheatre",
           "WU",
           "66"
          ],
          [
           "Not available",
           "Amphitheatre",
           "WU",
           "65"
          ],
          [
           "Not available",
           "Amphitheatre",
           "WU",
           "64"
          ],
          [
           "Not available",
           "Amphitheatre",
           "WU",
           "63"
          ],
          [
           "Not available",
           "Amphitheatre",
           "WU",
           "62"
          ],
          [
           "Not available",
           "Amphitheatre",
           "WT",
           "66"
          ],
          [
           "Not available",
           "Amphitheatre",
           "WT",
           "65"
          ],
          [
           "Not available",
           "Amphitheatre",
           "WT",
           "64"
          ],
          [
           "Not available",
           "Amphitheatre",
           "WT",
           "63"
          ],
          [
           "Not available",
           "Amphitheatre",
           "WT",
           "62"
          ],
          [
           "Not available",
           "Amphitheatre",
           "WS",
           "66"
          ],
          [
           "Not available",
           "Amphitheatre",
           "WS",
           "63"
          ],
          [
           "Not available",
           "Balcony",
           "WC",
           "63"
          ],
          [
           "Not available",
           "Balcony",
           "WC",
           "62"
          ],
          [
           "Not available",
           "Balcony",
           "WC",
           "61"
          ],
          [
           "Not available",
           "Balcony",
           "WC",
           "60"
          ],
          [
           "Not available",
           "Balcony",
           "WC",
           "59"
          ],
          [
           "Not available",
           "Balcony",
           "WC",
           "58"
          ],
          [
           "Not available",
           "Balcony",
           "WC",
           "28"
          ],
          [
           "Not available",
           "Balcony",
           "WC",
           "27"
          ],
          [
           "Not available",
           "Balcony",
           "WC",
           "26"
          ],
          [
           "Not available",
           "Balcony",
           "WC",
           "25"
          ],
          [
           "Not available",
           "Balcony",
           "WC",
           "24"
          ],
          [
           "Not available",
           "Donald Gordon Grand Tier",
           "WC",
           "41"
          ],
          [
           "Not available",
           "Donald Gordon Grand Tier",
           "WC",
           "3"
          ],
          [
           "Not available",
           "Donald Gordon Grand Tier",
           "WB",
           "39"
          ],
          [
           "Not available",
           "Donald Gordon Grand Tier",
           "WB",
           "4"
          ],
          [
           "Not available",
           "Stalls Circle",
           "WC",
           "86"
          ],
          [
           "Not available",
           "Stalls Circle",
           "WC",
           "83"
          ],
          [
           "Not available",
           "Stalls Circle",
           "WC",
           "71"
          ],
          [
           "Not available",
           "Stalls Circle",
           "WC",
           "42"
          ],
          [
           "Not available",
           "Stalls Circle",
           "WC",
           "30"
          ],
          [
           "Not available",
           "Stalls Circle",
           "WC",
           "27"
          ],
          [
           "Not available",
           "Stalls Circle",
           "WB",
           "84"
          ],
          [
           "Not available",
           "Stalls Circle",
           "WB",
           "83"
          ],
          [
           "Not available",
           "Stalls Circle",
           "WB",
           "30"
          ],
          [
           "Not available",
           "Stalls Circle",
           "WB",
           "29"
          ]
         ],
         "hovertemplate": "%{customdata[0]}<br>%{customdata[1]}<br>Seat %{customdata[2]}%{customdata[3]}",
         "legendgroup": "",
         "marker": {
          "color": [
           null,
           null,
           null,
           null,
           null,
           null,
           172,
           172,
           null,
           null,
           null,
           null,
           null,
           null,
           172,
           172,
           172,
           172,
           null,
           null,
           null,
           null,
           null,
           null,
           null,
           null,
           null,
           null,
           null,
           null,
           null,
           null,
           null,
           172,
           172,
           172,
           172,
           null,
           null,
           null,
           null,
           null,
           null,
           null,
           221,
           221,
           221,
           221,
           221,
           221,
           221,
           null,
           null,
           null,
           null,
           221,
           221,
           221,
           221,
           null,
           221,
           172,
           172,
           172,
           null,
           null,
           null,
           221,
           221,
           221,
           221,
           221,
           221,
           221,
           221,
           221,
           221,
           221,
           221,
           221,
           null,
           null,
           null,
           null,
           null,
           null,
           null,
           null,
           null,
           null,
           null,
           null,
           221,
           221,
           221,
           221,
           221,
           221,
           221,
           221,
           221,
           221,
           221,
           221,
           221,
           221,
           221,
           221,
           null,
           null,
           null,
           null,
           172,
           172,
           172,
           172,
           null,
           null,
           null,
           null,
           221,
           221,
           221,
           221,
           null,
           null,
           null,
           null,
           null,
           221,
           221,
           221,
           221,
           221,
           221,
           221,
           null,
           null,
           null,
           null,
           null,
           null,
           null,
           221,
           221,
           null,
           null,
           245,
           245,
           245,
           245,
           245,
           245,
           245,
           245,
           245,
           245,
           245,
           245,
           245,
           245,
           245,
           245,
           245,
           245,
           245,
           null,
           null,
           221,
           221,
           221,
           221,
           null,
           null,
           245,
           245,
           245,
           245,
           245,
           245,
           245,
           245,
           245,
           245,
           245,
           245,
           245,
           245,
           245,
           245,
           245,
           245,
           245,
           245,
           null,
           null,
           221,
           221,
           221,
           221,
           221,
           221,
           null,
           null,
           245,
           245,
           245,
           245,
           245,
           245,
           245,
           null,
           null,
           null,
           null,
           null,
           245,
           245,
           245,
           245,
           245,
           245,
           null,
           null,
           null,
           221,
           221,
           221,
           221,
           221,
           221,
           221,
           221,
           null,
           null,
           245,
           245,
           245,
           245,
           245,
           245,
           245,
           245,
           null,
           null,
           null,
           null,
           245,
           245,
           245,
           245,
           245,
           245,
           null,
           null,
           null,
           245,
           null,
           null,
           221,
           221,
           221,
           221,
           221,
           221,
           245,
           245,
           null,
           null,
           245,
           245,
           245,
           245,
           245,
           null,
           null,
           null,
           null,
           245,
           null,
           245,
           245,
           null,
           null,
           null,
           null,
           null,
           245,
           221,
           221,
           221,
           221,
           221,
           221,
           221,
           null,
           null,
           null,
           null,
           null,
           null,
           null,
           null,
           null,
           null,
           null,
           245,
           null,
           null,
           null,
           null,
           null,
           null,
           null,
           null,
           null,
           null,
           null,
           null,
           null,
           221,
           221,
           221,
           221,
           null,
           null,
           null,
           null,
           null,
           null,
           null,
           null,
           null,
           null,
           null,
           null,
           null,
           null,
           null,
           null,
           null,
           null,
           null,
           null,
           null,
           null,
           null,
           null,
           null,
           null,
           null,
           null,
           null,
           null,
           null,
           null,
           null,
           null,
           null,
           null,
           null,
           null,
           null,
           null,
           null,
           221,
           221,
           221,
           null,
           null,
           null,
           null,
           null,
           null,
           null,
           245,
           null,
           null,
           null,
           null,
           null,
           null,
           245,
           245,
           245,
           245,
           null,
           null,
           221,
           221,
           221,
           221,
           null,
           172,
           172,
           null,
           221,
           221,
           221,
           221,
           null,
           221,
           221,
           221,
           221,
           221,
           null,
           null,
           null,
           null,
           null,
           221,
           221,
           221,
           221,
           221,
           221,
           221,
           221,
           221,
           221,
           221,
           172,
           172,
           null,
           null,
           221,
           221,
           221,
           221,
           221,
           221,
           221,
           221,
           221,
           221,
           221,
           221,
           221,
           221,
           221,
           221,
           221,
           221,
           221,
           221,
           221,
           221,
           221,
           221,
           221,
           null,
           172,
           172,
           null,
           221,
           221,
           221,
           221,
           221,
           221,
           221,
           221,
           221,
           221,
           null,
           null,
           null,
           null,
           221,
           221,
           221,
           221,
           221,
           221,
           221,
           221,
           221,
           221,
           221,
           221,
           null,
           null,
           null,
           null,
           221,
           221,
           221,
           null,
           null,
           null,
           null,
           null,
           null,
           null,
           null,
           null,
           null,
           null,
           null,
           null,
           null,
           null,
           null,
           null,
           221,
           221,
           221,
           221,
           221,
           null,
           null,
           null,
           null,
           null,
           null,
           null,
           null,
           null,
           null,
           null,
           null,
           null,
           null,
           null,
           null,
           null,
           null,
           null,
           null,
           null,
           null,
           null,
           null,
           null,
           null,
           null,
           null,
           null,
           null,
           null,
           97,
           null,
           null,
           null,
           null,
           null,
           null,
           null,
           null,
           null,
           null,
           null,
           null,
           97,
           null,
           null,
           null,
           null,
           null,
           null,
           null,
           null,
           null,
           221,
           221,
           221,
           221,
           221,
           221,
           221,
           221,
           221,
           221,
           221,
           221,
           221,
           221,
           null,
           null,
           null,
           null,
           null,
           null,
           245,
           245,
           245,
           245,
           null,
           null,
           null,
           null,
           null,
           null,
           null,
           null,
           null,
           null,
           null,
           null,
           null,
           null,
           null,
           245,
           null,
           null,
           245,
           221,
           null,
           null,
           null,
           null,
           null,
           null,
           null,
           null,
           null,
           null,
           null,
           null,
           null,
           null,
           null,
           null,
           null,
           null,
           null,
           null,
           null,
           null,
           null,
           null,
           null,
           null,
           null,
           null,
           null,
           null,
           null,
           null,
           null,
           null,
           132,
           132,
           null,
           null,
           null,
           null,
           null,
           null,
           null,
           null,
           null,
           null,
           null,
           null,
           null,
           172,
           172,
           172,
           97,
           null,
           null,
           null,
           132,
           132,
           null,
           null,
           null,
           null,
           null,
           null,
           null,
           null,
           null,
           null,
           null,
           null,
           null,
           null,
           null,
           null,
           221,
           221,
           null,
           null,
           null,
           172,
           null,
           null,
           null,
           null,
           null,
           null,
           null,
           null,
           null,
           null,
           null,
           221,
           221,
           221,
           221,
           null,
           null,
           245,
           null,
           null,
           null,
           null,
           null,
           null,
           null,
           null,
           null,
           null,
           null,
           null,
           null,
           221,
           221,
           221,
           221,
           221,
           221,
           null,
           null,
           172,
           null,
           null,
           null,
           null,
           null,
           null,
           null,
           null,
           null,
           null,
           null,
           null,
           null,
           null,
           null,
           null,
           null,
           null,
           null,
           null,
           null,
           null,
           null,
           null,
           null,
           null,
           null,
           null,
           null,
           null,
           null,
           null,
           null,
           null,
           null,
           null,
           null,
           null,
           null,
           null,
           null,
           null,
           null,
           null,
           null,
           null,
           null,
           null,
           null,
           null,
           null,
           null,
           null,
           null,
           null,
           null,
           null,
           null,
           null,
           null,
           null,
           null,
           null,
           null,
           null,
           null,
           null,
           null,
           null,
           null,
           null,
           null,
           null,
           null,
           null,
           null,
           null,
           null,
           null,
           null,
           null,
           null,
           null,
           null,
           null,
           172,
           null,
           null,
           null,
           null,
           null,
           null,
           null,
           null,
           null,
           null,
           null,
           null,
           null,
           132,
           null,
           null,
           null,
           null,
           null,
           null,
           null,
           null,
           null,
           245,
           245,
           245,
           245,
           245,
           245,
           245,
           245,
           245,
           245,
           245,
           245,
           245,
           245,
           null,
           null,
           null,
           null,
           null,
           null,
           null,
           null,
           null,
           null,
           null,
           null,
           null,
           null,
           null,
           null,
           null,
           null,
           null,
           null,
           null,
           null,
           null,
           null,
           null,
           null,
           null,
           245,
           245,
           245,
           null,
           null,
           null,
           null,
           null,
           null,
           null,
           null,
           null,
           null,
           null,
           null,
           null,
           null,
           null,
           null,
           null,
           null,
           null,
           null,
           null,
           null,
           null,
           null,
           245,
           245,
           245,
           245,
           245,
           null,
           null,
           null,
           null,
           null,
           null,
           null,
           null,
           null,
           null,
           null,
           null,
           null,
           null,
           null,
           null,
           null,
           null,
           null,
           null,
           null,
           null,
           null,
           null,
           null,
           null,
           null,
           null,
           null,
           null,
           null,
           null,
           null,
           null,
           null,
           null,
           245,
           245,
           null,
           null,
           null,
           null,
           null,
           null,
           null,
           null,
           null,
           null,
           null,
           null,
           null,
           null,
           null,
           null,
           null,
           null,
           null,
           null,
           null,
           null,
           null,
           null,
           null,
           null,
           null,
           null,
           null,
           172,
           172,
           172,
           172,
           172,
           172,
           172,
           172,
           null,
           null,
           null,
           null,
           172,
           172,
           172,
           172,
           172,
           172,
           132,
           132,
           221,
           221,
           221,
           221,
           221,
           221,
           221,
           221,
           221,
           221,
           221,
           221,
           221,
           221,
           221,
           null,
           null,
           221,
           221,
           221,
           221,
           221,
           221,
           221,
           221,
           221,
           221,
           221,
           221,
           221,
           221,
           221,
           221,
           221,
           221,
           null,
           null,
           null,
           null,
           null,
           null,
           null,
           null,
           null,
           null,
           null,
           null,
           null,
           null,
           221,
           null,
           null,
           null,
           null,
           null,
           null,
           null,
           null,
           null,
           null,
           null,
           null,
           null,
           null,
           null,
           null,
           null,
           null,
           null,
           null,
           132,
           132,
           132,
           null,
           null,
           null,
           null,
           null,
           null,
           null,
           null,
           null,
           null,
           null,
           null,
           null,
           null,
           132,
           132,
           132,
           null,
           null,
           null,
           null,
           null,
           null,
           null,
           97,
           97,
           172,
           null,
           null,
           null,
           null,
           null,
           null,
           null,
           null,
           null,
           null,
           null,
           null,
           null,
           null,
           null,
           null,
           25,
           null,
           null,
           null,
           null,
           null,
           null,
           null,
           null,
           null,
           null,
           null,
           null,
           null,
           97,
           97,
           97,
           97,
           97,
           97,
           null,
           null,
           null,
           null,
           null,
           null,
           null,
           null,
           null,
           null,
           null,
           null,
           null,
           null,
           null,
           null,
           49,
           null,
           null,
           null,
           null,
           49,
           null,
           null,
           49,
           null,
           49,
           49,
           49,
           null,
           null,
           null,
           null,
           null,
           null,
           null,
           null,
           null,
           null,
           null,
           49,
           49,
           null,
           null,
           null,
           null,
           null,
           null,
           null,
           null,
           null,
           null,
           null,
           49,
           null,
           null,
           null,
           null,
           null,
           null,
           49,
           49,
           null,
           null,
           null,
           null,
           null,
           null,
           null,
           null,
           null,
           null,
           null,
           null,
           null,
           null,
           null,
           null,
           null,
           null,
           49,
           49,
           49,
           49,
           49,
           49,
           null,
           null,
           49,
           49,
           49,
           49,
           null,
           null,
           null,
           null,
           null,
           null,
           null,
           null,
           null,
           null,
           null,
           null,
           null,
           null,
           null,
           null,
           null,
           null,
           null,
           null,
           null,
           null,
           null,
           null,
           null,
           null,
           null,
           null,
           null,
           49,
           49,
           49,
           49,
           49,
           null,
           null,
           49,
           49,
           49,
           49,
           49,
           null,
           null,
           null,
           null,
           null,
           null,
           null,
           null,
           null,
           null,
           null,
           null,
           null,
           null,
           null,
           null,
           null,
           null,
           null,
           null,
           null,
           null,
           null,
           null,
           null,
           null,
           null,
           null,
           null,
           null,
           49,
           49,
           49,
           49,
           49,
           49,
           49,
           49,
           null,
           null,
           null,
           null,
           null,
           null,
           null,
           null,
           null,
           78,
           78,
           78,
           78,
           78,
           null,
           null,
           null,
           null,
           null,
           null,
           78,
           78,
           78,
           null,
           null,
           null,
           null,
           null,
           null,
           null,
           null,
           null,
           null,
           49,
           49,
           null,
           null,
           null,
           null,
           null,
           null,
           null,
           null,
           null,
           null,
           null,
           null,
           null,
           null,
           null,
           null,
           null,
           null,
           null,
           null,
           null,
           null,
           null,
           null,
           null,
           null,
           null,
           null,
           null,
           null,
           null,
           null,
           null,
           null,
           null,
           null,
           null,
           null,
           null,
           null,
           null,
           null,
           null,
           null,
           49,
           null,
           null,
           null,
           null,
           null,
           null,
           null,
           null,
           null,
           null,
           null,
           null,
           null,
           null,
           null,
           null,
           null,
           null,
           null,
           null,
           null,
           null,
           null,
           null,
           null,
           null,
           null,
           null,
           null,
           null,
           null,
           null,
           null,
           null,
           null,
           null,
           null,
           null,
           49,
           null,
           null,
           null,
           null,
           null,
           78,
           78,
           null,
           null,
           null,
           null,
           97,
           97,
           97,
           97,
           97,
           97,
           97,
           97,
           97,
           97,
           97,
           97,
           97,
           null,
           null,
           null,
           null,
           null,
           78,
           null,
           null,
           null,
           null,
           null,
           null,
           null,
           null,
           null,
           null,
           null,
           97,
           97,
           97,
           null,
           null,
           97,
           97,
           97,
           97,
           null,
           null,
           null,
           null,
           null,
           null,
           null,
           78,
           78,
           78,
           null,
           null,
           97,
           97,
           null,
           null,
           null,
           null,
           null,
           null,
           null,
           null,
           null,
           97,
           97,
           97,
           97,
           97,
           78,
           78,
           78,
           null,
           78,
           78,
           null,
           null,
           null,
           97,
           97,
           97,
           null,
           null,
           null,
           null,
           null,
           null,
           null,
           97,
           null,
           null,
           null,
           null,
           null,
           null,
           97,
           97,
           78,
           null,
           null,
           null,
           null,
           null,
           97,
           97,
           97,
           null,
           null,
           97,
           97,
           null,
           null,
           null,
           null,
           null,
           97,
           null,
           null,
           null,
           null,
           97,
           null,
           null,
           null,
           null,
           97,
           97,
           null,
           null,
           97,
           97,
           97,
           78,
           78,
           78,
           null,
           null,
           null,
           78,
           null,
           null,
           97,
           97,
           null,
           null,
           null,
           null,
           null,
           null,
           97,
           null,
           null,
           null,
           null,
           null,
           null,
           null,
           null,
           null,
           null,
           null,
           null,
           null,
           null,
           97,
           null,
           null,
           78,
           null,
           null,
           null,
           null,
           null,
           78,
           null,
           null,
           97,
           97,
           97,
           null,
           null,
           null,
           null,
           132,
           132,
           132,
           null,
           null,
           null,
           null,
           null,
           null,
           null,
           null,
           null,
           null,
           null,
           null,
           null,
           null,
           null,
           null,
           null,
           97,
           97,
           97,
           97,
           null,
           null,
           78,
           null,
           null,
           null,
           null,
           null,
           97,
           null,
           null,
           null,
           null,
           null,
           null,
           null,
           null,
           null,
           null,
           null,
           null,
           null,
           null,
           null,
           null,
           null,
           null,
           null,
           null,
           null,
           null,
           null,
           null,
           97,
           null,
           null,
           null,
           null,
           null,
           null,
           97,
           null,
           null,
           null,
           null,
           null,
           null,
           null,
           null,
           null,
           null,
           null,
           null,
           null,
           null,
           null,
           null,
           null,
           null,
           132,
           null,
           null,
           null,
           null,
           null,
           null,
           null,
           null,
           null,
           null,
           null,
           null,
           null,
           null,
           null,
           null,
           null,
           null,
           null,
           null,
           null,
           null,
           null,
           null,
           null,
           null,
           null,
           null,
           null,
           null,
           null,
           null,
           null,
           null,
           null,
           null,
           null,
           null,
           null,
           null,
           null,
           null,
           null,
           null,
           null,
           null,
           null,
           null,
           null,
           null,
           null,
           null,
           null,
           null,
           null,
           null,
           null,
           null,
           null,
           null,
           null,
           null,
           null,
           null,
           null,
           null,
           null,
           null,
           null,
           null,
           null,
           null,
           null,
           null,
           null,
           null,
           null,
           null,
           null,
           null,
           null,
           null,
           null,
           null,
           null,
           null,
           null,
           null,
           null,
           null,
           null,
           null,
           null,
           null,
           null,
           null,
           null,
           null,
           null,
           null,
           null,
           null,
           null,
           null,
           null,
           null,
           null,
           null,
           null,
           null,
           null,
           null,
           null,
           null,
           null,
           null,
           null,
           null,
           null,
           null,
           null
          ],
          "coloraxis": "coloraxis",
          "line": {
           "color": "DarkSlateGrey",
           "width": 0.5
          },
          "size": [
           1,
           1,
           1,
           1,
           1,
           1,
           1,
           1,
           1,
           1,
           1,
           1,
           1,
           1,
           1,
           1,
           1,
           1,
           1,
           1,
           1,
           1,
           1,
           1,
           1,
           1,
           1,
           1,
           1,
           1,
           1,
           1,
           1,
           1,
           1,
           1,
           1,
           1,
           1,
           1,
           1,
           1,
           1,
           1,
           1,
           1,
           1,
           1,
           1,
           1,
           1,
           1,
           1,
           1,
           1,
           1,
           1,
           1,
           1,
           1,
           1,
           1,
           1,
           1,
           1,
           1,
           1,
           1,
           1,
           1,
           1,
           1,
           1,
           1,
           1,
           1,
           1,
           1,
           1,
           1,
           1,
           1,
           1,
           1,
           1,
           1,
           1,
           1,
           1,
           1,
           1,
           1,
           1,
           1,
           1,
           1,
           1,
           1,
           1,
           1,
           1,
           1,
           1,
           1,
           1,
           1,
           1,
           1,
           1,
           1,
           1,
           1,
           1,
           1,
           1,
           1,
           1,
           1,
           1,
           1,
           1,
           1,
           1,
           1,
           1,
           1,
           1,
           1,
           1,
           1,
           1,
           1,
           1,
           1,
           1,
           1,
           1,
           1,
           1,
           1,
           1,
           1,
           1,
           1,
           1,
           1,
           1,
           1,
           1,
           1,
           1,
           1,
           1,
           1,
           1,
           1,
           1,
           1,
           1,
           1,
           1,
           1,
           1,
           1,
           1,
           1,
           1,
           1,
           1,
           1,
           1,
           1,
           1,
           1,
           1,
           1,
           1,
           1,
           1,
           1,
           1,
           1,
           1,
           1,
           1,
           1,
           1,
           1,
           1,
           1,
           1,
           1,
           1,
           1,
           1,
           1,
           1,
           1,
           1,
           1,
           1,
           1,
           1,
           1,
           1,
           1,
           1,
           1,
           1,
           1,
           1,
           1,
           1,
           1,
           1,
           1,
           1,
           1,
           1,
           1,
           1,
           1,
           1,
           1,
           1,
           1,
           1,
           1,
           1,
           1,
           1,
           1,
           1,
           1,
           1,
           1,
           1,
           1,
           1,
           1,
           1,
           1,
           1,
           1,
           1,
           1,
           1,
           1,
           1,
           1,
           1,
           1,
           1,
           1,
           1,
           1,
           1,
           1,
           1,
           1,
           1,
           1,
           1,
           1,
           1,
           1,
           1,
           1,
           1,
           1,
           1,
           1,
           1,
           1,
           1,
           1,
           1,
           1,
           1,
           1,
           1,
           1,
           1,
           1,
           1,
           1,
           1,
           1,
           1,
           1,
           1,
           1,
           1,
           1,
           1,
           1,
           1,
           1,
           1,
           1,
           1,
           1,
           1,
           1,
           1,
           1,
           1,
           1,
           1,
           1,
           1,
           1,
           1,
           1,
           1,
           1,
           1,
           1,
           1,
           1,
           1,
           1,
           1,
           1,
           1,
           1,
           1,
           1,
           1,
           1,
           1,
           1,
           1,
           1,
           1,
           1,
           1,
           1,
           1,
           1,
           1,
           1,
           1,
           1,
           1,
           1,
           1,
           1,
           1,
           1,
           1,
           1,
           1,
           1,
           1,
           1,
           1,
           1,
           1,
           1,
           1,
           1,
           1,
           1,
           1,
           1,
           1,
           1,
           1,
           1,
           1,
           1,
           1,
           1,
           1,
           1,
           1,
           1,
           1,
           1,
           1,
           1,
           1,
           1,
           1,
           1,
           1,
           1,
           1,
           1,
           1,
           1,
           1,
           1,
           1,
           1,
           1,
           1,
           1,
           1,
           1,
           1,
           1,
           1,
           1,
           1,
           1,
           1,
           1,
           1,
           1,
           1,
           1,
           1,
           1,
           1,
           1,
           1,
           1,
           1,
           1,
           1,
           1,
           1,
           1,
           1,
           1,
           1,
           1,
           1,
           1,
           1,
           1,
           1,
           1,
           1,
           1,
           1,
           1,
           1,
           1,
           1,
           1,
           1,
           1,
           1,
           1,
           1,
           1,
           1,
           1,
           1,
           1,
           1,
           1,
           1,
           1,
           1,
           1,
           1,
           1,
           1,
           1,
           1,
           1,
           1,
           1,
           1,
           1,
           1,
           1,
           1,
           1,
           1,
           1,
           1,
           1,
           1,
           1,
           1,
           1,
           1,
           1,
           1,
           1,
           1,
           1,
           1,
           1,
           1,
           1,
           1,
           1,
           1,
           1,
           1,
           1,
           1,
           1,
           1,
           1,
           1,
           1,
           1,
           1,
           1,
           1,
           1,
           1,
           1,
           1,
           1,
           1,
           1,
           1,
           1,
           1,
           1,
           1,
           1,
           1,
           1,
           1,
           1,
           1,
           1,
           1,
           1,
           1,
           1,
           1,
           1,
           1,
           1,
           1,
           1,
           1,
           1,
           1,
           1,
           1,
           1,
           1,
           1,
           1,
           1,
           1,
           1,
           1,
           1,
           1,
           1,
           1,
           1,
           1,
           1,
           1,
           1,
           1,
           1,
           1,
           1,
           1,
           1,
           1,
           1,
           1,
           1,
           1,
           1,
           1,
           1,
           1,
           1,
           1,
           1,
           1,
           1,
           1,
           1,
           1,
           1,
           1,
           1,
           1,
           1,
           1,
           1,
           1,
           1,
           1,
           1,
           1,
           1,
           1,
           1,
           1,
           1,
           1,
           1,
           1,
           1,
           1,
           1,
           1,
           1,
           1,
           1,
           1,
           1,
           1,
           1,
           1,
           1,
           1,
           1,
           1,
           1,
           1,
           1,
           1,
           1,
           1,
           1,
           1,
           1,
           1,
           1,
           1,
           1,
           1,
           1,
           1,
           1,
           1,
           1,
           1,
           1,
           1,
           1,
           1,
           1,
           1,
           1,
           1,
           1,
           1,
           1,
           1,
           1,
           1,
           1,
           1,
           1,
           1,
           1,
           1,
           1,
           1,
           1,
           1,
           1,
           1,
           1,
           1,
           1,
           1,
           1,
           1,
           1,
           1,
           1,
           1,
           1,
           1,
           1,
           1,
           1,
           1,
           1,
           1,
           1,
           1,
           1,
           1,
           1,
           1,
           1,
           1,
           1,
           1,
           1,
           1,
           1,
           1,
           1,
           1,
           1,
           1,
           1,
           1,
           1,
           1,
           1,
           1,
           1,
           1,
           1,
           1,
           1,
           1,
           1,
           1,
           1,
           1,
           1,
           1,
           1,
           1,
           1,
           1,
           1,
           1,
           1,
           1,
           1,
           1,
           1,
           1,
           1,
           1,
           1,
           1,
           1,
           1,
           1,
           1,
           1,
           1,
           1,
           1,
           1,
           1,
           1,
           1,
           1,
           1,
           1,
           1,
           1,
           1,
           1,
           1,
           1,
           1,
           1,
           1,
           1,
           1,
           1,
           1,
           1,
           1,
           1,
           1,
           1,
           1,
           1,
           1,
           1,
           1,
           1,
           1,
           1,
           1,
           1,
           1,
           1,
           1,
           1,
           1,
           1,
           1,
           1,
           1,
           1,
           1,
           1,
           1,
           1,
           1,
           1,
           1,
           1,
           1,
           1,
           1,
           1,
           1,
           1,
           1,
           1,
           1,
           1,
           1,
           1,
           1,
           1,
           1,
           1,
           1,
           1,
           1,
           1,
           1,
           1,
           1,
           1,
           1,
           1,
           1,
           1,
           1,
           1,
           1,
           1,
           1,
           1,
           1,
           1,
           1,
           1,
           1,
           1,
           1,
           1,
           1,
           1,
           1,
           1,
           1,
           1,
           1,
           1,
           1,
           1,
           1,
           1,
           1,
           1,
           1,
           1,
           1,
           1,
           1,
           1,
           1,
           1,
           1,
           1,
           1,
           1,
           1,
           1,
           1,
           1,
           1,
           1,
           1,
           1,
           1,
           1,
           1,
           1,
           1,
           1,
           1,
           1,
           1,
           1,
           1,
           1,
           1,
           1,
           1,
           1,
           1,
           1,
           1,
           1,
           1,
           1,
           1,
           1,
           1,
           1,
           1,
           1,
           1,
           1,
           1,
           1,
           1,
           1,
           1,
           1,
           1,
           1,
           1,
           1,
           1,
           1,
           1,
           1,
           1,
           1,
           1,
           1,
           1,
           1,
           1,
           1,
           1,
           1,
           1,
           1,
           1,
           1,
           1,
           1,
           1,
           1,
           1,
           1,
           1,
           1,
           1,
           1,
           1,
           1,
           1,
           1,
           1,
           1,
           1,
           1,
           1,
           1,
           1,
           1,
           1,
           1,
           1,
           1,
           1,
           1,
           1,
           1,
           1,
           1,
           1,
           1,
           1,
           1,
           1,
           1,
           1,
           1,
           1,
           1,
           1,
           1,
           1,
           1,
           1,
           1,
           1,
           1,
           1,
           1,
           1,
           1,
           1,
           1,
           1,
           1,
           1,
           1,
           1,
           1,
           1,
           1,
           1,
           1,
           1,
           1,
           1,
           1,
           1,
           1,
           1,
           1,
           1,
           1,
           1,
           1,
           1,
           1,
           1,
           1,
           1,
           1,
           1,
           1,
           1,
           1,
           1,
           1,
           1,
           1,
           1,
           1,
           1,
           1,
           1,
           1,
           1,
           1,
           1,
           1,
           1,
           1,
           1,
           1,
           1,
           1,
           1,
           1,
           1,
           1,
           1,
           1,
           1,
           1,
           1,
           1,
           1,
           1,
           1,
           1,
           1,
           1,
           1,
           1,
           1,
           1,
           1,
           1,
           1,
           1,
           1,
           1,
           1,
           1,
           1,
           1,
           1,
           1,
           1,
           1,
           1,
           1,
           1,
           1,
           1,
           1,
           1,
           1,
           1,
           1,
           1,
           1,
           1,
           1,
           1,
           1,
           1,
           1,
           1,
           1,
           1,
           1,
           1,
           1,
           1,
           1,
           1,
           1,
           1,
           1,
           1,
           1,
           1,
           1,
           1,
           1,
           1,
           1,
           1,
           1,
           1,
           1,
           1,
           1,
           1,
           1,
           1,
           1,
           1,
           1,
           1,
           1,
           1,
           1,
           1,
           1,
           1,
           1,
           1,
           1,
           1,
           1,
           1,
           1,
           1,
           1,
           1,
           1,
           1,
           1,
           1,
           1,
           1,
           1,
           1,
           1,
           1,
           1,
           1,
           1,
           1,
           1,
           1,
           1,
           1,
           1,
           1,
           1,
           1,
           1,
           1,
           1,
           1,
           1,
           1,
           1,
           1,
           1,
           1,
           1,
           1,
           1,
           1,
           1,
           1,
           1,
           1,
           1,
           1,
           1,
           1,
           1,
           1,
           1,
           1,
           1,
           1,
           1,
           1,
           1,
           1,
           1,
           1,
           1,
           1,
           1,
           1,
           1,
           1,
           1,
           1,
           1,
           1,
           1,
           1,
           1,
           1,
           1,
           1,
           1,
           1,
           1,
           1,
           1,
           1,
           1,
           1,
           1,
           1,
           1,
           1,
           1,
           1,
           1,
           1,
           1,
           1,
           1,
           1,
           1,
           1,
           1,
           1,
           1,
           1,
           1,
           1,
           1,
           1,
           1,
           1,
           1,
           1,
           1,
           1,
           1,
           1,
           1,
           1,
           1,
           1,
           1,
           1,
           1,
           1,
           1,
           1,
           1,
           1,
           1,
           1,
           1,
           1,
           1,
           1,
           1,
           1,
           1,
           1,
           1,
           1,
           1,
           1,
           1,
           1,
           1,
           1,
           1,
           1,
           1,
           1,
           1,
           1,
           1,
           1,
           1,
           1,
           1,
           1,
           1,
           1,
           1,
           1,
           1,
           1,
           1,
           1,
           1,
           1,
           1,
           1,
           1,
           1,
           1,
           1,
           1,
           1,
           1,
           1,
           1,
           1,
           1,
           1,
           1,
           1,
           1,
           1,
           1,
           1,
           1,
           1,
           1,
           1,
           1,
           1,
           1,
           1,
           1,
           1,
           1,
           1,
           1,
           1,
           1,
           1,
           1,
           1,
           1,
           1,
           1,
           1,
           1,
           1,
           1,
           1,
           1,
           1,
           1,
           1,
           1,
           1,
           1,
           1,
           1,
           1,
           1,
           1,
           1,
           1,
           1,
           1,
           1,
           1,
           1,
           1,
           1,
           1,
           1,
           1,
           1,
           1,
           1,
           1,
           1,
           1,
           1,
           1,
           1,
           1,
           1,
           1,
           1,
           1,
           1,
           1,
           1,
           1,
           1,
           1,
           1,
           1,
           1,
           1,
           1,
           1,
           1,
           1,
           1,
           1,
           1,
           1,
           1,
           1,
           1,
           1,
           1,
           1,
           1,
           1,
           1,
           1,
           1,
           1,
           1,
           1,
           1,
           1,
           1,
           1,
           1,
           1,
           1,
           1,
           1,
           1,
           1,
           1,
           1,
           1,
           1,
           1,
           1,
           1,
           1,
           1,
           1,
           1,
           1,
           1,
           1,
           1,
           1,
           1,
           1,
           1,
           1,
           1,
           1,
           1,
           1,
           1,
           1,
           1,
           1,
           1,
           1,
           1,
           1,
           1,
           1,
           1,
           1,
           1,
           1,
           1,
           1,
           1,
           1,
           1,
           1,
           1,
           1,
           1,
           1,
           1,
           1,
           1,
           1,
           1,
           1,
           1,
           1,
           1,
           1,
           1,
           1,
           1,
           1,
           1,
           1,
           1,
           1,
           1,
           1,
           1,
           1,
           1,
           1,
           1,
           1,
           1,
           1,
           1,
           1,
           1,
           1,
           1,
           1,
           1,
           1,
           1,
           1,
           1,
           1,
           1,
           1,
           1,
           1,
           1,
           1,
           1,
           1,
           1,
           1,
           1,
           1,
           1,
           1,
           1,
           1,
           1,
           1,
           1,
           1,
           1,
           1,
           1,
           1,
           1,
           1,
           1,
           1,
           1,
           1,
           1,
           1,
           1,
           1,
           1,
           1,
           1,
           1,
           1,
           1,
           1,
           1,
           1,
           1,
           1,
           1,
           1,
           1,
           1,
           1,
           1,
           1,
           1,
           1,
           1,
           1,
           1,
           1,
           1,
           1,
           1,
           1,
           1,
           1,
           1,
           1,
           1,
           1,
           1,
           1,
           1,
           1,
           1,
           1,
           1,
           1,
           1,
           1,
           1,
           1,
           1,
           1,
           1,
           1,
           1,
           1,
           1,
           1,
           1,
           1,
           1,
           1,
           1,
           1,
           1,
           1,
           1,
           1,
           1,
           1,
           1,
           1,
           1,
           1,
           1,
           1,
           1,
           1,
           1,
           1,
           1,
           1,
           1,
           1,
           1,
           1,
           1,
           1,
           1,
           1,
           1,
           1,
           1,
           1,
           1,
           1,
           1,
           1,
           1,
           1,
           1,
           1,
           1,
           1,
           1,
           1,
           1,
           1,
           1,
           1,
           1,
           1,
           1,
           1,
           1,
           1,
           1,
           1,
           1,
           1,
           1,
           1,
           1,
           1,
           1,
           1,
           1,
           1,
           1,
           1,
           1,
           1,
           1,
           1,
           1,
           1,
           1,
           1,
           1,
           1,
           1,
           1,
           1,
           1,
           1,
           1,
           1,
           1,
           1,
           1,
           1,
           1,
           1,
           1,
           1,
           1,
           1,
           1,
           1,
           1,
           1,
           1,
           1,
           1,
           1,
           1,
           1,
           1,
           1,
           1,
           1,
           1,
           1,
           1,
           1,
           1,
           1,
           1,
           1,
           1,
           1,
           1,
           1,
           1,
           1,
           1,
           1,
           1,
           1,
           1,
           1,
           1,
           1,
           1,
           1,
           1,
           1,
           1,
           1,
           1,
           1,
           1,
           1,
           1,
           1,
           1,
           1,
           1,
           1,
           1,
           1,
           1,
           1,
           1,
           1,
           1,
           1,
           1,
           1,
           1,
           1,
           1,
           1,
           1,
           1,
           1,
           1,
           1,
           1,
           1,
           1,
           1,
           1,
           1,
           1,
           1,
           1,
           1,
           1,
           1,
           1,
           1,
           1,
           1,
           1,
           1,
           1,
           1,
           1,
           1,
           1,
           1,
           1,
           1,
           1,
           1,
           1,
           1,
           1,
           1,
           1,
           1,
           1,
           1,
           1,
           1,
           1,
           1,
           1,
           1,
           1,
           1,
           1,
           1,
           1,
           1
          ],
          "sizemode": "area",
          "sizeref": 0.01384083044982699,
          "symbol": "circle"
         },
         "mode": "markers",
         "name": "",
         "showlegend": false,
         "type": "scattergl",
         "x": [
          38,
          39,
          40,
          41,
          42,
          43,
          33,
          34,
          35,
          36,
          37,
          39,
          40,
          41,
          43,
          44,
          45,
          46,
          47,
          27,
          28,
          32,
          33,
          34,
          35,
          36,
          37,
          38,
          39,
          40,
          41,
          42,
          43,
          44,
          45,
          46,
          47,
          48,
          49,
          53,
          54,
          25,
          26,
          27,
          32,
          33,
          34,
          35,
          36,
          41,
          42,
          43,
          44,
          45,
          46,
          47,
          48,
          49,
          50,
          54,
          55,
          56,
          24,
          25,
          26,
          27,
          32,
          33,
          34,
          35,
          36,
          41,
          42,
          43,
          44,
          45,
          46,
          47,
          48,
          49,
          54,
          55,
          56,
          57,
          22,
          23,
          24,
          25,
          26,
          32,
          33,
          34,
          35,
          36,
          37,
          38,
          39,
          40,
          41,
          42,
          43,
          44,
          45,
          46,
          47,
          48,
          49,
          50,
          55,
          56,
          57,
          58,
          59,
          22,
          23,
          24,
          25,
          26,
          31,
          32,
          33,
          34,
          35,
          36,
          37,
          38,
          39,
          40,
          41,
          42,
          43,
          44,
          45,
          46,
          47,
          48,
          49,
          50,
          55,
          56,
          57,
          58,
          59,
          23,
          24,
          25,
          26,
          32,
          33,
          34,
          35,
          36,
          37,
          38,
          39,
          40,
          41,
          42,
          43,
          44,
          45,
          46,
          47,
          48,
          49,
          50,
          55,
          56,
          57,
          58,
          23,
          24,
          25,
          26,
          31,
          32,
          33,
          34,
          35,
          36,
          37,
          38,
          39,
          40,
          41,
          42,
          43,
          44,
          45,
          46,
          47,
          48,
          49,
          50,
          55,
          56,
          57,
          58,
          21,
          22,
          23,
          24,
          25,
          26,
          32,
          33,
          34,
          35,
          36,
          37,
          38,
          39,
          40,
          41,
          42,
          43,
          44,
          45,
          46,
          47,
          48,
          49,
          50,
          55,
          56,
          57,
          58,
          59,
          60,
          21,
          22,
          23,
          24,
          25,
          26,
          31,
          32,
          33,
          34,
          35,
          36,
          37,
          38,
          39,
          40,
          41,
          42,
          43,
          44,
          45,
          46,
          47,
          48,
          49,
          50,
          55,
          56,
          57,
          58,
          59,
          60,
          21,
          22,
          23,
          24,
          25,
          26,
          32,
          33,
          34,
          35,
          36,
          37,
          38,
          39,
          40,
          41,
          42,
          43,
          44,
          45,
          46,
          47,
          48,
          49,
          50,
          55,
          56,
          57,
          58,
          59,
          60,
          21,
          22,
          23,
          24,
          25,
          26,
          31,
          32,
          33,
          34,
          35,
          36,
          37,
          38,
          39,
          40,
          41,
          42,
          43,
          44,
          45,
          46,
          47,
          48,
          49,
          50,
          55,
          56,
          57,
          58,
          59,
          60,
          32,
          33,
          34,
          35,
          36,
          37,
          38,
          39,
          40,
          41,
          42,
          43,
          44,
          45,
          46,
          47,
          48,
          49,
          50,
          31,
          32,
          33,
          34,
          35,
          36,
          37,
          38,
          39,
          40,
          41,
          42,
          43,
          44,
          45,
          46,
          47,
          48,
          49,
          50,
          21,
          22,
          23,
          24,
          25,
          26,
          32,
          33,
          34,
          35,
          36,
          37,
          38,
          39,
          40,
          41,
          42,
          43,
          44,
          45,
          46,
          47,
          48,
          49,
          50,
          55,
          56,
          57,
          58,
          59,
          60,
          21,
          22,
          23,
          24,
          25,
          26,
          32,
          33,
          34,
          35,
          36,
          37,
          38,
          39,
          40,
          41,
          42,
          43,
          44,
          45,
          46,
          47,
          48,
          49,
          55,
          56,
          57,
          58,
          59,
          60,
          22,
          23,
          24,
          25,
          26,
          27,
          33,
          34,
          35,
          36,
          37,
          38,
          39,
          40,
          41,
          42,
          43,
          44,
          45,
          46,
          47,
          48,
          49,
          54,
          55,
          56,
          57,
          58,
          59,
          22,
          23,
          24,
          25,
          26,
          27,
          28,
          33,
          34,
          35,
          36,
          37,
          38,
          39,
          40,
          41,
          42,
          43,
          44,
          45,
          46,
          47,
          48,
          53,
          54,
          55,
          56,
          57,
          58,
          59,
          23,
          24,
          25,
          26,
          27,
          28,
          29,
          34,
          35,
          36,
          37,
          38,
          39,
          40,
          41,
          42,
          43,
          44,
          45,
          46,
          47,
          48,
          52,
          53,
          54,
          55,
          56,
          57,
          58,
          27,
          28,
          29,
          30,
          31,
          32,
          33,
          34,
          35,
          36,
          37,
          38,
          43,
          44,
          45,
          46,
          47,
          48,
          49,
          50,
          51,
          52,
          53,
          54,
          27,
          28,
          29,
          30,
          31,
          32,
          33,
          34,
          35,
          36,
          37,
          38,
          43,
          44,
          45,
          46,
          47,
          48,
          49,
          50,
          51,
          52,
          53,
          54,
          27,
          28,
          29,
          30,
          32,
          33,
          34,
          35,
          36,
          37,
          44,
          45,
          46,
          47,
          48,
          49,
          51,
          52,
          53,
          54,
          27,
          28,
          29,
          30,
          31,
          32,
          33,
          34,
          35,
          36,
          37,
          38,
          39,
          40,
          41,
          42,
          43,
          44,
          45,
          46,
          47,
          48,
          49,
          50,
          51,
          52,
          53,
          54,
          14,
          15,
          16,
          17,
          21,
          22,
          23,
          24,
          25,
          27,
          28,
          29,
          30,
          31,
          32,
          49,
          50,
          51,
          52,
          53,
          54,
          56,
          57,
          58,
          59,
          60,
          64,
          65,
          66,
          67,
          14,
          15,
          16,
          17,
          20,
          21,
          22,
          23,
          24,
          25,
          27,
          28,
          29,
          30,
          31,
          32,
          49,
          50,
          51,
          52,
          53,
          54,
          56,
          57,
          58,
          59,
          60,
          61,
          64,
          65,
          66,
          67,
          14,
          15,
          16,
          17,
          26,
          27,
          28,
          29,
          30,
          51,
          52,
          53,
          54,
          55,
          57,
          58,
          59,
          60,
          61,
          62,
          64,
          65,
          66,
          67,
          14,
          15,
          16,
          17,
          18,
          19,
          20,
          21,
          22,
          23,
          24,
          25,
          26,
          27,
          28,
          29,
          30,
          31,
          50,
          51,
          52,
          53,
          54,
          55,
          56,
          57,
          58,
          59,
          60,
          61,
          62,
          63,
          64,
          65,
          66,
          67,
          8,
          9,
          10,
          11,
          12,
          15,
          16,
          17,
          18,
          19,
          61,
          62,
          63,
          64,
          65,
          69,
          70,
          71,
          72,
          73,
          3,
          4,
          6,
          7,
          8,
          9,
          10,
          11,
          12,
          15,
          16,
          17,
          18,
          19,
          20,
          21,
          22,
          23,
          24,
          25,
          26,
          54,
          55,
          56,
          57,
          58,
          59,
          60,
          61,
          62,
          63,
          64,
          65,
          69,
          70,
          71,
          72,
          73,
          74,
          75,
          77,
          78,
          79,
          3,
          4,
          5,
          6,
          7,
          8,
          9,
          10,
          11,
          12,
          13,
          14,
          15,
          16,
          17,
          18,
          19,
          20,
          21,
          22,
          23,
          24,
          25,
          55,
          56,
          57,
          58,
          59,
          60,
          61,
          62,
          63,
          64,
          65,
          66,
          71,
          72,
          73,
          74,
          75,
          76,
          77,
          78,
          79,
          29,
          30,
          31,
          32,
          33,
          34,
          37,
          38,
          39,
          40,
          41,
          42,
          44,
          45,
          46,
          47,
          48,
          49,
          28,
          29,
          30,
          31,
          32,
          33,
          34,
          35,
          36,
          37,
          38,
          39,
          40,
          41,
          42,
          43,
          44,
          45,
          46,
          47,
          48,
          12,
          13,
          14,
          15,
          16,
          18,
          19,
          20,
          21,
          30,
          31,
          32,
          33,
          34,
          35,
          36,
          37,
          38,
          39,
          40,
          41,
          42,
          43,
          44,
          45,
          46,
          47,
          56,
          57,
          58,
          59,
          61,
          62,
          63,
          64,
          65,
          11,
          12,
          13,
          14,
          15,
          16,
          18,
          19,
          20,
          21,
          29,
          30,
          31,
          32,
          33,
          34,
          35,
          36,
          37,
          38,
          39,
          40,
          41,
          42,
          43,
          44,
          45,
          46,
          47,
          48,
          56,
          57,
          58,
          59,
          61,
          62,
          63,
          64,
          65,
          66,
          10,
          11,
          12,
          13,
          14,
          15,
          16,
          17,
          18,
          19,
          20,
          21,
          56,
          57,
          58,
          59,
          60,
          61,
          62,
          63,
          64,
          65,
          66,
          67,
          29,
          30,
          31,
          32,
          33,
          34,
          35,
          37,
          38,
          39,
          40,
          41,
          42,
          44,
          45,
          46,
          47,
          48,
          49,
          50,
          29,
          30,
          31,
          32,
          33,
          34,
          35,
          36,
          43,
          44,
          45,
          46,
          47,
          48,
          49,
          50,
          51,
          30,
          31,
          32,
          33,
          34,
          35,
          36,
          37,
          38,
          39,
          40,
          41,
          42,
          43,
          44,
          45,
          46,
          47,
          48,
          49,
          30,
          31,
          32,
          33,
          34,
          35,
          36,
          37,
          38,
          39,
          40,
          41,
          42,
          43,
          44,
          45,
          46,
          47,
          48,
          49,
          50,
          54,
          55,
          15,
          16,
          19,
          20,
          21,
          22,
          23,
          24,
          25,
          26,
          27,
          54,
          55,
          56,
          59,
          60,
          61,
          62,
          63,
          18,
          19,
          20,
          21,
          22,
          23,
          25,
          26,
          27,
          54,
          55,
          56,
          58,
          59,
          60,
          61,
          62,
          63,
          65,
          66,
          67,
          21,
          22,
          23,
          24,
          25,
          26,
          27,
          54,
          55,
          56,
          57,
          58,
          59,
          60,
          65,
          66,
          67,
          9,
          10,
          11,
          12,
          67,
          68,
          69,
          70,
          7,
          8,
          9,
          10,
          11,
          12,
          67,
          68,
          69,
          70,
          71,
          72,
          6,
          73,
          24,
          25,
          26,
          27,
          28,
          32,
          33,
          34,
          35,
          40,
          41,
          42,
          44,
          24,
          25,
          26,
          27,
          28,
          31,
          32,
          33,
          34,
          35,
          40,
          41,
          42,
          44,
          45,
          24,
          25,
          26,
          27,
          28,
          29,
          40,
          41,
          42,
          43,
          44,
          45,
          25,
          26,
          27,
          28,
          29,
          40,
          41,
          42,
          43,
          44,
          45,
          46,
          52,
          53,
          54,
          55,
          56,
          57,
          13,
          14,
          15,
          16,
          24,
          25,
          26,
          27,
          28,
          29,
          40,
          41,
          42,
          43,
          44,
          45,
          46,
          52,
          53,
          54,
          55,
          56,
          57,
          58,
          59,
          60,
          9,
          10,
          11,
          12,
          13,
          14,
          15,
          16,
          17,
          24,
          25,
          26,
          27,
          28,
          29,
          30,
          31,
          32,
          33,
          34,
          35,
          36,
          37,
          38,
          39,
          40,
          41,
          42,
          43,
          44,
          45,
          51,
          52,
          53,
          54,
          55,
          56,
          57,
          58,
          59,
          9,
          10,
          11,
          12,
          13,
          14,
          15,
          16,
          17,
          18,
          24,
          25,
          26,
          27,
          28,
          29,
          30,
          31,
          32,
          33,
          34,
          35,
          36,
          37,
          38,
          39,
          40,
          41,
          42,
          43,
          44,
          50,
          51,
          52,
          53,
          54,
          55,
          56,
          57,
          58,
          59,
          10,
          11,
          12,
          13,
          14,
          15,
          16,
          17,
          18,
          19,
          25,
          26,
          27,
          28,
          29,
          30,
          31,
          32,
          33,
          34,
          35,
          36,
          37,
          38,
          39,
          40,
          41,
          42,
          43,
          44,
          49,
          50,
          51,
          52,
          53,
          54,
          55,
          56,
          57,
          58,
          59,
          10,
          11,
          12,
          13,
          14,
          15,
          16,
          17,
          18,
          19,
          20,
          25,
          26,
          27,
          28,
          29,
          30,
          31,
          32,
          33,
          34,
          35,
          36,
          37,
          38,
          39,
          40,
          41,
          42,
          43,
          48,
          49,
          50,
          51,
          52,
          53,
          54,
          55,
          56,
          57,
          58,
          10,
          11,
          12,
          13,
          14,
          15,
          16,
          17,
          18,
          19,
          20,
          21,
          25,
          26,
          27,
          28,
          29,
          30,
          31,
          32,
          33,
          34,
          35,
          36,
          37,
          38,
          39,
          40,
          41,
          42,
          47,
          48,
          49,
          50,
          51,
          52,
          53,
          54,
          55,
          56,
          57,
          58,
          11,
          12,
          13,
          14,
          15,
          16,
          17,
          18,
          26,
          27,
          28,
          29,
          30,
          31,
          32,
          33,
          34,
          35,
          36,
          37,
          38,
          39,
          40,
          41,
          42,
          50,
          51,
          52,
          53,
          54,
          55,
          56,
          57,
          11,
          12,
          13,
          27,
          28,
          29,
          30,
          31,
          32,
          33,
          34,
          35,
          36,
          37,
          38,
          39,
          40,
          41,
          42,
          56,
          57,
          58,
          11,
          12,
          13,
          14,
          17,
          18,
          28,
          29,
          30,
          31,
          32,
          33,
          34,
          35,
          36,
          37,
          38,
          39,
          40,
          41,
          51,
          52,
          55,
          56,
          57,
          58,
          11,
          12,
          13,
          14,
          15,
          16,
          17,
          18,
          29,
          30,
          31,
          32,
          33,
          34,
          35,
          36,
          37,
          38,
          39,
          40,
          41,
          51,
          52,
          53,
          56,
          57,
          58,
          10,
          11,
          12,
          15,
          16,
          17,
          18,
          19,
          26,
          27,
          28,
          29,
          30,
          31,
          32,
          33,
          34,
          35,
          36,
          37,
          38,
          39,
          40,
          41,
          42,
          43,
          44,
          50,
          51,
          52,
          53,
          54,
          57,
          58,
          59,
          6,
          7,
          8,
          9,
          10,
          11,
          14,
          15,
          16,
          17,
          18,
          19,
          20,
          26,
          27,
          32,
          33,
          38,
          39,
          40,
          41,
          42,
          43,
          49,
          50,
          51,
          52,
          53,
          54,
          55,
          58,
          59,
          60,
          61,
          62,
          63,
          8,
          9,
          10,
          11,
          12,
          13,
          14,
          15,
          20,
          21,
          27,
          28,
          29,
          30,
          31,
          32,
          33,
          34,
          35,
          36,
          37,
          38,
          39,
          40,
          41,
          42,
          43,
          48,
          49,
          50,
          51,
          52,
          53,
          54,
          55,
          56,
          57,
          58,
          59,
          60,
          61,
          7,
          8,
          9,
          12,
          13,
          14,
          15,
          16,
          21,
          22,
          28,
          29,
          30,
          31,
          32,
          33,
          34,
          35,
          36,
          37,
          38,
          39,
          40,
          41,
          42,
          47,
          48,
          49,
          50,
          51,
          52,
          53,
          54,
          55,
          56,
          57,
          58,
          59,
          60,
          61,
          62,
          6,
          7,
          8,
          9,
          10,
          11,
          14,
          15,
          16,
          17,
          18,
          19,
          20,
          21,
          22,
          23,
          28,
          29,
          36,
          37,
          38,
          39,
          40,
          41,
          46,
          47,
          48,
          49,
          50,
          51,
          52,
          53,
          54,
          55,
          58,
          59,
          60,
          61,
          62,
          63,
          3,
          4,
          5,
          6,
          7,
          8,
          9,
          10,
          11,
          12,
          13,
          14,
          15,
          16,
          17,
          18,
          19,
          20,
          21,
          22,
          23,
          24,
          29,
          30,
          31,
          32,
          33,
          34,
          35,
          36,
          37,
          38,
          39,
          40,
          41,
          45,
          46,
          47,
          48,
          49,
          50,
          51,
          52,
          53,
          54,
          55,
          56,
          57,
          58,
          59,
          60,
          61,
          62,
          63,
          64,
          65,
          66,
          52,
          53,
          54,
          55,
          56,
          57,
          52,
          53,
          54,
          55,
          56,
          52,
          53,
          21,
          22,
          23,
          24,
          25,
          26,
          61,
          62,
          63,
          64,
          65,
          26,
          61,
          26,
          61,
          21,
          22,
          33,
          54,
          65,
          66,
          21,
          22,
          65,
          66
         ],
         "xaxis": "x",
         "y": [
          19,
          19,
          19,
          19,
          19,
          19,
          18,
          18,
          18,
          18,
          18,
          18,
          18,
          18,
          18,
          18,
          18,
          18,
          18,
          17,
          17,
          17,
          17,
          17,
          17,
          17,
          17,
          17,
          17,
          17,
          17,
          17,
          17,
          17,
          17,
          17,
          17,
          17,
          17,
          17,
          17,
          16,
          16,
          16,
          16,
          16,
          16,
          16,
          16,
          16,
          16,
          16,
          16,
          16,
          16,
          16,
          16,
          16,
          16,
          16,
          16,
          16,
          15,
          15,
          15,
          15,
          15,
          15,
          15,
          15,
          15,
          15,
          15,
          15,
          15,
          15,
          15,
          15,
          15,
          15,
          15,
          15,
          15,
          15,
          14,
          14,
          14,
          14,
          14,
          14,
          14,
          14,
          14,
          14,
          14,
          14,
          14,
          14,
          14,
          14,
          14,
          14,
          14,
          14,
          14,
          14,
          14,
          14,
          14,
          14,
          14,
          14,
          14,
          13,
          13,
          13,
          13,
          13,
          13,
          13,
          13,
          13,
          13,
          13,
          13,
          13,
          13,
          13,
          13,
          13,
          13,
          13,
          13,
          13,
          13,
          13,
          13,
          13,
          13,
          13,
          13,
          13,
          13,
          12,
          12,
          12,
          12,
          12,
          12,
          12,
          12,
          12,
          12,
          12,
          12,
          12,
          12,
          12,
          12,
          12,
          12,
          12,
          12,
          12,
          12,
          12,
          12,
          12,
          12,
          12,
          11,
          11,
          11,
          11,
          11,
          11,
          11,
          11,
          11,
          11,
          11,
          11,
          11,
          11,
          11,
          11,
          11,
          11,
          11,
          11,
          11,
          11,
          11,
          11,
          11,
          11,
          11,
          11,
          10,
          10,
          10,
          10,
          10,
          10,
          10,
          10,
          10,
          10,
          10,
          10,
          10,
          10,
          10,
          10,
          10,
          10,
          10,
          10,
          10,
          10,
          10,
          10,
          10,
          10,
          10,
          10,
          10,
          10,
          10,
          9,
          9,
          9,
          9,
          9,
          9,
          9,
          9,
          9,
          9,
          9,
          9,
          9,
          9,
          9,
          9,
          9,
          9,
          9,
          9,
          9,
          9,
          9,
          9,
          9,
          9,
          9,
          9,
          9,
          9,
          9,
          9,
          8,
          8,
          8,
          8,
          8,
          8,
          8,
          8,
          8,
          8,
          8,
          8,
          8,
          8,
          8,
          8,
          8,
          8,
          8,
          8,
          8,
          8,
          8,
          8,
          8,
          8,
          8,
          8,
          8,
          8,
          8,
          7,
          7,
          7,
          7,
          7,
          7,
          7,
          7,
          7,
          7,
          7,
          7,
          7,
          7,
          7,
          7,
          7,
          7,
          7,
          7,
          7,
          7,
          7,
          7,
          7,
          7,
          7,
          7,
          7,
          7,
          7,
          7,
          6,
          6,
          6,
          6,
          6,
          6,
          6,
          6,
          6,
          6,
          6,
          6,
          6,
          6,
          6,
          6,
          6,
          6,
          6,
          5,
          5,
          5,
          5,
          5,
          5,
          5,
          5,
          5,
          5,
          5,
          5,
          5,
          5,
          5,
          5,
          5,
          5,
          5,
          5,
          4,
          4,
          4,
          4,
          4,
          4,
          4,
          4,
          4,
          4,
          4,
          4,
          4,
          4,
          4,
          4,
          4,
          4,
          4,
          4,
          4,
          4,
          4,
          4,
          4,
          4,
          4,
          4,
          4,
          4,
          4,
          3,
          3,
          3,
          3,
          3,
          3,
          3,
          3,
          3,
          3,
          3,
          3,
          3,
          3,
          3,
          3,
          3,
          3,
          3,
          3,
          3,
          3,
          3,
          3,
          3,
          3,
          3,
          3,
          3,
          3,
          2,
          2,
          2,
          2,
          2,
          2,
          2,
          2,
          2,
          2,
          2,
          2,
          2,
          2,
          2,
          2,
          2,
          2,
          2,
          2,
          2,
          2,
          2,
          2,
          2,
          2,
          2,
          2,
          2,
          1,
          1,
          1,
          1,
          1,
          1,
          1,
          1,
          1,
          1,
          1,
          1,
          1,
          1,
          1,
          1,
          1,
          1,
          1,
          1,
          1,
          1,
          1,
          1,
          1,
          1,
          1,
          1,
          1,
          1,
          0,
          0,
          0,
          0,
          0,
          0,
          0,
          0,
          0,
          0,
          0,
          0,
          0,
          0,
          0,
          0,
          0,
          0,
          0,
          0,
          0,
          0,
          0,
          0,
          0,
          0,
          0,
          0,
          0,
          40,
          40,
          40,
          40,
          40,
          40,
          40,
          40,
          40,
          40,
          40,
          40,
          40,
          40,
          40,
          40,
          40,
          40,
          40,
          40,
          40,
          40,
          40,
          40,
          39,
          39,
          39,
          39,
          39,
          39,
          39,
          39,
          39,
          39,
          39,
          39,
          39,
          39,
          39,
          39,
          39,
          39,
          39,
          39,
          39,
          39,
          39,
          39,
          38,
          38,
          38,
          38,
          38,
          38,
          38,
          38,
          38,
          38,
          38,
          38,
          38,
          38,
          38,
          38,
          38,
          38,
          38,
          38,
          37,
          37,
          37,
          37,
          37,
          37,
          37,
          37,
          37,
          37,
          37,
          37,
          37,
          37,
          37,
          37,
          37,
          37,
          37,
          37,
          37,
          37,
          37,
          37,
          37,
          37,
          37,
          37,
          35,
          35,
          35,
          35,
          35,
          35,
          35,
          35,
          35,
          35,
          35,
          35,
          35,
          35,
          35,
          35,
          35,
          35,
          35,
          35,
          35,
          35,
          35,
          35,
          35,
          35,
          35,
          35,
          35,
          35,
          34,
          34,
          34,
          34,
          34,
          34,
          34,
          34,
          34,
          34,
          34,
          34,
          34,
          34,
          34,
          34,
          34,
          34,
          34,
          34,
          34,
          34,
          34,
          34,
          34,
          34,
          34,
          34,
          34,
          34,
          34,
          34,
          33,
          33,
          33,
          33,
          33,
          33,
          33,
          33,
          33,
          33,
          33,
          33,
          33,
          33,
          33,
          33,
          33,
          33,
          33,
          33,
          33,
          33,
          33,
          33,
          32,
          32,
          32,
          32,
          32,
          32,
          32,
          32,
          32,
          32,
          32,
          32,
          32,
          32,
          32,
          32,
          32,
          32,
          32,
          32,
          32,
          32,
          32,
          32,
          32,
          32,
          32,
          32,
          32,
          32,
          32,
          32,
          32,
          32,
          32,
          32,
          30,
          30,
          30,
          30,
          30,
          30,
          30,
          30,
          30,
          30,
          30,
          30,
          30,
          30,
          30,
          30,
          30,
          30,
          30,
          30,
          29,
          29,
          29,
          29,
          29,
          29,
          29,
          29,
          29,
          29,
          29,
          29,
          29,
          29,
          29,
          29,
          29,
          29,
          29,
          29,
          29,
          29,
          29,
          29,
          29,
          29,
          29,
          29,
          29,
          29,
          29,
          29,
          29,
          29,
          29,
          29,
          29,
          29,
          29,
          29,
          29,
          29,
          29,
          28,
          28,
          28,
          28,
          28,
          28,
          28,
          28,
          28,
          28,
          28,
          28,
          28,
          28,
          28,
          28,
          28,
          28,
          28,
          28,
          28,
          28,
          28,
          28,
          28,
          28,
          28,
          28,
          28,
          28,
          28,
          28,
          28,
          28,
          28,
          28,
          28,
          28,
          28,
          28,
          28,
          28,
          28,
          28,
          51,
          51,
          51,
          51,
          51,
          51,
          51,
          51,
          51,
          51,
          51,
          51,
          51,
          51,
          51,
          51,
          51,
          51,
          50,
          50,
          50,
          50,
          50,
          50,
          50,
          50,
          50,
          50,
          50,
          50,
          50,
          50,
          50,
          50,
          50,
          50,
          50,
          50,
          50,
          49,
          49,
          49,
          49,
          49,
          49,
          49,
          49,
          49,
          49,
          49,
          49,
          49,
          49,
          49,
          49,
          49,
          49,
          49,
          49,
          49,
          49,
          49,
          49,
          49,
          49,
          49,
          49,
          49,
          49,
          49,
          49,
          49,
          49,
          49,
          49,
          48,
          48,
          48,
          48,
          48,
          48,
          48,
          48,
          48,
          48,
          48,
          48,
          48,
          48,
          48,
          48,
          48,
          48,
          48,
          48,
          48,
          48,
          48,
          48,
          48,
          48,
          48,
          48,
          48,
          48,
          48,
          48,
          48,
          48,
          48,
          48,
          48,
          48,
          48,
          48,
          47,
          47,
          47,
          47,
          47,
          47,
          47,
          47,
          47,
          47,
          47,
          47,
          47,
          47,
          47,
          47,
          47,
          47,
          47,
          47,
          47,
          47,
          47,
          47,
          70,
          70,
          70,
          70,
          70,
          70,
          70,
          70,
          70,
          70,
          70,
          70,
          70,
          70,
          70,
          70,
          70,
          70,
          70,
          70,
          69,
          69,
          69,
          69,
          69,
          69,
          69,
          69,
          69,
          69,
          69,
          69,
          69,
          69,
          69,
          69,
          69,
          68,
          68,
          68,
          68,
          68,
          68,
          68,
          68,
          68,
          68,
          68,
          68,
          68,
          68,
          68,
          68,
          68,
          68,
          68,
          68,
          67,
          67,
          67,
          67,
          67,
          67,
          67,
          67,
          67,
          67,
          67,
          67,
          67,
          67,
          67,
          67,
          67,
          67,
          67,
          67,
          67,
          65,
          65,
          64,
          64,
          64,
          64,
          64,
          64,
          64,
          64,
          64,
          64,
          64,
          64,
          64,
          64,
          64,
          64,
          64,
          64,
          64,
          63,
          63,
          63,
          63,
          63,
          63,
          63,
          63,
          63,
          63,
          63,
          63,
          63,
          63,
          63,
          63,
          63,
          63,
          63,
          63,
          63,
          62,
          62,
          62,
          62,
          62,
          62,
          62,
          62,
          62,
          62,
          62,
          62,
          62,
          62,
          62,
          62,
          62,
          58,
          58,
          58,
          58,
          58,
          58,
          58,
          58,
          57,
          57,
          57,
          57,
          57,
          57,
          57,
          57,
          57,
          57,
          57,
          57,
          57,
          57,
          92,
          92,
          92,
          92,
          92,
          92,
          92,
          92,
          92,
          92,
          92,
          92,
          92,
          91,
          91,
          91,
          91,
          91,
          91,
          91,
          91,
          91,
          91,
          91,
          91,
          91,
          91,
          91,
          90,
          90,
          90,
          90,
          90,
          90,
          90,
          90,
          90,
          90,
          90,
          90,
          89,
          89,
          89,
          89,
          89,
          89,
          89,
          89,
          89,
          89,
          89,
          89,
          89,
          89,
          89,
          89,
          89,
          89,
          88,
          88,
          88,
          88,
          88,
          88,
          88,
          88,
          88,
          88,
          88,
          88,
          88,
          88,
          88,
          88,
          88,
          88,
          88,
          88,
          88,
          88,
          88,
          88,
          88,
          88,
          87,
          87,
          87,
          87,
          87,
          87,
          87,
          87,
          87,
          87,
          87,
          87,
          87,
          87,
          87,
          87,
          87,
          87,
          87,
          87,
          87,
          87,
          87,
          87,
          87,
          87,
          87,
          87,
          87,
          87,
          87,
          87,
          87,
          87,
          87,
          87,
          87,
          87,
          87,
          87,
          86,
          86,
          86,
          86,
          86,
          86,
          86,
          86,
          86,
          86,
          86,
          86,
          86,
          86,
          86,
          86,
          86,
          86,
          86,
          86,
          86,
          86,
          86,
          86,
          86,
          86,
          86,
          86,
          86,
          86,
          86,
          86,
          86,
          86,
          86,
          86,
          86,
          86,
          86,
          86,
          86,
          85,
          85,
          85,
          85,
          85,
          85,
          85,
          85,
          85,
          85,
          85,
          85,
          85,
          85,
          85,
          85,
          85,
          85,
          85,
          85,
          85,
          85,
          85,
          85,
          85,
          85,
          85,
          85,
          85,
          85,
          85,
          85,
          85,
          85,
          85,
          85,
          85,
          85,
          85,
          85,
          85,
          84,
          84,
          84,
          84,
          84,
          84,
          84,
          84,
          84,
          84,
          84,
          84,
          84,
          84,
          84,
          84,
          84,
          84,
          84,
          84,
          84,
          84,
          84,
          84,
          84,
          84,
          84,
          84,
          84,
          84,
          84,
          84,
          84,
          84,
          84,
          84,
          84,
          84,
          84,
          84,
          84,
          83,
          83,
          83,
          83,
          83,
          83,
          83,
          83,
          83,
          83,
          83,
          83,
          83,
          83,
          83,
          83,
          83,
          83,
          83,
          83,
          83,
          83,
          83,
          83,
          83,
          83,
          83,
          83,
          83,
          83,
          83,
          83,
          83,
          83,
          83,
          83,
          83,
          83,
          83,
          83,
          83,
          83,
          82,
          82,
          82,
          82,
          82,
          82,
          82,
          82,
          82,
          82,
          82,
          82,
          82,
          82,
          82,
          82,
          82,
          82,
          82,
          82,
          82,
          82,
          82,
          82,
          82,
          82,
          82,
          82,
          82,
          82,
          82,
          82,
          82,
          81,
          81,
          81,
          81,
          81,
          81,
          81,
          81,
          81,
          81,
          81,
          81,
          81,
          81,
          81,
          81,
          81,
          81,
          81,
          81,
          81,
          81,
          80,
          80,
          80,
          80,
          80,
          80,
          80,
          80,
          80,
          80,
          80,
          80,
          80,
          80,
          80,
          80,
          80,
          80,
          80,
          80,
          80,
          80,
          80,
          80,
          80,
          80,
          79,
          79,
          79,
          79,
          79,
          79,
          79,
          79,
          79,
          79,
          79,
          79,
          79,
          79,
          79,
          79,
          79,
          79,
          79,
          79,
          79,
          79,
          79,
          79,
          79,
          79,
          79,
          78,
          78,
          78,
          78,
          78,
          78,
          78,
          78,
          78,
          78,
          78,
          78,
          78,
          78,
          78,
          78,
          78,
          78,
          78,
          78,
          78,
          78,
          78,
          78,
          78,
          78,
          78,
          78,
          78,
          78,
          78,
          78,
          78,
          78,
          78,
          77,
          77,
          77,
          77,
          77,
          77,
          77,
          77,
          77,
          77,
          77,
          77,
          77,
          77,
          77,
          77,
          77,
          77,
          77,
          77,
          77,
          77,
          77,
          77,
          77,
          77,
          77,
          77,
          77,
          77,
          77,
          77,
          77,
          77,
          77,
          77,
          76,
          76,
          76,
          76,
          76,
          76,
          76,
          76,
          76,
          76,
          76,
          76,
          76,
          76,
          76,
          76,
          76,
          76,
          76,
          76,
          76,
          76,
          76,
          76,
          76,
          76,
          76,
          76,
          76,
          76,
          76,
          76,
          76,
          76,
          76,
          76,
          76,
          76,
          76,
          76,
          76,
          75,
          75,
          75,
          75,
          75,
          75,
          75,
          75,
          75,
          75,
          75,
          75,
          75,
          75,
          75,
          75,
          75,
          75,
          75,
          75,
          75,
          75,
          75,
          75,
          75,
          75,
          75,
          75,
          75,
          75,
          75,
          75,
          75,
          75,
          75,
          75,
          75,
          75,
          75,
          75,
          75,
          74,
          74,
          74,
          74,
          74,
          74,
          74,
          74,
          74,
          74,
          74,
          74,
          74,
          74,
          74,
          74,
          74,
          74,
          74,
          74,
          74,
          74,
          74,
          74,
          74,
          74,
          74,
          74,
          74,
          74,
          74,
          74,
          74,
          74,
          74,
          74,
          74,
          74,
          74,
          74,
          73,
          73,
          73,
          73,
          73,
          73,
          73,
          73,
          73,
          73,
          73,
          73,
          73,
          73,
          73,
          73,
          73,
          73,
          73,
          73,
          73,
          73,
          73,
          73,
          73,
          73,
          73,
          73,
          73,
          73,
          73,
          73,
          73,
          73,
          73,
          73,
          73,
          73,
          73,
          73,
          73,
          73,
          73,
          73,
          73,
          73,
          73,
          73,
          73,
          73,
          73,
          73,
          73,
          73,
          73,
          73,
          73,
          93,
          93,
          93,
          93,
          93,
          93,
          92,
          92,
          92,
          92,
          92,
          91,
          91,
          64,
          64,
          64,
          64,
          64,
          64,
          64,
          64,
          64,
          64,
          64,
          43,
          43,
          42,
          42,
          22,
          22,
          22,
          22,
          22,
          22,
          21,
          21,
          21,
          21
         ],
         "yaxis": "y"
        }
       ],
       "layout": {
        "annotations": [
         {
          "font": {
           "color": "black",
           "size": 20
          },
          "showarrow": false,
          "text": "Stage",
          "x": 40.5,
          "y": -5.5
         }
        ],
        "autosize": false,
        "coloraxis": {
         "colorbar": {
          "dtick": 25,
          "len": 0.5,
          "orientation": "h",
          "thickness": 15,
          "tickmode": "linear",
          "ticks": "inside",
          "title": {
           "text": "Price"
          },
          "x": 0.46,
          "y": 0.94
         },
         "colorscale": [
          [
           0,
           "rgb(136,204,39)"
          ],
          [
           0.5,
           "rgb(253,149,45)"
          ],
          [
           0.77,
           "rgb(69,104,255)"
          ],
          [
           0.89,
           "rgb(47,248,254)"
          ],
          [
           0.96,
           "rgb(251,32,203)"
          ],
          [
           1,
           "rgb(250,53,38)"
          ]
         ]
        },
        "font": {
         "family": "Gotham"
        },
        "height": 900,
        "hoverlabel": {
         "bgcolor": "#C7102E",
         "font": {
          "color": "White",
          "family": "Gotham",
          "size": 16
         }
        },
        "legend": {
         "font": {
          "family": "Gotham",
          "size": 13
         },
         "itemsizing": "constant",
         "title": {
          "font": {
           "family": "Gotham",
           "size": 15
          },
          "text": "Title"
         },
         "tracegroupgap": 0
        },
        "margin": {
         "b": 0,
         "l": 0,
         "pad": 0,
         "r": 0,
         "t": 0
        },
        "shapes": [
         {
          "fillcolor": "white",
          "line": {
           "color": "black",
           "width": 2
          },
          "opacity": 1,
          "type": "rect",
          "x0": 58.5,
          "x1": 22.5,
          "y0": -8,
          "y1": -3
         }
        ],
        "template": {
         "data": {
          "bar": [
           {
            "error_x": {
             "color": "rgb(36,36,36)"
            },
            "error_y": {
             "color": "rgb(36,36,36)"
            },
            "marker": {
             "line": {
              "color": "white",
              "width": 0.5
             },
             "pattern": {
              "fillmode": "overlay",
              "size": 10,
              "solidity": 0.2
             }
            },
            "type": "bar"
           }
          ],
          "barpolar": [
           {
            "marker": {
             "line": {
              "color": "white",
              "width": 0.5
             },
             "pattern": {
              "fillmode": "overlay",
              "size": 10,
              "solidity": 0.2
             }
            },
            "type": "barpolar"
           }
          ],
          "carpet": [
           {
            "aaxis": {
             "endlinecolor": "rgb(36,36,36)",
             "gridcolor": "white",
             "linecolor": "white",
             "minorgridcolor": "white",
             "startlinecolor": "rgb(36,36,36)"
            },
            "baxis": {
             "endlinecolor": "rgb(36,36,36)",
             "gridcolor": "white",
             "linecolor": "white",
             "minorgridcolor": "white",
             "startlinecolor": "rgb(36,36,36)"
            },
            "type": "carpet"
           }
          ],
          "choropleth": [
           {
            "colorbar": {
             "outlinewidth": 1,
             "tickcolor": "rgb(36,36,36)",
             "ticks": "outside"
            },
            "type": "choropleth"
           }
          ],
          "contour": [
           {
            "colorbar": {
             "outlinewidth": 1,
             "tickcolor": "rgb(36,36,36)",
             "ticks": "outside"
            },
            "colorscale": [
             [
              0,
              "#440154"
             ],
             [
              0.1111111111111111,
              "#482878"
             ],
             [
              0.2222222222222222,
              "#3e4989"
             ],
             [
              0.3333333333333333,
              "#31688e"
             ],
             [
              0.4444444444444444,
              "#26828e"
             ],
             [
              0.5555555555555556,
              "#1f9e89"
             ],
             [
              0.6666666666666666,
              "#35b779"
             ],
             [
              0.7777777777777778,
              "#6ece58"
             ],
             [
              0.8888888888888888,
              "#b5de2b"
             ],
             [
              1,
              "#fde725"
             ]
            ],
            "type": "contour"
           }
          ],
          "contourcarpet": [
           {
            "colorbar": {
             "outlinewidth": 1,
             "tickcolor": "rgb(36,36,36)",
             "ticks": "outside"
            },
            "type": "contourcarpet"
           }
          ],
          "heatmap": [
           {
            "colorbar": {
             "outlinewidth": 1,
             "tickcolor": "rgb(36,36,36)",
             "ticks": "outside"
            },
            "colorscale": [
             [
              0,
              "#440154"
             ],
             [
              0.1111111111111111,
              "#482878"
             ],
             [
              0.2222222222222222,
              "#3e4989"
             ],
             [
              0.3333333333333333,
              "#31688e"
             ],
             [
              0.4444444444444444,
              "#26828e"
             ],
             [
              0.5555555555555556,
              "#1f9e89"
             ],
             [
              0.6666666666666666,
              "#35b779"
             ],
             [
              0.7777777777777778,
              "#6ece58"
             ],
             [
              0.8888888888888888,
              "#b5de2b"
             ],
             [
              1,
              "#fde725"
             ]
            ],
            "type": "heatmap"
           }
          ],
          "heatmapgl": [
           {
            "colorbar": {
             "outlinewidth": 1,
             "tickcolor": "rgb(36,36,36)",
             "ticks": "outside"
            },
            "colorscale": [
             [
              0,
              "#440154"
             ],
             [
              0.1111111111111111,
              "#482878"
             ],
             [
              0.2222222222222222,
              "#3e4989"
             ],
             [
              0.3333333333333333,
              "#31688e"
             ],
             [
              0.4444444444444444,
              "#26828e"
             ],
             [
              0.5555555555555556,
              "#1f9e89"
             ],
             [
              0.6666666666666666,
              "#35b779"
             ],
             [
              0.7777777777777778,
              "#6ece58"
             ],
             [
              0.8888888888888888,
              "#b5de2b"
             ],
             [
              1,
              "#fde725"
             ]
            ],
            "type": "heatmapgl"
           }
          ],
          "histogram": [
           {
            "marker": {
             "line": {
              "color": "white",
              "width": 0.6
             }
            },
            "type": "histogram"
           }
          ],
          "histogram2d": [
           {
            "colorbar": {
             "outlinewidth": 1,
             "tickcolor": "rgb(36,36,36)",
             "ticks": "outside"
            },
            "colorscale": [
             [
              0,
              "#440154"
             ],
             [
              0.1111111111111111,
              "#482878"
             ],
             [
              0.2222222222222222,
              "#3e4989"
             ],
             [
              0.3333333333333333,
              "#31688e"
             ],
             [
              0.4444444444444444,
              "#26828e"
             ],
             [
              0.5555555555555556,
              "#1f9e89"
             ],
             [
              0.6666666666666666,
              "#35b779"
             ],
             [
              0.7777777777777778,
              "#6ece58"
             ],
             [
              0.8888888888888888,
              "#b5de2b"
             ],
             [
              1,
              "#fde725"
             ]
            ],
            "type": "histogram2d"
           }
          ],
          "histogram2dcontour": [
           {
            "colorbar": {
             "outlinewidth": 1,
             "tickcolor": "rgb(36,36,36)",
             "ticks": "outside"
            },
            "colorscale": [
             [
              0,
              "#440154"
             ],
             [
              0.1111111111111111,
              "#482878"
             ],
             [
              0.2222222222222222,
              "#3e4989"
             ],
             [
              0.3333333333333333,
              "#31688e"
             ],
             [
              0.4444444444444444,
              "#26828e"
             ],
             [
              0.5555555555555556,
              "#1f9e89"
             ],
             [
              0.6666666666666666,
              "#35b779"
             ],
             [
              0.7777777777777778,
              "#6ece58"
             ],
             [
              0.8888888888888888,
              "#b5de2b"
             ],
             [
              1,
              "#fde725"
             ]
            ],
            "type": "histogram2dcontour"
           }
          ],
          "mesh3d": [
           {
            "colorbar": {
             "outlinewidth": 1,
             "tickcolor": "rgb(36,36,36)",
             "ticks": "outside"
            },
            "type": "mesh3d"
           }
          ],
          "parcoords": [
           {
            "line": {
             "colorbar": {
              "outlinewidth": 1,
              "tickcolor": "rgb(36,36,36)",
              "ticks": "outside"
             }
            },
            "type": "parcoords"
           }
          ],
          "pie": [
           {
            "automargin": true,
            "type": "pie"
           }
          ],
          "scatter": [
           {
            "fillpattern": {
             "fillmode": "overlay",
             "size": 10,
             "solidity": 0.2
            },
            "type": "scatter"
           }
          ],
          "scatter3d": [
           {
            "line": {
             "colorbar": {
              "outlinewidth": 1,
              "tickcolor": "rgb(36,36,36)",
              "ticks": "outside"
             }
            },
            "marker": {
             "colorbar": {
              "outlinewidth": 1,
              "tickcolor": "rgb(36,36,36)",
              "ticks": "outside"
             }
            },
            "type": "scatter3d"
           }
          ],
          "scattercarpet": [
           {
            "marker": {
             "colorbar": {
              "outlinewidth": 1,
              "tickcolor": "rgb(36,36,36)",
              "ticks": "outside"
             }
            },
            "type": "scattercarpet"
           }
          ],
          "scattergeo": [
           {
            "marker": {
             "colorbar": {
              "outlinewidth": 1,
              "tickcolor": "rgb(36,36,36)",
              "ticks": "outside"
             }
            },
            "type": "scattergeo"
           }
          ],
          "scattergl": [
           {
            "marker": {
             "colorbar": {
              "outlinewidth": 1,
              "tickcolor": "rgb(36,36,36)",
              "ticks": "outside"
             }
            },
            "type": "scattergl"
           }
          ],
          "scattermapbox": [
           {
            "marker": {
             "colorbar": {
              "outlinewidth": 1,
              "tickcolor": "rgb(36,36,36)",
              "ticks": "outside"
             }
            },
            "type": "scattermapbox"
           }
          ],
          "scatterpolar": [
           {
            "marker": {
             "colorbar": {
              "outlinewidth": 1,
              "tickcolor": "rgb(36,36,36)",
              "ticks": "outside"
             }
            },
            "type": "scatterpolar"
           }
          ],
          "scatterpolargl": [
           {
            "marker": {
             "colorbar": {
              "outlinewidth": 1,
              "tickcolor": "rgb(36,36,36)",
              "ticks": "outside"
             }
            },
            "type": "scatterpolargl"
           }
          ],
          "scatterternary": [
           {
            "marker": {
             "colorbar": {
              "outlinewidth": 1,
              "tickcolor": "rgb(36,36,36)",
              "ticks": "outside"
             }
            },
            "type": "scatterternary"
           }
          ],
          "surface": [
           {
            "colorbar": {
             "outlinewidth": 1,
             "tickcolor": "rgb(36,36,36)",
             "ticks": "outside"
            },
            "colorscale": [
             [
              0,
              "#440154"
             ],
             [
              0.1111111111111111,
              "#482878"
             ],
             [
              0.2222222222222222,
              "#3e4989"
             ],
             [
              0.3333333333333333,
              "#31688e"
             ],
             [
              0.4444444444444444,
              "#26828e"
             ],
             [
              0.5555555555555556,
              "#1f9e89"
             ],
             [
              0.6666666666666666,
              "#35b779"
             ],
             [
              0.7777777777777778,
              "#6ece58"
             ],
             [
              0.8888888888888888,
              "#b5de2b"
             ],
             [
              1,
              "#fde725"
             ]
            ],
            "type": "surface"
           }
          ],
          "table": [
           {
            "cells": {
             "fill": {
              "color": "rgb(237,237,237)"
             },
             "line": {
              "color": "white"
             }
            },
            "header": {
             "fill": {
              "color": "rgb(217,217,217)"
             },
             "line": {
              "color": "white"
             }
            },
            "type": "table"
           }
          ]
         },
         "layout": {
          "annotationdefaults": {
           "arrowhead": 0,
           "arrowwidth": 1
          },
          "autotypenumbers": "strict",
          "coloraxis": {
           "colorbar": {
            "outlinewidth": 1,
            "tickcolor": "rgb(36,36,36)",
            "ticks": "outside"
           }
          },
          "colorscale": {
           "diverging": [
            [
             0,
             "rgb(103,0,31)"
            ],
            [
             0.1,
             "rgb(178,24,43)"
            ],
            [
             0.2,
             "rgb(214,96,77)"
            ],
            [
             0.3,
             "rgb(244,165,130)"
            ],
            [
             0.4,
             "rgb(253,219,199)"
            ],
            [
             0.5,
             "rgb(247,247,247)"
            ],
            [
             0.6,
             "rgb(209,229,240)"
            ],
            [
             0.7,
             "rgb(146,197,222)"
            ],
            [
             0.8,
             "rgb(67,147,195)"
            ],
            [
             0.9,
             "rgb(33,102,172)"
            ],
            [
             1,
             "rgb(5,48,97)"
            ]
           ],
           "sequential": [
            [
             0,
             "#440154"
            ],
            [
             0.1111111111111111,
             "#482878"
            ],
            [
             0.2222222222222222,
             "#3e4989"
            ],
            [
             0.3333333333333333,
             "#31688e"
            ],
            [
             0.4444444444444444,
             "#26828e"
            ],
            [
             0.5555555555555556,
             "#1f9e89"
            ],
            [
             0.6666666666666666,
             "#35b779"
            ],
            [
             0.7777777777777778,
             "#6ece58"
            ],
            [
             0.8888888888888888,
             "#b5de2b"
            ],
            [
             1,
             "#fde725"
            ]
           ],
           "sequentialminus": [
            [
             0,
             "#440154"
            ],
            [
             0.1111111111111111,
             "#482878"
            ],
            [
             0.2222222222222222,
             "#3e4989"
            ],
            [
             0.3333333333333333,
             "#31688e"
            ],
            [
             0.4444444444444444,
             "#26828e"
            ],
            [
             0.5555555555555556,
             "#1f9e89"
            ],
            [
             0.6666666666666666,
             "#35b779"
            ],
            [
             0.7777777777777778,
             "#6ece58"
            ],
            [
             0.8888888888888888,
             "#b5de2b"
            ],
            [
             1,
             "#fde725"
            ]
           ]
          },
          "colorway": [
           "#1F77B4",
           "#FF7F0E",
           "#2CA02C",
           "#D62728",
           "#9467BD",
           "#8C564B",
           "#E377C2",
           "#7F7F7F",
           "#BCBD22",
           "#17BECF"
          ],
          "font": {
           "color": "rgb(36,36,36)"
          },
          "geo": {
           "bgcolor": "white",
           "lakecolor": "white",
           "landcolor": "white",
           "showlakes": true,
           "showland": true,
           "subunitcolor": "white"
          },
          "hoverlabel": {
           "align": "left"
          },
          "hovermode": "closest",
          "mapbox": {
           "style": "light"
          },
          "paper_bgcolor": "white",
          "plot_bgcolor": "white",
          "polar": {
           "angularaxis": {
            "gridcolor": "rgb(232,232,232)",
            "linecolor": "rgb(36,36,36)",
            "showgrid": false,
            "showline": true,
            "ticks": "outside"
           },
           "bgcolor": "white",
           "radialaxis": {
            "gridcolor": "rgb(232,232,232)",
            "linecolor": "rgb(36,36,36)",
            "showgrid": false,
            "showline": true,
            "ticks": "outside"
           }
          },
          "scene": {
           "xaxis": {
            "backgroundcolor": "white",
            "gridcolor": "rgb(232,232,232)",
            "gridwidth": 2,
            "linecolor": "rgb(36,36,36)",
            "showbackground": true,
            "showgrid": false,
            "showline": true,
            "ticks": "outside",
            "zeroline": false,
            "zerolinecolor": "rgb(36,36,36)"
           },
           "yaxis": {
            "backgroundcolor": "white",
            "gridcolor": "rgb(232,232,232)",
            "gridwidth": 2,
            "linecolor": "rgb(36,36,36)",
            "showbackground": true,
            "showgrid": false,
            "showline": true,
            "ticks": "outside",
            "zeroline": false,
            "zerolinecolor": "rgb(36,36,36)"
           },
           "zaxis": {
            "backgroundcolor": "white",
            "gridcolor": "rgb(232,232,232)",
            "gridwidth": 2,
            "linecolor": "rgb(36,36,36)",
            "showbackground": true,
            "showgrid": false,
            "showline": true,
            "ticks": "outside",
            "zeroline": false,
            "zerolinecolor": "rgb(36,36,36)"
           }
          },
          "shapedefaults": {
           "fillcolor": "black",
           "line": {
            "width": 0
           },
           "opacity": 0.3
          },
          "ternary": {
           "aaxis": {
            "gridcolor": "rgb(232,232,232)",
            "linecolor": "rgb(36,36,36)",
            "showgrid": false,
            "showline": true,
            "ticks": "outside"
           },
           "baxis": {
            "gridcolor": "rgb(232,232,232)",
            "linecolor": "rgb(36,36,36)",
            "showgrid": false,
            "showline": true,
            "ticks": "outside"
           },
           "bgcolor": "white",
           "caxis": {
            "gridcolor": "rgb(232,232,232)",
            "linecolor": "rgb(36,36,36)",
            "showgrid": false,
            "showline": true,
            "ticks": "outside"
           }
          },
          "title": {
           "x": 0.05
          },
          "xaxis": {
           "automargin": true,
           "gridcolor": "rgb(232,232,232)",
           "linecolor": "rgb(36,36,36)",
           "showgrid": false,
           "showline": true,
           "ticks": "outside",
           "title": {
            "standoff": 15
           },
           "zeroline": false,
           "zerolinecolor": "rgb(36,36,36)"
          },
          "yaxis": {
           "automargin": true,
           "gridcolor": "rgb(232,232,232)",
           "linecolor": "rgb(36,36,36)",
           "showgrid": false,
           "showline": true,
           "ticks": "outside",
           "title": {
            "standoff": 15
           },
           "zeroline": false,
           "zerolinecolor": "rgb(36,36,36)"
          }
         }
        },
        "title": {},
        "width": 800,
        "xaxis": {
         "anchor": "y",
         "domain": [
          0,
          1
         ],
         "showline": false,
         "showticklabels": false,
         "ticks": "",
         "title": {
          "text": ""
         },
         "zeroline": false
        },
        "yaxis": {
         "anchor": "x",
         "domain": [
          0,
          1
         ],
         "showline": false,
         "showticklabels": false,
         "ticks": "",
         "title": {
          "text": ""
         },
         "zeroline": false
        }
       }
      }
     },
     "metadata": {},
     "output_type": "display_data"
    }
   ],
   "source": [
    "plot_df = seats_price_df.copy()\n",
    "\n",
    "plot_df[\"Size\"] = 1  # Dummy constant size for scatter plot\n",
    "plot_df[\"Price_print\"] = plot_df[\"Price\"]\n",
    "plot_df[\"Price_print\"] = plot_df[\"Price_print\"].apply(lambda x: f\"£{x:.0f}\")\n",
    "plot_df.loc[plot_df[\"Price\"].isnull(), \"Price_print\"] = \"Not available\"\n",
    "\n",
    "fig = px.scatter(\n",
    "    plot_df,\n",
    "    x=\"XPosition\",\n",
    "    y=\"YPosition\",\n",
    "    color=\"Price\",\n",
    "    size=\"Size\",\n",
    "    custom_data=[\"Price_print\", \"ZoneName\", \"SeatRow\", \"SeatNumber\"],\n",
    "    size_max=8.5,\n",
    "    color_continuous_scale=[\n",
    "        [0.0, \"rgb(136,204,39)\"],\n",
    "        [0.5, \"rgb(253,149,45)\"],\n",
    "        [0.77, \"rgb(69,104,255)\"],\n",
    "        [0.89, \"rgb(47,248,254)\"],\n",
    "        [0.96, \"rgb(251,32,203)\"],\n",
    "        [1.0, \"rgb(250,53,38)\"],\n",
    "    ],\n",
    "    template=\"simple_white\",\n",
    ")\n",
    "fig.update_xaxes(\n",
    "    showticklabels=False, showline=False, zeroline=False, ticks=\"\", title=\"\"\n",
    ")\n",
    "fig.update_yaxes(\n",
    "    showticklabels=False, showline=False, zeroline=False, ticks=\"\", title=\"\"\n",
    ")\n",
    "fig.update_layout(\n",
    "    autosize=False,\n",
    "    width=800,\n",
    "    height=900,\n",
    "    coloraxis=dict(\n",
    "        colorbar=dict(\n",
    "            tickmode=\"linear\", dtick=25, ticks=\"inside\", len=0.5, thickness=15\n",
    "        )\n",
    "    ),\n",
    "    margin=dict(l=0, r=0, b=0, t=0, pad=0),\n",
    "    # coloraxis_showscale=False,\n",
    ")\n",
    "fig.update_coloraxes(\n",
    "    colorbar=dict(\n",
    "        tickmode=\"linear\", dtick=25, ticks=\"inside\", orientation=\"h\", x=0.46, y=0.94\n",
    "    )\n",
    ")\n",
    "fig.add_shape(\n",
    "    type=\"rect\",\n",
    "    x0=58.5,\n",
    "    y0=-8,\n",
    "    x1=22.5,\n",
    "    y1=-3,\n",
    "    line=dict(color=\"black\", width=2),\n",
    "    fillcolor=\"white\",\n",
    "    opacity=1,\n",
    ")\n",
    "# Add text for stage\n",
    "fig.add_annotation(\n",
    "    x=40.5,\n",
    "    y=-5.5,\n",
    "    text=\"Stage\",\n",
    "    showarrow=False,\n",
    "    font=dict(size=20, color=\"black\"),\n",
    ")\n",
    "fig.update_layout(\n",
    "    hoverlabel=dict(\n",
    "        font_size=16,\n",
    "        font_family=\"Gotham\",\n",
    "        font_color=\"White\",\n",
    "        bgcolor=\"#C7102E\",\n",
    "    ),\n",
    "    legend=dict(\n",
    "        title=\"Title\",\n",
    "        title_font=dict(size=15, family=\"Gotham\"),\n",
    "        font=dict(size=13, family=\"Gotham\"),\n",
    "    ),\n",
    "    title=None,\n",
    ")\n",
    "fig.layout.font.family = \"Gotham\"\n",
    "fig.update_traces(marker=dict(line=dict(width=0.5, color=\"DarkSlateGrey\")))\n",
    "fig.update_traces(\n",
    "    hovertemplate=\"<br>\".join(\n",
    "        [\n",
    "            \"%{customdata[0]}\",\n",
    "            \"%{customdata[1]}\",\n",
    "            \"Seat %{customdata[2]}%{customdata[3]}\",\n",
    "        ],\n",
    "    ),\n",
    ")\n",
    "# Set the legend horizontally at the bottom\n",
    "fig.update_layout()\n",
    "fig.show()"
   ]
  },
  {
   "cell_type": "code",
   "execution_count": 31,
   "metadata": {},
   "outputs": [],
   "source": [
    "# Save the figure as a static image\n",
    "fig.write_image(\"output/ROH_hall.png\", scale=3)"
   ]
  }
 ],
 "metadata": {
  "kernelspec": {
   "display_name": "Python 3",
   "language": "python",
   "name": "python3"
  },
  "language_info": {
   "codemirror_mode": {
    "name": "ipython",
    "version": 3
   },
   "file_extension": ".py",
   "mimetype": "text/x-python",
   "name": "python",
   "nbconvert_exporter": "python",
   "pygments_lexer": "ipython3",
   "version": "3.10.13"
  }
 },
 "nbformat": 4,
 "nbformat_minor": 2
}
