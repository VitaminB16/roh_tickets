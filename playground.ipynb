{
 "cells": [
  {
   "cell_type": "code",
   "execution_count": 2,
   "metadata": {},
   "outputs": [],
   "source": [
    "import os\n",
    "\n",
    "from set_secrets import set_secrets\n",
    "from python_roh.src.src import get_query_dict, query_all_data\n",
    "from python_roh.src.config import *\n",
    "\n",
    "if \"src_secret.py\" in os.listdir(\"python_roh/src\"):\n",
    "    from python_roh.src.src_secret import secret_function"
   ]
  },
  {
   "cell_type": "code",
   "execution_count": 3,
   "metadata": {},
   "outputs": [],
   "source": [
    "performance_id, mode_of_sale_id, constituent_id, source_id = (\n",
    "    os.environ[\"PERFORMANCE_ID\"],\n",
    "    os.environ[\"MODE_OF_SALE_ID\"],\n",
    "    os.environ[\"CONSTITUENT_ID\"],\n",
    "    os.environ[\"SOURCE_ID\"],\n",
    ")"
   ]
  },
  {
   "cell_type": "code",
   "execution_count": 4,
   "metadata": {},
   "outputs": [
    {
     "name": "stdout",
     "output_type": "stream",
     "text": [
      "Queried data keys: dict_keys(['seats', 'prices', 'zone_ids', 'price_types'])\n"
     ]
    }
   ],
   "source": [
    "query_dict = get_query_dict(\n",
    "    performance_id=performance_id,\n",
    "    constituent_id=constituent_id,\n",
    "    mode_of_sale_id=mode_of_sale_id,\n",
    "    source_id=source_id,\n",
    ")\n",
    "all_data = query_all_data(query_dict)"
   ]
  },
  {
   "cell_type": "code",
   "execution_count": null,
   "metadata": {},
   "outputs": [],
   "source": [
    "if \"secret_function\" in globals():\n",
    "    secret_function(query_dict)"
   ]
  },
  {
   "cell_type": "code",
   "execution_count": 5,
   "metadata": {},
   "outputs": [],
   "source": [
    "seats_price_df, prices_df, zones_df, price_types_df = (\n",
    "    all_data[\"seats_price\"],\n",
    "    all_data[\"prices\"],\n",
    "    all_data[\"zones\"],\n",
    "    all_data[\"price_types\"],\n",
    ")"
   ]
  },
  {
   "cell_type": "code",
   "execution_count": null,
   "metadata": {},
   "outputs": [],
   "source": [
    "import plotly.express as px\n",
    "\n",
    "seats_price_df[\"Size\"] = 1  # Dummy constant size for scatter plot\n",
    "\n",
    "fig = px.scatter(\n",
    "    seats_price_df,\n",
    "    x=\"XPosition\",\n",
    "    y=\"YPosition\",\n",
    "    color=\"Price\",\n",
    "    size=\"Size\",\n",
    "    size_max=8.5,\n",
    "    color_continuous_scale=[\n",
    "        [0.0, \"rgb(136,204,39)\"],\n",
    "        [0.5, \"rgb(253,149,45)\"],\n",
    "        [0.77, \"rgb(69,104,255)\"],\n",
    "        [0.89, \"rgb(47,248,254)\"],\n",
    "        [0.96, \"rgb(251,32,203)\"],\n",
    "        [1.0, \"rgb(250,53,38)\"],\n",
    "    ],\n",
    "    hover_data=[\"Price\", \"ZoneName\", \"SeatRow\", \"SeatNumber\"],\n",
    "    template=\"simple_white\",\n",
    ")\n",
    "fig.update_xaxes(\n",
    "    showticklabels=False, showline=False, zeroline=False, ticks=\"\", title=\"\"\n",
    ")\n",
    "fig.update_yaxes(\n",
    "    showticklabels=False, showline=False, zeroline=False, ticks=\"\", title=\"\"\n",
    ")\n",
    "fig.update_layout(\n",
    "    autosize=False,\n",
    "    width=800,\n",
    "    height=900,\n",
    "    coloraxis=dict(\n",
    "        colorbar=dict(\n",
    "            tickmode=\"linear\", dtick=25, ticks=\"inside\", len=0.5, thickness=15\n",
    "        )\n",
    "    ),\n",
    "    margin=dict(l=0, r=0, b=0, t=0, pad=0),\n",
    "    # coloraxis_showscale=False,\n",
    ")\n",
    "fig.update_coloraxes(\n",
    "    colorbar=dict(\n",
    "        tickmode=\"linear\", dtick=25, ticks=\"inside\", orientation=\"h\", x=0.46, y=0.94\n",
    "    )\n",
    ")\n",
    "fig.add_shape(\n",
    "    type=\"rect\",\n",
    "    x0=58.5,\n",
    "    y0=-8,\n",
    "    x1=22.5,\n",
    "    y1=-3,\n",
    "    line=dict(color=\"black\", width=2),\n",
    "    fillcolor=\"white\",\n",
    "    opacity=1,\n",
    ")\n",
    "# Add text for stage\n",
    "fig.add_annotation(\n",
    "    x=40.5,\n",
    "    y=-5.5,\n",
    "    text=\"Stage\",\n",
    "    showarrow=False,\n",
    "    font=dict(size=20, color=\"black\"),\n",
    ")\n",
    "fig.update_traces(marker=dict(line=dict(width=0.5, color=\"DarkSlateGrey\")))\n",
    "# Set the legend horizontally at the bottom\n",
    "fig.update_layout()\n",
    "fig.show()"
   ]
  },
  {
   "cell_type": "code",
   "execution_count": 31,
   "metadata": {},
   "outputs": [],
   "source": [
    "# Save the figure as a static image\n",
    "fig.write_image(\"ROH_hall.png\", scale=3)"
   ]
  }
 ],
 "metadata": {
  "kernelspec": {
   "display_name": "Python 3",
   "language": "python",
   "name": "python3"
  },
  "language_info": {
   "codemirror_mode": {
    "name": "ipython",
    "version": 3
   },
   "file_extension": ".py",
   "mimetype": "text/x-python",
   "name": "python",
   "nbconvert_exporter": "python",
   "pygments_lexer": "ipython3",
   "version": "3.10.13"
  }
 },
 "nbformat": 4,
 "nbformat_minor": 2
}
