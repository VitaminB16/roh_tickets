{
 "cells": [
  {
   "cell_type": "code",
   "execution_count": 1,
   "metadata": {},
   "outputs": [],
   "source": [
    "import os\n",
    "\n",
    "from set_secrets import set_secrets\n",
    "from src.src import get_query_dict, query_all_data\n",
    "\n",
    "if \"src_secret.py\" in os.listdir(\"src\"):\n",
    "    from src.src_secret import secret_function"
   ]
  },
  {
   "cell_type": "code",
   "execution_count": 2,
   "metadata": {},
   "outputs": [],
   "source": [
    "performance_id, mode_of_sale_id, constituent_id, source_id = (\n",
    "    os.environ[\"PERFORMANCE_ID\"],\n",
    "    os.environ[\"MODE_OF_SALE_ID\"],\n",
    "    os.environ[\"CONSTITUENT_ID\"],\n",
    "    os.environ[\"SOURCE_ID\"],\n",
    ")"
   ]
  },
  {
   "cell_type": "code",
   "execution_count": 3,
   "metadata": {},
   "outputs": [
    {
     "name": "stdout",
     "output_type": "stream",
     "text": [
      "Queried data keys: dict_keys(['seats', 'prices', 'zone_ids', 'price_types'])\n"
     ]
    }
   ],
   "source": [
    "query_dict = get_query_dict(\n",
    "    performance_id=performance_id,\n",
    "    constituent_id=constituent_id,\n",
    "    mode_of_sale_id=mode_of_sale_id,\n",
    "    source_id=source_id,\n",
    ")\n",
    "all_data = query_all_data(query_dict)"
   ]
  },
  {
   "cell_type": "code",
   "execution_count": 4,
   "metadata": {},
   "outputs": [],
   "source": [
    "# if \"secret_function\" in globals():\n",
    "#     secret_function(query_dict)"
   ]
  },
  {
   "cell_type": "code",
   "execution_count": 5,
   "metadata": {},
   "outputs": [],
   "source": [
    "seats_price_df, prices_df, zones_df, price_types_df = (\n",
    "    all_data[\"seats_price\"],\n",
    "    all_data[\"prices\"],\n",
    "    all_data[\"zones\"],\n",
    "    all_data[\"price_types\"],\n",
    ")"
   ]
  },
  {
   "cell_type": "code",
   "execution_count": 6,
   "metadata": {},
   "outputs": [
    {
     "data": {
      "application/vnd.plotly.v1+json": {
       "config": {
        "plotlyServerURL": "https://plot.ly"
       },
       "data": [
        {
         "customdata": [
          [
           196,
           "Orchestra Stalls",
           "W",
           "18"
          ],
          [
           196,
           "Orchestra Stalls",
           "W",
           "17"
          ],
          [
           196,
           "Orchestra Stalls",
           "W",
           "16"
          ],
          [
           196,
           "Orchestra Stalls",
           "W",
           "15"
          ],
          [
           196,
           "Orchestra Stalls",
           "W",
           "14"
          ],
          [
           196,
           "Orchestra Stalls",
           "W",
           "13"
          ],
          [
           196,
           "Orchestra Stalls",
           "V",
           "22"
          ],
          [
           196,
           "Orchestra Stalls",
           "V",
           "21"
          ],
          [
           196,
           "Orchestra Stalls",
           "V",
           "20"
          ],
          [
           196,
           "Orchestra Stalls",
           "V",
           "19"
          ],
          [
           196,
           "Orchestra Stalls",
           "V",
           "18"
          ],
          [
           196,
           "Orchestra Stalls",
           "V",
           "17"
          ],
          [
           196,
           "Orchestra Stalls",
           "V",
           "16"
          ],
          [
           196,
           "Orchestra Stalls",
           "V",
           "15"
          ],
          [
           196,
           "Orchestra Stalls",
           "V",
           "14"
          ],
          [
           196,
           "Orchestra Stalls",
           "V",
           "13"
          ],
          [
           196,
           "Orchestra Stalls",
           "V",
           "12"
          ],
          [
           196,
           "Orchestra Stalls",
           "V",
           "11"
          ],
          [
           196,
           "Orchestra Stalls",
           "V",
           "10"
          ],
          [
           196,
           "Orchestra Stalls",
           "U",
           "26"
          ],
          [
           196,
           "Orchestra Stalls",
           "U",
           "25"
          ],
          [
           196,
           "Orchestra Stalls",
           "U",
           "24"
          ],
          [
           196,
           "Orchestra Stalls",
           "U",
           "23"
          ],
          [
           196,
           "Orchestra Stalls",
           "U",
           "22"
          ],
          [
           196,
           "Orchestra Stalls",
           "U",
           "21"
          ],
          [
           196,
           "Orchestra Stalls",
           "U",
           "20"
          ],
          [
           196,
           "Orchestra Stalls",
           "U",
           "19"
          ],
          [
           196,
           "Orchestra Stalls",
           "U",
           "18"
          ],
          [
           196,
           "Orchestra Stalls",
           "U",
           "17"
          ],
          [
           196,
           "Orchestra Stalls",
           "U",
           "16"
          ],
          [
           196,
           "Orchestra Stalls",
           "U",
           "15"
          ],
          [
           196,
           "Orchestra Stalls",
           "U",
           "14"
          ],
          [
           196,
           "Orchestra Stalls",
           "U",
           "13"
          ],
          [
           196,
           "Orchestra Stalls",
           "U",
           "12"
          ],
          [
           196,
           "Orchestra Stalls",
           "U",
           "11"
          ],
          [
           196,
           "Orchestra Stalls",
           "U",
           "10"
          ],
          [
           196,
           "Orchestra Stalls",
           "U",
           "9"
          ],
          [
           196,
           "Orchestra Stalls",
           "U",
           "8"
          ],
          [
           196,
           "Orchestra Stalls",
           "U",
           "7"
          ],
          [
           196,
           "Orchestra Stalls",
           "U",
           "6"
          ],
          [
           196,
           "Orchestra Stalls",
           "U",
           "5"
          ],
          [
           159,
           "Orchestra Stalls",
           "T",
           "28"
          ],
          [
           221,
           "Orchestra Stalls",
           "T",
           "27"
          ],
          [
           221,
           "Orchestra Stalls",
           "T",
           "26"
          ],
          [
           221,
           "Orchestra Stalls",
           "T",
           "25"
          ],
          [
           221,
           "Orchestra Stalls",
           "T",
           "24"
          ],
          [
           221,
           "Orchestra Stalls",
           "T",
           "23"
          ],
          [
           221,
           "Orchestra Stalls",
           "T",
           "22"
          ],
          [
           221,
           "Orchestra Stalls",
           "T",
           "21"
          ],
          [
           221,
           "Orchestra Stalls",
           "T",
           "20"
          ],
          [
           221,
           "Orchestra Stalls",
           "T",
           "19"
          ],
          [
           221,
           "Orchestra Stalls",
           "T",
           "18"
          ],
          [
           221,
           "Orchestra Stalls",
           "T",
           "17"
          ],
          [
           221,
           "Orchestra Stalls",
           "T",
           "16"
          ],
          [
           221,
           "Orchestra Stalls",
           "T",
           "15"
          ],
          [
           221,
           "Orchestra Stalls",
           "T",
           "14"
          ],
          [
           221,
           "Orchestra Stalls",
           "T",
           "13"
          ],
          [
           221,
           "Orchestra Stalls",
           "T",
           "12"
          ],
          [
           221,
           "Orchestra Stalls",
           "T",
           "11"
          ],
          [
           221,
           "Orchestra Stalls",
           "T",
           "10"
          ],
          [
           221,
           "Orchestra Stalls",
           "T",
           "9"
          ],
          [
           221,
           "Orchestra Stalls",
           "T",
           "8"
          ],
          [
           221,
           "Orchestra Stalls",
           "T",
           "7"
          ],
          [
           221,
           "Orchestra Stalls",
           "T",
           "6"
          ],
          [
           221,
           "Orchestra Stalls",
           "T",
           "5"
          ],
          [
           159,
           "Orchestra Stalls",
           "T",
           "4"
          ],
          [
           159,
           "Orchestra Stalls",
           "S",
           "28"
          ],
          [
           159,
           "Orchestra Stalls",
           "S",
           "27"
          ],
          [
           221,
           "Orchestra Stalls",
           "S",
           "26"
          ],
          [
           221,
           "Orchestra Stalls",
           "S",
           "25"
          ],
          [
           221,
           "Orchestra Stalls",
           "S",
           "24"
          ],
          [
           221,
           "Orchestra Stalls",
           "S",
           "23"
          ],
          [
           221,
           "Orchestra Stalls",
           "S",
           "22"
          ],
          [
           221,
           "Orchestra Stalls",
           "S",
           "21"
          ],
          [
           221,
           "Orchestra Stalls",
           "S",
           "20"
          ],
          [
           221,
           "Orchestra Stalls",
           "S",
           "19"
          ],
          [
           221,
           "Orchestra Stalls",
           "S",
           "14"
          ],
          [
           221,
           "Orchestra Stalls",
           "S",
           "13"
          ],
          [
           221,
           "Orchestra Stalls",
           "S",
           "12"
          ],
          [
           221,
           "Orchestra Stalls",
           "S",
           "11"
          ],
          [
           221,
           "Orchestra Stalls",
           "S",
           "10"
          ],
          [
           221,
           "Orchestra Stalls",
           "S",
           "9"
          ],
          [
           221,
           "Orchestra Stalls",
           "S",
           "8"
          ],
          [
           221,
           "Orchestra Stalls",
           "S",
           "7"
          ],
          [
           221,
           "Orchestra Stalls",
           "S",
           "6"
          ],
          [
           221,
           "Orchestra Stalls",
           "S",
           "5"
          ],
          [
           159,
           "Orchestra Stalls",
           "S",
           "4"
          ],
          [
           159,
           "Orchestra Stalls",
           "S",
           "3"
          ],
          [
           159,
           "Orchestra Stalls",
           "R",
           "30"
          ],
          [
           159,
           "Orchestra Stalls",
           "R",
           "29"
          ],
          [
           159,
           "Orchestra Stalls",
           "R",
           "28"
          ],
          [
           221,
           "Orchestra Stalls",
           "R",
           "27"
          ],
          [
           221,
           "Orchestra Stalls",
           "R",
           "26"
          ],
          [
           236,
           "Orchestra Stalls",
           "R",
           "25"
          ],
          [
           236,
           "Orchestra Stalls",
           "R",
           "24"
          ],
          [
           236,
           "Orchestra Stalls",
           "R",
           "23"
          ],
          [
           236,
           "Orchestra Stalls",
           "R",
           "22"
          ],
          [
           236,
           "Orchestra Stalls",
           "R",
           "21"
          ],
          [
           236,
           "Orchestra Stalls",
           "R",
           "20"
          ],
          [
           236,
           "Orchestra Stalls",
           "R",
           "19"
          ],
          [
           236,
           "Orchestra Stalls",
           "R",
           "16"
          ],
          [
           236,
           "Orchestra Stalls",
           "R",
           "15"
          ],
          [
           236,
           "Orchestra Stalls",
           "R",
           "12"
          ],
          [
           236,
           "Orchestra Stalls",
           "R",
           "11"
          ],
          [
           236,
           "Orchestra Stalls",
           "R",
           "8"
          ],
          [
           236,
           "Orchestra Stalls",
           "R",
           "7"
          ],
          [
           221,
           "Orchestra Stalls",
           "R",
           "6"
          ],
          [
           221,
           "Orchestra Stalls",
           "R",
           "5"
          ],
          [
           159,
           "Orchestra Stalls",
           "R",
           "4"
          ],
          [
           159,
           "Orchestra Stalls",
           "R",
           "3"
          ],
          [
           159,
           "Orchestra Stalls",
           "R",
           "2"
          ],
          [
           159,
           "Orchestra Stalls",
           "P",
           "31"
          ],
          [
           159,
           "Orchestra Stalls",
           "P",
           "30"
          ],
          [
           159,
           "Orchestra Stalls",
           "P",
           "29"
          ],
          [
           221,
           "Orchestra Stalls",
           "P",
           "28"
          ],
          [
           221,
           "Orchestra Stalls",
           "P",
           "27"
          ],
          [
           236,
           "Orchestra Stalls",
           "P",
           "26"
          ],
          [
           236,
           "Orchestra Stalls",
           "P",
           "25"
          ],
          [
           236,
           "Orchestra Stalls",
           "P",
           "24"
          ],
          [
           236,
           "Orchestra Stalls",
           "P",
           "23"
          ],
          [
           236,
           "Orchestra Stalls",
           "P",
           "22"
          ],
          [
           236,
           "Orchestra Stalls",
           "P",
           "21"
          ],
          [
           236,
           "Orchestra Stalls",
           "P",
           "20"
          ],
          [
           236,
           "Orchestra Stalls",
           "P",
           "19"
          ],
          [
           236,
           "Orchestra Stalls",
           "P",
           "18"
          ],
          [
           236,
           "Orchestra Stalls",
           "P",
           "17"
          ],
          [
           236,
           "Orchestra Stalls",
           "P",
           "16"
          ],
          [
           236,
           "Orchestra Stalls",
           "P",
           "15"
          ],
          [
           236,
           "Orchestra Stalls",
           "P",
           "14"
          ],
          [
           236,
           "Orchestra Stalls",
           "P",
           "13"
          ],
          [
           236,
           "Orchestra Stalls",
           "P",
           "12"
          ],
          [
           236,
           "Orchestra Stalls",
           "P",
           "11"
          ],
          [
           236,
           "Orchestra Stalls",
           "P",
           "10"
          ],
          [
           236,
           "Orchestra Stalls",
           "P",
           "9"
          ],
          [
           236,
           "Orchestra Stalls",
           "P",
           "8"
          ],
          [
           236,
           "Orchestra Stalls",
           "P",
           "7"
          ],
          [
           221,
           "Orchestra Stalls",
           "P",
           "6"
          ],
          [
           221,
           "Orchestra Stalls",
           "P",
           "5"
          ],
          [
           159,
           "Orchestra Stalls",
           "P",
           "4"
          ],
          [
           159,
           "Orchestra Stalls",
           "P",
           "3"
          ],
          [
           159,
           "Orchestra Stalls",
           "P",
           "2"
          ],
          [
           159,
           "Orchestra Stalls",
           "N",
           "31"
          ],
          [
           159,
           "Orchestra Stalls",
           "N",
           "30"
          ],
          [
           221,
           "Orchestra Stalls",
           "N",
           "29"
          ],
          [
           221,
           "Orchestra Stalls",
           "N",
           "28"
          ],
          [
           236,
           "Orchestra Stalls",
           "N",
           "27"
          ],
          [
           236,
           "Orchestra Stalls",
           "N",
           "26"
          ],
          [
           245,
           "Orchestra Stalls",
           "N",
           "25"
          ],
          [
           245,
           "Orchestra Stalls",
           "N",
           "24"
          ],
          [
           245,
           "Orchestra Stalls",
           "N",
           "23"
          ],
          [
           245,
           "Orchestra Stalls",
           "N",
           "22"
          ],
          [
           245,
           "Orchestra Stalls",
           "N",
           "21"
          ],
          [
           245,
           "Orchestra Stalls",
           "N",
           "20"
          ],
          [
           245,
           "Orchestra Stalls",
           "N",
           "19"
          ],
          [
           245,
           "Orchestra Stalls",
           "N",
           "18"
          ],
          [
           245,
           "Orchestra Stalls",
           "N",
           "17"
          ],
          [
           245,
           "Orchestra Stalls",
           "N",
           "16"
          ],
          [
           245,
           "Orchestra Stalls",
           "N",
           "15"
          ],
          [
           245,
           "Orchestra Stalls",
           "N",
           "14"
          ],
          [
           245,
           "Orchestra Stalls",
           "N",
           "13"
          ],
          [
           245,
           "Orchestra Stalls",
           "N",
           "12"
          ],
          [
           245,
           "Orchestra Stalls",
           "N",
           "11"
          ],
          [
           245,
           "Orchestra Stalls",
           "N",
           "10"
          ],
          [
           245,
           "Orchestra Stalls",
           "N",
           "9"
          ],
          [
           245,
           "Orchestra Stalls",
           "N",
           "8"
          ],
          [
           245,
           "Orchestra Stalls",
           "N",
           "7"
          ],
          [
           236,
           "Orchestra Stalls",
           "N",
           "6"
          ],
          [
           236,
           "Orchestra Stalls",
           "N",
           "5"
          ],
          [
           221,
           "Orchestra Stalls",
           "N",
           "4"
          ],
          [
           221,
           "Orchestra Stalls",
           "N",
           "3"
          ],
          [
           159,
           "Orchestra Stalls",
           "N",
           "2"
          ],
          [
           159,
           "Orchestra Stalls",
           "N",
           "1"
          ],
          [
           159,
           "Orchestra Stalls",
           "M",
           "32"
          ],
          [
           159,
           "Orchestra Stalls",
           "M",
           "31"
          ],
          [
           221,
           "Orchestra Stalls",
           "M",
           "30"
          ],
          [
           221,
           "Orchestra Stalls",
           "M",
           "29"
          ],
          [
           236,
           "Orchestra Stalls",
           "M",
           "28"
          ],
          [
           236,
           "Orchestra Stalls",
           "M",
           "27"
          ],
          [
           245,
           "Orchestra Stalls",
           "M",
           "26"
          ],
          [
           245,
           "Orchestra Stalls",
           "M",
           "25"
          ],
          [
           245,
           "Orchestra Stalls",
           "M",
           "24"
          ],
          [
           245,
           "Orchestra Stalls",
           "M",
           "23"
          ],
          [
           245,
           "Orchestra Stalls",
           "M",
           "22"
          ],
          [
           245,
           "Orchestra Stalls",
           "M",
           "21"
          ],
          [
           245,
           "Orchestra Stalls",
           "M",
           "20"
          ],
          [
           245,
           "Orchestra Stalls",
           "M",
           "19"
          ],
          [
           245,
           "Orchestra Stalls",
           "M",
           "18"
          ],
          [
           245,
           "Orchestra Stalls",
           "M",
           "17"
          ],
          [
           245,
           "Orchestra Stalls",
           "M",
           "16"
          ],
          [
           245,
           "Orchestra Stalls",
           "M",
           "15"
          ],
          [
           245,
           "Orchestra Stalls",
           "M",
           "14"
          ],
          [
           245,
           "Orchestra Stalls",
           "M",
           "13"
          ],
          [
           245,
           "Orchestra Stalls",
           "M",
           "12"
          ],
          [
           245,
           "Orchestra Stalls",
           "M",
           "11"
          ],
          [
           245,
           "Orchestra Stalls",
           "M",
           "10"
          ],
          [
           245,
           "Orchestra Stalls",
           "M",
           "9"
          ],
          [
           245,
           "Orchestra Stalls",
           "M",
           "8"
          ],
          [
           245,
           "Orchestra Stalls",
           "M",
           "7"
          ],
          [
           236,
           "Orchestra Stalls",
           "M",
           "6"
          ],
          [
           236,
           "Orchestra Stalls",
           "M",
           "5"
          ],
          [
           221,
           "Orchestra Stalls",
           "M",
           "4"
          ],
          [
           221,
           "Orchestra Stalls",
           "M",
           "3"
          ],
          [
           159,
           "Orchestra Stalls",
           "M",
           "2"
          ],
          [
           159,
           "Orchestra Stalls",
           "M",
           "1"
          ],
          [
           159,
           "Orchestra Stalls",
           "L",
           "31"
          ],
          [
           159,
           "Orchestra Stalls",
           "L",
           "30"
          ],
          [
           221,
           "Orchestra Stalls",
           "L",
           "29"
          ],
          [
           221,
           "Orchestra Stalls",
           "L",
           "28"
          ],
          [
           236,
           "Orchestra Stalls",
           "L",
           "27"
          ],
          [
           236,
           "Orchestra Stalls",
           "L",
           "26"
          ],
          [
           245,
           "Orchestra Stalls",
           "L",
           "25"
          ],
          [
           245,
           "Orchestra Stalls",
           "L",
           "24"
          ],
          [
           245,
           "Orchestra Stalls",
           "L",
           "23"
          ],
          [
           245,
           "Orchestra Stalls",
           "L",
           "22"
          ],
          [
           245,
           "Orchestra Stalls",
           "L",
           "21"
          ],
          [
           245,
           "Orchestra Stalls",
           "L",
           "20"
          ],
          [
           245,
           "Orchestra Stalls",
           "L",
           "19"
          ],
          [
           245,
           "Orchestra Stalls",
           "L",
           "18"
          ],
          [
           245,
           "Orchestra Stalls",
           "L",
           "17"
          ],
          [
           245,
           "Orchestra Stalls",
           "L",
           "16"
          ],
          [
           245,
           "Orchestra Stalls",
           "L",
           "15"
          ],
          [
           245,
           "Orchestra Stalls",
           "L",
           "14"
          ],
          [
           245,
           "Orchestra Stalls",
           "L",
           "13"
          ],
          [
           245,
           "Orchestra Stalls",
           "L",
           "12"
          ],
          [
           245,
           "Orchestra Stalls",
           "L",
           "11"
          ],
          [
           245,
           "Orchestra Stalls",
           "L",
           "10"
          ],
          [
           245,
           "Orchestra Stalls",
           "L",
           "9"
          ],
          [
           245,
           "Orchestra Stalls",
           "L",
           "8"
          ],
          [
           245,
           "Orchestra Stalls",
           "L",
           "7"
          ],
          [
           236,
           "Orchestra Stalls",
           "L",
           "6"
          ],
          [
           236,
           "Orchestra Stalls",
           "L",
           "5"
          ],
          [
           221,
           "Orchestra Stalls",
           "L",
           "4"
          ],
          [
           221,
           "Orchestra Stalls",
           "L",
           "3"
          ],
          [
           159,
           "Orchestra Stalls",
           "L",
           "2"
          ],
          [
           159,
           "Orchestra Stalls",
           "L",
           "1"
          ],
          [
           221,
           "Orchestra Stalls",
           "K",
           "32"
          ],
          [
           221,
           "Orchestra Stalls",
           "K",
           "31"
          ],
          [
           221,
           "Orchestra Stalls",
           "K",
           "30"
          ],
          [
           221,
           "Orchestra Stalls",
           "K",
           "29"
          ],
          [
           236,
           "Orchestra Stalls",
           "K",
           "28"
          ],
          [
           236,
           "Orchestra Stalls",
           "K",
           "27"
          ],
          [
           245,
           "Orchestra Stalls",
           "K",
           "26"
          ],
          [
           245,
           "Orchestra Stalls",
           "K",
           "25"
          ],
          [
           245,
           "Orchestra Stalls",
           "K",
           "24"
          ],
          [
           245,
           "Orchestra Stalls",
           "K",
           "23"
          ],
          [
           245,
           "Orchestra Stalls",
           "K",
           "22"
          ],
          [
           245,
           "Orchestra Stalls",
           "K",
           "21"
          ],
          [
           245,
           "Orchestra Stalls",
           "K",
           "20"
          ],
          [
           245,
           "Orchestra Stalls",
           "K",
           "19"
          ],
          [
           245,
           "Orchestra Stalls",
           "K",
           "18"
          ],
          [
           245,
           "Orchestra Stalls",
           "K",
           "17"
          ],
          [
           245,
           "Orchestra Stalls",
           "K",
           "16"
          ],
          [
           245,
           "Orchestra Stalls",
           "K",
           "15"
          ],
          [
           245,
           "Orchestra Stalls",
           "K",
           "14"
          ],
          [
           245,
           "Orchestra Stalls",
           "K",
           "13"
          ],
          [
           245,
           "Orchestra Stalls",
           "K",
           "12"
          ],
          [
           245,
           "Orchestra Stalls",
           "K",
           "11"
          ],
          [
           245,
           "Orchestra Stalls",
           "K",
           "10"
          ],
          [
           245,
           "Orchestra Stalls",
           "K",
           "9"
          ],
          [
           245,
           "Orchestra Stalls",
           "K",
           "8"
          ],
          [
           245,
           "Orchestra Stalls",
           "K",
           "7"
          ],
          [
           236,
           "Orchestra Stalls",
           "K",
           "6"
          ],
          [
           236,
           "Orchestra Stalls",
           "K",
           "5"
          ],
          [
           221,
           "Orchestra Stalls",
           "K",
           "4"
          ],
          [
           221,
           "Orchestra Stalls",
           "K",
           "3"
          ],
          [
           221,
           "Orchestra Stalls",
           "K",
           "2"
          ],
          [
           221,
           "Orchestra Stalls",
           "K",
           "1"
          ],
          [
           221,
           "Orchestra Stalls",
           "J",
           "31"
          ],
          [
           221,
           "Orchestra Stalls",
           "J",
           "30"
          ],
          [
           221,
           "Orchestra Stalls",
           "J",
           "29"
          ],
          [
           221,
           "Orchestra Stalls",
           "J",
           "28"
          ],
          [
           236,
           "Orchestra Stalls",
           "J",
           "27"
          ],
          [
           236,
           "Orchestra Stalls",
           "J",
           "26"
          ],
          [
           245,
           "Orchestra Stalls",
           "J",
           "25"
          ],
          [
           245,
           "Orchestra Stalls",
           "J",
           "24"
          ],
          [
           245,
           "Orchestra Stalls",
           "J",
           "23"
          ],
          [
           245,
           "Orchestra Stalls",
           "J",
           "22"
          ],
          [
           245,
           "Orchestra Stalls",
           "J",
           "21"
          ],
          [
           245,
           "Orchestra Stalls",
           "J",
           "20"
          ],
          [
           245,
           "Orchestra Stalls",
           "J",
           "19"
          ],
          [
           245,
           "Orchestra Stalls",
           "J",
           "18"
          ],
          [
           245,
           "Orchestra Stalls",
           "J",
           "17"
          ],
          [
           245,
           "Orchestra Stalls",
           "J",
           "16"
          ],
          [
           245,
           "Orchestra Stalls",
           "J",
           "15"
          ],
          [
           245,
           "Orchestra Stalls",
           "J",
           "14"
          ],
          [
           245,
           "Orchestra Stalls",
           "J",
           "13"
          ],
          [
           245,
           "Orchestra Stalls",
           "J",
           "12"
          ],
          [
           245,
           "Orchestra Stalls",
           "J",
           "11"
          ],
          [
           245,
           "Orchestra Stalls",
           "J",
           "10"
          ],
          [
           245,
           "Orchestra Stalls",
           "J",
           "9"
          ],
          [
           245,
           "Orchestra Stalls",
           "J",
           "8"
          ],
          [
           245,
           "Orchestra Stalls",
           "J",
           "7"
          ],
          [
           236,
           "Orchestra Stalls",
           "J",
           "6"
          ],
          [
           236,
           "Orchestra Stalls",
           "J",
           "5"
          ],
          [
           221,
           "Orchestra Stalls",
           "J",
           "4"
          ],
          [
           221,
           "Orchestra Stalls",
           "J",
           "3"
          ],
          [
           221,
           "Orchestra Stalls",
           "J",
           "2"
          ],
          [
           221,
           "Orchestra Stalls",
           "J",
           "1"
          ],
          [
           221,
           "Orchestra Stalls",
           "H",
           "32"
          ],
          [
           221,
           "Orchestra Stalls",
           "H",
           "31"
          ],
          [
           236,
           "Orchestra Stalls",
           "H",
           "30"
          ],
          [
           236,
           "Orchestra Stalls",
           "H",
           "29"
          ],
          [
           236,
           "Orchestra Stalls",
           "H",
           "28"
          ],
          [
           236,
           "Orchestra Stalls",
           "H",
           "27"
          ],
          [
           245,
           "Orchestra Stalls",
           "H",
           "26"
          ],
          [
           245,
           "Orchestra Stalls",
           "H",
           "25"
          ],
          [
           245,
           "Orchestra Stalls",
           "H",
           "24"
          ],
          [
           245,
           "Orchestra Stalls",
           "H",
           "23"
          ],
          [
           245,
           "Orchestra Stalls",
           "H",
           "22"
          ],
          [
           245,
           "Orchestra Stalls",
           "H",
           "21"
          ],
          [
           245,
           "Orchestra Stalls",
           "H",
           "20"
          ],
          [
           245,
           "Orchestra Stalls",
           "H",
           "19"
          ],
          [
           245,
           "Orchestra Stalls",
           "H",
           "18"
          ],
          [
           245,
           "Orchestra Stalls",
           "H",
           "17"
          ],
          [
           245,
           "Orchestra Stalls",
           "H",
           "16"
          ],
          [
           245,
           "Orchestra Stalls",
           "H",
           "15"
          ],
          [
           245,
           "Orchestra Stalls",
           "H",
           "14"
          ],
          [
           245,
           "Orchestra Stalls",
           "H",
           "13"
          ],
          [
           245,
           "Orchestra Stalls",
           "H",
           "12"
          ],
          [
           245,
           "Orchestra Stalls",
           "H",
           "11"
          ],
          [
           245,
           "Orchestra Stalls",
           "H",
           "10"
          ],
          [
           245,
           "Orchestra Stalls",
           "H",
           "9"
          ],
          [
           245,
           "Orchestra Stalls",
           "H",
           "8"
          ],
          [
           245,
           "Orchestra Stalls",
           "H",
           "7"
          ],
          [
           236,
           "Orchestra Stalls",
           "H",
           "6"
          ],
          [
           236,
           "Orchestra Stalls",
           "H",
           "5"
          ],
          [
           236,
           "Orchestra Stalls",
           "H",
           "4"
          ],
          [
           236,
           "Orchestra Stalls",
           "H",
           "3"
          ],
          [
           221,
           "Orchestra Stalls",
           "H",
           "2"
          ],
          [
           221,
           "Orchestra Stalls",
           "H",
           "1"
          ],
          [
           245,
           "Orchestra Stalls",
           "G",
           "25"
          ],
          [
           245,
           "Orchestra Stalls",
           "G",
           "24"
          ],
          [
           245,
           "Orchestra Stalls",
           "G",
           "23"
          ],
          [
           245,
           "Orchestra Stalls",
           "G",
           "22"
          ],
          [
           245,
           "Orchestra Stalls",
           "G",
           "21"
          ],
          [
           245,
           "Orchestra Stalls",
           "G",
           "20"
          ],
          [
           245,
           "Orchestra Stalls",
           "G",
           "19"
          ],
          [
           245,
           "Orchestra Stalls",
           "G",
           "18"
          ],
          [
           245,
           "Orchestra Stalls",
           "G",
           "17"
          ],
          [
           245,
           "Orchestra Stalls",
           "G",
           "16"
          ],
          [
           245,
           "Orchestra Stalls",
           "G",
           "15"
          ],
          [
           245,
           "Orchestra Stalls",
           "G",
           "14"
          ],
          [
           245,
           "Orchestra Stalls",
           "G",
           "13"
          ],
          [
           245,
           "Orchestra Stalls",
           "G",
           "12"
          ],
          [
           245,
           "Orchestra Stalls",
           "G",
           "11"
          ],
          [
           245,
           "Orchestra Stalls",
           "G",
           "10"
          ],
          [
           245,
           "Orchestra Stalls",
           "G",
           "9"
          ],
          [
           245,
           "Orchestra Stalls",
           "G",
           "8"
          ],
          [
           245,
           "Orchestra Stalls",
           "G",
           "7"
          ],
          [
           245,
           "Orchestra Stalls",
           "F",
           "26"
          ],
          [
           245,
           "Orchestra Stalls",
           "F",
           "25"
          ],
          [
           245,
           "Orchestra Stalls",
           "F",
           "24"
          ],
          [
           245,
           "Orchestra Stalls",
           "F",
           "23"
          ],
          [
           245,
           "Orchestra Stalls",
           "F",
           "22"
          ],
          [
           245,
           "Orchestra Stalls",
           "F",
           "21"
          ],
          [
           245,
           "Orchestra Stalls",
           "F",
           "20"
          ],
          [
           245,
           "Orchestra Stalls",
           "F",
           "19"
          ],
          [
           245,
           "Orchestra Stalls",
           "F",
           "18"
          ],
          [
           245,
           "Orchestra Stalls",
           "F",
           "17"
          ],
          [
           245,
           "Orchestra Stalls",
           "F",
           "16"
          ],
          [
           245,
           "Orchestra Stalls",
           "F",
           "15"
          ],
          [
           245,
           "Orchestra Stalls",
           "F",
           "14"
          ],
          [
           245,
           "Orchestra Stalls",
           "F",
           "13"
          ],
          [
           245,
           "Orchestra Stalls",
           "F",
           "12"
          ],
          [
           245,
           "Orchestra Stalls",
           "F",
           "11"
          ],
          [
           245,
           "Orchestra Stalls",
           "F",
           "10"
          ],
          [
           245,
           "Orchestra Stalls",
           "F",
           "9"
          ],
          [
           245,
           "Orchestra Stalls",
           "F",
           "8"
          ],
          [
           245,
           "Orchestra Stalls",
           "F",
           "7"
          ],
          [
           159,
           "Orchestra Stalls",
           "E",
           "31"
          ],
          [
           159,
           "Orchestra Stalls",
           "E",
           "30"
          ],
          [
           196,
           "Orchestra Stalls",
           "E",
           "29"
          ],
          [
           196,
           "Orchestra Stalls",
           "E",
           "28"
          ],
          [
           221,
           "Orchestra Stalls",
           "E",
           "27"
          ],
          [
           221,
           "Orchestra Stalls",
           "E",
           "26"
          ],
          [
           245,
           "Orchestra Stalls",
           "E",
           "25"
          ],
          [
           245,
           "Orchestra Stalls",
           "E",
           "24"
          ],
          [
           245,
           "Orchestra Stalls",
           "E",
           "23"
          ],
          [
           245,
           "Orchestra Stalls",
           "E",
           "22"
          ],
          [
           245,
           "Orchestra Stalls",
           "E",
           "21"
          ],
          [
           245,
           "Orchestra Stalls",
           "E",
           "20"
          ],
          [
           245,
           "Orchestra Stalls",
           "E",
           "19"
          ],
          [
           245,
           "Orchestra Stalls",
           "E",
           "18"
          ],
          [
           245,
           "Orchestra Stalls",
           "E",
           "17"
          ],
          [
           245,
           "Orchestra Stalls",
           "E",
           "16"
          ],
          [
           245,
           "Orchestra Stalls",
           "E",
           "15"
          ],
          [
           245,
           "Orchestra Stalls",
           "E",
           "14"
          ],
          [
           245,
           "Orchestra Stalls",
           "E",
           "13"
          ],
          [
           245,
           "Orchestra Stalls",
           "E",
           "12"
          ],
          [
           245,
           "Orchestra Stalls",
           "E",
           "11"
          ],
          [
           245,
           "Orchestra Stalls",
           "E",
           "10"
          ],
          [
           245,
           "Orchestra Stalls",
           "E",
           "9"
          ],
          [
           245,
           "Orchestra Stalls",
           "E",
           "8"
          ],
          [
           245,
           "Orchestra Stalls",
           "E",
           "7"
          ],
          [
           221,
           "Orchestra Stalls",
           "E",
           "6"
          ],
          [
           221,
           "Orchestra Stalls",
           "E",
           "5"
          ],
          [
           196,
           "Orchestra Stalls",
           "E",
           "4"
          ],
          [
           196,
           "Orchestra Stalls",
           "E",
           "3"
          ],
          [
           159,
           "Orchestra Stalls",
           "E",
           "2"
          ],
          [
           159,
           "Orchestra Stalls",
           "E",
           "1"
          ],
          [
           159,
           "Orchestra Stalls",
           "D",
           "30"
          ],
          [
           159,
           "Orchestra Stalls",
           "D",
           "29"
          ],
          [
           196,
           "Orchestra Stalls",
           "D",
           "28"
          ],
          [
           196,
           "Orchestra Stalls",
           "D",
           "27"
          ],
          [
           221,
           "Orchestra Stalls",
           "D",
           "26"
          ],
          [
           221,
           "Orchestra Stalls",
           "D",
           "25"
          ],
          [
           236,
           "Orchestra Stalls",
           "D",
           "24"
          ],
          [
           236,
           "Orchestra Stalls",
           "D",
           "23"
          ],
          [
           236,
           "Orchestra Stalls",
           "D",
           "22"
          ],
          [
           236,
           "Orchestra Stalls",
           "D",
           "21"
          ],
          [
           236,
           "Orchestra Stalls",
           "D",
           "20"
          ],
          [
           236,
           "Orchestra Stalls",
           "D",
           "19"
          ],
          [
           236,
           "Orchestra Stalls",
           "D",
           "18"
          ],
          [
           236,
           "Orchestra Stalls",
           "D",
           "17"
          ],
          [
           236,
           "Orchestra Stalls",
           "D",
           "16"
          ],
          [
           236,
           "Orchestra Stalls",
           "D",
           "15"
          ],
          [
           236,
           "Orchestra Stalls",
           "D",
           "14"
          ],
          [
           236,
           "Orchestra Stalls",
           "D",
           "13"
          ],
          [
           236,
           "Orchestra Stalls",
           "D",
           "12"
          ],
          [
           236,
           "Orchestra Stalls",
           "D",
           "11"
          ],
          [
           236,
           "Orchestra Stalls",
           "D",
           "10"
          ],
          [
           236,
           "Orchestra Stalls",
           "D",
           "9"
          ],
          [
           236,
           "Orchestra Stalls",
           "D",
           "8"
          ],
          [
           236,
           "Orchestra Stalls",
           "D",
           "7"
          ],
          [
           221,
           "Orchestra Stalls",
           "D",
           "6"
          ],
          [
           221,
           "Orchestra Stalls",
           "D",
           "5"
          ],
          [
           196,
           "Orchestra Stalls",
           "D",
           "4"
          ],
          [
           196,
           "Orchestra Stalls",
           "D",
           "3"
          ],
          [
           159,
           "Orchestra Stalls",
           "D",
           "2"
          ],
          [
           159,
           "Orchestra Stalls",
           "D",
           "1"
          ],
          [
           159,
           "Orchestra Stalls",
           "C",
           "29"
          ],
          [
           159,
           "Orchestra Stalls",
           "C",
           "28"
          ],
          [
           196,
           "Orchestra Stalls",
           "C",
           "27"
          ],
          [
           196,
           "Orchestra Stalls",
           "C",
           "26"
          ],
          [
           221,
           "Orchestra Stalls",
           "C",
           "25"
          ],
          [
           221,
           "Orchestra Stalls",
           "C",
           "24"
          ],
          [
           236,
           "Orchestra Stalls",
           "C",
           "23"
          ],
          [
           236,
           "Orchestra Stalls",
           "C",
           "22"
          ],
          [
           236,
           "Orchestra Stalls",
           "C",
           "21"
          ],
          [
           236,
           "Orchestra Stalls",
           "C",
           "20"
          ],
          [
           236,
           "Orchestra Stalls",
           "C",
           "19"
          ],
          [
           236,
           "Orchestra Stalls",
           "C",
           "18"
          ],
          [
           236,
           "Orchestra Stalls",
           "C",
           "17"
          ],
          [
           236,
           "Orchestra Stalls",
           "C",
           "16"
          ],
          [
           236,
           "Orchestra Stalls",
           "C",
           "15"
          ],
          [
           236,
           "Orchestra Stalls",
           "C",
           "14"
          ],
          [
           236,
           "Orchestra Stalls",
           "C",
           "13"
          ],
          [
           236,
           "Orchestra Stalls",
           "C",
           "12"
          ],
          [
           236,
           "Orchestra Stalls",
           "C",
           "11"
          ],
          [
           236,
           "Orchestra Stalls",
           "C",
           "10"
          ],
          [
           236,
           "Orchestra Stalls",
           "C",
           "9"
          ],
          [
           236,
           "Orchestra Stalls",
           "C",
           "8"
          ],
          [
           236,
           "Orchestra Stalls",
           "C",
           "7"
          ],
          [
           221,
           "Orchestra Stalls",
           "C",
           "6"
          ],
          [
           221,
           "Orchestra Stalls",
           "C",
           "5"
          ],
          [
           196,
           "Orchestra Stalls",
           "C",
           "4"
          ],
          [
           196,
           "Orchestra Stalls",
           "C",
           "3"
          ],
          [
           159,
           "Orchestra Stalls",
           "C",
           "2"
          ],
          [
           159,
           "Orchestra Stalls",
           "C",
           "1"
          ],
          [
           159,
           "Orchestra Stalls",
           "B",
           "30"
          ],
          [
           159,
           "Orchestra Stalls",
           "B",
           "29"
          ],
          [
           196,
           "Orchestra Stalls",
           "B",
           "28"
          ],
          [
           196,
           "Orchestra Stalls",
           "B",
           "27"
          ],
          [
           196,
           "Orchestra Stalls",
           "B",
           "26"
          ],
          [
           221,
           "Orchestra Stalls",
           "B",
           "25"
          ],
          [
           221,
           "Orchestra Stalls",
           "B",
           "24"
          ],
          [
           236,
           "Orchestra Stalls",
           "B",
           "23"
          ],
          [
           236,
           "Orchestra Stalls",
           "B",
           "22"
          ],
          [
           236,
           "Orchestra Stalls",
           "B",
           "21"
          ],
          [
           236,
           "Orchestra Stalls",
           "B",
           "20"
          ],
          [
           236,
           "Orchestra Stalls",
           "B",
           "19"
          ],
          [
           236,
           "Orchestra Stalls",
           "B",
           "18"
          ],
          [
           236,
           "Orchestra Stalls",
           "B",
           "17"
          ],
          [
           236,
           "Orchestra Stalls",
           "B",
           "16"
          ],
          [
           236,
           "Orchestra Stalls",
           "B",
           "15"
          ],
          [
           236,
           "Orchestra Stalls",
           "B",
           "14"
          ],
          [
           236,
           "Orchestra Stalls",
           "B",
           "13"
          ],
          [
           236,
           "Orchestra Stalls",
           "B",
           "12"
          ],
          [
           236,
           "Orchestra Stalls",
           "B",
           "11"
          ],
          [
           236,
           "Orchestra Stalls",
           "B",
           "10"
          ],
          [
           236,
           "Orchestra Stalls",
           "B",
           "9"
          ],
          [
           236,
           "Orchestra Stalls",
           "B",
           "8"
          ],
          [
           221,
           "Orchestra Stalls",
           "B",
           "7"
          ],
          [
           221,
           "Orchestra Stalls",
           "B",
           "6"
          ],
          [
           196,
           "Orchestra Stalls",
           "B",
           "5"
          ],
          [
           196,
           "Orchestra Stalls",
           "B",
           "4"
          ],
          [
           196,
           "Orchestra Stalls",
           "B",
           "3"
          ],
          [
           159,
           "Orchestra Stalls",
           "B",
           "2"
          ],
          [
           159,
           "Orchestra Stalls",
           "B",
           "1"
          ],
          [
           159,
           "Orchestra Stalls",
           "A",
           "29"
          ],
          [
           159,
           "Orchestra Stalls",
           "A",
           "28"
          ],
          [
           196,
           "Orchestra Stalls",
           "A",
           "27"
          ],
          [
           196,
           "Orchestra Stalls",
           "A",
           "26"
          ],
          [
           196,
           "Orchestra Stalls",
           "A",
           "25"
          ],
          [
           221,
           "Orchestra Stalls",
           "A",
           "24"
          ],
          [
           221,
           "Orchestra Stalls",
           "A",
           "23"
          ],
          [
           236,
           "Orchestra Stalls",
           "A",
           "22"
          ],
          [
           236,
           "Orchestra Stalls",
           "A",
           "21"
          ],
          [
           236,
           "Orchestra Stalls",
           "A",
           "20"
          ],
          [
           236,
           "Orchestra Stalls",
           "A",
           "19"
          ],
          [
           236,
           "Orchestra Stalls",
           "A",
           "18"
          ],
          [
           236,
           "Orchestra Stalls",
           "A",
           "17"
          ],
          [
           221,
           "Orchestra Stalls",
           "A",
           "16"
          ],
          [
           221,
           "Orchestra Stalls",
           "A",
           "15"
          ],
          [
           221,
           "Orchestra Stalls",
           "A",
           "14"
          ],
          [
           236,
           "Orchestra Stalls",
           "A",
           "13"
          ],
          [
           236,
           "Orchestra Stalls",
           "A",
           "12"
          ],
          [
           236,
           "Orchestra Stalls",
           "A",
           "11"
          ],
          [
           236,
           "Orchestra Stalls",
           "A",
           "10"
          ],
          [
           236,
           "Orchestra Stalls",
           "A",
           "9"
          ],
          [
           236,
           "Orchestra Stalls",
           "A",
           "8"
          ],
          [
           221,
           "Orchestra Stalls",
           "A",
           "7"
          ],
          [
           221,
           "Orchestra Stalls",
           "A",
           "6"
          ],
          [
           196,
           "Orchestra Stalls",
           "A",
           "5"
          ],
          [
           196,
           "Orchestra Stalls",
           "A",
           "4"
          ],
          [
           196,
           "Orchestra Stalls",
           "A",
           "3"
          ],
          [
           159,
           "Orchestra Stalls",
           "A",
           "2"
          ],
          [
           159,
           "Orchestra Stalls",
           "A",
           "1"
          ],
          [
           19,
           "Stalls Circle",
           "D",
           "39"
          ],
          [
           19,
           "Stalls Circle",
           "D",
           "38"
          ],
          [
           19,
           "Stalls Circle",
           "D",
           "37"
          ],
          [
           19,
           "Stalls Circle",
           "D",
           "36"
          ],
          [
           19,
           "Stalls Circle",
           "D",
           "35"
          ],
          [
           19,
           "Stalls Circle",
           "D",
           "34"
          ],
          [
           19,
           "Stalls Circle",
           "D",
           "33"
          ],
          [
           19,
           "Stalls Circle",
           "D",
           "32"
          ],
          [
           19,
           "Stalls Circle",
           "D",
           "31"
          ],
          [
           19,
           "Stalls Circle",
           "D",
           "30"
          ],
          [
           19,
           "Stalls Circle",
           "D",
           "29"
          ],
          [
           19,
           "Stalls Circle",
           "D",
           "28"
          ],
          [
           19,
           "Stalls Circle",
           "D",
           "27"
          ],
          [
           19,
           "Stalls Circle",
           "D",
           "26"
          ],
          [
           19,
           "Stalls Circle",
           "D",
           "25"
          ],
          [
           19,
           "Stalls Circle",
           "D",
           "24"
          ],
          [
           19,
           "Stalls Circle",
           "D",
           "23"
          ],
          [
           19,
           "Stalls Circle",
           "D",
           "22"
          ],
          [
           19,
           "Stalls Circle",
           "D",
           "21"
          ],
          [
           19,
           "Stalls Circle",
           "D",
           "20"
          ],
          [
           19,
           "Stalls Circle",
           "D",
           "19"
          ],
          [
           19,
           "Stalls Circle",
           "D",
           "18"
          ],
          [
           19,
           "Stalls Circle",
           "D",
           "17"
          ],
          [
           19,
           "Stalls Circle",
           "D",
           "16"
          ],
          [
           196,
           "Stalls Circle",
           "C",
           "70"
          ],
          [
           196,
           "Stalls Circle",
           "C",
           "69"
          ],
          [
           196,
           "Stalls Circle",
           "C",
           "68"
          ],
          [
           196,
           "Stalls Circle",
           "C",
           "67"
          ],
          [
           196,
           "Stalls Circle",
           "C",
           "66"
          ],
          [
           86,
           "Stalls Circle",
           "C",
           "65"
          ],
          [
           196,
           "Stalls Circle",
           "C",
           "64"
          ],
          [
           196,
           "Stalls Circle",
           "C",
           "63"
          ],
          [
           196,
           "Stalls Circle",
           "C",
           "62"
          ],
          [
           196,
           "Stalls Circle",
           "C",
           "61"
          ],
          [
           196,
           "Stalls Circle",
           "C",
           "60"
          ],
          [
           196,
           "Stalls Circle",
           "C",
           "59"
          ],
          [
           196,
           "Stalls Circle",
           "C",
           "54"
          ],
          [
           196,
           "Stalls Circle",
           "C",
           "53"
          ],
          [
           196,
           "Stalls Circle",
           "C",
           "52"
          ],
          [
           196,
           "Stalls Circle",
           "C",
           "51"
          ],
          [
           196,
           "Stalls Circle",
           "C",
           "50"
          ],
          [
           196,
           "Stalls Circle",
           "C",
           "49"
          ],
          [
           86,
           "Stalls Circle",
           "C",
           "48"
          ],
          [
           196,
           "Stalls Circle",
           "C",
           "47"
          ],
          [
           196,
           "Stalls Circle",
           "C",
           "46"
          ],
          [
           196,
           "Stalls Circle",
           "C",
           "45"
          ],
          [
           196,
           "Stalls Circle",
           "C",
           "44"
          ],
          [
           196,
           "Stalls Circle",
           "C",
           "43"
          ],
          [
           236,
           "Stalls Circle",
           "B",
           "70"
          ],
          [
           236,
           "Stalls Circle",
           "B",
           "69"
          ],
          [
           236,
           "Stalls Circle",
           "B",
           "68"
          ],
          [
           236,
           "Stalls Circle",
           "B",
           "67"
          ],
          [
           236,
           "Stalls Circle",
           "B",
           "66"
          ],
          [
           236,
           "Stalls Circle",
           "B",
           "65"
          ],
          [
           236,
           "Stalls Circle",
           "B",
           "64"
          ],
          [
           236,
           "Stalls Circle",
           "B",
           "63"
          ],
          [
           236,
           "Stalls Circle",
           "B",
           "62"
          ],
          [
           236,
           "Stalls Circle",
           "B",
           "61"
          ],
          [
           236,
           "Stalls Circle",
           "B",
           "52"
          ],
          [
           236,
           "Stalls Circle",
           "B",
           "51"
          ],
          [
           236,
           "Stalls Circle",
           "B",
           "50"
          ],
          [
           236,
           "Stalls Circle",
           "B",
           "49"
          ],
          [
           236,
           "Stalls Circle",
           "B",
           "48"
          ],
          [
           236,
           "Stalls Circle",
           "B",
           "47"
          ],
          [
           236,
           "Stalls Circle",
           "B",
           "46"
          ],
          [
           236,
           "Stalls Circle",
           "B",
           "45"
          ],
          [
           236,
           "Stalls Circle",
           "B",
           "44"
          ],
          [
           236,
           "Stalls Circle",
           "B",
           "43"
          ],
          [
           236,
           "Stalls Circle",
           "A",
           "70"
          ],
          [
           245,
           "Stalls Circle",
           "A",
           "69"
          ],
          [
           245,
           "Stalls Circle",
           "A",
           "68"
          ],
          [
           245,
           "Stalls Circle",
           "A",
           "67"
          ],
          [
           245,
           "Stalls Circle",
           "A",
           "66"
          ],
          [
           245,
           "Stalls Circle",
           "A",
           "65"
          ],
          [
           245,
           "Stalls Circle",
           "A",
           "64"
          ],
          [
           245,
           "Stalls Circle",
           "A",
           "63"
          ],
          [
           245,
           "Stalls Circle",
           "A",
           "62"
          ],
          [
           245,
           "Stalls Circle",
           "A",
           "61"
          ],
          [
           245,
           "Stalls Circle",
           "A",
           "60"
          ],
          [
           245,
           "Stalls Circle",
           "A",
           "59"
          ],
          [
           245,
           "Stalls Circle",
           "A",
           "58"
          ],
          [
           245,
           "Stalls Circle",
           "A",
           "57"
          ],
          [
           245,
           "Stalls Circle",
           "A",
           "56"
          ],
          [
           245,
           "Stalls Circle",
           "A",
           "55"
          ],
          [
           245,
           "Stalls Circle",
           "A",
           "54"
          ],
          [
           245,
           "Stalls Circle",
           "A",
           "53"
          ],
          [
           245,
           "Stalls Circle",
           "A",
           "52"
          ],
          [
           245,
           "Stalls Circle",
           "A",
           "51"
          ],
          [
           245,
           "Stalls Circle",
           "A",
           "50"
          ],
          [
           245,
           "Stalls Circle",
           "A",
           "49"
          ],
          [
           245,
           "Stalls Circle",
           "A",
           "48"
          ],
          [
           245,
           "Stalls Circle",
           "A",
           "47"
          ],
          [
           245,
           "Stalls Circle",
           "A",
           "46"
          ],
          [
           245,
           "Stalls Circle",
           "A",
           "45"
          ],
          [
           245,
           "Stalls Circle",
           "A",
           "44"
          ],
          [
           236,
           "Stalls Circle",
           "A",
           "43"
          ],
          [
           19,
           "Stalls Circle",
           "D",
           "54"
          ],
          [
           19,
           "Stalls Circle",
           "D",
           "53"
          ],
          [
           19,
           "Stalls Circle",
           "D",
           "52"
          ],
          [
           19,
           "Stalls Circle",
           "D",
           "51"
          ],
          [
           19,
           "Stalls Circle",
           "D",
           "50"
          ],
          [
           19,
           "Stalls Circle",
           "D",
           "49"
          ],
          [
           19,
           "Stalls Circle",
           "D",
           "48"
          ],
          [
           19,
           "Stalls Circle",
           "D",
           "47"
          ],
          [
           19,
           "Stalls Circle",
           "D",
           "46"
          ],
          [
           19,
           "Stalls Circle",
           "D",
           "45"
          ],
          [
           19,
           "Stalls Circle",
           "D",
           "44"
          ],
          [
           19,
           "Stalls Circle",
           "D",
           "43"
          ],
          [
           19,
           "Stalls Circle",
           "D",
           "42"
          ],
          [
           19,
           "Stalls Circle",
           "D",
           "41"
          ],
          [
           19,
           "Stalls Circle",
           "D",
           "40"
          ],
          [
           19,
           "Stalls Circle",
           "D",
           "15"
          ],
          [
           19,
           "Stalls Circle",
           "D",
           "14"
          ],
          [
           19,
           "Stalls Circle",
           "D",
           "13"
          ],
          [
           19,
           "Stalls Circle",
           "D",
           "12"
          ],
          [
           19,
           "Stalls Circle",
           "D",
           "11"
          ],
          [
           19,
           "Stalls Circle",
           "D",
           "10"
          ],
          [
           19,
           "Stalls Circle",
           "D",
           "9"
          ],
          [
           19,
           "Stalls Circle",
           "D",
           "8"
          ],
          [
           19,
           "Stalls Circle",
           "D",
           "7"
          ],
          [
           19,
           "Stalls Circle",
           "D",
           "6"
          ],
          [
           19,
           "Stalls Circle",
           "D",
           "5"
          ],
          [
           19,
           "Stalls Circle",
           "D",
           "4"
          ],
          [
           19,
           "Stalls Circle",
           "D",
           "3"
          ],
          [
           19,
           "Stalls Circle",
           "D",
           "2"
          ],
          [
           19,
           "Stalls Circle",
           "D",
           "1"
          ],
          [
           86,
           "Stalls Circle",
           "C",
           "86"
          ],
          [
           86,
           "Stalls Circle",
           "C",
           "85"
          ],
          [
           86,
           "Stalls Circle",
           "C",
           "84"
          ],
          [
           86,
           "Stalls Circle",
           "C",
           "83"
          ],
          [
           118,
           "Stalls Circle",
           "C",
           "82"
          ],
          [
           118,
           "Stalls Circle",
           "C",
           "81"
          ],
          [
           118,
           "Stalls Circle",
           "C",
           "80"
          ],
          [
           118,
           "Stalls Circle",
           "C",
           "79"
          ],
          [
           118,
           "Stalls Circle",
           "C",
           "78"
          ],
          [
           86,
           "Stalls Circle",
           "C",
           "77"
          ],
          [
           159,
           "Stalls Circle",
           "C",
           "76"
          ],
          [
           159,
           "Stalls Circle",
           "C",
           "75"
          ],
          [
           159,
           "Stalls Circle",
           "C",
           "74"
          ],
          [
           159,
           "Stalls Circle",
           "C",
           "73"
          ],
          [
           159,
           "Stalls Circle",
           "C",
           "72"
          ],
          [
           159,
           "Stalls Circle",
           "C",
           "71"
          ],
          [
           159,
           "Stalls Circle",
           "C",
           "42"
          ],
          [
           159,
           "Stalls Circle",
           "C",
           "41"
          ],
          [
           159,
           "Stalls Circle",
           "C",
           "40"
          ],
          [
           159,
           "Stalls Circle",
           "C",
           "39"
          ],
          [
           159,
           "Stalls Circle",
           "C",
           "38"
          ],
          [
           159,
           "Stalls Circle",
           "C",
           "37"
          ],
          [
           86,
           "Stalls Circle",
           "C",
           "36"
          ],
          [
           118,
           "Stalls Circle",
           "C",
           "35"
          ],
          [
           118,
           "Stalls Circle",
           "C",
           "34"
          ],
          [
           118,
           "Stalls Circle",
           "C",
           "33"
          ],
          [
           118,
           "Stalls Circle",
           "C",
           "32"
          ],
          [
           118,
           "Stalls Circle",
           "C",
           "31"
          ],
          [
           86,
           "Stalls Circle",
           "C",
           "30"
          ],
          [
           86,
           "Stalls Circle",
           "C",
           "29"
          ],
          [
           86,
           "Stalls Circle",
           "C",
           "28"
          ],
          [
           86,
           "Stalls Circle",
           "C",
           "27"
          ],
          [
           86,
           "Stalls Circle",
           "B",
           "85"
          ],
          [
           86,
           "Stalls Circle",
           "B",
           "84"
          ],
          [
           86,
           "Stalls Circle",
           "B",
           "83"
          ],
          [
           86,
           "Stalls Circle",
           "B",
           "82"
          ],
          [
           159,
           "Stalls Circle",
           "B",
           "81"
          ],
          [
           159,
           "Stalls Circle",
           "B",
           "80"
          ],
          [
           196,
           "Stalls Circle",
           "B",
           "75"
          ],
          [
           196,
           "Stalls Circle",
           "B",
           "74"
          ],
          [
           196,
           "Stalls Circle",
           "B",
           "73"
          ],
          [
           196,
           "Stalls Circle",
           "B",
           "72"
          ],
          [
           196,
           "Stalls Circle",
           "B",
           "71"
          ],
          [
           196,
           "Stalls Circle",
           "B",
           "42"
          ],
          [
           196,
           "Stalls Circle",
           "B",
           "41"
          ],
          [
           196,
           "Stalls Circle",
           "B",
           "40"
          ],
          [
           196,
           "Stalls Circle",
           "B",
           "39"
          ],
          [
           196,
           "Stalls Circle",
           "B",
           "38"
          ],
          [
           159,
           "Stalls Circle",
           "B",
           "35"
          ],
          [
           159,
           "Stalls Circle",
           "B",
           "34"
          ],
          [
           159,
           "Stalls Circle",
           "B",
           "33"
          ],
          [
           159,
           "Stalls Circle",
           "B",
           "32"
          ],
          [
           86,
           "Stalls Circle",
           "B",
           "31"
          ],
          [
           86,
           "Stalls Circle",
           "B",
           "30"
          ],
          [
           86,
           "Stalls Circle",
           "B",
           "29"
          ],
          [
           86,
           "Stalls Circle",
           "B",
           "28"
          ],
          [
           196,
           "Stalls Circle",
           "A",
           "88"
          ],
          [
           196,
           "Stalls Circle",
           "A",
           "87"
          ],
          [
           196,
           "Stalls Circle",
           "A",
           "86"
          ],
          [
           221,
           "Stalls Circle",
           "A",
           "83"
          ],
          [
           221,
           "Stalls Circle",
           "A",
           "82"
          ],
          [
           221,
           "Stalls Circle",
           "A",
           "81"
          ],
          [
           221,
           "Stalls Circle",
           "A",
           "80"
          ],
          [
           221,
           "Stalls Circle",
           "A",
           "79"
          ],
          [
           221,
           "Stalls Circle",
           "A",
           "78"
          ],
          [
           221,
           "Stalls Circle",
           "A",
           "77"
          ],
          [
           236,
           "Stalls Circle",
           "A",
           "76"
          ],
          [
           236,
           "Stalls Circle",
           "A",
           "75"
          ],
          [
           236,
           "Stalls Circle",
           "A",
           "74"
          ],
          [
           236,
           "Stalls Circle",
           "A",
           "73"
          ],
          [
           236,
           "Stalls Circle",
           "A",
           "72"
          ],
          [
           236,
           "Stalls Circle",
           "A",
           "71"
          ],
          [
           236,
           "Stalls Circle",
           "A",
           "42"
          ],
          [
           236,
           "Stalls Circle",
           "A",
           "41"
          ],
          [
           236,
           "Stalls Circle",
           "A",
           "40"
          ],
          [
           236,
           "Stalls Circle",
           "A",
           "39"
          ],
          [
           236,
           "Stalls Circle",
           "A",
           "38"
          ],
          [
           236,
           "Stalls Circle",
           "A",
           "37"
          ],
          [
           221,
           "Stalls Circle",
           "A",
           "36"
          ],
          [
           221,
           "Stalls Circle",
           "A",
           "35"
          ],
          [
           221,
           "Stalls Circle",
           "A",
           "34"
          ],
          [
           221,
           "Stalls Circle",
           "A",
           "33"
          ],
          [
           221,
           "Stalls Circle",
           "A",
           "32"
          ],
          [
           221,
           "Stalls Circle",
           "A",
           "31"
          ],
          [
           221,
           "Stalls Circle",
           "A",
           "30"
          ],
          [
           196,
           "Stalls Circle",
           "A",
           "27"
          ],
          [
           196,
           "Stalls Circle",
           "A",
           "26"
          ],
          [
           196,
           "Stalls Circle",
           "A",
           "25"
          ],
          [
           19,
           "Stalls Circle",
           "C",
           "101"
          ],
          [
           19,
           "Stalls Circle",
           "C",
           "100"
          ],
          [
           19,
           "Stalls Circle",
           "C",
           "99"
          ],
          [
           19,
           "Stalls Circle",
           "C",
           "98"
          ],
          [
           19,
           "Stalls Circle",
           "C",
           "97"
          ],
          [
           65,
           "Stalls Circle",
           "C",
           "96"
          ],
          [
           65,
           "Stalls Circle",
           "C",
           "95"
          ],
          [
           65,
           "Stalls Circle",
           "C",
           "94"
          ],
          [
           65,
           "Stalls Circle",
           "C",
           "93"
          ],
          [
           65,
           "Stalls Circle",
           "C",
           "92"
          ],
          [
           65,
           "Stalls Circle",
           "C",
           "21"
          ],
          [
           65,
           "Stalls Circle",
           "C",
           "20"
          ],
          [
           65,
           "Stalls Circle",
           "C",
           "19"
          ],
          [
           65,
           "Stalls Circle",
           "C",
           "18"
          ],
          [
           65,
           "Stalls Circle",
           "C",
           "17"
          ],
          [
           19,
           "Stalls Circle",
           "C",
           "16"
          ],
          [
           19,
           "Stalls Circle",
           "C",
           "15"
          ],
          [
           19,
           "Stalls Circle",
           "C",
           "14"
          ],
          [
           19,
           "Stalls Circle",
           "C",
           "13"
          ],
          [
           19,
           "Stalls Circle",
           "C",
           "12"
          ],
          [
           19,
           "Stalls Circle",
           "B",
           "106"
          ],
          [
           19,
           "Stalls Circle",
           "B",
           "105"
          ],
          [
           32,
           "Stalls Circle",
           "B",
           "104"
          ],
          [
           32,
           "Stalls Circle",
           "B",
           "103"
          ],
          [
           32,
           "Stalls Circle",
           "B",
           "102"
          ],
          [
           32,
           "Stalls Circle",
           "B",
           "101"
          ],
          [
           32,
           "Stalls Circle",
           "B",
           "100"
          ],
          [
           32,
           "Stalls Circle",
           "B",
           "99"
          ],
          [
           32,
           "Stalls Circle",
           "B",
           "98"
          ],
          [
           86,
           "Stalls Circle",
           "B",
           "97"
          ],
          [
           86,
           "Stalls Circle",
           "B",
           "96"
          ],
          [
           86,
           "Stalls Circle",
           "B",
           "95"
          ],
          [
           86,
           "Stalls Circle",
           "B",
           "94"
          ],
          [
           86,
           "Stalls Circle",
           "B",
           "93"
          ],
          [
           86,
           "Stalls Circle",
           "B",
           "92"
          ],
          [
           86,
           "Stalls Circle",
           "B",
           "91"
          ],
          [
           86,
           "Stalls Circle",
           "B",
           "90"
          ],
          [
           86,
           "Stalls Circle",
           "B",
           "89"
          ],
          [
           86,
           "Stalls Circle",
           "B",
           "88"
          ],
          [
           86,
           "Stalls Circle",
           "B",
           "87"
          ],
          [
           86,
           "Stalls Circle",
           "B",
           "86"
          ],
          [
           86,
           "Stalls Circle",
           "B",
           "27"
          ],
          [
           86,
           "Stalls Circle",
           "B",
           "26"
          ],
          [
           86,
           "Stalls Circle",
           "B",
           "25"
          ],
          [
           86,
           "Stalls Circle",
           "B",
           "24"
          ],
          [
           86,
           "Stalls Circle",
           "B",
           "23"
          ],
          [
           86,
           "Stalls Circle",
           "B",
           "22"
          ],
          [
           86,
           "Stalls Circle",
           "B",
           "21"
          ],
          [
           86,
           "Stalls Circle",
           "B",
           "20"
          ],
          [
           86,
           "Stalls Circle",
           "B",
           "19"
          ],
          [
           86,
           "Stalls Circle",
           "B",
           "18"
          ],
          [
           86,
           "Stalls Circle",
           "B",
           "17"
          ],
          [
           86,
           "Stalls Circle",
           "B",
           "16"
          ],
          [
           32,
           "Stalls Circle",
           "B",
           "15"
          ],
          [
           32,
           "Stalls Circle",
           "B",
           "14"
          ],
          [
           32,
           "Stalls Circle",
           "B",
           "13"
          ],
          [
           32,
           "Stalls Circle",
           "B",
           "12"
          ],
          [
           32,
           "Stalls Circle",
           "B",
           "11"
          ],
          [
           32,
           "Stalls Circle",
           "B",
           "10"
          ],
          [
           32,
           "Stalls Circle",
           "B",
           "9"
          ],
          [
           19,
           "Stalls Circle",
           "B",
           "8"
          ],
          [
           19,
           "Stalls Circle",
           "B",
           "7"
          ],
          [
           19,
           "Stalls Circle",
           "B",
           "6"
          ],
          [
           65,
           "Stalls Circle",
           "A",
           "111"
          ],
          [
           65,
           "Stalls Circle",
           "A",
           "110"
          ],
          [
           65,
           "Stalls Circle",
           "A",
           "109"
          ],
          [
           65,
           "Stalls Circle",
           "A",
           "108"
          ],
          [
           65,
           "Stalls Circle",
           "A",
           "107"
          ],
          [
           65,
           "Stalls Circle",
           "A",
           "106"
          ],
          [
           86,
           "Stalls Circle",
           "A",
           "105"
          ],
          [
           86,
           "Stalls Circle",
           "A",
           "104"
          ],
          [
           86,
           "Stalls Circle",
           "A",
           "103"
          ],
          [
           86,
           "Stalls Circle",
           "A",
           "102"
          ],
          [
           86,
           "Stalls Circle",
           "A",
           "101"
          ],
          [
           159,
           "Stalls Circle",
           "A",
           "100"
          ],
          [
           159,
           "Stalls Circle",
           "A",
           "99"
          ],
          [
           159,
           "Stalls Circle",
           "A",
           "98"
          ],
          [
           159,
           "Stalls Circle",
           "A",
           "97"
          ],
          [
           159,
           "Stalls Circle",
           "A",
           "96"
          ],
          [
           159,
           "Stalls Circle",
           "A",
           "95"
          ],
          [
           196,
           "Stalls Circle",
           "A",
           "94"
          ],
          [
           196,
           "Stalls Circle",
           "A",
           "93"
          ],
          [
           196,
           "Stalls Circle",
           "A",
           "92"
          ],
          [
           196,
           "Stalls Circle",
           "A",
           "91"
          ],
          [
           196,
           "Stalls Circle",
           "A",
           "90"
          ],
          [
           196,
           "Stalls Circle",
           "A",
           "89"
          ],
          [
           196,
           "Stalls Circle",
           "A",
           "24"
          ],
          [
           196,
           "Stalls Circle",
           "A",
           "23"
          ],
          [
           196,
           "Stalls Circle",
           "A",
           "22"
          ],
          [
           196,
           "Stalls Circle",
           "A",
           "21"
          ],
          [
           196,
           "Stalls Circle",
           "A",
           "20"
          ],
          [
           196,
           "Stalls Circle",
           "A",
           "19"
          ],
          [
           159,
           "Stalls Circle",
           "A",
           "18"
          ],
          [
           159,
           "Stalls Circle",
           "A",
           "17"
          ],
          [
           159,
           "Stalls Circle",
           "A",
           "16"
          ],
          [
           159,
           "Stalls Circle",
           "A",
           "15"
          ],
          [
           159,
           "Stalls Circle",
           "A",
           "14"
          ],
          [
           159,
           "Stalls Circle",
           "A",
           "13"
          ],
          [
           86,
           "Stalls Circle",
           "A",
           "12"
          ],
          [
           86,
           "Stalls Circle",
           "A",
           "11"
          ],
          [
           86,
           "Stalls Circle",
           "A",
           "10"
          ],
          [
           86,
           "Stalls Circle",
           "A",
           "9"
          ],
          [
           65,
           "Stalls Circle",
           "A",
           "8"
          ],
          [
           65,
           "Stalls Circle",
           "A",
           "7"
          ],
          [
           65,
           "Stalls Circle",
           "A",
           "6"
          ],
          [
           65,
           "Stalls Circle",
           "A",
           "5"
          ],
          [
           65,
           "Stalls Circle",
           "A",
           "4"
          ],
          [
           236,
           "Donald Gordon Grand Tier",
           "D",
           "30"
          ],
          [
           236,
           "Donald Gordon Grand Tier",
           "D",
           "29"
          ],
          [
           236,
           "Donald Gordon Grand Tier",
           "D",
           "28"
          ],
          [
           236,
           "Donald Gordon Grand Tier",
           "D",
           "27"
          ],
          [
           236,
           "Donald Gordon Grand Tier",
           "D",
           "26"
          ],
          [
           236,
           "Donald Gordon Grand Tier",
           "D",
           "25"
          ],
          [
           236,
           "Donald Gordon Grand Tier",
           "D",
           "24"
          ],
          [
           236,
           "Donald Gordon Grand Tier",
           "D",
           "23"
          ],
          [
           236,
           "Donald Gordon Grand Tier",
           "D",
           "22"
          ],
          [
           236,
           "Donald Gordon Grand Tier",
           "D",
           "21"
          ],
          [
           236,
           "Donald Gordon Grand Tier",
           "D",
           "20"
          ],
          [
           236,
           "Donald Gordon Grand Tier",
           "D",
           "19"
          ],
          [
           236,
           "Donald Gordon Grand Tier",
           "D",
           "18"
          ],
          [
           236,
           "Donald Gordon Grand Tier",
           "D",
           "17"
          ],
          [
           236,
           "Donald Gordon Grand Tier",
           "D",
           "16"
          ],
          [
           236,
           "Donald Gordon Grand Tier",
           "D",
           "15"
          ],
          [
           236,
           "Donald Gordon Grand Tier",
           "D",
           "14"
          ],
          [
           236,
           "Donald Gordon Grand Tier",
           "D",
           "13"
          ],
          [
           245,
           "Donald Gordon Grand Tier",
           "C",
           "32"
          ],
          [
           245,
           "Donald Gordon Grand Tier",
           "C",
           "31"
          ],
          [
           245,
           "Donald Gordon Grand Tier",
           "C",
           "30"
          ],
          [
           245,
           "Donald Gordon Grand Tier",
           "C",
           "29"
          ],
          [
           245,
           "Donald Gordon Grand Tier",
           "C",
           "28"
          ],
          [
           245,
           "Donald Gordon Grand Tier",
           "C",
           "27"
          ],
          [
           245,
           "Donald Gordon Grand Tier",
           "C",
           "26"
          ],
          [
           245,
           "Donald Gordon Grand Tier",
           "C",
           "25"
          ],
          [
           245,
           "Donald Gordon Grand Tier",
           "C",
           "24"
          ],
          [
           245,
           "Donald Gordon Grand Tier",
           "C",
           "23"
          ],
          [
           245,
           "Donald Gordon Grand Tier",
           "C",
           "22"
          ],
          [
           245,
           "Donald Gordon Grand Tier",
           "C",
           "21"
          ],
          [
           245,
           "Donald Gordon Grand Tier",
           "C",
           "20"
          ],
          [
           245,
           "Donald Gordon Grand Tier",
           "C",
           "19"
          ],
          [
           245,
           "Donald Gordon Grand Tier",
           "C",
           "18"
          ],
          [
           245,
           "Donald Gordon Grand Tier",
           "C",
           "17"
          ],
          [
           245,
           "Donald Gordon Grand Tier",
           "C",
           "16"
          ],
          [
           245,
           "Donald Gordon Grand Tier",
           "C",
           "15"
          ],
          [
           245,
           "Donald Gordon Grand Tier",
           "C",
           "14"
          ],
          [
           245,
           "Donald Gordon Grand Tier",
           "C",
           "13"
          ],
          [
           245,
           "Donald Gordon Grand Tier",
           "C",
           "12"
          ],
          [
           236,
           "Donald Gordon Grand Tier",
           "C",
           "41"
          ],
          [
           236,
           "Donald Gordon Grand Tier",
           "C",
           "40"
          ],
          [
           236,
           "Donald Gordon Grand Tier",
           "C",
           "39"
          ],
          [
           236,
           "Donald Gordon Grand Tier",
           "C",
           "38"
          ],
          [
           236,
           "Donald Gordon Grand Tier",
           "C",
           "37"
          ],
          [
           236,
           "Donald Gordon Grand Tier",
           "C",
           "36"
          ],
          [
           236,
           "Donald Gordon Grand Tier",
           "C",
           "35"
          ],
          [
           236,
           "Donald Gordon Grand Tier",
           "C",
           "34"
          ],
          [
           236,
           "Donald Gordon Grand Tier",
           "C",
           "33"
          ],
          [
           245,
           "Donald Gordon Grand Tier",
           "B",
           "30"
          ],
          [
           245,
           "Donald Gordon Grand Tier",
           "B",
           "29"
          ],
          [
           245,
           "Donald Gordon Grand Tier",
           "B",
           "28"
          ],
          [
           245,
           "Donald Gordon Grand Tier",
           "B",
           "27"
          ],
          [
           245,
           "Donald Gordon Grand Tier",
           "B",
           "26"
          ],
          [
           245,
           "Donald Gordon Grand Tier",
           "B",
           "25"
          ],
          [
           245,
           "Donald Gordon Grand Tier",
           "B",
           "24"
          ],
          [
           245,
           "Donald Gordon Grand Tier",
           "B",
           "23"
          ],
          [
           245,
           "Donald Gordon Grand Tier",
           "B",
           "22"
          ],
          [
           245,
           "Donald Gordon Grand Tier",
           "B",
           "21"
          ],
          [
           245,
           "Donald Gordon Grand Tier",
           "B",
           "20"
          ],
          [
           245,
           "Donald Gordon Grand Tier",
           "B",
           "19"
          ],
          [
           245,
           "Donald Gordon Grand Tier",
           "B",
           "18"
          ],
          [
           245,
           "Donald Gordon Grand Tier",
           "B",
           "17"
          ],
          [
           245,
           "Donald Gordon Grand Tier",
           "B",
           "16"
          ],
          [
           245,
           "Donald Gordon Grand Tier",
           "B",
           "15"
          ],
          [
           245,
           "Donald Gordon Grand Tier",
           "B",
           "14"
          ],
          [
           245,
           "Donald Gordon Grand Tier",
           "B",
           "13"
          ],
          [
           236,
           "Donald Gordon Grand Tier",
           "C",
           "11"
          ],
          [
           236,
           "Donald Gordon Grand Tier",
           "C",
           "10"
          ],
          [
           236,
           "Donald Gordon Grand Tier",
           "C",
           "9"
          ],
          [
           236,
           "Donald Gordon Grand Tier",
           "C",
           "8"
          ],
          [
           236,
           "Donald Gordon Grand Tier",
           "C",
           "7"
          ],
          [
           236,
           "Donald Gordon Grand Tier",
           "C",
           "6"
          ],
          [
           236,
           "Donald Gordon Grand Tier",
           "C",
           "5"
          ],
          [
           236,
           "Donald Gordon Grand Tier",
           "C",
           "4"
          ],
          [
           236,
           "Donald Gordon Grand Tier",
           "C",
           "3"
          ],
          [
           236,
           "Donald Gordon Grand Tier",
           "B",
           "40"
          ],
          [
           236,
           "Donald Gordon Grand Tier",
           "B",
           "39"
          ],
          [
           236,
           "Donald Gordon Grand Tier",
           "B",
           "38"
          ],
          [
           236,
           "Donald Gordon Grand Tier",
           "B",
           "37"
          ],
          [
           236,
           "Donald Gordon Grand Tier",
           "B",
           "36"
          ],
          [
           236,
           "Donald Gordon Grand Tier",
           "B",
           "35"
          ],
          [
           245,
           "Donald Gordon Grand Tier",
           "B",
           "34"
          ],
          [
           245,
           "Donald Gordon Grand Tier",
           "B",
           "33"
          ],
          [
           245,
           "Donald Gordon Grand Tier",
           "B",
           "32"
          ],
          [
           245,
           "Donald Gordon Grand Tier",
           "B",
           "31"
          ],
          [
           245,
           "Donald Gordon Grand Tier",
           "A",
           "32"
          ],
          [
           245,
           "Donald Gordon Grand Tier",
           "A",
           "31"
          ],
          [
           245,
           "Donald Gordon Grand Tier",
           "A",
           "30"
          ],
          [
           245,
           "Donald Gordon Grand Tier",
           "A",
           "29"
          ],
          [
           245,
           "Donald Gordon Grand Tier",
           "A",
           "28"
          ],
          [
           245,
           "Donald Gordon Grand Tier",
           "A",
           "27"
          ],
          [
           245,
           "Donald Gordon Grand Tier",
           "A",
           "26"
          ],
          [
           245,
           "Donald Gordon Grand Tier",
           "A",
           "25"
          ],
          [
           245,
           "Donald Gordon Grand Tier",
           "A",
           "24"
          ],
          [
           245,
           "Donald Gordon Grand Tier",
           "A",
           "23"
          ],
          [
           245,
           "Donald Gordon Grand Tier",
           "A",
           "22"
          ],
          [
           245,
           "Donald Gordon Grand Tier",
           "A",
           "21"
          ],
          [
           245,
           "Donald Gordon Grand Tier",
           "A",
           "20"
          ],
          [
           245,
           "Donald Gordon Grand Tier",
           "A",
           "19"
          ],
          [
           245,
           "Donald Gordon Grand Tier",
           "A",
           "18"
          ],
          [
           245,
           "Donald Gordon Grand Tier",
           "A",
           "17"
          ],
          [
           245,
           "Donald Gordon Grand Tier",
           "A",
           "16"
          ],
          [
           245,
           "Donald Gordon Grand Tier",
           "A",
           "15"
          ],
          [
           245,
           "Donald Gordon Grand Tier",
           "A",
           "14"
          ],
          [
           245,
           "Donald Gordon Grand Tier",
           "A",
           "13"
          ],
          [
           245,
           "Donald Gordon Grand Tier",
           "B",
           "12"
          ],
          [
           245,
           "Donald Gordon Grand Tier",
           "B",
           "11"
          ],
          [
           245,
           "Donald Gordon Grand Tier",
           "B",
           "10"
          ],
          [
           245,
           "Donald Gordon Grand Tier",
           "B",
           "9"
          ],
          [
           236,
           "Donald Gordon Grand Tier",
           "B",
           "8"
          ],
          [
           236,
           "Donald Gordon Grand Tier",
           "B",
           "7"
          ],
          [
           236,
           "Donald Gordon Grand Tier",
           "B",
           "6"
          ],
          [
           236,
           "Donald Gordon Grand Tier",
           "B",
           "5"
          ],
          [
           236,
           "Donald Gordon Grand Tier",
           "B",
           "4"
          ],
          [
           236,
           "Donald Gordon Grand Tier",
           "B",
           "3"
          ],
          [
           245,
           "Donald Gordon Grand Tier",
           "A",
           "44"
          ],
          [
           245,
           "Donald Gordon Grand Tier",
           "A",
           "43"
          ],
          [
           245,
           "Donald Gordon Grand Tier",
           "A",
           "42"
          ],
          [
           245,
           "Donald Gordon Grand Tier",
           "A",
           "41"
          ],
          [
           245,
           "Donald Gordon Grand Tier",
           "A",
           "40"
          ],
          [
           245,
           "Donald Gordon Grand Tier",
           "A",
           "39"
          ],
          [
           245,
           "Donald Gordon Grand Tier",
           "A",
           "38"
          ],
          [
           245,
           "Donald Gordon Grand Tier",
           "A",
           "37"
          ],
          [
           245,
           "Donald Gordon Grand Tier",
           "A",
           "36"
          ],
          [
           245,
           "Donald Gordon Grand Tier",
           "A",
           "35"
          ],
          [
           245,
           "Donald Gordon Grand Tier",
           "A",
           "34"
          ],
          [
           245,
           "Donald Gordon Grand Tier",
           "A",
           "33"
          ],
          [
           245,
           "Donald Gordon Grand Tier",
           "A",
           "12"
          ],
          [
           245,
           "Donald Gordon Grand Tier",
           "A",
           "11"
          ],
          [
           245,
           "Donald Gordon Grand Tier",
           "A",
           "10"
          ],
          [
           245,
           "Donald Gordon Grand Tier",
           "A",
           "9"
          ],
          [
           245,
           "Donald Gordon Grand Tier",
           "A",
           "8"
          ],
          [
           245,
           "Donald Gordon Grand Tier",
           "A",
           "7"
          ],
          [
           245,
           "Donald Gordon Grand Tier",
           "A",
           "6"
          ],
          [
           245,
           "Donald Gordon Grand Tier",
           "A",
           "5"
          ],
          [
           245,
           "Donald Gordon Grand Tier",
           "A",
           "4"
          ],
          [
           245,
           "Donald Gordon Grand Tier",
           "A",
           "3"
          ],
          [
           245,
           "Donald Gordon Grand Tier",
           "A",
           "2"
          ],
          [
           245,
           "Donald Gordon Grand Tier",
           "A",
           "1"
          ],
          [
           118,
           "Balcony",
           "D",
           "53"
          ],
          [
           159,
           "Balcony",
           "D",
           "52"
          ],
          [
           159,
           "Balcony",
           "D",
           "51"
          ],
          [
           159,
           "Balcony",
           "D",
           "50"
          ],
          [
           159,
           "Balcony",
           "D",
           "49"
          ],
          [
           159,
           "Balcony",
           "D",
           "48"
          ],
          [
           159,
           "Balcony",
           "D",
           "47"
          ],
          [
           159,
           "Balcony",
           "D",
           "43"
          ],
          [
           159,
           "Balcony",
           "D",
           "42"
          ],
          [
           159,
           "Balcony",
           "D",
           "41"
          ],
          [
           159,
           "Balcony",
           "D",
           "40"
          ],
          [
           159,
           "Balcony",
           "D",
           "39"
          ],
          [
           159,
           "Balcony",
           "D",
           "38"
          ],
          [
           159,
           "Balcony",
           "D",
           "37"
          ],
          [
           159,
           "Balcony",
           "D",
           "36"
          ],
          [
           159,
           "Balcony",
           "D",
           "35"
          ],
          [
           118,
           "Balcony",
           "D",
           "34"
          ],
          [
           118,
           "Balcony",
           "C",
           "54"
          ],
          [
           196,
           "Balcony",
           "C",
           "53"
          ],
          [
           196,
           "Balcony",
           "C",
           "52"
          ],
          [
           196,
           "Balcony",
           "C",
           "51"
          ],
          [
           196,
           "Balcony",
           "C",
           "50"
          ],
          [
           196,
           "Balcony",
           "C",
           "49"
          ],
          [
           196,
           "Balcony",
           "C",
           "46"
          ],
          [
           196,
           "Balcony",
           "C",
           "45"
          ],
          [
           196,
           "Balcony",
           "C",
           "42"
          ],
          [
           196,
           "Balcony",
           "C",
           "41"
          ],
          [
           196,
           "Balcony",
           "C",
           "40"
          ],
          [
           196,
           "Balcony",
           "C",
           "39"
          ],
          [
           196,
           "Balcony",
           "C",
           "38"
          ],
          [
           196,
           "Balcony",
           "C",
           "37"
          ],
          [
           196,
           "Balcony",
           "C",
           "36"
          ],
          [
           196,
           "Balcony",
           "C",
           "35"
          ],
          [
           196,
           "Balcony",
           "C",
           "34"
          ],
          [
           196,
           "Balcony",
           "C",
           "33"
          ],
          [
           118,
           "Balcony",
           "C",
           "32"
          ],
          [
           118,
           "Balcony",
           "B",
           "53"
          ],
          [
           221,
           "Balcony",
           "B",
           "52"
          ],
          [
           221,
           "Balcony",
           "B",
           "51"
          ],
          [
           221,
           "Balcony",
           "B",
           "47"
          ],
          [
           221,
           "Balcony",
           "B",
           "46"
          ],
          [
           221,
           "Balcony",
           "B",
           "45"
          ],
          [
           221,
           "Balcony",
           "B",
           "44"
          ],
          [
           221,
           "Balcony",
           "B",
           "43"
          ],
          [
           221,
           "Balcony",
           "B",
           "42"
          ],
          [
           221,
           "Balcony",
           "B",
           "41"
          ],
          [
           221,
           "Balcony",
           "B",
           "40"
          ],
          [
           221,
           "Balcony",
           "B",
           "39"
          ],
          [
           221,
           "Balcony",
           "B",
           "38"
          ],
          [
           221,
           "Balcony",
           "B",
           "37"
          ],
          [
           221,
           "Balcony",
           "B",
           "36"
          ],
          [
           221,
           "Balcony",
           "B",
           "35"
          ],
          [
           118,
           "Balcony",
           "B",
           "34"
          ],
          [
           118,
           "Balcony",
           "A",
           "53"
          ],
          [
           236,
           "Balcony",
           "A",
           "52"
          ],
          [
           236,
           "Balcony",
           "A",
           "51"
          ],
          [
           236,
           "Balcony",
           "A",
           "50"
          ],
          [
           236,
           "Balcony",
           "A",
           "49"
          ],
          [
           236,
           "Balcony",
           "A",
           "48"
          ],
          [
           236,
           "Balcony",
           "A",
           "47"
          ],
          [
           236,
           "Balcony",
           "A",
           "46"
          ],
          [
           236,
           "Balcony",
           "A",
           "45"
          ],
          [
           236,
           "Balcony",
           "A",
           "44"
          ],
          [
           236,
           "Balcony",
           "A",
           "43"
          ],
          [
           236,
           "Balcony",
           "A",
           "42"
          ],
          [
           236,
           "Balcony",
           "A",
           "41"
          ],
          [
           236,
           "Balcony",
           "A",
           "40"
          ],
          [
           236,
           "Balcony",
           "A",
           "39"
          ],
          [
           236,
           "Balcony",
           "A",
           "38"
          ],
          [
           236,
           "Balcony",
           "A",
           "37"
          ],
          [
           236,
           "Balcony",
           "A",
           "36"
          ],
          [
           236,
           "Balcony",
           "A",
           "35"
          ],
          [
           236,
           "Balcony",
           "A",
           "34"
          ],
          [
           118,
           "Balcony",
           "A",
           "33"
          ],
          [
           19,
           "Balcony",
           "D",
           "33"
          ],
          [
           19,
           "Balcony",
           "D",
           "32"
          ],
          [
           19,
           "Balcony",
           "C",
           "65"
          ],
          [
           19,
           "Balcony",
           "C",
           "64"
          ],
          [
           48,
           "Balcony",
           "C",
           "63"
          ],
          [
           48,
           "Balcony",
           "C",
           "62"
          ],
          [
           48,
           "Balcony",
           "C",
           "61"
          ],
          [
           48,
           "Balcony",
           "C",
           "60"
          ],
          [
           48,
           "Balcony",
           "C",
           "59"
          ],
          [
           48,
           "Balcony",
           "C",
           "58"
          ],
          [
           118,
           "Balcony",
           "C",
           "57"
          ],
          [
           118,
           "Balcony",
           "C",
           "56"
          ],
          [
           118,
           "Balcony",
           "C",
           "55"
          ],
          [
           118,
           "Balcony",
           "C",
           "30"
          ],
          [
           118,
           "Balcony",
           "C",
           "29"
          ],
          [
           48,
           "Balcony",
           "C",
           "28"
          ],
          [
           48,
           "Balcony",
           "C",
           "27"
          ],
          [
           48,
           "Balcony",
           "C",
           "26"
          ],
          [
           48,
           "Balcony",
           "C",
           "25"
          ],
          [
           48,
           "Balcony",
           "C",
           "24"
          ],
          [
           86,
           "Balcony",
           "B",
           "65"
          ],
          [
           86,
           "Balcony",
           "B",
           "64"
          ],
          [
           86,
           "Balcony",
           "B",
           "63"
          ],
          [
           118,
           "Balcony",
           "B",
           "62"
          ],
          [
           118,
           "Balcony",
           "B",
           "61"
          ],
          [
           118,
           "Balcony",
           "B",
           "60"
          ],
          [
           118,
           "Balcony",
           "B",
           "59"
          ],
          [
           118,
           "Balcony",
           "B",
           "58"
          ],
          [
           118,
           "Balcony",
           "B",
           "57"
          ],
          [
           118,
           "Balcony",
           "B",
           "56"
          ],
          [
           118,
           "Balcony",
           "B",
           "55"
          ],
          [
           118,
           "Balcony",
           "B",
           "54"
          ],
          [
           118,
           "Balcony",
           "B",
           "33"
          ],
          [
           118,
           "Balcony",
           "B",
           "32"
          ],
          [
           118,
           "Balcony",
           "B",
           "30"
          ],
          [
           118,
           "Balcony",
           "B",
           "29"
          ],
          [
           118,
           "Balcony",
           "B",
           "28"
          ],
          [
           118,
           "Balcony",
           "B",
           "27"
          ],
          [
           118,
           "Balcony",
           "B",
           "26"
          ],
          [
           118,
           "Balcony",
           "B",
           "25"
          ],
          [
           86,
           "Balcony",
           "A",
           "67"
          ],
          [
           86,
           "Balcony",
           "A",
           "66"
          ],
          [
           86,
           "Balcony",
           "A",
           "65"
          ],
          [
           159,
           "Balcony",
           "A",
           "60"
          ],
          [
           159,
           "Balcony",
           "A",
           "59"
          ],
          [
           159,
           "Balcony",
           "A",
           "58"
          ],
          [
           221,
           "Balcony",
           "A",
           "57"
          ],
          [
           221,
           "Balcony",
           "A",
           "56"
          ],
          [
           221,
           "Balcony",
           "A",
           "55"
          ],
          [
           221,
           "Balcony",
           "A",
           "54"
          ],
          [
           221,
           "Balcony",
           "A",
           "32"
          ],
          [
           221,
           "Balcony",
           "A",
           "31"
          ],
          [
           221,
           "Balcony",
           "A",
           "30"
          ],
          [
           221,
           "Balcony",
           "A",
           "29"
          ],
          [
           159,
           "Balcony",
           "A",
           "28"
          ],
          [
           159,
           "Balcony",
           "A",
           "27"
          ],
          [
           159,
           "Balcony",
           "A",
           "26"
          ],
          [
           19,
           "Balcony",
           "B",
           "73"
          ],
          [
           19,
           "Balcony",
           "B",
           "72"
          ],
          [
           19,
           "Balcony",
           "B",
           "71"
          ],
          [
           19,
           "Balcony",
           "B",
           "70"
          ],
          [
           19,
           "Balcony",
           "B",
           "4"
          ],
          [
           19,
           "Balcony",
           "B",
           "3"
          ],
          [
           19,
           "Balcony",
           "B",
           "2"
          ],
          [
           19,
           "Balcony",
           "B",
           "1"
          ],
          [
           86,
           "Balcony",
           "A",
           "77"
          ],
          [
           86,
           "Balcony",
           "A",
           "76"
          ],
          [
           86,
           "Balcony",
           "A",
           "75"
          ],
          [
           86,
           "Balcony",
           "A",
           "74"
          ],
          [
           86,
           "Balcony",
           "A",
           "73"
          ],
          [
           86,
           "Balcony",
           "A",
           "72"
          ],
          [
           86,
           "Balcony",
           "A",
           "14"
          ],
          [
           86,
           "Balcony",
           "A",
           "13"
          ],
          [
           86,
           "Balcony",
           "A",
           "12"
          ],
          [
           86,
           "Balcony",
           "A",
           "11"
          ],
          [
           86,
           "Balcony",
           "A",
           "10"
          ],
          [
           86,
           "Balcony",
           "A",
           "9"
          ],
          [
           86,
           "Balcony",
           "A",
           "78"
          ],
          [
           86,
           "Balcony",
           "A",
           "8"
          ],
          [
           48,
           "Balcony",
           "WC",
           "63"
          ],
          [
           48,
           "Balcony",
           "WC",
           "62"
          ],
          [
           48,
           "Balcony",
           "WC",
           "61"
          ],
          [
           48,
           "Balcony",
           "WC",
           "60"
          ],
          [
           48,
           "Balcony",
           "WC",
           "59"
          ],
          [
           48,
           "Balcony",
           "WC",
           "58"
          ],
          [
           48,
           "Balcony",
           "WC",
           "28"
          ],
          [
           48,
           "Balcony",
           "WC",
           "27"
          ],
          [
           48,
           "Balcony",
           "WC",
           "26"
          ],
          [
           48,
           "Balcony",
           "WC",
           "25"
          ],
          [
           48,
           "Balcony",
           "WC",
           "24"
          ],
          [
           236,
           "Donald Gordon Grand Tier",
           "WC",
           "41"
          ],
          [
           236,
           "Donald Gordon Grand Tier",
           "WC",
           "3"
          ],
          [
           236,
           "Donald Gordon Grand Tier",
           "WB",
           "39"
          ],
          [
           236,
           "Donald Gordon Grand Tier",
           "WB",
           "4"
          ],
          [
           86,
           "Stalls Circle",
           "WC",
           "86"
          ],
          [
           86,
           "Stalls Circle",
           "WC",
           "83"
          ],
          [
           159,
           "Stalls Circle",
           "WC",
           "71"
          ],
          [
           159,
           "Stalls Circle",
           "WC",
           "42"
          ],
          [
           86,
           "Stalls Circle",
           "WC",
           "30"
          ],
          [
           86,
           "Stalls Circle",
           "WC",
           "27"
          ],
          [
           86,
           "Stalls Circle",
           "WB",
           "84"
          ],
          [
           86,
           "Stalls Circle",
           "WB",
           "83"
          ],
          [
           86,
           "Stalls Circle",
           "WB",
           "30"
          ],
          [
           86,
           "Stalls Circle",
           "WB",
           "29"
          ]
         ],
         "hovertemplate": "XPosition=%{x}<br>YPosition=%{y}<br>Size=%{marker.size}<br>Price=%{marker.color}<br>ZoneName=%{customdata[1]}<br>SeatRow=%{customdata[2]}<br>SeatNumber=%{customdata[3]}<extra></extra>",
         "legendgroup": "",
         "marker": {
          "color": [
           196,
           196,
           196,
           196,
           196,
           196,
           196,
           196,
           196,
           196,
           196,
           196,
           196,
           196,
           196,
           196,
           196,
           196,
           196,
           196,
           196,
           196,
           196,
           196,
           196,
           196,
           196,
           196,
           196,
           196,
           196,
           196,
           196,
           196,
           196,
           196,
           196,
           196,
           196,
           196,
           196,
           159,
           221,
           221,
           221,
           221,
           221,
           221,
           221,
           221,
           221,
           221,
           221,
           221,
           221,
           221,
           221,
           221,
           221,
           221,
           221,
           221,
           221,
           221,
           221,
           159,
           159,
           159,
           221,
           221,
           221,
           221,
           221,
           221,
           221,
           221,
           221,
           221,
           221,
           221,
           221,
           221,
           221,
           221,
           221,
           221,
           159,
           159,
           159,
           159,
           159,
           221,
           221,
           236,
           236,
           236,
           236,
           236,
           236,
           236,
           236,
           236,
           236,
           236,
           236,
           236,
           221,
           221,
           159,
           159,
           159,
           159,
           159,
           159,
           221,
           221,
           236,
           236,
           236,
           236,
           236,
           236,
           236,
           236,
           236,
           236,
           236,
           236,
           236,
           236,
           236,
           236,
           236,
           236,
           236,
           236,
           221,
           221,
           159,
           159,
           159,
           159,
           159,
           221,
           221,
           236,
           236,
           245,
           245,
           245,
           245,
           245,
           245,
           245,
           245,
           245,
           245,
           245,
           245,
           245,
           245,
           245,
           245,
           245,
           245,
           245,
           236,
           236,
           221,
           221,
           159,
           159,
           159,
           159,
           221,
           221,
           236,
           236,
           245,
           245,
           245,
           245,
           245,
           245,
           245,
           245,
           245,
           245,
           245,
           245,
           245,
           245,
           245,
           245,
           245,
           245,
           245,
           245,
           236,
           236,
           221,
           221,
           159,
           159,
           159,
           159,
           221,
           221,
           236,
           236,
           245,
           245,
           245,
           245,
           245,
           245,
           245,
           245,
           245,
           245,
           245,
           245,
           245,
           245,
           245,
           245,
           245,
           245,
           245,
           236,
           236,
           221,
           221,
           159,
           159,
           221,
           221,
           221,
           221,
           236,
           236,
           245,
           245,
           245,
           245,
           245,
           245,
           245,
           245,
           245,
           245,
           245,
           245,
           245,
           245,
           245,
           245,
           245,
           245,
           245,
           245,
           236,
           236,
           221,
           221,
           221,
           221,
           221,
           221,
           221,
           221,
           236,
           236,
           245,
           245,
           245,
           245,
           245,
           245,
           245,
           245,
           245,
           245,
           245,
           245,
           245,
           245,
           245,
           245,
           245,
           245,
           245,
           236,
           236,
           221,
           221,
           221,
           221,
           221,
           221,
           236,
           236,
           236,
           236,
           245,
           245,
           245,
           245,
           245,
           245,
           245,
           245,
           245,
           245,
           245,
           245,
           245,
           245,
           245,
           245,
           245,
           245,
           245,
           245,
           236,
           236,
           236,
           236,
           221,
           221,
           245,
           245,
           245,
           245,
           245,
           245,
           245,
           245,
           245,
           245,
           245,
           245,
           245,
           245,
           245,
           245,
           245,
           245,
           245,
           245,
           245,
           245,
           245,
           245,
           245,
           245,
           245,
           245,
           245,
           245,
           245,
           245,
           245,
           245,
           245,
           245,
           245,
           245,
           245,
           159,
           159,
           196,
           196,
           221,
           221,
           245,
           245,
           245,
           245,
           245,
           245,
           245,
           245,
           245,
           245,
           245,
           245,
           245,
           245,
           245,
           245,
           245,
           245,
           245,
           221,
           221,
           196,
           196,
           159,
           159,
           159,
           159,
           196,
           196,
           221,
           221,
           236,
           236,
           236,
           236,
           236,
           236,
           236,
           236,
           236,
           236,
           236,
           236,
           236,
           236,
           236,
           236,
           236,
           236,
           221,
           221,
           196,
           196,
           159,
           159,
           159,
           159,
           196,
           196,
           221,
           221,
           236,
           236,
           236,
           236,
           236,
           236,
           236,
           236,
           236,
           236,
           236,
           236,
           236,
           236,
           236,
           236,
           236,
           221,
           221,
           196,
           196,
           159,
           159,
           159,
           159,
           196,
           196,
           196,
           221,
           221,
           236,
           236,
           236,
           236,
           236,
           236,
           236,
           236,
           236,
           236,
           236,
           236,
           236,
           236,
           236,
           236,
           221,
           221,
           196,
           196,
           196,
           159,
           159,
           159,
           159,
           196,
           196,
           196,
           221,
           221,
           236,
           236,
           236,
           236,
           236,
           236,
           221,
           221,
           221,
           236,
           236,
           236,
           236,
           236,
           236,
           221,
           221,
           196,
           196,
           196,
           159,
           159,
           19,
           19,
           19,
           19,
           19,
           19,
           19,
           19,
           19,
           19,
           19,
           19,
           19,
           19,
           19,
           19,
           19,
           19,
           19,
           19,
           19,
           19,
           19,
           19,
           196,
           196,
           196,
           196,
           196,
           86,
           196,
           196,
           196,
           196,
           196,
           196,
           196,
           196,
           196,
           196,
           196,
           196,
           86,
           196,
           196,
           196,
           196,
           196,
           236,
           236,
           236,
           236,
           236,
           236,
           236,
           236,
           236,
           236,
           236,
           236,
           236,
           236,
           236,
           236,
           236,
           236,
           236,
           236,
           236,
           245,
           245,
           245,
           245,
           245,
           245,
           245,
           245,
           245,
           245,
           245,
           245,
           245,
           245,
           245,
           245,
           245,
           245,
           245,
           245,
           245,
           245,
           245,
           245,
           245,
           245,
           236,
           19,
           19,
           19,
           19,
           19,
           19,
           19,
           19,
           19,
           19,
           19,
           19,
           19,
           19,
           19,
           19,
           19,
           19,
           19,
           19,
           19,
           19,
           19,
           19,
           19,
           19,
           19,
           19,
           19,
           19,
           86,
           86,
           86,
           86,
           118,
           118,
           118,
           118,
           118,
           86,
           159,
           159,
           159,
           159,
           159,
           159,
           159,
           159,
           159,
           159,
           159,
           159,
           86,
           118,
           118,
           118,
           118,
           118,
           86,
           86,
           86,
           86,
           86,
           86,
           86,
           86,
           159,
           159,
           196,
           196,
           196,
           196,
           196,
           196,
           196,
           196,
           196,
           196,
           159,
           159,
           159,
           159,
           86,
           86,
           86,
           86,
           196,
           196,
           196,
           221,
           221,
           221,
           221,
           221,
           221,
           221,
           236,
           236,
           236,
           236,
           236,
           236,
           236,
           236,
           236,
           236,
           236,
           236,
           221,
           221,
           221,
           221,
           221,
           221,
           221,
           196,
           196,
           196,
           19,
           19,
           19,
           19,
           19,
           65,
           65,
           65,
           65,
           65,
           65,
           65,
           65,
           65,
           65,
           19,
           19,
           19,
           19,
           19,
           19,
           19,
           32,
           32,
           32,
           32,
           32,
           32,
           32,
           86,
           86,
           86,
           86,
           86,
           86,
           86,
           86,
           86,
           86,
           86,
           86,
           86,
           86,
           86,
           86,
           86,
           86,
           86,
           86,
           86,
           86,
           86,
           86,
           32,
           32,
           32,
           32,
           32,
           32,
           32,
           19,
           19,
           19,
           65,
           65,
           65,
           65,
           65,
           65,
           86,
           86,
           86,
           86,
           86,
           159,
           159,
           159,
           159,
           159,
           159,
           196,
           196,
           196,
           196,
           196,
           196,
           196,
           196,
           196,
           196,
           196,
           196,
           159,
           159,
           159,
           159,
           159,
           159,
           86,
           86,
           86,
           86,
           65,
           65,
           65,
           65,
           65,
           236,
           236,
           236,
           236,
           236,
           236,
           236,
           236,
           236,
           236,
           236,
           236,
           236,
           236,
           236,
           236,
           236,
           236,
           245,
           245,
           245,
           245,
           245,
           245,
           245,
           245,
           245,
           245,
           245,
           245,
           245,
           245,
           245,
           245,
           245,
           245,
           245,
           245,
           245,
           236,
           236,
           236,
           236,
           236,
           236,
           236,
           236,
           236,
           245,
           245,
           245,
           245,
           245,
           245,
           245,
           245,
           245,
           245,
           245,
           245,
           245,
           245,
           245,
           245,
           245,
           245,
           236,
           236,
           236,
           236,
           236,
           236,
           236,
           236,
           236,
           236,
           236,
           236,
           236,
           236,
           236,
           245,
           245,
           245,
           245,
           245,
           245,
           245,
           245,
           245,
           245,
           245,
           245,
           245,
           245,
           245,
           245,
           245,
           245,
           245,
           245,
           245,
           245,
           245,
           245,
           245,
           245,
           245,
           245,
           236,
           236,
           236,
           236,
           236,
           236,
           245,
           245,
           245,
           245,
           245,
           245,
           245,
           245,
           245,
           245,
           245,
           245,
           245,
           245,
           245,
           245,
           245,
           245,
           245,
           245,
           245,
           245,
           245,
           245,
           118,
           159,
           159,
           159,
           159,
           159,
           159,
           159,
           159,
           159,
           159,
           159,
           159,
           159,
           159,
           159,
           118,
           118,
           196,
           196,
           196,
           196,
           196,
           196,
           196,
           196,
           196,
           196,
           196,
           196,
           196,
           196,
           196,
           196,
           196,
           118,
           118,
           221,
           221,
           221,
           221,
           221,
           221,
           221,
           221,
           221,
           221,
           221,
           221,
           221,
           221,
           221,
           118,
           118,
           236,
           236,
           236,
           236,
           236,
           236,
           236,
           236,
           236,
           236,
           236,
           236,
           236,
           236,
           236,
           236,
           236,
           236,
           236,
           118,
           19,
           19,
           19,
           19,
           48,
           48,
           48,
           48,
           48,
           48,
           118,
           118,
           118,
           118,
           118,
           48,
           48,
           48,
           48,
           48,
           86,
           86,
           86,
           118,
           118,
           118,
           118,
           118,
           118,
           118,
           118,
           118,
           118,
           118,
           118,
           118,
           118,
           118,
           118,
           118,
           86,
           86,
           86,
           159,
           159,
           159,
           221,
           221,
           221,
           221,
           221,
           221,
           221,
           221,
           159,
           159,
           159,
           19,
           19,
           19,
           19,
           19,
           19,
           19,
           19,
           86,
           86,
           86,
           86,
           86,
           86,
           86,
           86,
           86,
           86,
           86,
           86,
           86,
           86,
           48,
           48,
           48,
           48,
           48,
           48,
           48,
           48,
           48,
           48,
           48,
           236,
           236,
           236,
           236,
           86,
           86,
           159,
           159,
           86,
           86,
           86,
           86,
           86,
           86
          ],
          "coloraxis": "coloraxis",
          "size": [
           1,
           1,
           1,
           1,
           1,
           1,
           1,
           1,
           1,
           1,
           1,
           1,
           1,
           1,
           1,
           1,
           1,
           1,
           1,
           1,
           1,
           1,
           1,
           1,
           1,
           1,
           1,
           1,
           1,
           1,
           1,
           1,
           1,
           1,
           1,
           1,
           1,
           1,
           1,
           1,
           1,
           1,
           1,
           1,
           1,
           1,
           1,
           1,
           1,
           1,
           1,
           1,
           1,
           1,
           1,
           1,
           1,
           1,
           1,
           1,
           1,
           1,
           1,
           1,
           1,
           1,
           1,
           1,
           1,
           1,
           1,
           1,
           1,
           1,
           1,
           1,
           1,
           1,
           1,
           1,
           1,
           1,
           1,
           1,
           1,
           1,
           1,
           1,
           1,
           1,
           1,
           1,
           1,
           1,
           1,
           1,
           1,
           1,
           1,
           1,
           1,
           1,
           1,
           1,
           1,
           1,
           1,
           1,
           1,
           1,
           1,
           1,
           1,
           1,
           1,
           1,
           1,
           1,
           1,
           1,
           1,
           1,
           1,
           1,
           1,
           1,
           1,
           1,
           1,
           1,
           1,
           1,
           1,
           1,
           1,
           1,
           1,
           1,
           1,
           1,
           1,
           1,
           1,
           1,
           1,
           1,
           1,
           1,
           1,
           1,
           1,
           1,
           1,
           1,
           1,
           1,
           1,
           1,
           1,
           1,
           1,
           1,
           1,
           1,
           1,
           1,
           1,
           1,
           1,
           1,
           1,
           1,
           1,
           1,
           1,
           1,
           1,
           1,
           1,
           1,
           1,
           1,
           1,
           1,
           1,
           1,
           1,
           1,
           1,
           1,
           1,
           1,
           1,
           1,
           1,
           1,
           1,
           1,
           1,
           1,
           1,
           1,
           1,
           1,
           1,
           1,
           1,
           1,
           1,
           1,
           1,
           1,
           1,
           1,
           1,
           1,
           1,
           1,
           1,
           1,
           1,
           1,
           1,
           1,
           1,
           1,
           1,
           1,
           1,
           1,
           1,
           1,
           1,
           1,
           1,
           1,
           1,
           1,
           1,
           1,
           1,
           1,
           1,
           1,
           1,
           1,
           1,
           1,
           1,
           1,
           1,
           1,
           1,
           1,
           1,
           1,
           1,
           1,
           1,
           1,
           1,
           1,
           1,
           1,
           1,
           1,
           1,
           1,
           1,
           1,
           1,
           1,
           1,
           1,
           1,
           1,
           1,
           1,
           1,
           1,
           1,
           1,
           1,
           1,
           1,
           1,
           1,
           1,
           1,
           1,
           1,
           1,
           1,
           1,
           1,
           1,
           1,
           1,
           1,
           1,
           1,
           1,
           1,
           1,
           1,
           1,
           1,
           1,
           1,
           1,
           1,
           1,
           1,
           1,
           1,
           1,
           1,
           1,
           1,
           1,
           1,
           1,
           1,
           1,
           1,
           1,
           1,
           1,
           1,
           1,
           1,
           1,
           1,
           1,
           1,
           1,
           1,
           1,
           1,
           1,
           1,
           1,
           1,
           1,
           1,
           1,
           1,
           1,
           1,
           1,
           1,
           1,
           1,
           1,
           1,
           1,
           1,
           1,
           1,
           1,
           1,
           1,
           1,
           1,
           1,
           1,
           1,
           1,
           1,
           1,
           1,
           1,
           1,
           1,
           1,
           1,
           1,
           1,
           1,
           1,
           1,
           1,
           1,
           1,
           1,
           1,
           1,
           1,
           1,
           1,
           1,
           1,
           1,
           1,
           1,
           1,
           1,
           1,
           1,
           1,
           1,
           1,
           1,
           1,
           1,
           1,
           1,
           1,
           1,
           1,
           1,
           1,
           1,
           1,
           1,
           1,
           1,
           1,
           1,
           1,
           1,
           1,
           1,
           1,
           1,
           1,
           1,
           1,
           1,
           1,
           1,
           1,
           1,
           1,
           1,
           1,
           1,
           1,
           1,
           1,
           1,
           1,
           1,
           1,
           1,
           1,
           1,
           1,
           1,
           1,
           1,
           1,
           1,
           1,
           1,
           1,
           1,
           1,
           1,
           1,
           1,
           1,
           1,
           1,
           1,
           1,
           1,
           1,
           1,
           1,
           1,
           1,
           1,
           1,
           1,
           1,
           1,
           1,
           1,
           1,
           1,
           1,
           1,
           1,
           1,
           1,
           1,
           1,
           1,
           1,
           1,
           1,
           1,
           1,
           1,
           1,
           1,
           1,
           1,
           1,
           1,
           1,
           1,
           1,
           1,
           1,
           1,
           1,
           1,
           1,
           1,
           1,
           1,
           1,
           1,
           1,
           1,
           1,
           1,
           1,
           1,
           1,
           1,
           1,
           1,
           1,
           1,
           1,
           1,
           1,
           1,
           1,
           1,
           1,
           1,
           1,
           1,
           1,
           1,
           1,
           1,
           1,
           1,
           1,
           1,
           1,
           1,
           1,
           1,
           1,
           1,
           1,
           1,
           1,
           1,
           1,
           1,
           1,
           1,
           1,
           1,
           1,
           1,
           1,
           1,
           1,
           1,
           1,
           1,
           1,
           1,
           1,
           1,
           1,
           1,
           1,
           1,
           1,
           1,
           1,
           1,
           1,
           1,
           1,
           1,
           1,
           1,
           1,
           1,
           1,
           1,
           1,
           1,
           1,
           1,
           1,
           1,
           1,
           1,
           1,
           1,
           1,
           1,
           1,
           1,
           1,
           1,
           1,
           1,
           1,
           1,
           1,
           1,
           1,
           1,
           1,
           1,
           1,
           1,
           1,
           1,
           1,
           1,
           1,
           1,
           1,
           1,
           1,
           1,
           1,
           1,
           1,
           1,
           1,
           1,
           1,
           1,
           1,
           1,
           1,
           1,
           1,
           1,
           1,
           1,
           1,
           1,
           1,
           1,
           1,
           1,
           1,
           1,
           1,
           1,
           1,
           1,
           1,
           1,
           1,
           1,
           1,
           1,
           1,
           1,
           1,
           1,
           1,
           1,
           1,
           1,
           1,
           1,
           1,
           1,
           1,
           1,
           1,
           1,
           1,
           1,
           1,
           1,
           1,
           1,
           1,
           1,
           1,
           1,
           1,
           1,
           1,
           1,
           1,
           1,
           1,
           1,
           1,
           1,
           1,
           1,
           1,
           1,
           1,
           1,
           1,
           1,
           1,
           1,
           1,
           1,
           1,
           1,
           1,
           1,
           1,
           1,
           1,
           1,
           1,
           1,
           1,
           1,
           1,
           1,
           1,
           1,
           1,
           1,
           1,
           1,
           1,
           1,
           1,
           1,
           1,
           1,
           1,
           1,
           1,
           1,
           1,
           1,
           1,
           1,
           1,
           1,
           1,
           1,
           1,
           1,
           1,
           1,
           1,
           1,
           1,
           1,
           1,
           1,
           1,
           1,
           1,
           1,
           1,
           1,
           1,
           1,
           1,
           1,
           1,
           1,
           1,
           1,
           1,
           1,
           1,
           1,
           1,
           1,
           1,
           1,
           1,
           1,
           1,
           1,
           1,
           1,
           1,
           1,
           1,
           1,
           1,
           1,
           1,
           1,
           1,
           1,
           1,
           1,
           1,
           1,
           1,
           1,
           1,
           1,
           1,
           1,
           1,
           1,
           1,
           1,
           1,
           1,
           1,
           1,
           1,
           1,
           1,
           1,
           1,
           1,
           1,
           1,
           1,
           1,
           1,
           1,
           1,
           1,
           1,
           1,
           1,
           1,
           1,
           1,
           1,
           1,
           1,
           1,
           1,
           1,
           1,
           1,
           1,
           1,
           1,
           1,
           1,
           1,
           1,
           1,
           1,
           1,
           1,
           1,
           1,
           1,
           1,
           1,
           1,
           1,
           1,
           1,
           1,
           1,
           1,
           1,
           1,
           1,
           1,
           1,
           1,
           1,
           1,
           1,
           1,
           1,
           1,
           1,
           1,
           1,
           1,
           1,
           1,
           1,
           1,
           1,
           1,
           1,
           1,
           1,
           1,
           1,
           1,
           1,
           1,
           1,
           1,
           1,
           1,
           1,
           1,
           1,
           1,
           1,
           1,
           1,
           1,
           1,
           1,
           1,
           1,
           1,
           1,
           1,
           1,
           1,
           1,
           1,
           1,
           1,
           1,
           1,
           1,
           1,
           1,
           1,
           1,
           1,
           1,
           1,
           1,
           1,
           1,
           1,
           1,
           1,
           1,
           1,
           1,
           1,
           1,
           1,
           1,
           1,
           1,
           1,
           1,
           1,
           1,
           1,
           1,
           1,
           1,
           1,
           1,
           1,
           1,
           1,
           1,
           1,
           1,
           1,
           1,
           1,
           1,
           1,
           1,
           1,
           1,
           1,
           1,
           1,
           1,
           1,
           1,
           1,
           1,
           1,
           1,
           1,
           1,
           1,
           1,
           1,
           1,
           1,
           1,
           1,
           1,
           1,
           1,
           1,
           1,
           1,
           1,
           1,
           1,
           1,
           1,
           1,
           1,
           1,
           1,
           1,
           1,
           1,
           1,
           1,
           1,
           1,
           1,
           1,
           1,
           1,
           1,
           1,
           1,
           1,
           1,
           1,
           1,
           1,
           1,
           1,
           1,
           1,
           1,
           1,
           1,
           1,
           1,
           1,
           1,
           1,
           1,
           1,
           1,
           1,
           1,
           1,
           1,
           1,
           1,
           1,
           1,
           1,
           1,
           1,
           1,
           1,
           1,
           1,
           1,
           1,
           1,
           1,
           1,
           1,
           1,
           1,
           1,
           1,
           1,
           1,
           1,
           1,
           1,
           1,
           1,
           1,
           1,
           1,
           1,
           1,
           1,
           1,
           1,
           1,
           1,
           1,
           1,
           1,
           1,
           1,
           1,
           1,
           1,
           1,
           1,
           1,
           1,
           1,
           1,
           1,
           1,
           1,
           1,
           1,
           1,
           1,
           1,
           1,
           1,
           1,
           1,
           1,
           1,
           1,
           1,
           1,
           1,
           1,
           1,
           1,
           1,
           1,
           1,
           1,
           1,
           1,
           1,
           1,
           1,
           1,
           1,
           1,
           1,
           1,
           1,
           1,
           1,
           1,
           1,
           1,
           1,
           1,
           1,
           1,
           1,
           1,
           1,
           1,
           1,
           1,
           1,
           1,
           1,
           1,
           1,
           1,
           1,
           1,
           1,
           1,
           1
          ],
          "sizemode": "area",
          "sizeref": 0.012345679012345678,
          "symbol": "circle"
         },
         "mode": "markers",
         "name": "",
         "showlegend": false,
         "type": "scattergl",
         "x": [
          38,
          39,
          40,
          41,
          42,
          43,
          33,
          34,
          35,
          36,
          37,
          39,
          40,
          41,
          43,
          44,
          45,
          46,
          47,
          27,
          28,
          32,
          33,
          34,
          35,
          36,
          37,
          38,
          39,
          40,
          41,
          42,
          43,
          44,
          45,
          46,
          47,
          48,
          49,
          53,
          54,
          25,
          26,
          27,
          32,
          33,
          34,
          35,
          36,
          37,
          38,
          39,
          40,
          41,
          42,
          43,
          44,
          45,
          46,
          47,
          48,
          49,
          50,
          54,
          55,
          56,
          24,
          25,
          26,
          27,
          32,
          33,
          34,
          35,
          36,
          37,
          42,
          43,
          44,
          45,
          46,
          47,
          48,
          49,
          54,
          55,
          56,
          57,
          22,
          23,
          24,
          25,
          26,
          32,
          33,
          34,
          35,
          36,
          37,
          38,
          41,
          42,
          45,
          46,
          49,
          50,
          55,
          56,
          57,
          58,
          59,
          22,
          23,
          24,
          25,
          26,
          31,
          32,
          33,
          34,
          35,
          36,
          37,
          38,
          39,
          40,
          41,
          42,
          43,
          44,
          45,
          46,
          47,
          48,
          49,
          50,
          55,
          56,
          57,
          58,
          59,
          21,
          22,
          23,
          24,
          25,
          26,
          32,
          33,
          34,
          35,
          36,
          37,
          38,
          39,
          40,
          41,
          42,
          43,
          44,
          45,
          46,
          47,
          48,
          49,
          50,
          55,
          56,
          57,
          58,
          59,
          60,
          21,
          22,
          23,
          24,
          25,
          26,
          31,
          32,
          33,
          34,
          35,
          36,
          37,
          38,
          39,
          40,
          41,
          42,
          43,
          44,
          45,
          46,
          47,
          48,
          49,
          50,
          55,
          56,
          57,
          58,
          59,
          60,
          21,
          22,
          23,
          24,
          25,
          26,
          32,
          33,
          34,
          35,
          36,
          37,
          38,
          39,
          40,
          41,
          42,
          43,
          44,
          45,
          46,
          47,
          48,
          49,
          50,
          55,
          56,
          57,
          58,
          59,
          60,
          21,
          22,
          23,
          24,
          25,
          26,
          31,
          32,
          33,
          34,
          35,
          36,
          37,
          38,
          39,
          40,
          41,
          42,
          43,
          44,
          45,
          46,
          47,
          48,
          49,
          50,
          55,
          56,
          57,
          58,
          59,
          60,
          21,
          22,
          23,
          24,
          25,
          26,
          32,
          33,
          34,
          35,
          36,
          37,
          38,
          39,
          40,
          41,
          42,
          43,
          44,
          45,
          46,
          47,
          48,
          49,
          50,
          55,
          56,
          57,
          58,
          59,
          60,
          21,
          22,
          23,
          24,
          25,
          26,
          31,
          32,
          33,
          34,
          35,
          36,
          37,
          38,
          39,
          40,
          41,
          42,
          43,
          44,
          45,
          46,
          47,
          48,
          49,
          50,
          55,
          56,
          57,
          58,
          59,
          60,
          32,
          33,
          34,
          35,
          36,
          37,
          38,
          39,
          40,
          41,
          42,
          43,
          44,
          45,
          46,
          47,
          48,
          49,
          50,
          31,
          32,
          33,
          34,
          35,
          36,
          37,
          38,
          39,
          40,
          41,
          42,
          43,
          44,
          45,
          46,
          47,
          48,
          49,
          50,
          21,
          22,
          23,
          24,
          25,
          26,
          32,
          33,
          34,
          35,
          36,
          37,
          38,
          39,
          40,
          41,
          42,
          43,
          44,
          45,
          46,
          47,
          48,
          49,
          50,
          55,
          56,
          57,
          58,
          59,
          60,
          21,
          22,
          23,
          24,
          25,
          26,
          32,
          33,
          34,
          35,
          36,
          37,
          38,
          39,
          40,
          41,
          42,
          43,
          44,
          45,
          46,
          47,
          48,
          49,
          55,
          56,
          57,
          58,
          59,
          60,
          22,
          23,
          24,
          25,
          26,
          27,
          33,
          34,
          35,
          36,
          37,
          38,
          39,
          40,
          41,
          42,
          43,
          44,
          45,
          46,
          47,
          48,
          49,
          54,
          55,
          56,
          57,
          58,
          59,
          22,
          23,
          24,
          25,
          26,
          27,
          28,
          33,
          34,
          35,
          36,
          37,
          38,
          39,
          40,
          41,
          42,
          43,
          44,
          45,
          46,
          47,
          48,
          53,
          54,
          55,
          56,
          57,
          58,
          59,
          23,
          24,
          25,
          26,
          27,
          28,
          29,
          34,
          35,
          36,
          37,
          38,
          39,
          40,
          41,
          42,
          43,
          44,
          45,
          46,
          47,
          48,
          52,
          53,
          54,
          55,
          56,
          57,
          58,
          27,
          28,
          29,
          30,
          31,
          32,
          33,
          34,
          35,
          36,
          37,
          38,
          43,
          44,
          45,
          46,
          47,
          48,
          49,
          50,
          51,
          52,
          53,
          54,
          27,
          28,
          29,
          30,
          31,
          32,
          33,
          34,
          35,
          36,
          37,
          38,
          43,
          44,
          45,
          46,
          47,
          48,
          49,
          50,
          51,
          52,
          53,
          54,
          27,
          28,
          29,
          30,
          32,
          33,
          34,
          35,
          36,
          37,
          44,
          45,
          46,
          47,
          48,
          49,
          51,
          52,
          53,
          54,
          27,
          28,
          29,
          30,
          31,
          32,
          33,
          34,
          35,
          36,
          37,
          38,
          39,
          40,
          41,
          42,
          43,
          44,
          45,
          46,
          47,
          48,
          49,
          50,
          51,
          52,
          53,
          54,
          14,
          15,
          16,
          17,
          21,
          22,
          23,
          24,
          25,
          27,
          28,
          29,
          30,
          31,
          32,
          49,
          50,
          51,
          52,
          53,
          54,
          56,
          57,
          58,
          59,
          60,
          64,
          65,
          66,
          67,
          14,
          15,
          16,
          17,
          20,
          21,
          22,
          23,
          24,
          25,
          27,
          28,
          29,
          30,
          31,
          32,
          49,
          50,
          51,
          52,
          53,
          54,
          56,
          57,
          58,
          59,
          60,
          61,
          64,
          65,
          66,
          67,
          14,
          15,
          16,
          17,
          19,
          20,
          26,
          27,
          28,
          29,
          30,
          51,
          52,
          53,
          54,
          55,
          59,
          60,
          61,
          62,
          64,
          65,
          66,
          67,
          14,
          15,
          16,
          19,
          20,
          21,
          22,
          23,
          24,
          25,
          26,
          27,
          28,
          29,
          30,
          31,
          50,
          51,
          52,
          53,
          54,
          55,
          56,
          57,
          58,
          59,
          60,
          61,
          62,
          65,
          66,
          67,
          8,
          9,
          10,
          11,
          12,
          15,
          16,
          17,
          18,
          19,
          61,
          62,
          63,
          64,
          65,
          69,
          70,
          71,
          72,
          73,
          3,
          4,
          6,
          7,
          8,
          9,
          10,
          11,
          12,
          15,
          16,
          17,
          18,
          19,
          20,
          21,
          22,
          23,
          24,
          25,
          26,
          54,
          55,
          56,
          57,
          58,
          59,
          60,
          61,
          62,
          63,
          64,
          65,
          69,
          70,
          71,
          72,
          73,
          74,
          75,
          77,
          78,
          79,
          3,
          4,
          5,
          6,
          7,
          8,
          9,
          10,
          11,
          12,
          13,
          14,
          15,
          16,
          17,
          18,
          19,
          20,
          21,
          22,
          23,
          24,
          25,
          55,
          56,
          57,
          58,
          59,
          60,
          61,
          62,
          63,
          64,
          65,
          66,
          71,
          72,
          73,
          74,
          75,
          76,
          77,
          78,
          79,
          29,
          30,
          31,
          32,
          33,
          34,
          37,
          38,
          39,
          40,
          41,
          42,
          44,
          45,
          46,
          47,
          48,
          49,
          28,
          29,
          30,
          31,
          32,
          33,
          34,
          35,
          36,
          37,
          38,
          39,
          40,
          41,
          42,
          43,
          44,
          45,
          46,
          47,
          48,
          12,
          13,
          14,
          15,
          16,
          18,
          19,
          20,
          21,
          30,
          31,
          32,
          33,
          34,
          35,
          36,
          37,
          38,
          39,
          40,
          41,
          42,
          43,
          44,
          45,
          46,
          47,
          56,
          57,
          58,
          59,
          61,
          62,
          63,
          64,
          65,
          11,
          12,
          13,
          14,
          15,
          16,
          18,
          19,
          20,
          21,
          29,
          30,
          31,
          32,
          33,
          34,
          35,
          36,
          37,
          38,
          39,
          40,
          41,
          42,
          43,
          44,
          45,
          46,
          47,
          48,
          56,
          57,
          58,
          59,
          61,
          62,
          63,
          64,
          65,
          66,
          10,
          11,
          12,
          13,
          14,
          15,
          16,
          17,
          18,
          19,
          20,
          21,
          56,
          57,
          58,
          59,
          60,
          61,
          62,
          63,
          64,
          65,
          66,
          67,
          29,
          30,
          31,
          32,
          33,
          34,
          35,
          40,
          41,
          42,
          44,
          45,
          46,
          47,
          48,
          49,
          50,
          29,
          30,
          31,
          32,
          33,
          34,
          37,
          38,
          41,
          42,
          43,
          44,
          45,
          46,
          47,
          48,
          49,
          50,
          51,
          30,
          31,
          32,
          36,
          37,
          38,
          39,
          40,
          41,
          42,
          43,
          44,
          45,
          46,
          47,
          48,
          49,
          30,
          31,
          32,
          33,
          34,
          35,
          36,
          37,
          38,
          39,
          40,
          41,
          42,
          43,
          44,
          45,
          46,
          47,
          48,
          49,
          50,
          54,
          55,
          15,
          16,
          19,
          20,
          21,
          22,
          23,
          24,
          25,
          26,
          27,
          55,
          56,
          59,
          60,
          61,
          62,
          63,
          14,
          15,
          16,
          18,
          19,
          20,
          21,
          22,
          23,
          25,
          26,
          27,
          54,
          55,
          58,
          59,
          60,
          61,
          62,
          63,
          14,
          15,
          16,
          21,
          22,
          23,
          24,
          25,
          26,
          27,
          54,
          55,
          56,
          57,
          58,
          59,
          60,
          9,
          10,
          11,
          12,
          67,
          68,
          69,
          70,
          7,
          8,
          9,
          10,
          11,
          12,
          67,
          68,
          69,
          70,
          71,
          72,
          6,
          73,
          21,
          22,
          23,
          24,
          25,
          26,
          61,
          62,
          63,
          64,
          65,
          26,
          61,
          26,
          61,
          21,
          22,
          33,
          54,
          65,
          66,
          21,
          22,
          65,
          66
         ],
         "xaxis": "x",
         "y": [
          19,
          19,
          19,
          19,
          19,
          19,
          18,
          18,
          18,
          18,
          18,
          18,
          18,
          18,
          18,
          18,
          18,
          18,
          18,
          17,
          17,
          17,
          17,
          17,
          17,
          17,
          17,
          17,
          17,
          17,
          17,
          17,
          17,
          17,
          17,
          17,
          17,
          17,
          17,
          17,
          17,
          16,
          16,
          16,
          16,
          16,
          16,
          16,
          16,
          16,
          16,
          16,
          16,
          16,
          16,
          16,
          16,
          16,
          16,
          16,
          16,
          16,
          16,
          16,
          16,
          16,
          15,
          15,
          15,
          15,
          15,
          15,
          15,
          15,
          15,
          15,
          15,
          15,
          15,
          15,
          15,
          15,
          15,
          15,
          15,
          15,
          15,
          15,
          14,
          14,
          14,
          14,
          14,
          14,
          14,
          14,
          14,
          14,
          14,
          14,
          14,
          14,
          14,
          14,
          14,
          14,
          14,
          14,
          14,
          14,
          14,
          13,
          13,
          13,
          13,
          13,
          13,
          13,
          13,
          13,
          13,
          13,
          13,
          13,
          13,
          13,
          13,
          13,
          13,
          13,
          13,
          13,
          13,
          13,
          13,
          13,
          13,
          13,
          13,
          13,
          13,
          12,
          12,
          12,
          12,
          12,
          12,
          12,
          12,
          12,
          12,
          12,
          12,
          12,
          12,
          12,
          12,
          12,
          12,
          12,
          12,
          12,
          12,
          12,
          12,
          12,
          12,
          12,
          12,
          12,
          12,
          12,
          11,
          11,
          11,
          11,
          11,
          11,
          11,
          11,
          11,
          11,
          11,
          11,
          11,
          11,
          11,
          11,
          11,
          11,
          11,
          11,
          11,
          11,
          11,
          11,
          11,
          11,
          11,
          11,
          11,
          11,
          11,
          11,
          10,
          10,
          10,
          10,
          10,
          10,
          10,
          10,
          10,
          10,
          10,
          10,
          10,
          10,
          10,
          10,
          10,
          10,
          10,
          10,
          10,
          10,
          10,
          10,
          10,
          10,
          10,
          10,
          10,
          10,
          10,
          9,
          9,
          9,
          9,
          9,
          9,
          9,
          9,
          9,
          9,
          9,
          9,
          9,
          9,
          9,
          9,
          9,
          9,
          9,
          9,
          9,
          9,
          9,
          9,
          9,
          9,
          9,
          9,
          9,
          9,
          9,
          9,
          8,
          8,
          8,
          8,
          8,
          8,
          8,
          8,
          8,
          8,
          8,
          8,
          8,
          8,
          8,
          8,
          8,
          8,
          8,
          8,
          8,
          8,
          8,
          8,
          8,
          8,
          8,
          8,
          8,
          8,
          8,
          7,
          7,
          7,
          7,
          7,
          7,
          7,
          7,
          7,
          7,
          7,
          7,
          7,
          7,
          7,
          7,
          7,
          7,
          7,
          7,
          7,
          7,
          7,
          7,
          7,
          7,
          7,
          7,
          7,
          7,
          7,
          7,
          6,
          6,
          6,
          6,
          6,
          6,
          6,
          6,
          6,
          6,
          6,
          6,
          6,
          6,
          6,
          6,
          6,
          6,
          6,
          5,
          5,
          5,
          5,
          5,
          5,
          5,
          5,
          5,
          5,
          5,
          5,
          5,
          5,
          5,
          5,
          5,
          5,
          5,
          5,
          4,
          4,
          4,
          4,
          4,
          4,
          4,
          4,
          4,
          4,
          4,
          4,
          4,
          4,
          4,
          4,
          4,
          4,
          4,
          4,
          4,
          4,
          4,
          4,
          4,
          4,
          4,
          4,
          4,
          4,
          4,
          3,
          3,
          3,
          3,
          3,
          3,
          3,
          3,
          3,
          3,
          3,
          3,
          3,
          3,
          3,
          3,
          3,
          3,
          3,
          3,
          3,
          3,
          3,
          3,
          3,
          3,
          3,
          3,
          3,
          3,
          2,
          2,
          2,
          2,
          2,
          2,
          2,
          2,
          2,
          2,
          2,
          2,
          2,
          2,
          2,
          2,
          2,
          2,
          2,
          2,
          2,
          2,
          2,
          2,
          2,
          2,
          2,
          2,
          2,
          1,
          1,
          1,
          1,
          1,
          1,
          1,
          1,
          1,
          1,
          1,
          1,
          1,
          1,
          1,
          1,
          1,
          1,
          1,
          1,
          1,
          1,
          1,
          1,
          1,
          1,
          1,
          1,
          1,
          1,
          0,
          0,
          0,
          0,
          0,
          0,
          0,
          0,
          0,
          0,
          0,
          0,
          0,
          0,
          0,
          0,
          0,
          0,
          0,
          0,
          0,
          0,
          0,
          0,
          0,
          0,
          0,
          0,
          0,
          40,
          40,
          40,
          40,
          40,
          40,
          40,
          40,
          40,
          40,
          40,
          40,
          40,
          40,
          40,
          40,
          40,
          40,
          40,
          40,
          40,
          40,
          40,
          40,
          39,
          39,
          39,
          39,
          39,
          39,
          39,
          39,
          39,
          39,
          39,
          39,
          39,
          39,
          39,
          39,
          39,
          39,
          39,
          39,
          39,
          39,
          39,
          39,
          38,
          38,
          38,
          38,
          38,
          38,
          38,
          38,
          38,
          38,
          38,
          38,
          38,
          38,
          38,
          38,
          38,
          38,
          38,
          38,
          37,
          37,
          37,
          37,
          37,
          37,
          37,
          37,
          37,
          37,
          37,
          37,
          37,
          37,
          37,
          37,
          37,
          37,
          37,
          37,
          37,
          37,
          37,
          37,
          37,
          37,
          37,
          37,
          35,
          35,
          35,
          35,
          35,
          35,
          35,
          35,
          35,
          35,
          35,
          35,
          35,
          35,
          35,
          35,
          35,
          35,
          35,
          35,
          35,
          35,
          35,
          35,
          35,
          35,
          35,
          35,
          35,
          35,
          34,
          34,
          34,
          34,
          34,
          34,
          34,
          34,
          34,
          34,
          34,
          34,
          34,
          34,
          34,
          34,
          34,
          34,
          34,
          34,
          34,
          34,
          34,
          34,
          34,
          34,
          34,
          34,
          34,
          34,
          34,
          34,
          33,
          33,
          33,
          33,
          33,
          33,
          33,
          33,
          33,
          33,
          33,
          33,
          33,
          33,
          33,
          33,
          33,
          33,
          33,
          33,
          33,
          33,
          33,
          33,
          32,
          32,
          32,
          32,
          32,
          32,
          32,
          32,
          32,
          32,
          32,
          32,
          32,
          32,
          32,
          32,
          32,
          32,
          32,
          32,
          32,
          32,
          32,
          32,
          32,
          32,
          32,
          32,
          32,
          32,
          32,
          32,
          30,
          30,
          30,
          30,
          30,
          30,
          30,
          30,
          30,
          30,
          30,
          30,
          30,
          30,
          30,
          30,
          30,
          30,
          30,
          30,
          29,
          29,
          29,
          29,
          29,
          29,
          29,
          29,
          29,
          29,
          29,
          29,
          29,
          29,
          29,
          29,
          29,
          29,
          29,
          29,
          29,
          29,
          29,
          29,
          29,
          29,
          29,
          29,
          29,
          29,
          29,
          29,
          29,
          29,
          29,
          29,
          29,
          29,
          29,
          29,
          29,
          29,
          29,
          28,
          28,
          28,
          28,
          28,
          28,
          28,
          28,
          28,
          28,
          28,
          28,
          28,
          28,
          28,
          28,
          28,
          28,
          28,
          28,
          28,
          28,
          28,
          28,
          28,
          28,
          28,
          28,
          28,
          28,
          28,
          28,
          28,
          28,
          28,
          28,
          28,
          28,
          28,
          28,
          28,
          28,
          28,
          28,
          51,
          51,
          51,
          51,
          51,
          51,
          51,
          51,
          51,
          51,
          51,
          51,
          51,
          51,
          51,
          51,
          51,
          51,
          50,
          50,
          50,
          50,
          50,
          50,
          50,
          50,
          50,
          50,
          50,
          50,
          50,
          50,
          50,
          50,
          50,
          50,
          50,
          50,
          50,
          49,
          49,
          49,
          49,
          49,
          49,
          49,
          49,
          49,
          49,
          49,
          49,
          49,
          49,
          49,
          49,
          49,
          49,
          49,
          49,
          49,
          49,
          49,
          49,
          49,
          49,
          49,
          49,
          49,
          49,
          49,
          49,
          49,
          49,
          49,
          49,
          48,
          48,
          48,
          48,
          48,
          48,
          48,
          48,
          48,
          48,
          48,
          48,
          48,
          48,
          48,
          48,
          48,
          48,
          48,
          48,
          48,
          48,
          48,
          48,
          48,
          48,
          48,
          48,
          48,
          48,
          48,
          48,
          48,
          48,
          48,
          48,
          48,
          48,
          48,
          48,
          47,
          47,
          47,
          47,
          47,
          47,
          47,
          47,
          47,
          47,
          47,
          47,
          47,
          47,
          47,
          47,
          47,
          47,
          47,
          47,
          47,
          47,
          47,
          47,
          70,
          70,
          70,
          70,
          70,
          70,
          70,
          70,
          70,
          70,
          70,
          70,
          70,
          70,
          70,
          70,
          70,
          69,
          69,
          69,
          69,
          69,
          69,
          69,
          69,
          69,
          69,
          69,
          69,
          69,
          69,
          69,
          69,
          69,
          69,
          69,
          68,
          68,
          68,
          68,
          68,
          68,
          68,
          68,
          68,
          68,
          68,
          68,
          68,
          68,
          68,
          68,
          68,
          67,
          67,
          67,
          67,
          67,
          67,
          67,
          67,
          67,
          67,
          67,
          67,
          67,
          67,
          67,
          67,
          67,
          67,
          67,
          67,
          67,
          65,
          65,
          64,
          64,
          64,
          64,
          64,
          64,
          64,
          64,
          64,
          64,
          64,
          64,
          64,
          64,
          64,
          64,
          64,
          64,
          63,
          63,
          63,
          63,
          63,
          63,
          63,
          63,
          63,
          63,
          63,
          63,
          63,
          63,
          63,
          63,
          63,
          63,
          63,
          63,
          62,
          62,
          62,
          62,
          62,
          62,
          62,
          62,
          62,
          62,
          62,
          62,
          62,
          62,
          62,
          62,
          62,
          58,
          58,
          58,
          58,
          58,
          58,
          58,
          58,
          57,
          57,
          57,
          57,
          57,
          57,
          57,
          57,
          57,
          57,
          57,
          57,
          57,
          57,
          64,
          64,
          64,
          64,
          64,
          64,
          64,
          64,
          64,
          64,
          64,
          43,
          43,
          42,
          42,
          22,
          22,
          22,
          22,
          22,
          22,
          21,
          21,
          21,
          21
         ],
         "yaxis": "y"
        }
       ],
       "layout": {
        "autosize": false,
        "coloraxis": {
         "colorbar": {
          "title": {
           "text": "Price"
          }
         },
         "colorscale": [
          [
           0,
           "rgb(0,0,131)"
          ],
          [
           0.2,
           "rgb(0,60,170)"
          ],
          [
           0.4,
           "rgb(5,255,255)"
          ],
          [
           0.6,
           "rgb(255,255,0)"
          ],
          [
           0.8,
           "rgb(250,0,0)"
          ],
          [
           1,
           "rgb(128,0,0)"
          ]
         ],
         "showscale": false
        },
        "height": 700,
        "legend": {
         "itemsizing": "constant",
         "tracegroupgap": 0
        },
        "margin": {
         "b": 0,
         "l": 0,
         "pad": 0,
         "r": 0,
         "t": 0
        },
        "template": {
         "data": {
          "bar": [
           {
            "error_x": {
             "color": "rgb(36,36,36)"
            },
            "error_y": {
             "color": "rgb(36,36,36)"
            },
            "marker": {
             "line": {
              "color": "white",
              "width": 0.5
             },
             "pattern": {
              "fillmode": "overlay",
              "size": 10,
              "solidity": 0.2
             }
            },
            "type": "bar"
           }
          ],
          "barpolar": [
           {
            "marker": {
             "line": {
              "color": "white",
              "width": 0.5
             },
             "pattern": {
              "fillmode": "overlay",
              "size": 10,
              "solidity": 0.2
             }
            },
            "type": "barpolar"
           }
          ],
          "carpet": [
           {
            "aaxis": {
             "endlinecolor": "rgb(36,36,36)",
             "gridcolor": "white",
             "linecolor": "white",
             "minorgridcolor": "white",
             "startlinecolor": "rgb(36,36,36)"
            },
            "baxis": {
             "endlinecolor": "rgb(36,36,36)",
             "gridcolor": "white",
             "linecolor": "white",
             "minorgridcolor": "white",
             "startlinecolor": "rgb(36,36,36)"
            },
            "type": "carpet"
           }
          ],
          "choropleth": [
           {
            "colorbar": {
             "outlinewidth": 1,
             "tickcolor": "rgb(36,36,36)",
             "ticks": "outside"
            },
            "type": "choropleth"
           }
          ],
          "contour": [
           {
            "colorbar": {
             "outlinewidth": 1,
             "tickcolor": "rgb(36,36,36)",
             "ticks": "outside"
            },
            "colorscale": [
             [
              0,
              "#440154"
             ],
             [
              0.1111111111111111,
              "#482878"
             ],
             [
              0.2222222222222222,
              "#3e4989"
             ],
             [
              0.3333333333333333,
              "#31688e"
             ],
             [
              0.4444444444444444,
              "#26828e"
             ],
             [
              0.5555555555555556,
              "#1f9e89"
             ],
             [
              0.6666666666666666,
              "#35b779"
             ],
             [
              0.7777777777777778,
              "#6ece58"
             ],
             [
              0.8888888888888888,
              "#b5de2b"
             ],
             [
              1,
              "#fde725"
             ]
            ],
            "type": "contour"
           }
          ],
          "contourcarpet": [
           {
            "colorbar": {
             "outlinewidth": 1,
             "tickcolor": "rgb(36,36,36)",
             "ticks": "outside"
            },
            "type": "contourcarpet"
           }
          ],
          "heatmap": [
           {
            "colorbar": {
             "outlinewidth": 1,
             "tickcolor": "rgb(36,36,36)",
             "ticks": "outside"
            },
            "colorscale": [
             [
              0,
              "#440154"
             ],
             [
              0.1111111111111111,
              "#482878"
             ],
             [
              0.2222222222222222,
              "#3e4989"
             ],
             [
              0.3333333333333333,
              "#31688e"
             ],
             [
              0.4444444444444444,
              "#26828e"
             ],
             [
              0.5555555555555556,
              "#1f9e89"
             ],
             [
              0.6666666666666666,
              "#35b779"
             ],
             [
              0.7777777777777778,
              "#6ece58"
             ],
             [
              0.8888888888888888,
              "#b5de2b"
             ],
             [
              1,
              "#fde725"
             ]
            ],
            "type": "heatmap"
           }
          ],
          "heatmapgl": [
           {
            "colorbar": {
             "outlinewidth": 1,
             "tickcolor": "rgb(36,36,36)",
             "ticks": "outside"
            },
            "colorscale": [
             [
              0,
              "#440154"
             ],
             [
              0.1111111111111111,
              "#482878"
             ],
             [
              0.2222222222222222,
              "#3e4989"
             ],
             [
              0.3333333333333333,
              "#31688e"
             ],
             [
              0.4444444444444444,
              "#26828e"
             ],
             [
              0.5555555555555556,
              "#1f9e89"
             ],
             [
              0.6666666666666666,
              "#35b779"
             ],
             [
              0.7777777777777778,
              "#6ece58"
             ],
             [
              0.8888888888888888,
              "#b5de2b"
             ],
             [
              1,
              "#fde725"
             ]
            ],
            "type": "heatmapgl"
           }
          ],
          "histogram": [
           {
            "marker": {
             "line": {
              "color": "white",
              "width": 0.6
             }
            },
            "type": "histogram"
           }
          ],
          "histogram2d": [
           {
            "colorbar": {
             "outlinewidth": 1,
             "tickcolor": "rgb(36,36,36)",
             "ticks": "outside"
            },
            "colorscale": [
             [
              0,
              "#440154"
             ],
             [
              0.1111111111111111,
              "#482878"
             ],
             [
              0.2222222222222222,
              "#3e4989"
             ],
             [
              0.3333333333333333,
              "#31688e"
             ],
             [
              0.4444444444444444,
              "#26828e"
             ],
             [
              0.5555555555555556,
              "#1f9e89"
             ],
             [
              0.6666666666666666,
              "#35b779"
             ],
             [
              0.7777777777777778,
              "#6ece58"
             ],
             [
              0.8888888888888888,
              "#b5de2b"
             ],
             [
              1,
              "#fde725"
             ]
            ],
            "type": "histogram2d"
           }
          ],
          "histogram2dcontour": [
           {
            "colorbar": {
             "outlinewidth": 1,
             "tickcolor": "rgb(36,36,36)",
             "ticks": "outside"
            },
            "colorscale": [
             [
              0,
              "#440154"
             ],
             [
              0.1111111111111111,
              "#482878"
             ],
             [
              0.2222222222222222,
              "#3e4989"
             ],
             [
              0.3333333333333333,
              "#31688e"
             ],
             [
              0.4444444444444444,
              "#26828e"
             ],
             [
              0.5555555555555556,
              "#1f9e89"
             ],
             [
              0.6666666666666666,
              "#35b779"
             ],
             [
              0.7777777777777778,
              "#6ece58"
             ],
             [
              0.8888888888888888,
              "#b5de2b"
             ],
             [
              1,
              "#fde725"
             ]
            ],
            "type": "histogram2dcontour"
           }
          ],
          "mesh3d": [
           {
            "colorbar": {
             "outlinewidth": 1,
             "tickcolor": "rgb(36,36,36)",
             "ticks": "outside"
            },
            "type": "mesh3d"
           }
          ],
          "parcoords": [
           {
            "line": {
             "colorbar": {
              "outlinewidth": 1,
              "tickcolor": "rgb(36,36,36)",
              "ticks": "outside"
             }
            },
            "type": "parcoords"
           }
          ],
          "pie": [
           {
            "automargin": true,
            "type": "pie"
           }
          ],
          "scatter": [
           {
            "fillpattern": {
             "fillmode": "overlay",
             "size": 10,
             "solidity": 0.2
            },
            "type": "scatter"
           }
          ],
          "scatter3d": [
           {
            "line": {
             "colorbar": {
              "outlinewidth": 1,
              "tickcolor": "rgb(36,36,36)",
              "ticks": "outside"
             }
            },
            "marker": {
             "colorbar": {
              "outlinewidth": 1,
              "tickcolor": "rgb(36,36,36)",
              "ticks": "outside"
             }
            },
            "type": "scatter3d"
           }
          ],
          "scattercarpet": [
           {
            "marker": {
             "colorbar": {
              "outlinewidth": 1,
              "tickcolor": "rgb(36,36,36)",
              "ticks": "outside"
             }
            },
            "type": "scattercarpet"
           }
          ],
          "scattergeo": [
           {
            "marker": {
             "colorbar": {
              "outlinewidth": 1,
              "tickcolor": "rgb(36,36,36)",
              "ticks": "outside"
             }
            },
            "type": "scattergeo"
           }
          ],
          "scattergl": [
           {
            "marker": {
             "colorbar": {
              "outlinewidth": 1,
              "tickcolor": "rgb(36,36,36)",
              "ticks": "outside"
             }
            },
            "type": "scattergl"
           }
          ],
          "scattermapbox": [
           {
            "marker": {
             "colorbar": {
              "outlinewidth": 1,
              "tickcolor": "rgb(36,36,36)",
              "ticks": "outside"
             }
            },
            "type": "scattermapbox"
           }
          ],
          "scatterpolar": [
           {
            "marker": {
             "colorbar": {
              "outlinewidth": 1,
              "tickcolor": "rgb(36,36,36)",
              "ticks": "outside"
             }
            },
            "type": "scatterpolar"
           }
          ],
          "scatterpolargl": [
           {
            "marker": {
             "colorbar": {
              "outlinewidth": 1,
              "tickcolor": "rgb(36,36,36)",
              "ticks": "outside"
             }
            },
            "type": "scatterpolargl"
           }
          ],
          "scatterternary": [
           {
            "marker": {
             "colorbar": {
              "outlinewidth": 1,
              "tickcolor": "rgb(36,36,36)",
              "ticks": "outside"
             }
            },
            "type": "scatterternary"
           }
          ],
          "surface": [
           {
            "colorbar": {
             "outlinewidth": 1,
             "tickcolor": "rgb(36,36,36)",
             "ticks": "outside"
            },
            "colorscale": [
             [
              0,
              "#440154"
             ],
             [
              0.1111111111111111,
              "#482878"
             ],
             [
              0.2222222222222222,
              "#3e4989"
             ],
             [
              0.3333333333333333,
              "#31688e"
             ],
             [
              0.4444444444444444,
              "#26828e"
             ],
             [
              0.5555555555555556,
              "#1f9e89"
             ],
             [
              0.6666666666666666,
              "#35b779"
             ],
             [
              0.7777777777777778,
              "#6ece58"
             ],
             [
              0.8888888888888888,
              "#b5de2b"
             ],
             [
              1,
              "#fde725"
             ]
            ],
            "type": "surface"
           }
          ],
          "table": [
           {
            "cells": {
             "fill": {
              "color": "rgb(237,237,237)"
             },
             "line": {
              "color": "white"
             }
            },
            "header": {
             "fill": {
              "color": "rgb(217,217,217)"
             },
             "line": {
              "color": "white"
             }
            },
            "type": "table"
           }
          ]
         },
         "layout": {
          "annotationdefaults": {
           "arrowhead": 0,
           "arrowwidth": 1
          },
          "autotypenumbers": "strict",
          "coloraxis": {
           "colorbar": {
            "outlinewidth": 1,
            "tickcolor": "rgb(36,36,36)",
            "ticks": "outside"
           }
          },
          "colorscale": {
           "diverging": [
            [
             0,
             "rgb(103,0,31)"
            ],
            [
             0.1,
             "rgb(178,24,43)"
            ],
            [
             0.2,
             "rgb(214,96,77)"
            ],
            [
             0.3,
             "rgb(244,165,130)"
            ],
            [
             0.4,
             "rgb(253,219,199)"
            ],
            [
             0.5,
             "rgb(247,247,247)"
            ],
            [
             0.6,
             "rgb(209,229,240)"
            ],
            [
             0.7,
             "rgb(146,197,222)"
            ],
            [
             0.8,
             "rgb(67,147,195)"
            ],
            [
             0.9,
             "rgb(33,102,172)"
            ],
            [
             1,
             "rgb(5,48,97)"
            ]
           ],
           "sequential": [
            [
             0,
             "#440154"
            ],
            [
             0.1111111111111111,
             "#482878"
            ],
            [
             0.2222222222222222,
             "#3e4989"
            ],
            [
             0.3333333333333333,
             "#31688e"
            ],
            [
             0.4444444444444444,
             "#26828e"
            ],
            [
             0.5555555555555556,
             "#1f9e89"
            ],
            [
             0.6666666666666666,
             "#35b779"
            ],
            [
             0.7777777777777778,
             "#6ece58"
            ],
            [
             0.8888888888888888,
             "#b5de2b"
            ],
            [
             1,
             "#fde725"
            ]
           ],
           "sequentialminus": [
            [
             0,
             "#440154"
            ],
            [
             0.1111111111111111,
             "#482878"
            ],
            [
             0.2222222222222222,
             "#3e4989"
            ],
            [
             0.3333333333333333,
             "#31688e"
            ],
            [
             0.4444444444444444,
             "#26828e"
            ],
            [
             0.5555555555555556,
             "#1f9e89"
            ],
            [
             0.6666666666666666,
             "#35b779"
            ],
            [
             0.7777777777777778,
             "#6ece58"
            ],
            [
             0.8888888888888888,
             "#b5de2b"
            ],
            [
             1,
             "#fde725"
            ]
           ]
          },
          "colorway": [
           "#1F77B4",
           "#FF7F0E",
           "#2CA02C",
           "#D62728",
           "#9467BD",
           "#8C564B",
           "#E377C2",
           "#7F7F7F",
           "#BCBD22",
           "#17BECF"
          ],
          "font": {
           "color": "rgb(36,36,36)"
          },
          "geo": {
           "bgcolor": "white",
           "lakecolor": "white",
           "landcolor": "white",
           "showlakes": true,
           "showland": true,
           "subunitcolor": "white"
          },
          "hoverlabel": {
           "align": "left"
          },
          "hovermode": "closest",
          "mapbox": {
           "style": "light"
          },
          "paper_bgcolor": "white",
          "plot_bgcolor": "white",
          "polar": {
           "angularaxis": {
            "gridcolor": "rgb(232,232,232)",
            "linecolor": "rgb(36,36,36)",
            "showgrid": false,
            "showline": true,
            "ticks": "outside"
           },
           "bgcolor": "white",
           "radialaxis": {
            "gridcolor": "rgb(232,232,232)",
            "linecolor": "rgb(36,36,36)",
            "showgrid": false,
            "showline": true,
            "ticks": "outside"
           }
          },
          "scene": {
           "xaxis": {
            "backgroundcolor": "white",
            "gridcolor": "rgb(232,232,232)",
            "gridwidth": 2,
            "linecolor": "rgb(36,36,36)",
            "showbackground": true,
            "showgrid": false,
            "showline": true,
            "ticks": "outside",
            "zeroline": false,
            "zerolinecolor": "rgb(36,36,36)"
           },
           "yaxis": {
            "backgroundcolor": "white",
            "gridcolor": "rgb(232,232,232)",
            "gridwidth": 2,
            "linecolor": "rgb(36,36,36)",
            "showbackground": true,
            "showgrid": false,
            "showline": true,
            "ticks": "outside",
            "zeroline": false,
            "zerolinecolor": "rgb(36,36,36)"
           },
           "zaxis": {
            "backgroundcolor": "white",
            "gridcolor": "rgb(232,232,232)",
            "gridwidth": 2,
            "linecolor": "rgb(36,36,36)",
            "showbackground": true,
            "showgrid": false,
            "showline": true,
            "ticks": "outside",
            "zeroline": false,
            "zerolinecolor": "rgb(36,36,36)"
           }
          },
          "shapedefaults": {
           "fillcolor": "black",
           "line": {
            "width": 0
           },
           "opacity": 0.3
          },
          "ternary": {
           "aaxis": {
            "gridcolor": "rgb(232,232,232)",
            "linecolor": "rgb(36,36,36)",
            "showgrid": false,
            "showline": true,
            "ticks": "outside"
           },
           "baxis": {
            "gridcolor": "rgb(232,232,232)",
            "linecolor": "rgb(36,36,36)",
            "showgrid": false,
            "showline": true,
            "ticks": "outside"
           },
           "bgcolor": "white",
           "caxis": {
            "gridcolor": "rgb(232,232,232)",
            "linecolor": "rgb(36,36,36)",
            "showgrid": false,
            "showline": true,
            "ticks": "outside"
           }
          },
          "title": {
           "x": 0.05
          },
          "xaxis": {
           "automargin": true,
           "gridcolor": "rgb(232,232,232)",
           "linecolor": "rgb(36,36,36)",
           "showgrid": false,
           "showline": true,
           "ticks": "outside",
           "title": {
            "standoff": 15
           },
           "zeroline": false,
           "zerolinecolor": "rgb(36,36,36)"
          },
          "yaxis": {
           "automargin": true,
           "gridcolor": "rgb(232,232,232)",
           "linecolor": "rgb(36,36,36)",
           "showgrid": false,
           "showline": true,
           "ticks": "outside",
           "title": {
            "standoff": 15
           },
           "zeroline": false,
           "zerolinecolor": "rgb(36,36,36)"
          }
         }
        },
        "width": 800,
        "xaxis": {
         "anchor": "y",
         "domain": [
          0,
          1
         ],
         "showline": false,
         "showticklabels": false,
         "ticks": "",
         "title": {
          "text": ""
         },
         "zeroline": false
        },
        "yaxis": {
         "anchor": "x",
         "domain": [
          0,
          1
         ],
         "showline": false,
         "showticklabels": false,
         "ticks": "",
         "title": {
          "text": ""
         },
         "zeroline": false
        }
       }
      }
     },
     "metadata": {},
     "output_type": "display_data"
    }
   ],
   "source": [
    "import plotly.express as px\n",
    "\n",
    "seats_price_df[\"Size\"] = 1  # Dummy constant size for scatter plot\n",
    "\n",
    "fig = px.scatter(\n",
    "    seats_price_df,\n",
    "    x=\"XPosition\",\n",
    "    y=\"YPosition\",\n",
    "    color=\"Price\",\n",
    "    size=\"Size\",\n",
    "    size_max=9,\n",
    "    color_continuous_scale=\"jet\",\n",
    "    hover_data=[\"Price\", \"ZoneName\", \"SeatRow\", \"SeatNumber\"],\n",
    "    template=\"simple_white\",\n",
    ")\n",
    "fig.update_xaxes(\n",
    "    showticklabels=False, showline=False, zeroline=False, ticks=\"\", title=\"\"\n",
    ")\n",
    "fig.update_yaxes(\n",
    "    showticklabels=False, showline=False, zeroline=False, ticks=\"\", title=\"\"\n",
    ")\n",
    "fig.update_layout(\n",
    "    autosize=False,\n",
    "    width=800,\n",
    "    height=700,\n",
    "    margin=dict(l=0, r=0, b=0, t=0, pad=0),\n",
    "    coloraxis_showscale=False,\n",
    ")\n",
    "fig.show()"
   ]
  },
  {
   "cell_type": "code",
   "execution_count": 9,
   "metadata": {},
   "outputs": [],
   "source": [
    "# Save the figure as a static image\n",
    "fig.write_image(\"ROH_hall.png\", scale=3)"
   ]
  }
 ],
 "metadata": {
  "kernelspec": {
   "display_name": "Python 3",
   "language": "python",
   "name": "python3"
  },
  "language_info": {
   "codemirror_mode": {
    "name": "ipython",
    "version": 3
   },
   "file_extension": ".py",
   "mimetype": "text/x-python",
   "name": "python",
   "nbconvert_exporter": "python",
   "pygments_lexer": "ipython3",
   "version": "3.10.13"
  }
 },
 "nbformat": 4,
 "nbformat_minor": 2
}
